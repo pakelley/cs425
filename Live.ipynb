{
 "cells": [
  {
   "cell_type": "code",
   "execution_count": null,
   "metadata": {
    "collapsed": false
   },
   "outputs": [
    {
     "name": "stdout",
     "output_type": "stream",
     "text": [
      "TESTDATA_Normal_SlowRoll\n",
      "Saving Random Forest Model from rf_s0.pkl\n",
      "Saving Extra Trees Model\n",
      "Saving Random Forest Model from rf_s1.pkl\n",
      "Saving Extra Trees Model\n",
      "Saving Random Forest Model from rf_s2.pkl\n",
      "Saving Extra Trees Model\n",
      "Saving Random Forest Model from rf_s3.pkl\n",
      "Saving Extra Trees Model\n",
      "\n"
     ]
    },
    {
     "name": "stderr",
     "output_type": "stream",
     "text": [
      "[Parallel(n_jobs=1)]: Done  20 out of  20 | elapsed:    0.0s finished\n",
      "[Parallel(n_jobs=1)]: Done  20 out of  20 | elapsed:    0.0s finished\n",
      "[Parallel(n_jobs=1)]: Done  20 out of  20 | elapsed:    0.0s finished\n",
      "[Parallel(n_jobs=1)]: Done  20 out of  20 | elapsed:    0.0s finished\n"
     ]
    },
    {
     "name": "stdout",
     "output_type": "stream",
     "text": [
      "[ 0.    0.05  0.5   0.45]\n",
      "TESTDATA_Normal_RampUp\n",
      "Saving Random Forest Model from rf_s0.pkl\n",
      "Saving Extra Trees Model\n",
      "Saving Random Forest Model from rf_s1.pkl\n",
      "Saving Extra Trees Model\n",
      "Saving Random Forest Model from rf_s2.pkl\n",
      "Saving Extra Trees Model\n",
      "Saving Random Forest Model from rf_s3.pkl\n",
      "Saving Extra Trees Model\n",
      "\n",
      "[ 0.   0.   0.5  0.5]\n"
     ]
    },
    {
     "name": "stderr",
     "output_type": "stream",
     "text": [
      "[Parallel(n_jobs=1)]: Done  20 out of  20 | elapsed:    0.0s finished\n",
      "[Parallel(n_jobs=1)]: Done  20 out of  20 | elapsed:    0.0s finished\n",
      "[Parallel(n_jobs=1)]: Done  20 out of  20 | elapsed:    0.0s finished\n",
      "[Parallel(n_jobs=1)]: Done  20 out of  20 | elapsed:    0.0s finished\n"
     ]
    },
    {
     "name": "stdout",
     "output_type": "stream",
     "text": [
      "TESTDATA_Normal_FastRoll\n",
      "Saving Random Forest Model from rf_s0.pkl\n",
      "Saving Extra Trees Model\n",
      "Saving Random Forest Model from rf_s1.pkl\n",
      "Saving Extra Trees Model\n",
      "Saving Random Forest Model from rf_s2.pkl\n",
      "Saving Extra Trees Model\n",
      "Saving Random Forest Model from rf_s3.pkl\n",
      "Saving Extra Trees Model\n",
      "\n",
      "[ 1.  0.  0.  0.]\n"
     ]
    },
    {
     "name": "stderr",
     "output_type": "stream",
     "text": [
      "[Parallel(n_jobs=1)]: Done  20 out of  20 | elapsed:    0.0s finished\n",
      "[Parallel(n_jobs=1)]: Done  20 out of  20 | elapsed:    0.0s finished\n",
      "[Parallel(n_jobs=1)]: Done  20 out of  20 | elapsed:    0.0s finished\n",
      "[Parallel(n_jobs=1)]: Done  20 out of  20 | elapsed:    0.0s finished\n"
     ]
    },
    {
     "name": "stdout",
     "output_type": "stream",
     "text": [
      "TESTDATA_Normal_RampDown\n",
      "Saving Random Forest Model from rf_s0.pkl\n",
      "Saving Extra Trees Model\n",
      "Saving Random Forest Model from rf_s1.pkl\n",
      "Saving Extra Trees Model\n",
      "Saving Random Forest Model from rf_s2.pkl\n",
      "Saving Extra Trees Model\n",
      "Saving Random Forest Model from rf_s3.pkl\n",
      "Saving Extra Trees Model\n",
      "\n",
      "[ 0.    0.    0.45  0.55]\n"
     ]
    },
    {
     "name": "stderr",
     "output_type": "stream",
     "text": [
      "[Parallel(n_jobs=1)]: Done  20 out of  20 | elapsed:    0.0s finished\n",
      "[Parallel(n_jobs=1)]: Done  20 out of  20 | elapsed:    0.0s finished\n",
      "[Parallel(n_jobs=1)]: Done  20 out of  20 | elapsed:    0.0s finished\n",
      "[Parallel(n_jobs=1)]: Done  20 out of  20 | elapsed:    0.0s finished\n"
     ]
    },
    {
     "name": "stdout",
     "output_type": "stream",
     "text": [
      "TESTDATA_BearingRub_SlowRoll\n",
      "Saving Random Forest Model from rf_s0.pkl\n",
      "Saving Extra Trees Model\n",
      "Saving Random Forest Model from rf_s1.pkl\n",
      "Saving Extra Trees Model\n",
      "Saving Random Forest Model from rf_s2.pkl\n",
      "Saving Extra Trees Model\n",
      "Saving Random Forest Model from rf_s3.pkl\n",
      "Saving Extra Trees Model\n",
      "\n"
     ]
    },
    {
     "name": "stderr",
     "output_type": "stream",
     "text": [
      "[Parallel(n_jobs=1)]: Done  20 out of  20 | elapsed:    0.0s finished\n",
      "[Parallel(n_jobs=1)]: Done  20 out of  20 | elapsed:    0.0s finished\n",
      "[Parallel(n_jobs=1)]: Done  20 out of  20 | elapsed:    0.0s finished\n",
      "[Parallel(n_jobs=1)]: Done  20 out of  20 | elapsed:    0.0s finished\n"
     ]
    },
    {
     "name": "stdout",
     "output_type": "stream",
     "text": [
      "[ 0.    0.    0.45  0.55]\n",
      "TESTDATA_BearingRub_RampUp\n",
      "Saving Random Forest Model from rf_s0.pkl\n",
      "Saving Extra Trees Model\n",
      "Saving Random Forest Model from rf_s1.pkl\n",
      "Saving Extra Trees Model\n",
      "Saving Random Forest Model from rf_s2.pkl\n",
      "Saving Extra Trees Model\n",
      "Saving Random Forest Model from rf_s3.pkl\n",
      "Saving Extra Trees Model\n",
      "\n"
     ]
    },
    {
     "name": "stderr",
     "output_type": "stream",
     "text": [
      "[Parallel(n_jobs=1)]: Done  20 out of  20 | elapsed:    0.0s finished\n",
      "[Parallel(n_jobs=1)]: Done  20 out of  20 | elapsed:    0.0s finished\n",
      "[Parallel(n_jobs=1)]: Done  20 out of  20 | elapsed:    0.0s finished\n",
      "[Parallel(n_jobs=1)]: Done  20 out of  20 | elapsed:    0.0s finished\n"
     ]
    },
    {
     "name": "stdout",
     "output_type": "stream",
     "text": [
      "[ 0.   0.   0.5  0.5]\n",
      "TESTDATA_BearingRub_FastRoll\n",
      "Saving Random Forest Model from rf_s0.pkl\n",
      "Saving Extra Trees Model\n",
      "Saving Random Forest Model from rf_s1.pkl\n",
      "Saving Extra Trees Model\n",
      "Saving Random Forest Model from rf_s2.pkl\n",
      "Saving Extra Trees Model\n",
      "Saving Random Forest Model from rf_s3.pkl\n",
      "Saving Extra Trees Model\n"
     ]
    },
    {
     "name": "stderr",
     "output_type": "stream",
     "text": [
      "[Parallel(n_jobs=1)]: Done  20 out of  20 | elapsed:    0.0s finished\n",
      "[Parallel(n_jobs=1)]: Done  20 out of  20 | elapsed:    0.0s finished\n",
      "[Parallel(n_jobs=1)]: Done  20 out of  20 | elapsed:    0.0s finished\n",
      "[Parallel(n_jobs=1)]: Done  20 out of  20 | elapsed:    0.0s finished\n"
     ]
    },
    {
     "name": "stdout",
     "output_type": "stream",
     "text": [
      "\n",
      "[ 0.  0.  0.  1.]\n",
      "TESTDATA_BearingRub_RampDown\n",
      "Saving Random Forest Model from rf_s0.pkl\n",
      "Saving Extra Trees Model\n",
      "Saving Random Forest Model from rf_s1.pkl\n",
      "Saving Extra Trees Model\n",
      "Saving Random Forest Model from rf_s2.pkl\n",
      "Saving Extra Trees Model\n",
      "Saving Random Forest Model from rf_s3.pkl\n",
      "Saving Extra Trees Model\n",
      "\n"
     ]
    },
    {
     "name": "stderr",
     "output_type": "stream",
     "text": [
      "[Parallel(n_jobs=1)]: Done  20 out of  20 | elapsed:    0.0s finished\n",
      "[Parallel(n_jobs=1)]: Done  20 out of  20 | elapsed:    0.0s finished\n",
      "[Parallel(n_jobs=1)]: Done  20 out of  20 | elapsed:    0.0s finished\n",
      "[Parallel(n_jobs=1)]: Done  20 out of  20 | elapsed:    0.0s finished\n"
     ]
    },
    {
     "name": "stdout",
     "output_type": "stream",
     "text": [
      "[ 0.    0.05  0.35  0.6 ]\n",
      "TESTDATA_Preload_SlowRoll\n",
      "Saving Random Forest Model from rf_s0.pkl\n",
      "Saving Extra Trees Model\n",
      "Saving Random Forest Model from rf_s1.pkl\n",
      "Saving Extra Trees Model\n",
      "Saving Random Forest Model from rf_s2.pkl\n",
      "Saving Extra Trees Model\n",
      "Saving Random Forest Model from rf_s3.pkl\n",
      "Saving Extra Trees Model\n",
      "\n"
     ]
    },
    {
     "name": "stderr",
     "output_type": "stream",
     "text": [
      "[Parallel(n_jobs=1)]: Done  20 out of  20 | elapsed:    0.0s finished\n",
      "[Parallel(n_jobs=1)]: Done  20 out of  20 | elapsed:    0.0s finished\n",
      "[Parallel(n_jobs=1)]: Done  20 out of  20 | elapsed:    0.0s finished\n",
      "[Parallel(n_jobs=1)]: Done  20 out of  20 | elapsed:    0.0s finished\n"
     ]
    },
    {
     "name": "stdout",
     "output_type": "stream",
     "text": [
      "[ 0.   0.   0.9  0.1]\n",
      "TESTDATA_Preload_RampUp\n",
      "Saving Random Forest Model from rf_s0.pkl\n",
      "Saving Extra Trees Model\n",
      "Saving Random Forest Model from rf_s1.pkl\n",
      "Saving Extra Trees Model\n",
      "Saving Random Forest Model from rf_s2.pkl\n",
      "Saving Extra Trees Model\n",
      "Saving Random Forest Model from rf_s3.pkl\n",
      "Saving Extra Trees Model\n",
      "\n",
      "[ 0.   0.   0.7  0.3]\n"
     ]
    },
    {
     "name": "stderr",
     "output_type": "stream",
     "text": [
      "[Parallel(n_jobs=1)]: Done  20 out of  20 | elapsed:    0.0s finished\n",
      "[Parallel(n_jobs=1)]: Done  20 out of  20 | elapsed:    0.0s finished\n",
      "[Parallel(n_jobs=1)]: Done  20 out of  20 | elapsed:    0.0s finished\n",
      "[Parallel(n_jobs=1)]: Done  20 out of  20 | elapsed:    0.0s finished\n"
     ]
    },
    {
     "name": "stdout",
     "output_type": "stream",
     "text": [
      "TESTDATA_Preload_FastRoll\n",
      "Saving Random Forest Model from rf_s0.pkl\n",
      "Saving Extra Trees Model\n",
      "Saving Random Forest Model from rf_s1.pkl\n",
      "Saving Extra Trees Model\n",
      "Saving Random Forest Model from rf_s2.pkl\n",
      "Saving Extra Trees Model\n",
      "Saving Random Forest Model from rf_s3.pkl\n",
      "Saving Extra Trees Model\n",
      "\n",
      "[ 0.  0.  1.  0.]\n"
     ]
    },
    {
     "name": "stderr",
     "output_type": "stream",
     "text": [
      "[Parallel(n_jobs=1)]: Done  20 out of  20 | elapsed:    0.0s finished\n",
      "[Parallel(n_jobs=1)]: Done  20 out of  20 | elapsed:    0.0s finished\n",
      "[Parallel(n_jobs=1)]: Done  20 out of  20 | elapsed:    0.0s finished\n",
      "[Parallel(n_jobs=1)]: Done  20 out of  20 | elapsed:    0.0s finished\n"
     ]
    },
    {
     "name": "stdout",
     "output_type": "stream",
     "text": [
      "TESTDATA_Preload_RampDown\n",
      "Saving Random Forest Model from rf_s0.pkl\n",
      "Saving Extra Trees Model\n",
      "Saving Random Forest Model from rf_s1.pkl\n",
      "Saving Extra Trees Model\n",
      "Saving Random Forest Model from rf_s2.pkl\n",
      "Saving Extra Trees Model\n",
      "Saving Random Forest Model from rf_s3.pkl\n",
      "Saving Extra Trees Model\n",
      "\n"
     ]
    },
    {
     "name": "stderr",
     "output_type": "stream",
     "text": [
      "[Parallel(n_jobs=1)]: Done  20 out of  20 | elapsed:    0.0s finished\n",
      "[Parallel(n_jobs=1)]: Done  20 out of  20 | elapsed:    0.0s finished\n",
      "[Parallel(n_jobs=1)]: Done  20 out of  20 | elapsed:    0.0s finished\n",
      "[Parallel(n_jobs=1)]: Done  20 out of  20 | elapsed:    0.0s finished\n"
     ]
    },
    {
     "name": "stdout",
     "output_type": "stream",
     "text": [
      "[ 0.   0.   0.8  0.2]\n",
      "TESTDATA_Unbalance_SlowRoll\n",
      "Saving Random Forest Model from rf_s0.pkl\n",
      "Saving Extra Trees Model\n",
      "Saving Random Forest Model from rf_s1.pkl\n",
      "Saving Extra Trees Model\n",
      "Saving Random Forest Model from rf_s2.pkl\n",
      "Saving Extra Trees Model\n",
      "Saving Random Forest Model from rf_s3.pkl\n",
      "Saving Extra Trees Model\n",
      "\n"
     ]
    },
    {
     "name": "stderr",
     "output_type": "stream",
     "text": [
      "[Parallel(n_jobs=1)]: Done  20 out of  20 | elapsed:    0.0s finished\n",
      "[Parallel(n_jobs=1)]: Done  20 out of  20 | elapsed:    0.0s finished\n",
      "[Parallel(n_jobs=1)]: Done  20 out of  20 | elapsed:    0.0s finished\n",
      "[Parallel(n_jobs=1)]: Done  20 out of  20 | elapsed:    0.0s finished\n"
     ]
    },
    {
     "name": "stdout",
     "output_type": "stream",
     "text": [
      "[ 0.    0.15  0.6   0.25]\n",
      "TESTDATA_Unbalance_RampUp\n",
      "Saving Random Forest Model from rf_s0.pkl\n",
      "Saving Extra Trees Model\n",
      "Saving Random Forest Model from rf_s1.pkl\n",
      "Saving Extra Trees Model\n",
      "Saving Random Forest Model from rf_s2.pkl\n",
      "Saving Extra Trees Model\n",
      "Saving Random Forest Model from rf_s3.pkl\n",
      "Saving Extra Trees Model\n",
      "\n"
     ]
    },
    {
     "name": "stderr",
     "output_type": "stream",
     "text": [
      "[Parallel(n_jobs=1)]: Done  20 out of  20 | elapsed:    0.0s finished\n",
      "[Parallel(n_jobs=1)]: Done  20 out of  20 | elapsed:    0.0s finished\n",
      "[Parallel(n_jobs=1)]: Done  20 out of  20 | elapsed:    0.0s finished\n",
      "[Parallel(n_jobs=1)]: Done  20 out of  20 | elapsed:    0.0s finished\n"
     ]
    },
    {
     "name": "stdout",
     "output_type": "stream",
     "text": [
      "[ 0.    0.05  0.4   0.55]\n",
      "TESTDATA_Unbalance_FastRoll\n",
      "Saving Random Forest Model from rf_s0.pkl\n",
      "Saving Extra Trees Model\n",
      "Saving Random Forest Model from rf_s1.pkl\n",
      "Saving Extra Trees Model\n",
      "Saving Random Forest Model from rf_s2.pkl\n",
      "Saving Extra Trees Model\n",
      "Saving Random Forest Model from rf_s3.pkl\n",
      "Saving Extra Trees Model\n",
      "\n"
     ]
    },
    {
     "name": "stderr",
     "output_type": "stream",
     "text": [
      "[Parallel(n_jobs=1)]: Done  20 out of  20 | elapsed:    0.0s finished\n",
      "[Parallel(n_jobs=1)]: Done  20 out of  20 | elapsed:    0.0s finished\n",
      "[Parallel(n_jobs=1)]: Done  20 out of  20 | elapsed:    0.0s finished\n",
      "[Parallel(n_jobs=1)]: Done  20 out of  20 | elapsed:    0.0s finished\n"
     ]
    },
    {
     "name": "stdout",
     "output_type": "stream",
     "text": [
      "[ 0.    0.75  0.    0.25]\n",
      "TESTDATA_Unbalance_RampDown\n",
      "Saving Random Forest Model from rf_s0.pkl\n",
      "Saving Extra Trees Model\n",
      "Saving Random Forest Model from rf_s1.pkl\n",
      "Saving Extra Trees Model\n",
      "Saving Random Forest Model from rf_s2.pkl\n",
      "Saving Extra Trees Model\n",
      "Saving Random Forest Model from rf_s3.pkl\n",
      "Saving Extra Trees Model\n",
      "\n"
     ]
    },
    {
     "name": "stderr",
     "output_type": "stream",
     "text": [
      "[Parallel(n_jobs=1)]: Done  20 out of  20 | elapsed:    0.0s finished\n",
      "[Parallel(n_jobs=1)]: Done  20 out of  20 | elapsed:    0.0s finished\n",
      "[Parallel(n_jobs=1)]: Done  20 out of  20 | elapsed:    0.0s finished\n",
      "[Parallel(n_jobs=1)]: Done  20 out of  20 | elapsed:    0.0s finished\n"
     ]
    },
    {
     "name": "stdout",
     "output_type": "stream",
     "text": [
      "[ 0.   0.   0.5  0.5]\n",
      "TESTDATA_Normal_SlowRoll\n",
      "Saving Random Forest Model from rf_s0.pkl\n",
      "Saving Extra Trees Model\n",
      "Saving Random Forest Model from rf_s1.pkl\n",
      "Saving Extra Trees Model\n",
      "Saving Random Forest Model from rf_s2.pkl\n",
      "Saving Extra Trees Model\n",
      "Saving Random Forest Model from rf_s3.pkl\n",
      "Saving Extra Trees Model\n",
      "\n",
      "[ 0.    0.05  0.5   0.45]\n"
     ]
    },
    {
     "name": "stderr",
     "output_type": "stream",
     "text": [
      "[Parallel(n_jobs=1)]: Done  20 out of  20 | elapsed:    0.0s finished\n",
      "[Parallel(n_jobs=1)]: Done  20 out of  20 | elapsed:    0.0s finished\n",
      "[Parallel(n_jobs=1)]: Done  20 out of  20 | elapsed:    0.0s finished\n",
      "[Parallel(n_jobs=1)]: Done  20 out of  20 | elapsed:    0.0s finished\n"
     ]
    },
    {
     "name": "stdout",
     "output_type": "stream",
     "text": [
      "TESTDATA_Normal_RampUp\n",
      "Saving Random Forest Model from rf_s0.pkl\n",
      "Saving Extra Trees Model\n",
      "Saving Random Forest Model from rf_s1.pkl\n",
      "Saving Extra Trees Model\n",
      "Saving Random Forest Model from rf_s2.pkl\n",
      "Saving Extra Trees Model\n",
      "Saving Random Forest Model from rf_s3.pkl\n",
      "Saving Extra Trees Model\n",
      "\n"
     ]
    },
    {
     "name": "stderr",
     "output_type": "stream",
     "text": [
      "[Parallel(n_jobs=1)]: Done  20 out of  20 | elapsed:    0.0s finished\n",
      "[Parallel(n_jobs=1)]: Done  20 out of  20 | elapsed:    0.0s finished\n",
      "[Parallel(n_jobs=1)]: Done  20 out of  20 | elapsed:    0.0s finished\n",
      "[Parallel(n_jobs=1)]: Done  20 out of  20 | elapsed:    0.0s finished\n"
     ]
    },
    {
     "name": "stdout",
     "output_type": "stream",
     "text": [
      "[ 0.   0.   0.5  0.5]\n",
      "TESTDATA_Normal_FastRoll\n",
      "Saving Random Forest Model from rf_s0.pkl\n",
      "Saving Extra Trees Model\n",
      "Saving Random Forest Model from rf_s1.pkl\n",
      "Saving Extra Trees Model\n",
      "Saving Random Forest Model from rf_s2.pkl\n",
      "Saving Extra Trees Model\n",
      "Saving Random Forest Model from rf_s3.pkl\n",
      "Saving Extra Trees Model\n",
      "\n",
      "[ 1.  0.  0.  0.]\n"
     ]
    },
    {
     "name": "stderr",
     "output_type": "stream",
     "text": [
      "[Parallel(n_jobs=1)]: Done  20 out of  20 | elapsed:    0.0s finished\n",
      "[Parallel(n_jobs=1)]: Done  20 out of  20 | elapsed:    0.0s finished\n",
      "[Parallel(n_jobs=1)]: Done  20 out of  20 | elapsed:    0.0s finished\n",
      "[Parallel(n_jobs=1)]: Done  20 out of  20 | elapsed:    0.0s finished\n"
     ]
    },
    {
     "name": "stdout",
     "output_type": "stream",
     "text": [
      "TESTDATA_Normal_RampDown\n",
      "Saving Random Forest Model from rf_s0.pkl\n",
      "Saving Extra Trees Model\n",
      "Saving Random Forest Model from rf_s1.pkl\n",
      "Saving Extra Trees Model\n",
      "Saving Random Forest Model from rf_s2.pkl\n",
      "Saving Extra Trees Model\n",
      "Saving Random Forest Model from rf_s3.pkl\n",
      "Saving Extra Trees Model\n",
      "\n"
     ]
    },
    {
     "name": "stderr",
     "output_type": "stream",
     "text": [
      "[Parallel(n_jobs=1)]: Done  20 out of  20 | elapsed:    0.0s finished\n",
      "[Parallel(n_jobs=1)]: Done  20 out of  20 | elapsed:    0.0s finished\n",
      "[Parallel(n_jobs=1)]: Done  20 out of  20 | elapsed:    0.0s finished\n",
      "[Parallel(n_jobs=1)]: Done  20 out of  20 | elapsed:    0.0s finished\n"
     ]
    },
    {
     "name": "stdout",
     "output_type": "stream",
     "text": [
      "[ 0.    0.    0.45  0.55]\n",
      "TESTDATA_BearingRub_SlowRoll\n",
      "Saving Random Forest Model from rf_s0.pkl\n",
      "Saving Extra Trees Model\n",
      "Saving Random Forest Model from rf_s1.pkl\n",
      "Saving Extra Trees Model\n",
      "Saving Random Forest Model from rf_s2.pkl\n",
      "Saving Extra Trees Model\n",
      "Saving Random Forest Model from rf_s3.pkl\n",
      "Saving Extra Trees Model\n",
      "\n"
     ]
    },
    {
     "name": "stderr",
     "output_type": "stream",
     "text": [
      "[Parallel(n_jobs=1)]: Done  20 out of  20 | elapsed:    0.0s finished\n",
      "[Parallel(n_jobs=1)]: Done  20 out of  20 | elapsed:    0.0s finished\n",
      "[Parallel(n_jobs=1)]: Done  20 out of  20 | elapsed:    0.0s finished\n",
      "[Parallel(n_jobs=1)]: Done  20 out of  20 | elapsed:    0.0s finished\n"
     ]
    },
    {
     "name": "stdout",
     "output_type": "stream",
     "text": [
      "[ 0.    0.    0.45  0.55]\n",
      "TESTDATA_BearingRub_RampUp\n",
      "Saving Random Forest Model from rf_s0.pkl\n",
      "Saving Extra Trees Model\n",
      "Saving Random Forest Model from rf_s1.pkl\n",
      "Saving Extra Trees Model\n",
      "Saving Random Forest Model from rf_s2.pkl\n",
      "Saving Extra Trees Model\n",
      "Saving Random Forest Model from rf_s3.pkl\n",
      "Saving Extra Trees Model\n",
      "\n",
      "[ 0.   0.   0.5  0.5]\n"
     ]
    },
    {
     "name": "stderr",
     "output_type": "stream",
     "text": [
      "[Parallel(n_jobs=1)]: Done  20 out of  20 | elapsed:    0.0s finished\n",
      "[Parallel(n_jobs=1)]: Done  20 out of  20 | elapsed:    0.0s finished\n",
      "[Parallel(n_jobs=1)]: Done  20 out of  20 | elapsed:    0.0s finished\n",
      "[Parallel(n_jobs=1)]: Done  20 out of  20 | elapsed:    0.0s finished\n"
     ]
    },
    {
     "name": "stdout",
     "output_type": "stream",
     "text": [
      "TESTDATA_BearingRub_FastRoll\n",
      "Saving Random Forest Model from rf_s0.pkl\n",
      "Saving Extra Trees Model\n",
      "Saving Random Forest Model from rf_s1.pkl\n",
      "Saving Extra Trees Model\n",
      "Saving Random Forest Model from rf_s2.pkl\n",
      "Saving Extra Trees Model\n",
      "Saving Random Forest Model from rf_s3.pkl\n",
      "Saving Extra Trees Model\n"
     ]
    },
    {
     "name": "stderr",
     "output_type": "stream",
     "text": [
      "[Parallel(n_jobs=1)]: Done  20 out of  20 | elapsed:    0.0s finished\n",
      "[Parallel(n_jobs=1)]: Done  20 out of  20 | elapsed:    0.0s finished\n",
      "[Parallel(n_jobs=1)]: Done  20 out of  20 | elapsed:    0.0s finished\n",
      "[Parallel(n_jobs=1)]: Done  20 out of  20 | elapsed:    0.0s finished\n"
     ]
    },
    {
     "name": "stdout",
     "output_type": "stream",
     "text": [
      "\n",
      "[ 0.  0.  0.  1.]\n",
      "TESTDATA_BearingRub_RampDown\n",
      "Saving Random Forest Model from rf_s0.pkl\n",
      "Saving Extra Trees Model\n",
      "Saving Random Forest Model from rf_s1.pkl\n",
      "Saving Extra Trees Model\n",
      "Saving Random Forest Model from rf_s2.pkl\n",
      "Saving Extra Trees Model\n",
      "Saving Random Forest Model from rf_s3.pkl\n",
      "Saving Extra Trees Model\n",
      "\n"
     ]
    },
    {
     "name": "stderr",
     "output_type": "stream",
     "text": [
      "[Parallel(n_jobs=1)]: Done  20 out of  20 | elapsed:    0.0s finished\n",
      "[Parallel(n_jobs=1)]: Done  20 out of  20 | elapsed:    0.0s finished\n",
      "[Parallel(n_jobs=1)]: Done  20 out of  20 | elapsed:    0.0s finished\n",
      "[Parallel(n_jobs=1)]: Done  20 out of  20 | elapsed:    0.0s finished\n"
     ]
    },
    {
     "name": "stdout",
     "output_type": "stream",
     "text": [
      "[ 0.    0.05  0.35  0.6 ]\n",
      "TESTDATA_Preload_SlowRoll\n",
      "Saving Random Forest Model from rf_s0.pkl\n",
      "Saving Extra Trees Model\n",
      "Saving Random Forest Model from rf_s1.pkl\n",
      "Saving Extra Trees Model\n",
      "Saving Random Forest Model from rf_s2.pkl\n",
      "Saving Extra Trees Model\n",
      "Saving Random Forest Model from rf_s3.pkl\n",
      "Saving Extra Trees Model\n",
      "\n",
      "[ 0.   0.   0.9  0.1]\n"
     ]
    },
    {
     "name": "stderr",
     "output_type": "stream",
     "text": [
      "[Parallel(n_jobs=1)]: Done  20 out of  20 | elapsed:    0.0s finished\n",
      "[Parallel(n_jobs=1)]: Done  20 out of  20 | elapsed:    0.0s finished\n",
      "[Parallel(n_jobs=1)]: Done  20 out of  20 | elapsed:    0.0s finished\n",
      "[Parallel(n_jobs=1)]: Done  20 out of  20 | elapsed:    0.0s finished\n"
     ]
    },
    {
     "name": "stdout",
     "output_type": "stream",
     "text": [
      "TESTDATA_Preload_RampUp\n",
      "Saving Random Forest Model from rf_s0.pkl\n",
      "Saving Extra Trees Model\n",
      "Saving Random Forest Model from rf_s1.pkl\n",
      "Saving Extra Trees Model\n",
      "Saving Random Forest Model from rf_s2.pkl\n",
      "Saving Extra Trees Model\n",
      "Saving Random Forest Model from rf_s3.pkl\n",
      "Saving Extra Trees Model\n",
      "\n"
     ]
    },
    {
     "name": "stderr",
     "output_type": "stream",
     "text": [
      "[Parallel(n_jobs=1)]: Done  20 out of  20 | elapsed:    0.0s finished\n",
      "[Parallel(n_jobs=1)]: Done  20 out of  20 | elapsed:    0.0s finished\n",
      "[Parallel(n_jobs=1)]: Done  20 out of  20 | elapsed:    0.0s finished\n",
      "[Parallel(n_jobs=1)]: Done  20 out of  20 | elapsed:    0.0s finished\n"
     ]
    },
    {
     "name": "stdout",
     "output_type": "stream",
     "text": [
      "[ 0.   0.   0.7  0.3]\n",
      "TESTDATA_Preload_FastRoll\n",
      "Saving Random Forest Model from rf_s0.pkl\n",
      "Saving Extra Trees Model\n",
      "Saving Random Forest Model from rf_s1.pkl\n",
      "Saving Extra Trees Model\n",
      "Saving Random Forest Model from rf_s2.pkl\n",
      "Saving Extra Trees Model\n",
      "Saving Random Forest Model from rf_s3.pkl\n",
      "Saving Extra Trees Model\n",
      "\n",
      "[ 0.  0.  1.  0.]\n"
     ]
    },
    {
     "name": "stderr",
     "output_type": "stream",
     "text": [
      "[Parallel(n_jobs=1)]: Done  20 out of  20 | elapsed:    0.0s finished\n",
      "[Parallel(n_jobs=1)]: Done  20 out of  20 | elapsed:    0.0s finished\n",
      "[Parallel(n_jobs=1)]: Done  20 out of  20 | elapsed:    0.0s finished\n",
      "[Parallel(n_jobs=1)]: Done  20 out of  20 | elapsed:    0.0s finished\n"
     ]
    },
    {
     "name": "stdout",
     "output_type": "stream",
     "text": [
      "TESTDATA_Preload_RampDown\n",
      "Saving Random Forest Model from rf_s0.pkl\n",
      "Saving Extra Trees Model\n",
      "Saving Random Forest Model from rf_s1.pkl\n",
      "Saving Extra Trees Model\n",
      "Saving Random Forest Model from rf_s2.pkl\n",
      "Saving Extra Trees Model\n",
      "Saving Random Forest Model from rf_s3.pkl\n",
      "Saving Extra Trees Model\n",
      "\n"
     ]
    },
    {
     "name": "stderr",
     "output_type": "stream",
     "text": [
      "[Parallel(n_jobs=1)]: Done  20 out of  20 | elapsed:    0.0s finished\n",
      "[Parallel(n_jobs=1)]: Done  20 out of  20 | elapsed:    0.0s finished\n",
      "[Parallel(n_jobs=1)]: Done  20 out of  20 | elapsed:    0.0s finished\n",
      "[Parallel(n_jobs=1)]: Done  20 out of  20 | elapsed:    0.0s finished\n"
     ]
    },
    {
     "name": "stdout",
     "output_type": "stream",
     "text": [
      "[ 0.   0.   0.8  0.2]\n",
      "TESTDATA_Unbalance_SlowRoll\n",
      "Saving Random Forest Model from rf_s0.pkl\n",
      "Saving Extra Trees Model\n",
      "Saving Random Forest Model from rf_s1.pkl\n",
      "Saving Extra Trees Model\n",
      "Saving Random Forest Model from rf_s2.pkl\n",
      "Saving Extra Trees Model\n",
      "Saving Random Forest Model from rf_s3.pkl\n",
      "Saving Extra Trees Model\n",
      "\n"
     ]
    },
    {
     "name": "stderr",
     "output_type": "stream",
     "text": [
      "[Parallel(n_jobs=1)]: Done  20 out of  20 | elapsed:    0.0s finished\n",
      "[Parallel(n_jobs=1)]: Done  20 out of  20 | elapsed:    0.0s finished\n",
      "[Parallel(n_jobs=1)]: Done  20 out of  20 | elapsed:    0.0s finished\n",
      "[Parallel(n_jobs=1)]: Done  20 out of  20 | elapsed:    0.0s finished\n"
     ]
    },
    {
     "name": "stdout",
     "output_type": "stream",
     "text": [
      "[ 0.    0.15  0.6   0.25]\n",
      "TESTDATA_Unbalance_RampUp\n",
      "Saving Random Forest Model from rf_s0.pkl\n",
      "Saving Extra Trees Model\n",
      "Saving Random Forest Model from rf_s1.pkl\n",
      "Saving Extra Trees Model\n",
      "Saving Random Forest Model from rf_s2.pkl\n",
      "Saving Extra Trees Model\n",
      "Saving Random Forest Model from rf_s3.pkl\n",
      "Saving Extra Trees Model\n",
      "\n",
      "[ 0.    0.05  0.4   0.55]\n"
     ]
    },
    {
     "name": "stderr",
     "output_type": "stream",
     "text": [
      "[Parallel(n_jobs=1)]: Done  20 out of  20 | elapsed:    0.0s finished\n",
      "[Parallel(n_jobs=1)]: Done  20 out of  20 | elapsed:    0.0s finished\n",
      "[Parallel(n_jobs=1)]: Done  20 out of  20 | elapsed:    0.0s finished\n",
      "[Parallel(n_jobs=1)]: Done  20 out of  20 | elapsed:    0.0s finished\n"
     ]
    },
    {
     "name": "stdout",
     "output_type": "stream",
     "text": [
      "TESTDATA_Unbalance_FastRoll\n",
      "Saving Random Forest Model from rf_s0.pkl\n",
      "Saving Extra Trees Model\n",
      "Saving Random Forest Model from rf_s1.pkl\n",
      "Saving Extra Trees Model\n",
      "Saving Random Forest Model from rf_s2.pkl\n",
      "Saving Extra Trees Model\n",
      "Saving Random Forest Model from rf_s3.pkl\n",
      "Saving Extra Trees Model\n",
      "\n",
      "[ 0.    0.75  0.    0.25]\n"
     ]
    },
    {
     "name": "stderr",
     "output_type": "stream",
     "text": [
      "[Parallel(n_jobs=1)]: Done  20 out of  20 | elapsed:    0.0s finished\n",
      "[Parallel(n_jobs=1)]: Done  20 out of  20 | elapsed:    0.0s finished\n",
      "[Parallel(n_jobs=1)]: Done  20 out of  20 | elapsed:    0.0s finished\n",
      "[Parallel(n_jobs=1)]: Done  20 out of  20 | elapsed:    0.0s finished\n"
     ]
    },
    {
     "name": "stdout",
     "output_type": "stream",
     "text": [
      "TESTDATA_Unbalance_RampDown\n",
      "Saving Random Forest Model from rf_s0.pkl\n",
      "Saving Extra Trees Model\n",
      "Saving Random Forest Model from rf_s1.pkl\n",
      "Saving Extra Trees Model\n",
      "Saving Random Forest Model from rf_s2.pkl\n",
      "Saving Extra Trees Model\n",
      "Saving Random Forest Model from rf_s3.pkl\n",
      "Saving Extra Trees Model\n",
      "\n",
      "[ 0.   0.   0.5  0.5]\n"
     ]
    },
    {
     "name": "stderr",
     "output_type": "stream",
     "text": [
      "[Parallel(n_jobs=1)]: Done  20 out of  20 | elapsed:    0.0s finished\n",
      "[Parallel(n_jobs=1)]: Done  20 out of  20 | elapsed:    0.0s finished\n",
      "[Parallel(n_jobs=1)]: Done  20 out of  20 | elapsed:    0.0s finished\n",
      "[Parallel(n_jobs=1)]: Done  20 out of  20 | elapsed:    0.0s finished\n"
     ]
    },
    {
     "name": "stdout",
     "output_type": "stream",
     "text": [
      "TESTDATA_Normal_SlowRoll\n",
      "Saving Random Forest Model from rf_s0.pkl\n",
      "Saving Extra Trees Model\n",
      "Saving Random Forest Model from rf_s1.pkl\n",
      "Saving Extra Trees Model\n",
      "Saving Random Forest Model from rf_s2.pkl\n",
      "Saving Extra Trees Model\n",
      "Saving Random Forest Model from rf_s3.pkl\n",
      "Saving Extra Trees Model\n"
     ]
    },
    {
     "name": "stderr",
     "output_type": "stream",
     "text": [
      "[Parallel(n_jobs=1)]: Done  20 out of  20 | elapsed:    0.0s finished\n",
      "[Parallel(n_jobs=1)]: Done  20 out of  20 | elapsed:    0.0s finished\n",
      "[Parallel(n_jobs=1)]: Done  20 out of  20 | elapsed:    0.0s finished\n",
      "[Parallel(n_jobs=1)]: Done  20 out of  20 | elapsed:    0.0s finished\n"
     ]
    },
    {
     "name": "stdout",
     "output_type": "stream",
     "text": [
      "\n",
      "[ 0.    0.05  0.5   0.45]\n",
      "TESTDATA_Normal_RampUp\n",
      "Saving Random Forest Model from rf_s0.pkl\n",
      "Saving Extra Trees Model\n",
      "Saving Random Forest Model from rf_s1.pkl\n",
      "Saving Extra Trees Model\n",
      "Saving Random Forest Model from rf_s2.pkl\n",
      "Saving Extra Trees Model\n",
      "Saving Random Forest Model from rf_s3.pkl\n",
      "Saving Extra Trees Model\n",
      "\n"
     ]
    },
    {
     "name": "stderr",
     "output_type": "stream",
     "text": [
      "[Parallel(n_jobs=1)]: Done  20 out of  20 | elapsed:    0.0s finished\n",
      "[Parallel(n_jobs=1)]: Done  20 out of  20 | elapsed:    0.0s finished\n",
      "[Parallel(n_jobs=1)]: Done  20 out of  20 | elapsed:    0.0s finished\n",
      "[Parallel(n_jobs=1)]: Done  20 out of  20 | elapsed:    0.0s finished\n"
     ]
    },
    {
     "name": "stdout",
     "output_type": "stream",
     "text": [
      "[ 0.   0.   0.5  0.5]\n",
      "TESTDATA_Normal_FastRoll\n",
      "Saving Random Forest Model from rf_s0.pkl\n",
      "Saving Extra Trees Model\n",
      "Saving Random Forest Model from rf_s1.pkl\n",
      "Saving Extra Trees Model\n",
      "Saving Random Forest Model from rf_s2.pkl\n",
      "Saving Extra Trees Model\n",
      "Saving Random Forest Model from rf_s3.pkl\n",
      "Saving Extra Trees Model\n",
      "\n",
      "[ 1.  0.  0.  0.]\n"
     ]
    },
    {
     "name": "stderr",
     "output_type": "stream",
     "text": [
      "[Parallel(n_jobs=1)]: Done  20 out of  20 | elapsed:    0.0s finished\n",
      "[Parallel(n_jobs=1)]: Done  20 out of  20 | elapsed:    0.0s finished\n",
      "[Parallel(n_jobs=1)]: Done  20 out of  20 | elapsed:    0.0s finished\n",
      "[Parallel(n_jobs=1)]: Done  20 out of  20 | elapsed:    0.0s finished\n"
     ]
    },
    {
     "name": "stdout",
     "output_type": "stream",
     "text": [
      "TESTDATA_Normal_RampDown\n",
      "Saving Random Forest Model from rf_s0.pkl\n",
      "Saving Extra Trees Model\n",
      "Saving Random Forest Model from rf_s1.pkl\n",
      "Saving Extra Trees Model\n",
      "Saving Random Forest Model from rf_s2.pkl\n",
      "Saving Extra Trees Model\n",
      "Saving Random Forest Model from rf_s3.pkl\n",
      "Saving Extra Trees Model\n",
      "\n",
      "[ 0.    0.    0.45  0.55]\n"
     ]
    },
    {
     "name": "stderr",
     "output_type": "stream",
     "text": [
      "[Parallel(n_jobs=1)]: Done  20 out of  20 | elapsed:    0.0s finished\n",
      "[Parallel(n_jobs=1)]: Done  20 out of  20 | elapsed:    0.0s finished\n",
      "[Parallel(n_jobs=1)]: Done  20 out of  20 | elapsed:    0.0s finished\n",
      "[Parallel(n_jobs=1)]: Done  20 out of  20 | elapsed:    0.0s finished\n"
     ]
    },
    {
     "name": "stdout",
     "output_type": "stream",
     "text": [
      "TESTDATA_BearingRub_SlowRoll\n",
      "Saving Random Forest Model from rf_s0.pkl\n",
      "Saving Extra Trees Model\n",
      "Saving Random Forest Model from rf_s1.pkl\n",
      "Saving Extra Trees Model\n",
      "Saving Random Forest Model from rf_s2.pkl\n",
      "Saving Extra Trees Model\n",
      "Saving Random Forest Model from rf_s3.pkl\n",
      "Saving Extra Trees Model\n",
      "\n",
      "[ 0.    0.    0.45  0.55]\n"
     ]
    },
    {
     "name": "stderr",
     "output_type": "stream",
     "text": [
      "[Parallel(n_jobs=1)]: Done  20 out of  20 | elapsed:    0.0s finished\n",
      "[Parallel(n_jobs=1)]: Done  20 out of  20 | elapsed:    0.0s finished\n",
      "[Parallel(n_jobs=1)]: Done  20 out of  20 | elapsed:    0.0s finished\n",
      "[Parallel(n_jobs=1)]: Done  20 out of  20 | elapsed:    0.0s finished\n"
     ]
    },
    {
     "name": "stdout",
     "output_type": "stream",
     "text": [
      "TESTDATA_BearingRub_RampUp\n",
      "Saving Random Forest Model from rf_s0.pkl\n",
      "Saving Extra Trees Model\n",
      "Saving Random Forest Model from rf_s1.pkl\n",
      "Saving Extra Trees Model\n",
      "Saving Random Forest Model from rf_s2.pkl\n",
      "Saving Extra Trees Model\n",
      "Saving Random Forest Model from rf_s3.pkl\n",
      "Saving Extra Trees Model\n",
      "\n"
     ]
    },
    {
     "name": "stderr",
     "output_type": "stream",
     "text": [
      "[Parallel(n_jobs=1)]: Done  20 out of  20 | elapsed:    0.0s finished\n",
      "[Parallel(n_jobs=1)]: Done  20 out of  20 | elapsed:    0.0s finished\n",
      "[Parallel(n_jobs=1)]: Done  20 out of  20 | elapsed:    0.0s finished\n",
      "[Parallel(n_jobs=1)]: Done  20 out of  20 | elapsed:    0.0s finished\n"
     ]
    },
    {
     "name": "stdout",
     "output_type": "stream",
     "text": [
      "[ 0.   0.   0.5  0.5]\n",
      "TESTDATA_BearingRub_FastRoll\n",
      "Saving Random Forest Model from rf_s0.pkl\n",
      "Saving Extra Trees Model\n",
      "Saving Random Forest Model from rf_s1.pkl\n",
      "Saving Extra Trees Model\n",
      "Saving Random Forest Model from rf_s2.pkl\n",
      "Saving Extra Trees Model\n",
      "Saving Random Forest Model from rf_s3.pkl\n",
      "Saving Extra Trees Model\n",
      "\n"
     ]
    },
    {
     "name": "stderr",
     "output_type": "stream",
     "text": [
      "[Parallel(n_jobs=1)]: Done  20 out of  20 | elapsed:    0.0s finished\n",
      "[Parallel(n_jobs=1)]: Done  20 out of  20 | elapsed:    0.0s finished\n",
      "[Parallel(n_jobs=1)]: Done  20 out of  20 | elapsed:    0.0s finished\n",
      "[Parallel(n_jobs=1)]: Done  20 out of  20 | elapsed:    0.0s finished\n"
     ]
    },
    {
     "name": "stdout",
     "output_type": "stream",
     "text": [
      "[ 0.  0.  0.  1.]\n",
      "TESTDATA_BearingRub_RampDown\n",
      "Saving Random Forest Model from rf_s0.pkl\n",
      "Saving Extra Trees Model\n",
      "Saving Random Forest Model from rf_s1.pkl\n",
      "Saving Extra Trees Model\n",
      "Saving Random Forest Model from rf_s2.pkl\n",
      "Saving Extra Trees Model\n",
      "Saving Random Forest Model from rf_s3.pkl\n",
      "Saving Extra Trees Model\n",
      "\n",
      "[ 0.    0.05  0.35  0.6 ]\n"
     ]
    },
    {
     "name": "stderr",
     "output_type": "stream",
     "text": [
      "[Parallel(n_jobs=1)]: Done  20 out of  20 | elapsed:    0.0s finished\n",
      "[Parallel(n_jobs=1)]: Done  20 out of  20 | elapsed:    0.0s finished\n",
      "[Parallel(n_jobs=1)]: Done  20 out of  20 | elapsed:    0.0s finished\n",
      "[Parallel(n_jobs=1)]: Done  20 out of  20 | elapsed:    0.0s finished\n"
     ]
    },
    {
     "name": "stdout",
     "output_type": "stream",
     "text": [
      "TESTDATA_Preload_SlowRoll\n",
      "Saving Random Forest Model from rf_s0.pkl\n",
      "Saving Extra Trees Model\n",
      "Saving Random Forest Model from rf_s1.pkl\n",
      "Saving Extra Trees Model\n",
      "Saving Random Forest Model from rf_s2.pkl\n",
      "Saving Extra Trees Model\n",
      "Saving Random Forest Model from rf_s3.pkl\n",
      "Saving Extra Trees Model\n",
      "\n",
      "[ 0.   0.   0.9  0.1]\n"
     ]
    },
    {
     "name": "stderr",
     "output_type": "stream",
     "text": [
      "[Parallel(n_jobs=1)]: Done  20 out of  20 | elapsed:    0.0s finished\n",
      "[Parallel(n_jobs=1)]: Done  20 out of  20 | elapsed:    0.0s finished\n",
      "[Parallel(n_jobs=1)]: Done  20 out of  20 | elapsed:    0.0s finished\n",
      "[Parallel(n_jobs=1)]: Done  20 out of  20 | elapsed:    0.0s finished\n"
     ]
    },
    {
     "name": "stdout",
     "output_type": "stream",
     "text": [
      "TESTDATA_Preload_RampUp\n",
      "Saving Random Forest Model from rf_s0.pkl\n",
      "Saving Extra Trees Model\n",
      "Saving Random Forest Model from rf_s1.pkl\n",
      "Saving Extra Trees Model\n",
      "Saving Random Forest Model from rf_s2.pkl\n",
      "Saving Extra Trees Model\n",
      "Saving Random Forest Model from rf_s3.pkl\n",
      "Saving Extra Trees Model\n",
      "\n"
     ]
    },
    {
     "name": "stderr",
     "output_type": "stream",
     "text": [
      "[Parallel(n_jobs=1)]: Done  20 out of  20 | elapsed:    0.0s finished\n",
      "[Parallel(n_jobs=1)]: Done  20 out of  20 | elapsed:    0.0s finished\n",
      "[Parallel(n_jobs=1)]: Done  20 out of  20 | elapsed:    0.0s finished\n",
      "[Parallel(n_jobs=1)]: Done  20 out of  20 | elapsed:    0.0s finished\n"
     ]
    },
    {
     "name": "stdout",
     "output_type": "stream",
     "text": [
      "[ 0.   0.   0.7  0.3]\n",
      "TESTDATA_Preload_FastRoll\n",
      "Saving Random Forest Model from rf_s0.pkl\n",
      "Saving Extra Trees Model\n",
      "Saving Random Forest Model from rf_s1.pkl\n",
      "Saving Extra Trees Model\n",
      "Saving Random Forest Model from rf_s2.pkl\n",
      "Saving Extra Trees Model\n",
      "Saving Random Forest Model from rf_s3.pkl\n",
      "Saving Extra Trees Model\n",
      "\n",
      "[ 0.  0.  1.  0.]\n"
     ]
    },
    {
     "name": "stderr",
     "output_type": "stream",
     "text": [
      "[Parallel(n_jobs=1)]: Done  20 out of  20 | elapsed:    0.0s finished\n",
      "[Parallel(n_jobs=1)]: Done  20 out of  20 | elapsed:    0.0s finished\n",
      "[Parallel(n_jobs=1)]: Done  20 out of  20 | elapsed:    0.0s finished\n",
      "[Parallel(n_jobs=1)]: Done  20 out of  20 | elapsed:    0.0s finished\n"
     ]
    },
    {
     "name": "stdout",
     "output_type": "stream",
     "text": [
      "TESTDATA_Preload_RampDown\n",
      "Saving Random Forest Model from rf_s0.pkl\n",
      "Saving Extra Trees Model\n",
      "Saving Random Forest Model from rf_s1.pkl\n",
      "Saving Extra Trees Model\n",
      "Saving Random Forest Model from rf_s2.pkl\n",
      "Saving Extra Trees Model\n",
      "Saving Random Forest Model from rf_s3.pkl\n",
      "Saving Extra Trees Model\n",
      "\n",
      "[ 0.   0.   0.8  0.2]\n"
     ]
    },
    {
     "name": "stderr",
     "output_type": "stream",
     "text": [
      "[Parallel(n_jobs=1)]: Done  20 out of  20 | elapsed:    0.0s finished\n",
      "[Parallel(n_jobs=1)]: Done  20 out of  20 | elapsed:    0.0s finished\n",
      "[Parallel(n_jobs=1)]: Done  20 out of  20 | elapsed:    0.0s finished\n",
      "[Parallel(n_jobs=1)]: Done  20 out of  20 | elapsed:    0.0s finished\n"
     ]
    },
    {
     "name": "stdout",
     "output_type": "stream",
     "text": [
      "TESTDATA_Unbalance_SlowRoll\n",
      "Saving Random Forest Model from rf_s0.pkl\n",
      "Saving Extra Trees Model\n",
      "Saving Random Forest Model from rf_s1.pkl\n",
      "Saving Extra Trees Model\n",
      "Saving Random Forest Model from rf_s2.pkl\n",
      "Saving Extra Trees Model\n",
      "Saving Random Forest Model from rf_s3.pkl\n",
      "Saving Extra Trees Model\n",
      "\n"
     ]
    },
    {
     "name": "stderr",
     "output_type": "stream",
     "text": [
      "[Parallel(n_jobs=1)]: Done  20 out of  20 | elapsed:    0.0s finished\n",
      "[Parallel(n_jobs=1)]: Done  20 out of  20 | elapsed:    0.0s finished\n",
      "[Parallel(n_jobs=1)]: Done  20 out of  20 | elapsed:    0.0s finished\n",
      "[Parallel(n_jobs=1)]: Done  20 out of  20 | elapsed:    0.0s finished\n"
     ]
    },
    {
     "name": "stdout",
     "output_type": "stream",
     "text": [
      "[ 0.    0.15  0.6   0.25]\n",
      "TESTDATA_Unbalance_RampUp\n",
      "Saving Random Forest Model from rf_s0.pkl\n",
      "Saving Extra Trees Model\n",
      "Saving Random Forest Model from rf_s1.pkl\n",
      "Saving Extra Trees Model\n",
      "Saving Random Forest Model from rf_s2.pkl\n",
      "Saving Extra Trees Model\n",
      "Saving Random Forest Model from rf_s3.pkl\n",
      "Saving Extra Trees Model\n",
      "\n",
      "[ 0.    0.05  0.4   0.55]\n"
     ]
    },
    {
     "name": "stderr",
     "output_type": "stream",
     "text": [
      "[Parallel(n_jobs=1)]: Done  20 out of  20 | elapsed:    0.0s finished\n",
      "[Parallel(n_jobs=1)]: Done  20 out of  20 | elapsed:    0.0s finished\n",
      "[Parallel(n_jobs=1)]: Done  20 out of  20 | elapsed:    0.0s finished\n",
      "[Parallel(n_jobs=1)]: Done  20 out of  20 | elapsed:    0.0s finished\n"
     ]
    },
    {
     "name": "stdout",
     "output_type": "stream",
     "text": [
      "TESTDATA_Unbalance_FastRoll\n",
      "Saving Random Forest Model from rf_s0.pkl\n",
      "Saving Extra Trees Model\n",
      "Saving Random Forest Model from rf_s1.pkl\n",
      "Saving Extra Trees Model\n",
      "Saving Random Forest Model from rf_s2.pkl\n",
      "Saving Extra Trees Model\n",
      "Saving Random Forest Model from rf_s3.pkl\n",
      "Saving Extra Trees Model\n",
      "\n",
      "[ 0.    0.75  0.    0.25]\n"
     ]
    },
    {
     "name": "stderr",
     "output_type": "stream",
     "text": [
      "[Parallel(n_jobs=1)]: Done  20 out of  20 | elapsed:    0.0s finished\n",
      "[Parallel(n_jobs=1)]: Done  20 out of  20 | elapsed:    0.0s finished\n",
      "[Parallel(n_jobs=1)]: Done  20 out of  20 | elapsed:    0.0s finished\n",
      "[Parallel(n_jobs=1)]: Done  20 out of  20 | elapsed:    0.0s finished\n"
     ]
    },
    {
     "name": "stdout",
     "output_type": "stream",
     "text": [
      "TESTDATA_Unbalance_RampDown\n",
      "Saving Random Forest Model from rf_s0.pkl\n",
      "Saving Extra Trees Model\n",
      "Saving Random Forest Model from rf_s1.pkl\n",
      "Saving Extra Trees Model\n",
      "Saving Random Forest Model from rf_s2.pkl\n",
      "Saving Extra Trees Model\n",
      "Saving Random Forest Model from rf_s3.pkl\n",
      "Saving Extra Trees Model\n",
      "\n"
     ]
    },
    {
     "name": "stderr",
     "output_type": "stream",
     "text": [
      "[Parallel(n_jobs=1)]: Done  20 out of  20 | elapsed:    0.0s finished\n",
      "[Parallel(n_jobs=1)]: Done  20 out of  20 | elapsed:    0.0s finished\n",
      "[Parallel(n_jobs=1)]: Done  20 out of  20 | elapsed:    0.0s finished\n",
      "[Parallel(n_jobs=1)]: Done  20 out of  20 | elapsed:    0.0s finished\n"
     ]
    },
    {
     "name": "stdout",
     "output_type": "stream",
     "text": [
      "[ 0.   0.   0.5  0.5]\n",
      "TESTDATA_Normal_SlowRoll\n",
      "Saving Random Forest Model from rf_s0.pkl\n",
      "Saving Extra Trees Model\n",
      "Saving Random Forest Model from rf_s1.pkl\n",
      "Saving Extra Trees Model\n",
      "Saving Random Forest Model from rf_s2.pkl\n",
      "Saving Extra Trees Model\n",
      "Saving Random Forest Model from rf_s3.pkl\n",
      "Saving Extra Trees Model\n",
      "\n"
     ]
    },
    {
     "name": "stderr",
     "output_type": "stream",
     "text": [
      "[Parallel(n_jobs=1)]: Done  20 out of  20 | elapsed:    0.0s finished\n",
      "[Parallel(n_jobs=1)]: Done  20 out of  20 | elapsed:    0.0s finished\n",
      "[Parallel(n_jobs=1)]: Done  20 out of  20 | elapsed:    0.0s finished\n",
      "[Parallel(n_jobs=1)]: Done  20 out of  20 | elapsed:    0.0s finished\n"
     ]
    },
    {
     "name": "stdout",
     "output_type": "stream",
     "text": [
      "[ 0.    0.05  0.5   0.45]\n",
      "TESTDATA_Normal_RampUp\n",
      "Saving Random Forest Model from rf_s0.pkl\n",
      "Saving Extra Trees Model\n",
      "Saving Random Forest Model from rf_s1.pkl\n",
      "Saving Extra Trees Model\n",
      "Saving Random Forest Model from rf_s2.pkl\n",
      "Saving Extra Trees Model\n",
      "Saving Random Forest Model from rf_s3.pkl\n",
      "Saving Extra Trees Model\n",
      "\n",
      "[ 0.   0.   0.5  0.5]\n"
     ]
    },
    {
     "name": "stderr",
     "output_type": "stream",
     "text": [
      "[Parallel(n_jobs=1)]: Done  20 out of  20 | elapsed:    0.0s finished\n",
      "[Parallel(n_jobs=1)]: Done  20 out of  20 | elapsed:    0.0s finished\n",
      "[Parallel(n_jobs=1)]: Done  20 out of  20 | elapsed:    0.0s finished\n",
      "[Parallel(n_jobs=1)]: Done  20 out of  20 | elapsed:    0.0s finished\n"
     ]
    },
    {
     "name": "stdout",
     "output_type": "stream",
     "text": [
      "TESTDATA_Normal_FastRoll\n",
      "Saving Random Forest Model from rf_s0.pkl\n",
      "Saving Extra Trees Model\n",
      "Saving Random Forest Model from rf_s1.pkl\n",
      "Saving Extra Trees Model\n",
      "Saving Random Forest Model from rf_s2.pkl\n",
      "Saving Extra Trees Model\n",
      "Saving Random Forest Model from rf_s3.pkl\n",
      "Saving Extra Trees Model\n",
      "\n",
      "[ 1.  0.  0.  0.]\n"
     ]
    },
    {
     "name": "stderr",
     "output_type": "stream",
     "text": [
      "[Parallel(n_jobs=1)]: Done  20 out of  20 | elapsed:    0.0s finished\n",
      "[Parallel(n_jobs=1)]: Done  20 out of  20 | elapsed:    0.0s finished\n",
      "[Parallel(n_jobs=1)]: Done  20 out of  20 | elapsed:    0.0s finished\n",
      "[Parallel(n_jobs=1)]: Done  20 out of  20 | elapsed:    0.0s finished\n"
     ]
    },
    {
     "name": "stdout",
     "output_type": "stream",
     "text": [
      "TESTDATA_Normal_RampDown\n",
      "Saving Random Forest Model from rf_s0.pkl\n",
      "Saving Extra Trees Model\n",
      "Saving Random Forest Model from rf_s1.pkl\n",
      "Saving Extra Trees Model\n",
      "Saving Random Forest Model from rf_s2.pkl\n",
      "Saving Extra Trees Model\n",
      "Saving Random Forest Model from rf_s3.pkl\n",
      "Saving Extra Trees Model\n",
      "\n",
      "[ 0.    0.    0.45  0.55]\n"
     ]
    },
    {
     "name": "stderr",
     "output_type": "stream",
     "text": [
      "[Parallel(n_jobs=1)]: Done  20 out of  20 | elapsed:    0.0s finished\n",
      "[Parallel(n_jobs=1)]: Done  20 out of  20 | elapsed:    0.0s finished\n",
      "[Parallel(n_jobs=1)]: Done  20 out of  20 | elapsed:    0.0s finished\n",
      "[Parallel(n_jobs=1)]: Done  20 out of  20 | elapsed:    0.0s finished\n"
     ]
    },
    {
     "name": "stdout",
     "output_type": "stream",
     "text": [
      "TESTDATA_BearingRub_SlowRoll\n",
      "Saving Random Forest Model from rf_s0.pkl\n",
      "Saving Extra Trees Model\n",
      "Saving Random Forest Model from rf_s1.pkl\n",
      "Saving Extra Trees Model\n",
      "Saving Random Forest Model from rf_s2.pkl\n",
      "Saving Extra Trees Model\n",
      "Saving Random Forest Model from rf_s3.pkl\n",
      "Saving Extra Trees Model\n",
      "\n",
      "[ 0.    0.    0.45  0.55]\n"
     ]
    },
    {
     "name": "stderr",
     "output_type": "stream",
     "text": [
      "[Parallel(n_jobs=1)]: Done  20 out of  20 | elapsed:    0.0s finished\n",
      "[Parallel(n_jobs=1)]: Done  20 out of  20 | elapsed:    0.0s finished\n",
      "[Parallel(n_jobs=1)]: Done  20 out of  20 | elapsed:    0.0s finished\n",
      "[Parallel(n_jobs=1)]: Done  20 out of  20 | elapsed:    0.0s finished\n"
     ]
    },
    {
     "name": "stdout",
     "output_type": "stream",
     "text": [
      "TESTDATA_BearingRub_RampUp\n",
      "Saving Random Forest Model from rf_s0.pkl\n",
      "Saving Extra Trees Model\n",
      "Saving Random Forest Model from rf_s1.pkl\n",
      "Saving Extra Trees Model\n",
      "Saving Random Forest Model from rf_s2.pkl\n",
      "Saving Extra Trees Model\n",
      "Saving Random Forest Model from rf_s3.pkl\n",
      "Saving Extra Trees Model\n",
      "\n",
      "[ 0.   0.   0.5  0.5]\n"
     ]
    },
    {
     "name": "stderr",
     "output_type": "stream",
     "text": [
      "[Parallel(n_jobs=1)]: Done  20 out of  20 | elapsed:    0.0s finished\n",
      "[Parallel(n_jobs=1)]: Done  20 out of  20 | elapsed:    0.0s finished\n",
      "[Parallel(n_jobs=1)]: Done  20 out of  20 | elapsed:    0.0s finished\n",
      "[Parallel(n_jobs=1)]: Done  20 out of  20 | elapsed:    0.0s finished\n"
     ]
    },
    {
     "name": "stdout",
     "output_type": "stream",
     "text": [
      "TESTDATA_BearingRub_FastRoll\n",
      "Saving Random Forest Model from rf_s0.pkl\n",
      "Saving Extra Trees Model\n",
      "Saving Random Forest Model from rf_s1.pkl\n",
      "Saving Extra Trees Model\n",
      "Saving Random Forest Model from rf_s2.pkl\n",
      "Saving Extra Trees Model\n",
      "Saving Random Forest Model from rf_s3.pkl\n",
      "Saving Extra Trees Model\n",
      "\n"
     ]
    },
    {
     "name": "stderr",
     "output_type": "stream",
     "text": [
      "[Parallel(n_jobs=1)]: Done  20 out of  20 | elapsed:    0.0s finished\n",
      "[Parallel(n_jobs=1)]: Done  20 out of  20 | elapsed:    0.0s finished\n",
      "[Parallel(n_jobs=1)]: Done  20 out of  20 | elapsed:    0.0s finished\n",
      "[Parallel(n_jobs=1)]: Done  20 out of  20 | elapsed:    0.0s finished\n"
     ]
    },
    {
     "name": "stdout",
     "output_type": "stream",
     "text": [
      "[ 0.  0.  0.  1.]\n",
      "TESTDATA_BearingRub_RampDown\n",
      "Saving Random Forest Model from rf_s0.pkl\n",
      "Saving Extra Trees Model\n",
      "Saving Random Forest Model from rf_s1.pkl\n",
      "Saving Extra Trees Model\n",
      "Saving Random Forest Model from rf_s2.pkl\n",
      "Saving Extra Trees Model\n",
      "Saving Random Forest Model from rf_s3.pkl\n",
      "Saving Extra Trees Model\n",
      "\n",
      "[ 0.    0.05  0.35  0.6 ]\n"
     ]
    },
    {
     "name": "stderr",
     "output_type": "stream",
     "text": [
      "[Parallel(n_jobs=1)]: Done  20 out of  20 | elapsed:    0.0s finished\n",
      "[Parallel(n_jobs=1)]: Done  20 out of  20 | elapsed:    0.0s finished\n",
      "[Parallel(n_jobs=1)]: Done  20 out of  20 | elapsed:    0.0s finished\n",
      "[Parallel(n_jobs=1)]: Done  20 out of  20 | elapsed:    0.0s finished\n"
     ]
    },
    {
     "name": "stdout",
     "output_type": "stream",
     "text": [
      "TESTDATA_Preload_SlowRoll\n",
      "Saving Random Forest Model from rf_s0.pkl\n",
      "Saving Extra Trees Model\n",
      "Saving Random Forest Model from rf_s1.pkl\n",
      "Saving Extra Trees Model\n",
      "Saving Random Forest Model from rf_s2.pkl\n",
      "Saving Extra Trees Model\n",
      "Saving Random Forest Model from rf_s3.pkl\n",
      "Saving Extra Trees Model\n",
      "\n"
     ]
    },
    {
     "name": "stderr",
     "output_type": "stream",
     "text": [
      "[Parallel(n_jobs=1)]: Done  20 out of  20 | elapsed:    0.0s finished\n",
      "[Parallel(n_jobs=1)]: Done  20 out of  20 | elapsed:    0.0s finished\n",
      "[Parallel(n_jobs=1)]: Done  20 out of  20 | elapsed:    0.0s finished\n",
      "[Parallel(n_jobs=1)]: Done  20 out of  20 | elapsed:    0.0s finished\n"
     ]
    },
    {
     "name": "stdout",
     "output_type": "stream",
     "text": [
      "[ 0.   0.   0.9  0.1]\n",
      "TESTDATA_Preload_RampUp\n",
      "Saving Random Forest Model from rf_s0.pkl\n",
      "Saving Extra Trees Model\n",
      "Saving Random Forest Model from rf_s1.pkl\n",
      "Saving Extra Trees Model\n",
      "Saving Random Forest Model from rf_s2.pkl\n",
      "Saving Extra Trees Model\n",
      "Saving Random Forest Model from rf_s3.pkl\n",
      "Saving Extra Trees Model\n",
      "\n"
     ]
    },
    {
     "name": "stderr",
     "output_type": "stream",
     "text": [
      "[Parallel(n_jobs=1)]: Done  20 out of  20 | elapsed:    0.0s finished\n",
      "[Parallel(n_jobs=1)]: Done  20 out of  20 | elapsed:    0.0s finished\n",
      "[Parallel(n_jobs=1)]: Done  20 out of  20 | elapsed:    0.0s finished\n",
      "[Parallel(n_jobs=1)]: Done  20 out of  20 | elapsed:    0.0s finished\n"
     ]
    },
    {
     "name": "stdout",
     "output_type": "stream",
     "text": [
      "[ 0.   0.   0.7  0.3]\n",
      "TESTDATA_Preload_FastRoll\n",
      "Saving Random Forest Model from rf_s0.pkl\n",
      "Saving Extra Trees Model\n",
      "Saving Random Forest Model from rf_s1.pkl\n",
      "Saving Extra Trees Model\n",
      "Saving Random Forest Model from rf_s2.pkl\n",
      "Saving Extra Trees Model\n",
      "Saving Random Forest Model from rf_s3.pkl\n",
      "Saving Extra Trees Model\n",
      "\n",
      "[ 0.  0.  1.  0.]\n"
     ]
    },
    {
     "name": "stderr",
     "output_type": "stream",
     "text": [
      "[Parallel(n_jobs=1)]: Done  20 out of  20 | elapsed:    0.0s finished\n",
      "[Parallel(n_jobs=1)]: Done  20 out of  20 | elapsed:    0.0s finished\n",
      "[Parallel(n_jobs=1)]: Done  20 out of  20 | elapsed:    0.0s finished\n",
      "[Parallel(n_jobs=1)]: Done  20 out of  20 | elapsed:    0.0s finished\n"
     ]
    },
    {
     "name": "stdout",
     "output_type": "stream",
     "text": [
      "TESTDATA_Preload_RampDown\n",
      "Saving Random Forest Model from rf_s0.pkl\n",
      "Saving Extra Trees Model\n",
      "Saving Random Forest Model from rf_s1.pkl\n",
      "Saving Extra Trees Model\n",
      "Saving Random Forest Model from rf_s2.pkl\n",
      "Saving Extra Trees Model\n",
      "Saving Random Forest Model from rf_s3.pkl\n",
      "Saving Extra Trees Model\n",
      "\n",
      "[ 0.   0.   0.8  0.2]\n"
     ]
    },
    {
     "name": "stderr",
     "output_type": "stream",
     "text": [
      "[Parallel(n_jobs=1)]: Done  20 out of  20 | elapsed:    0.0s finished\n",
      "[Parallel(n_jobs=1)]: Done  20 out of  20 | elapsed:    0.0s finished\n",
      "[Parallel(n_jobs=1)]: Done  20 out of  20 | elapsed:    0.0s finished\n",
      "[Parallel(n_jobs=1)]: Done  20 out of  20 | elapsed:    0.0s finished\n"
     ]
    },
    {
     "name": "stdout",
     "output_type": "stream",
     "text": [
      "TESTDATA_Unbalance_SlowRoll\n",
      "Saving Random Forest Model from rf_s0.pkl\n",
      "Saving Extra Trees Model\n",
      "Saving Random Forest Model from rf_s1.pkl\n",
      "Saving Extra Trees Model\n",
      "Saving Random Forest Model from rf_s2.pkl\n",
      "Saving Extra Trees Model\n",
      "Saving Random Forest Model from rf_s3.pkl\n",
      "Saving Extra Trees Model\n",
      "\n",
      "[ 0.    0.15  0.6   0.25]\n"
     ]
    },
    {
     "name": "stderr",
     "output_type": "stream",
     "text": [
      "[Parallel(n_jobs=1)]: Done  20 out of  20 | elapsed:    0.0s finished\n",
      "[Parallel(n_jobs=1)]: Done  20 out of  20 | elapsed:    0.0s finished\n",
      "[Parallel(n_jobs=1)]: Done  20 out of  20 | elapsed:    0.0s finished\n",
      "[Parallel(n_jobs=1)]: Done  20 out of  20 | elapsed:    0.0s finished\n"
     ]
    },
    {
     "name": "stdout",
     "output_type": "stream",
     "text": [
      "TESTDATA_Unbalance_RampUp\n",
      "Saving Random Forest Model from rf_s0.pkl\n",
      "Saving Extra Trees Model\n",
      "Saving Random Forest Model from rf_s1.pkl\n",
      "Saving Extra Trees Model\n",
      "Saving Random Forest Model from rf_s2.pkl\n",
      "Saving Extra Trees Model\n",
      "Saving Random Forest Model from rf_s3.pkl\n",
      "Saving Extra Trees Model\n",
      "\n"
     ]
    },
    {
     "name": "stderr",
     "output_type": "stream",
     "text": [
      "[Parallel(n_jobs=1)]: Done  20 out of  20 | elapsed:    0.0s finished\n",
      "[Parallel(n_jobs=1)]: Done  20 out of  20 | elapsed:    0.0s finished\n",
      "[Parallel(n_jobs=1)]: Done  20 out of  20 | elapsed:    0.0s finished\n",
      "[Parallel(n_jobs=1)]: Done  20 out of  20 | elapsed:    0.0s finished\n"
     ]
    },
    {
     "name": "stdout",
     "output_type": "stream",
     "text": [
      "[ 0.    0.05  0.4   0.55]\n",
      "TESTDATA_Unbalance_FastRoll\n",
      "Saving Random Forest Model from rf_s0.pkl\n",
      "Saving Extra Trees Model\n",
      "Saving Random Forest Model from rf_s1.pkl\n",
      "Saving Extra Trees Model\n",
      "Saving Random Forest Model from rf_s2.pkl\n",
      "Saving Extra Trees Model\n",
      "Saving Random Forest Model from rf_s3.pkl\n",
      "Saving Extra Trees Model\n",
      "\n"
     ]
    },
    {
     "name": "stderr",
     "output_type": "stream",
     "text": [
      "[Parallel(n_jobs=1)]: Done  20 out of  20 | elapsed:    0.0s finished\n",
      "[Parallel(n_jobs=1)]: Done  20 out of  20 | elapsed:    0.0s finished\n",
      "[Parallel(n_jobs=1)]: Done  20 out of  20 | elapsed:    0.0s finished\n",
      "[Parallel(n_jobs=1)]: Done  20 out of  20 | elapsed:    0.0s finished\n"
     ]
    },
    {
     "name": "stdout",
     "output_type": "stream",
     "text": [
      "[ 0.    0.75  0.    0.25]\n",
      "TESTDATA_Unbalance_RampDown\n",
      "Saving Random Forest Model from rf_s0.pkl\n",
      "Saving Extra Trees Model\n",
      "Saving Random Forest Model from rf_s1.pkl\n",
      "Saving Extra Trees Model\n",
      "Saving Random Forest Model from rf_s2.pkl\n",
      "Saving Extra Trees Model\n",
      "Saving Random Forest Model from rf_s3.pkl\n",
      "Saving Extra Trees Model\n",
      "\n"
     ]
    },
    {
     "name": "stderr",
     "output_type": "stream",
     "text": [
      "[Parallel(n_jobs=1)]: Done  20 out of  20 | elapsed:    0.0s finished\n",
      "[Parallel(n_jobs=1)]: Done  20 out of  20 | elapsed:    0.0s finished\n",
      "[Parallel(n_jobs=1)]: Done  20 out of  20 | elapsed:    0.0s finished\n",
      "[Parallel(n_jobs=1)]: Done  20 out of  20 | elapsed:    0.0s finished\n"
     ]
    },
    {
     "name": "stdout",
     "output_type": "stream",
     "text": [
      "[ 0.   0.   0.5  0.5]\n",
      "TESTDATA_Normal_SlowRoll\n",
      "Saving Random Forest Model from rf_s0.pkl\n",
      "Saving Extra Trees Model\n",
      "Saving Random Forest Model from rf_s1.pkl\n",
      "Saving Extra Trees Model\n",
      "Saving Random Forest Model from rf_s2.pkl\n",
      "Saving Extra Trees Model\n",
      "Saving Random Forest Model from rf_s3.pkl\n",
      "Saving Extra Trees Model\n",
      "\n",
      "[ 0.    0.05  0.5   0.45]\n"
     ]
    },
    {
     "name": "stderr",
     "output_type": "stream",
     "text": [
      "[Parallel(n_jobs=1)]: Done  20 out of  20 | elapsed:    0.0s finished\n",
      "[Parallel(n_jobs=1)]: Done  20 out of  20 | elapsed:    0.0s finished\n",
      "[Parallel(n_jobs=1)]: Done  20 out of  20 | elapsed:    0.0s finished\n",
      "[Parallel(n_jobs=1)]: Done  20 out of  20 | elapsed:    0.0s finished\n"
     ]
    },
    {
     "name": "stdout",
     "output_type": "stream",
     "text": [
      "TESTDATA_Normal_RampUp\n",
      "Saving Random Forest Model from rf_s0.pkl\n",
      "Saving Extra Trees Model\n",
      "Saving Random Forest Model from rf_s1.pkl\n",
      "Saving Extra Trees Model\n",
      "Saving Random Forest Model from rf_s2.pkl\n",
      "Saving Extra Trees Model\n",
      "Saving Random Forest Model from rf_s3.pkl\n",
      "Saving Extra Trees Model\n",
      "\n",
      "[ 0.   0.   0.5  0.5]\n"
     ]
    },
    {
     "name": "stderr",
     "output_type": "stream",
     "text": [
      "[Parallel(n_jobs=1)]: Done  20 out of  20 | elapsed:    0.0s finished\n",
      "[Parallel(n_jobs=1)]: Done  20 out of  20 | elapsed:    0.0s finished\n",
      "[Parallel(n_jobs=1)]: Done  20 out of  20 | elapsed:    0.0s finished\n",
      "[Parallel(n_jobs=1)]: Done  20 out of  20 | elapsed:    0.0s finished\n"
     ]
    },
    {
     "name": "stdout",
     "output_type": "stream",
     "text": [
      "TESTDATA_Normal_FastRoll\n",
      "Saving Random Forest Model from rf_s0.pkl\n",
      "Saving Extra Trees Model\n",
      "Saving Random Forest Model from rf_s1.pkl\n",
      "Saving Extra Trees Model\n",
      "Saving Random Forest Model from rf_s2.pkl\n",
      "Saving Extra Trees Model\n",
      "Saving Random Forest Model from rf_s3.pkl\n",
      "Saving Extra Trees Model\n",
      "\n"
     ]
    },
    {
     "name": "stderr",
     "output_type": "stream",
     "text": [
      "[Parallel(n_jobs=1)]: Done  20 out of  20 | elapsed:    0.0s finished\n",
      "[Parallel(n_jobs=1)]: Done  20 out of  20 | elapsed:    0.0s finished\n",
      "[Parallel(n_jobs=1)]: Done  20 out of  20 | elapsed:    0.0s finished\n",
      "[Parallel(n_jobs=1)]: Done  20 out of  20 | elapsed:    0.0s finished\n"
     ]
    },
    {
     "name": "stdout",
     "output_type": "stream",
     "text": [
      "[ 1.  0.  0.  0.]\n",
      "TESTDATA_Normal_RampDown\n",
      "Saving Random Forest Model from rf_s0.pkl\n",
      "Saving Extra Trees Model\n",
      "Saving Random Forest Model from rf_s1.pkl\n",
      "Saving Extra Trees Model\n",
      "Saving Random Forest Model from rf_s2.pkl\n",
      "Saving Extra Trees Model\n",
      "Saving Random Forest Model from rf_s3.pkl\n",
      "Saving Extra Trees Model\n",
      "\n",
      "[ 0.    0.    0.45  0.55]\n"
     ]
    },
    {
     "name": "stderr",
     "output_type": "stream",
     "text": [
      "[Parallel(n_jobs=1)]: Done  20 out of  20 | elapsed:    0.0s finished\n",
      "[Parallel(n_jobs=1)]: Done  20 out of  20 | elapsed:    0.0s finished\n",
      "[Parallel(n_jobs=1)]: Done  20 out of  20 | elapsed:    0.0s finished\n",
      "[Parallel(n_jobs=1)]: Done  20 out of  20 | elapsed:    0.0s finished\n"
     ]
    },
    {
     "name": "stdout",
     "output_type": "stream",
     "text": [
      "TESTDATA_BearingRub_SlowRoll\n",
      "Saving Random Forest Model from rf_s0.pkl\n",
      "Saving Extra Trees Model\n",
      "Saving Random Forest Model from rf_s1.pkl\n",
      "Saving Extra Trees Model\n",
      "Saving Random Forest Model from rf_s2.pkl\n",
      "Saving Extra Trees Model\n",
      "Saving Random Forest Model from rf_s3.pkl\n",
      "Saving Extra Trees Model\n",
      "\n",
      "[ 0.    0.    0.45  0.55]\n"
     ]
    },
    {
     "name": "stderr",
     "output_type": "stream",
     "text": [
      "[Parallel(n_jobs=1)]: Done  20 out of  20 | elapsed:    0.0s finished\n",
      "[Parallel(n_jobs=1)]: Done  20 out of  20 | elapsed:    0.0s finished\n",
      "[Parallel(n_jobs=1)]: Done  20 out of  20 | elapsed:    0.0s finished\n",
      "[Parallel(n_jobs=1)]: Done  20 out of  20 | elapsed:    0.0s finished\n"
     ]
    },
    {
     "name": "stdout",
     "output_type": "stream",
     "text": [
      "TESTDATA_BearingRub_RampUp\n",
      "Saving Random Forest Model from rf_s0.pkl\n",
      "Saving Extra Trees Model\n",
      "Saving Random Forest Model from rf_s1.pkl\n",
      "Saving Extra Trees Model\n",
      "Saving Random Forest Model from rf_s2.pkl\n",
      "Saving Extra Trees Model\n",
      "Saving Random Forest Model from rf_s3.pkl\n",
      "Saving Extra Trees Model\n",
      "\n",
      "[ 0.   0.   0.5  0.5]\n"
     ]
    },
    {
     "name": "stderr",
     "output_type": "stream",
     "text": [
      "[Parallel(n_jobs=1)]: Done  20 out of  20 | elapsed:    0.0s finished\n",
      "[Parallel(n_jobs=1)]: Done  20 out of  20 | elapsed:    0.0s finished\n",
      "[Parallel(n_jobs=1)]: Done  20 out of  20 | elapsed:    0.0s finished\n",
      "[Parallel(n_jobs=1)]: Done  20 out of  20 | elapsed:    0.0s finished\n"
     ]
    },
    {
     "name": "stdout",
     "output_type": "stream",
     "text": [
      "TESTDATA_BearingRub_FastRoll\n",
      "Saving Random Forest Model from rf_s0.pkl\n",
      "Saving Extra Trees Model\n",
      "Saving Random Forest Model from rf_s1.pkl\n",
      "Saving Extra Trees Model\n",
      "Saving Random Forest Model from rf_s2.pkl\n",
      "Saving Extra Trees Model\n",
      "Saving Random Forest Model from rf_s3.pkl\n",
      "Saving Extra Trees Model\n",
      "\n",
      "[ 0.  0.  0.  1.]\n"
     ]
    },
    {
     "name": "stderr",
     "output_type": "stream",
     "text": [
      "[Parallel(n_jobs=1)]: Done  20 out of  20 | elapsed:    0.0s finished\n",
      "[Parallel(n_jobs=1)]: Done  20 out of  20 | elapsed:    0.0s finished\n",
      "[Parallel(n_jobs=1)]: Done  20 out of  20 | elapsed:    0.0s finished\n",
      "[Parallel(n_jobs=1)]: Done  20 out of  20 | elapsed:    0.0s finished\n"
     ]
    },
    {
     "name": "stdout",
     "output_type": "stream",
     "text": [
      "TESTDATA_BearingRub_RampDown\n",
      "Saving Random Forest Model from rf_s0.pkl\n",
      "Saving Extra Trees Model\n",
      "Saving Random Forest Model from rf_s1.pkl\n",
      "Saving Extra Trees Model\n",
      "Saving Random Forest Model from rf_s2.pkl\n",
      "Saving Extra Trees Model\n",
      "Saving Random Forest Model from rf_s3.pkl\n",
      "Saving Extra Trees Model\n",
      "\n"
     ]
    },
    {
     "name": "stderr",
     "output_type": "stream",
     "text": [
      "[Parallel(n_jobs=1)]: Done  20 out of  20 | elapsed:    0.0s finished\n",
      "[Parallel(n_jobs=1)]: Done  20 out of  20 | elapsed:    0.0s finished\n",
      "[Parallel(n_jobs=1)]: Done  20 out of  20 | elapsed:    0.0s finished\n",
      "[Parallel(n_jobs=1)]: Done  20 out of  20 | elapsed:    0.0s finished\n"
     ]
    },
    {
     "name": "stdout",
     "output_type": "stream",
     "text": [
      "[ 0.    0.05  0.35  0.6 ]\n",
      "TESTDATA_Preload_SlowRoll\n",
      "Saving Random Forest Model from rf_s0.pkl\n",
      "Saving Extra Trees Model\n",
      "Saving Random Forest Model from rf_s1.pkl\n",
      "Saving Extra Trees Model\n",
      "Saving Random Forest Model from rf_s2.pkl\n",
      "Saving Extra Trees Model\n",
      "Saving Random Forest Model from rf_s3.pkl\n",
      "Saving Extra Trees Model\n",
      "\n"
     ]
    },
    {
     "name": "stderr",
     "output_type": "stream",
     "text": [
      "[Parallel(n_jobs=1)]: Done  20 out of  20 | elapsed:    0.0s finished\n",
      "[Parallel(n_jobs=1)]: Done  20 out of  20 | elapsed:    0.0s finished\n",
      "[Parallel(n_jobs=1)]: Done  20 out of  20 | elapsed:    0.0s finished\n",
      "[Parallel(n_jobs=1)]: Done  20 out of  20 | elapsed:    0.0s finished\n"
     ]
    },
    {
     "name": "stdout",
     "output_type": "stream",
     "text": [
      "[ 0.   0.   0.9  0.1]\n",
      "TESTDATA_Preload_RampUp\n",
      "Saving Random Forest Model from rf_s0.pkl\n",
      "Saving Extra Trees Model\n",
      "Saving Random Forest Model from rf_s1.pkl\n",
      "Saving Extra Trees Model\n",
      "Saving Random Forest Model from rf_s2.pkl\n",
      "Saving Extra Trees Model\n",
      "Saving Random Forest Model from rf_s3.pkl\n",
      "Saving Extra Trees Model\n",
      "\n",
      "[ 0.   0.   0.7  0.3]\n"
     ]
    },
    {
     "name": "stderr",
     "output_type": "stream",
     "text": [
      "[Parallel(n_jobs=1)]: Done  20 out of  20 | elapsed:    0.0s finished\n",
      "[Parallel(n_jobs=1)]: Done  20 out of  20 | elapsed:    0.0s finished\n",
      "[Parallel(n_jobs=1)]: Done  20 out of  20 | elapsed:    0.0s finished\n",
      "[Parallel(n_jobs=1)]: Done  20 out of  20 | elapsed:    0.0s finished\n"
     ]
    },
    {
     "name": "stdout",
     "output_type": "stream",
     "text": [
      "TESTDATA_Preload_FastRoll\n",
      "Saving Random Forest Model from rf_s0.pkl\n",
      "Saving Extra Trees Model\n",
      "Saving Random Forest Model from rf_s1.pkl\n",
      "Saving Extra Trees Model\n",
      "Saving Random Forest Model from rf_s2.pkl\n",
      "Saving Extra Trees Model\n",
      "Saving Random Forest Model from rf_s3.pkl\n",
      "Saving Extra Trees Model\n",
      "\n"
     ]
    },
    {
     "name": "stderr",
     "output_type": "stream",
     "text": [
      "[Parallel(n_jobs=1)]: Done  20 out of  20 | elapsed:    0.0s finished\n",
      "[Parallel(n_jobs=1)]: Done  20 out of  20 | elapsed:    0.0s finished\n",
      "[Parallel(n_jobs=1)]: Done  20 out of  20 | elapsed:    0.0s finished\n",
      "[Parallel(n_jobs=1)]: Done  20 out of  20 | elapsed:    0.0s finished\n"
     ]
    },
    {
     "name": "stdout",
     "output_type": "stream",
     "text": [
      "[ 0.  0.  1.  0.]\n",
      "TESTDATA_Preload_RampDown\n",
      "Saving Random Forest Model from rf_s0.pkl\n",
      "Saving Extra Trees Model\n",
      "Saving Random Forest Model from rf_s1.pkl\n",
      "Saving Extra Trees Model\n",
      "Saving Random Forest Model from rf_s2.pkl\n",
      "Saving Extra Trees Model\n",
      "Saving Random Forest Model from rf_s3.pkl\n",
      "Saving Extra Trees Model\n",
      "\n",
      "[ 0.   0.   0.8  0.2]\n"
     ]
    },
    {
     "name": "stderr",
     "output_type": "stream",
     "text": [
      "[Parallel(n_jobs=1)]: Done  20 out of  20 | elapsed:    0.0s finished\n",
      "[Parallel(n_jobs=1)]: Done  20 out of  20 | elapsed:    0.0s finished\n",
      "[Parallel(n_jobs=1)]: Done  20 out of  20 | elapsed:    0.0s finished\n",
      "[Parallel(n_jobs=1)]: Done  20 out of  20 | elapsed:    0.0s finished\n"
     ]
    },
    {
     "name": "stdout",
     "output_type": "stream",
     "text": [
      "TESTDATA_Unbalance_SlowRoll\n",
      "Saving Random Forest Model from rf_s0.pkl\n",
      "Saving Extra Trees Model\n",
      "Saving Random Forest Model from rf_s1.pkl\n",
      "Saving Extra Trees Model\n",
      "Saving Random Forest Model from rf_s2.pkl\n",
      "Saving Extra Trees Model\n",
      "Saving Random Forest Model from rf_s3.pkl\n",
      "Saving Extra Trees Model\n",
      "\n"
     ]
    },
    {
     "name": "stderr",
     "output_type": "stream",
     "text": [
      "[Parallel(n_jobs=1)]: Done  20 out of  20 | elapsed:    0.0s finished\n",
      "[Parallel(n_jobs=1)]: Done  20 out of  20 | elapsed:    0.0s finished\n",
      "[Parallel(n_jobs=1)]: Done  20 out of  20 | elapsed:    0.0s finished\n",
      "[Parallel(n_jobs=1)]: Done  20 out of  20 | elapsed:    0.0s finished\n"
     ]
    },
    {
     "name": "stdout",
     "output_type": "stream",
     "text": [
      "[ 0.    0.15  0.6   0.25]\n",
      "TESTDATA_Unbalance_RampUp\n",
      "Saving Random Forest Model from rf_s0.pkl\n",
      "Saving Extra Trees Model\n",
      "Saving Random Forest Model from rf_s1.pkl\n",
      "Saving Extra Trees Model\n",
      "Saving Random Forest Model from rf_s2.pkl\n",
      "Saving Extra Trees Model\n",
      "Saving Random Forest Model from rf_s3.pkl\n",
      "Saving Extra Trees Model\n",
      "\n"
     ]
    },
    {
     "name": "stderr",
     "output_type": "stream",
     "text": [
      "[Parallel(n_jobs=1)]: Done  20 out of  20 | elapsed:    0.0s finished\n",
      "[Parallel(n_jobs=1)]: Done  20 out of  20 | elapsed:    0.0s finished\n",
      "[Parallel(n_jobs=1)]: Done  20 out of  20 | elapsed:    0.0s finished\n",
      "[Parallel(n_jobs=1)]: Done  20 out of  20 | elapsed:    0.0s finished\n"
     ]
    },
    {
     "name": "stdout",
     "output_type": "stream",
     "text": [
      "[ 0.    0.05  0.4   0.55]\n",
      "TESTDATA_Unbalance_FastRoll\n",
      "Saving Random Forest Model from rf_s0.pkl\n",
      "Saving Extra Trees Model\n",
      "Saving Random Forest Model from rf_s1.pkl\n",
      "Saving Extra Trees Model\n",
      "Saving Random Forest Model from rf_s2.pkl\n",
      "Saving Extra Trees Model\n",
      "Saving Random Forest Model from rf_s3.pkl\n",
      "Saving Extra Trees Model\n",
      "\n"
     ]
    },
    {
     "name": "stderr",
     "output_type": "stream",
     "text": [
      "[Parallel(n_jobs=1)]: Done  20 out of  20 | elapsed:    0.0s finished\n",
      "[Parallel(n_jobs=1)]: Done  20 out of  20 | elapsed:    0.0s finished\n",
      "[Parallel(n_jobs=1)]: Done  20 out of  20 | elapsed:    0.0s finished\n",
      "[Parallel(n_jobs=1)]: Done  20 out of  20 | elapsed:    0.0s finished\n"
     ]
    },
    {
     "name": "stdout",
     "output_type": "stream",
     "text": [
      "[ 0.    0.75  0.    0.25]\n",
      "TESTDATA_Unbalance_RampDown\n",
      "Saving Random Forest Model from rf_s0.pkl\n",
      "Saving Extra Trees Model\n",
      "Saving Random Forest Model from rf_s1.pkl\n",
      "Saving Extra Trees Model\n",
      "Saving Random Forest Model from rf_s2.pkl\n",
      "Saving Extra Trees Model\n",
      "Saving Random Forest Model from rf_s3.pkl\n",
      "Saving Extra Trees Model\n",
      "\n"
     ]
    },
    {
     "name": "stderr",
     "output_type": "stream",
     "text": [
      "[Parallel(n_jobs=1)]: Done  20 out of  20 | elapsed:    0.0s finished\n",
      "[Parallel(n_jobs=1)]: Done  20 out of  20 | elapsed:    0.0s finished\n",
      "[Parallel(n_jobs=1)]: Done  20 out of  20 | elapsed:    0.0s finished\n",
      "[Parallel(n_jobs=1)]: Done  20 out of  20 | elapsed:    0.0s finished\n"
     ]
    },
    {
     "name": "stdout",
     "output_type": "stream",
     "text": [
      "[ 0.   0.   0.5  0.5]\n",
      "TESTDATA_Normal_SlowRoll\n",
      "Saving Random Forest Model from rf_s0.pkl\n",
      "Saving Extra Trees Model\n",
      "Saving Random Forest Model from rf_s1.pkl\n",
      "Saving Extra Trees Model\n",
      "Saving Random Forest Model from rf_s2.pkl\n",
      "Saving Extra Trees Model\n",
      "Saving Random Forest Model from rf_s3.pkl\n",
      "Saving Extra Trees Model\n",
      "\n",
      "[ 0.    0.05  0.5   0.45]\n"
     ]
    },
    {
     "name": "stderr",
     "output_type": "stream",
     "text": [
      "[Parallel(n_jobs=1)]: Done  20 out of  20 | elapsed:    0.0s finished\n",
      "[Parallel(n_jobs=1)]: Done  20 out of  20 | elapsed:    0.0s finished\n",
      "[Parallel(n_jobs=1)]: Done  20 out of  20 | elapsed:    0.0s finished\n",
      "[Parallel(n_jobs=1)]: Done  20 out of  20 | elapsed:    0.0s finished\n"
     ]
    },
    {
     "name": "stdout",
     "output_type": "stream",
     "text": [
      "TESTDATA_Normal_RampUp\n",
      "Saving Random Forest Model from rf_s0.pkl\n",
      "Saving Extra Trees Model\n",
      "Saving Random Forest Model from rf_s1.pkl\n",
      "Saving Extra Trees Model\n",
      "Saving Random Forest Model from rf_s2.pkl\n",
      "Saving Extra Trees Model\n",
      "Saving Random Forest Model from rf_s3.pkl\n",
      "Saving Extra Trees Model\n",
      "\n",
      "[ 0.   0.   0.5  0.5]\n"
     ]
    },
    {
     "name": "stderr",
     "output_type": "stream",
     "text": [
      "[Parallel(n_jobs=1)]: Done  20 out of  20 | elapsed:    0.0s finished\n",
      "[Parallel(n_jobs=1)]: Done  20 out of  20 | elapsed:    0.0s finished\n",
      "[Parallel(n_jobs=1)]: Done  20 out of  20 | elapsed:    0.0s finished\n",
      "[Parallel(n_jobs=1)]: Done  20 out of  20 | elapsed:    0.0s finished\n"
     ]
    },
    {
     "name": "stdout",
     "output_type": "stream",
     "text": [
      "TESTDATA_Normal_FastRoll\n",
      "Saving Random Forest Model from rf_s0.pkl\n",
      "Saving Extra Trees Model\n",
      "Saving Random Forest Model from rf_s1.pkl\n",
      "Saving Extra Trees Model\n",
      "Saving Random Forest Model from rf_s2.pkl\n",
      "Saving Extra Trees Model\n",
      "Saving Random Forest Model from rf_s3.pkl\n",
      "Saving Extra Trees Model\n",
      "\n",
      "[ 1.  0.  0.  0.]\n"
     ]
    },
    {
     "name": "stderr",
     "output_type": "stream",
     "text": [
      "[Parallel(n_jobs=1)]: Done  20 out of  20 | elapsed:    0.0s finished\n",
      "[Parallel(n_jobs=1)]: Done  20 out of  20 | elapsed:    0.0s finished\n",
      "[Parallel(n_jobs=1)]: Done  20 out of  20 | elapsed:    0.0s finished\n",
      "[Parallel(n_jobs=1)]: Done  20 out of  20 | elapsed:    0.0s finished\n"
     ]
    },
    {
     "name": "stdout",
     "output_type": "stream",
     "text": [
      "TESTDATA_Normal_RampDown\n",
      "Saving Random Forest Model from rf_s0.pkl\n",
      "Saving Extra Trees Model\n",
      "Saving Random Forest Model from rf_s1.pkl\n",
      "Saving Extra Trees Model\n",
      "Saving Random Forest Model from rf_s2.pkl\n",
      "Saving Extra Trees Model\n",
      "Saving Random Forest Model from rf_s3.pkl\n",
      "Saving Extra Trees Model\n",
      "\n",
      "[ 0.    0.    0.45  0.55]\n"
     ]
    },
    {
     "name": "stderr",
     "output_type": "stream",
     "text": [
      "[Parallel(n_jobs=1)]: Done  20 out of  20 | elapsed:    0.0s finished\n",
      "[Parallel(n_jobs=1)]: Done  20 out of  20 | elapsed:    0.0s finished\n",
      "[Parallel(n_jobs=1)]: Done  20 out of  20 | elapsed:    0.0s finished\n",
      "[Parallel(n_jobs=1)]: Done  20 out of  20 | elapsed:    0.0s finished\n"
     ]
    },
    {
     "name": "stdout",
     "output_type": "stream",
     "text": [
      "TESTDATA_BearingRub_SlowRoll\n",
      "Saving Random Forest Model from rf_s0.pkl\n",
      "Saving Extra Trees Model\n",
      "Saving Random Forest Model from rf_s1.pkl\n",
      "Saving Extra Trees Model\n",
      "Saving Random Forest Model from rf_s2.pkl\n",
      "Saving Extra Trees Model\n",
      "Saving Random Forest Model from rf_s3.pkl\n",
      "Saving Extra Trees Model\n",
      "\n",
      "[ 0.    0.    0.45  0.55]\n"
     ]
    },
    {
     "name": "stderr",
     "output_type": "stream",
     "text": [
      "[Parallel(n_jobs=1)]: Done  20 out of  20 | elapsed:    0.0s finished\n",
      "[Parallel(n_jobs=1)]: Done  20 out of  20 | elapsed:    0.0s finished\n",
      "[Parallel(n_jobs=1)]: Done  20 out of  20 | elapsed:    0.0s finished\n",
      "[Parallel(n_jobs=1)]: Done  20 out of  20 | elapsed:    0.0s finished\n"
     ]
    },
    {
     "name": "stdout",
     "output_type": "stream",
     "text": [
      "TESTDATA_BearingRub_RampUp\n",
      "Saving Random Forest Model from rf_s0.pkl\n",
      "Saving Extra Trees Model\n",
      "Saving Random Forest Model from rf_s1.pkl\n",
      "Saving Extra Trees Model\n",
      "Saving Random Forest Model from rf_s2.pkl\n",
      "Saving Extra Trees Model\n",
      "Saving Random Forest Model from rf_s3.pkl\n",
      "Saving Extra Trees Model\n",
      "\n",
      "[ 0.   0.   0.5  0.5]\n"
     ]
    },
    {
     "name": "stderr",
     "output_type": "stream",
     "text": [
      "[Parallel(n_jobs=1)]: Done  20 out of  20 | elapsed:    0.0s finished\n",
      "[Parallel(n_jobs=1)]: Done  20 out of  20 | elapsed:    0.0s finished\n",
      "[Parallel(n_jobs=1)]: Done  20 out of  20 | elapsed:    0.0s finished\n",
      "[Parallel(n_jobs=1)]: Done  20 out of  20 | elapsed:    0.0s finished\n"
     ]
    },
    {
     "name": "stdout",
     "output_type": "stream",
     "text": [
      "TESTDATA_BearingRub_FastRoll\n",
      "Saving Random Forest Model from rf_s0.pkl\n",
      "Saving Extra Trees Model\n",
      "Saving Random Forest Model from rf_s1.pkl\n",
      "Saving Extra Trees Model\n",
      "Saving Random Forest Model from rf_s2.pkl\n",
      "Saving Extra Trees Model\n",
      "Saving Random Forest Model from rf_s3.pkl\n",
      "Saving Extra Trees Model\n",
      "\n",
      "[ 0.  0.  0.  1.]\n"
     ]
    },
    {
     "name": "stderr",
     "output_type": "stream",
     "text": [
      "[Parallel(n_jobs=1)]: Done  20 out of  20 | elapsed:    0.0s finished\n",
      "[Parallel(n_jobs=1)]: Done  20 out of  20 | elapsed:    0.0s finished\n",
      "[Parallel(n_jobs=1)]: Done  20 out of  20 | elapsed:    0.0s finished\n",
      "[Parallel(n_jobs=1)]: Done  20 out of  20 | elapsed:    0.0s finished\n"
     ]
    },
    {
     "name": "stdout",
     "output_type": "stream",
     "text": [
      "TESTDATA_BearingRub_RampDown\n",
      "Saving Random Forest Model from rf_s0.pkl\n",
      "Saving Extra Trees Model\n",
      "Saving Random Forest Model from rf_s1.pkl\n",
      "Saving Extra Trees Model\n",
      "Saving Random Forest Model from rf_s2.pkl\n",
      "Saving Extra Trees Model\n",
      "Saving Random Forest Model from rf_s3.pkl\n",
      "Saving Extra Trees Model\n"
     ]
    },
    {
     "name": "stderr",
     "output_type": "stream",
     "text": [
      "[Parallel(n_jobs=1)]: Done  20 out of  20 | elapsed:    0.0s finished\n",
      "[Parallel(n_jobs=1)]: Done  20 out of  20 | elapsed:    0.0s finished\n",
      "[Parallel(n_jobs=1)]: Done  20 out of  20 | elapsed:    0.0s finished\n",
      "[Parallel(n_jobs=1)]: Done  20 out of  20 | elapsed:    0.0s finished\n"
     ]
    },
    {
     "name": "stdout",
     "output_type": "stream",
     "text": [
      "\n",
      "[ 0.    0.05  0.35  0.6 ]\n",
      "TESTDATA_Preload_SlowRoll\n",
      "Saving Random Forest Model from rf_s0.pkl\n",
      "Saving Extra Trees Model\n",
      "Saving Random Forest Model from rf_s1.pkl\n",
      "Saving Extra Trees Model\n",
      "Saving Random Forest Model from rf_s2.pkl\n",
      "Saving Extra Trees Model\n",
      "Saving Random Forest Model from rf_s3.pkl\n",
      "Saving Extra Trees Model\n"
     ]
    },
    {
     "name": "stderr",
     "output_type": "stream",
     "text": [
      "[Parallel(n_jobs=1)]: Done  20 out of  20 | elapsed:    0.0s finished\n",
      "[Parallel(n_jobs=1)]: Done  20 out of  20 | elapsed:    0.0s finished\n",
      "[Parallel(n_jobs=1)]: Done  20 out of  20 | elapsed:    0.0s finished\n",
      "[Parallel(n_jobs=1)]: Done  20 out of  20 | elapsed:    0.0s finished\n"
     ]
    },
    {
     "name": "stdout",
     "output_type": "stream",
     "text": [
      "\n",
      "[ 0.   0.   0.9  0.1]\n",
      "TESTDATA_Preload_RampUp\n",
      "Saving Random Forest Model from rf_s0.pkl\n",
      "Saving Extra Trees Model\n",
      "Saving Random Forest Model from rf_s1.pkl\n",
      "Saving Extra Trees Model\n",
      "Saving Random Forest Model from rf_s2.pkl\n",
      "Saving Extra Trees Model\n",
      "Saving Random Forest Model from rf_s3.pkl\n",
      "Saving Extra Trees Model\n"
     ]
    },
    {
     "name": "stderr",
     "output_type": "stream",
     "text": [
      "[Parallel(n_jobs=1)]: Done  20 out of  20 | elapsed:    0.0s finished\n",
      "[Parallel(n_jobs=1)]: Done  20 out of  20 | elapsed:    0.0s finished\n",
      "[Parallel(n_jobs=1)]: Done  20 out of  20 | elapsed:    0.0s finished\n",
      "[Parallel(n_jobs=1)]: Done  20 out of  20 | elapsed:    0.0s finished\n"
     ]
    },
    {
     "name": "stdout",
     "output_type": "stream",
     "text": [
      "\n",
      "[ 0.   0.   0.7  0.3]\n",
      "TESTDATA_Preload_FastRoll\n",
      "Saving Random Forest Model from rf_s0.pkl\n",
      "Saving Extra Trees Model\n",
      "Saving Random Forest Model from rf_s1.pkl\n",
      "Saving Extra Trees Model\n",
      "Saving Random Forest Model from rf_s2.pkl\n",
      "Saving Extra Trees Model\n",
      "Saving Random Forest Model from rf_s3.pkl\n",
      "Saving Extra Trees Model\n",
      "\n"
     ]
    },
    {
     "name": "stderr",
     "output_type": "stream",
     "text": [
      "[Parallel(n_jobs=1)]: Done  20 out of  20 | elapsed:    0.0s finished\n",
      "[Parallel(n_jobs=1)]: Done  20 out of  20 | elapsed:    0.0s finished\n",
      "[Parallel(n_jobs=1)]: Done  20 out of  20 | elapsed:    0.0s finished\n",
      "[Parallel(n_jobs=1)]: Done  20 out of  20 | elapsed:    0.0s finished\n"
     ]
    },
    {
     "name": "stdout",
     "output_type": "stream",
     "text": [
      "[ 0.  0.  1.  0.]\n",
      "TESTDATA_Preload_RampDown\n",
      "Saving Random Forest Model from rf_s0.pkl\n",
      "Saving Extra Trees Model\n",
      "Saving Random Forest Model from rf_s1.pkl\n",
      "Saving Extra Trees Model\n",
      "Saving Random Forest Model from rf_s2.pkl\n",
      "Saving Extra Trees Model\n",
      "Saving Random Forest Model from rf_s3.pkl\n",
      "Saving Extra Trees Model\n",
      "\n",
      "[ 0.   0.   0.8  0.2]\n"
     ]
    },
    {
     "name": "stderr",
     "output_type": "stream",
     "text": [
      "[Parallel(n_jobs=1)]: Done  20 out of  20 | elapsed:    0.0s finished\n",
      "[Parallel(n_jobs=1)]: Done  20 out of  20 | elapsed:    0.0s finished\n",
      "[Parallel(n_jobs=1)]: Done  20 out of  20 | elapsed:    0.0s finished\n",
      "[Parallel(n_jobs=1)]: Done  20 out of  20 | elapsed:    0.0s finished\n"
     ]
    },
    {
     "name": "stdout",
     "output_type": "stream",
     "text": [
      "TESTDATA_Unbalance_SlowRoll\n",
      "Saving Random Forest Model from rf_s0.pkl\n",
      "Saving Extra Trees Model\n",
      "Saving Random Forest Model from rf_s1.pkl\n",
      "Saving Extra Trees Model\n",
      "Saving Random Forest Model from rf_s2.pkl\n",
      "Saving Extra Trees Model\n",
      "Saving Random Forest Model from rf_s3.pkl\n",
      "Saving Extra Trees Model\n",
      "\n"
     ]
    },
    {
     "name": "stderr",
     "output_type": "stream",
     "text": [
      "[Parallel(n_jobs=1)]: Done  20 out of  20 | elapsed:    0.0s finished\n",
      "[Parallel(n_jobs=1)]: Done  20 out of  20 | elapsed:    0.0s finished\n",
      "[Parallel(n_jobs=1)]: Done  20 out of  20 | elapsed:    0.0s finished\n",
      "[Parallel(n_jobs=1)]: Done  20 out of  20 | elapsed:    0.0s finished\n"
     ]
    },
    {
     "name": "stdout",
     "output_type": "stream",
     "text": [
      "[ 0.    0.15  0.6   0.25]\n",
      "TESTDATA_Unbalance_RampUp\n",
      "Saving Random Forest Model from rf_s0.pkl\n",
      "Saving Extra Trees Model\n",
      "Saving Random Forest Model from rf_s1.pkl\n",
      "Saving Extra Trees Model\n",
      "Saving Random Forest Model from rf_s2.pkl\n",
      "Saving Extra Trees Model\n",
      "Saving Random Forest Model from rf_s3.pkl\n",
      "Saving Extra Trees Model\n",
      "\n",
      "[ 0.    0.05  0.4   0.55]\n"
     ]
    },
    {
     "name": "stderr",
     "output_type": "stream",
     "text": [
      "[Parallel(n_jobs=1)]: Done  20 out of  20 | elapsed:    0.0s finished\n",
      "[Parallel(n_jobs=1)]: Done  20 out of  20 | elapsed:    0.0s finished\n",
      "[Parallel(n_jobs=1)]: Done  20 out of  20 | elapsed:    0.0s finished\n",
      "[Parallel(n_jobs=1)]: Done  20 out of  20 | elapsed:    0.0s finished\n"
     ]
    },
    {
     "name": "stdout",
     "output_type": "stream",
     "text": [
      "TESTDATA_Unbalance_FastRoll\n",
      "Saving Random Forest Model from rf_s0.pkl\n",
      "Saving Extra Trees Model\n",
      "Saving Random Forest Model from rf_s1.pkl\n",
      "Saving Extra Trees Model\n",
      "Saving Random Forest Model from rf_s2.pkl\n",
      "Saving Extra Trees Model\n",
      "Saving Random Forest Model from rf_s3.pkl\n",
      "Saving Extra Trees Model\n",
      "\n"
     ]
    },
    {
     "name": "stderr",
     "output_type": "stream",
     "text": [
      "[Parallel(n_jobs=1)]: Done  20 out of  20 | elapsed:    0.0s finished\n",
      "[Parallel(n_jobs=1)]: Done  20 out of  20 | elapsed:    0.0s finished\n",
      "[Parallel(n_jobs=1)]: Done  20 out of  20 | elapsed:    0.0s finished\n",
      "[Parallel(n_jobs=1)]: Done  20 out of  20 | elapsed:    0.0s finished\n"
     ]
    },
    {
     "name": "stdout",
     "output_type": "stream",
     "text": [
      "[ 0.    0.75  0.    0.25]\n",
      "TESTDATA_Unbalance_RampDown\n",
      "Saving Random Forest Model from rf_s0.pkl\n",
      "Saving Extra Trees Model\n",
      "Saving Random Forest Model from rf_s1.pkl\n",
      "Saving Extra Trees Model\n",
      "Saving Random Forest Model from rf_s2.pkl\n",
      "Saving Extra Trees Model\n",
      "Saving Random Forest Model from rf_s3.pkl\n",
      "Saving Extra Trees Model\n",
      "\n"
     ]
    },
    {
     "name": "stderr",
     "output_type": "stream",
     "text": [
      "[Parallel(n_jobs=1)]: Done  20 out of  20 | elapsed:    0.0s finished\n",
      "[Parallel(n_jobs=1)]: Done  20 out of  20 | elapsed:    0.0s finished\n",
      "[Parallel(n_jobs=1)]: Done  20 out of  20 | elapsed:    0.0s finished\n",
      "[Parallel(n_jobs=1)]: Done  20 out of  20 | elapsed:    0.0s finished\n"
     ]
    },
    {
     "name": "stdout",
     "output_type": "stream",
     "text": [
      "[ 0.   0.   0.5  0.5]\n",
      "TESTDATA_Normal_SlowRoll\n",
      "Saving Random Forest Model from rf_s0.pkl\n",
      "Saving Extra Trees Model\n",
      "Saving Random Forest Model from rf_s1.pkl\n",
      "Saving Extra Trees Model\n",
      "Saving Random Forest Model from rf_s2.pkl\n",
      "Saving Extra Trees Model\n",
      "Saving Random Forest Model from rf_s3.pkl\n",
      "Saving Extra Trees Model\n",
      "\n"
     ]
    },
    {
     "name": "stderr",
     "output_type": "stream",
     "text": [
      "[Parallel(n_jobs=1)]: Done  20 out of  20 | elapsed:    0.0s finished\n",
      "[Parallel(n_jobs=1)]: Done  20 out of  20 | elapsed:    0.0s finished\n",
      "[Parallel(n_jobs=1)]: Done  20 out of  20 | elapsed:    0.0s finished\n",
      "[Parallel(n_jobs=1)]: Done  20 out of  20 | elapsed:    0.0s finished\n"
     ]
    },
    {
     "name": "stdout",
     "output_type": "stream",
     "text": [
      "[ 0.    0.05  0.5   0.45]\n",
      "TESTDATA_Normal_RampUp\n",
      "Saving Random Forest Model from rf_s0.pkl\n",
      "Saving Extra Trees Model\n",
      "Saving Random Forest Model from rf_s1.pkl\n",
      "Saving Extra Trees Model\n",
      "Saving Random Forest Model from rf_s2.pkl\n",
      "Saving Extra Trees Model\n",
      "Saving Random Forest Model from rf_s3.pkl\n",
      "Saving Extra Trees Model\n",
      "\n",
      "[ 0.   0.   0.5  0.5]\n"
     ]
    },
    {
     "name": "stderr",
     "output_type": "stream",
     "text": [
      "[Parallel(n_jobs=1)]: Done  20 out of  20 | elapsed:    0.0s finished\n",
      "[Parallel(n_jobs=1)]: Done  20 out of  20 | elapsed:    0.0s finished\n",
      "[Parallel(n_jobs=1)]: Done  20 out of  20 | elapsed:    0.0s finished\n",
      "[Parallel(n_jobs=1)]: Done  20 out of  20 | elapsed:    0.0s finished\n"
     ]
    },
    {
     "name": "stdout",
     "output_type": "stream",
     "text": [
      "TESTDATA_Normal_FastRoll\n",
      "Saving Random Forest Model from rf_s0.pkl\n",
      "Saving Extra Trees Model\n",
      "Saving Random Forest Model from rf_s1.pkl\n",
      "Saving Extra Trees Model\n",
      "Saving Random Forest Model from rf_s2.pkl\n",
      "Saving Extra Trees Model\n",
      "Saving Random Forest Model from rf_s3.pkl\n",
      "Saving Extra Trees Model\n",
      "\n",
      "[ 1.  0.  0.  0.]\n"
     ]
    },
    {
     "name": "stderr",
     "output_type": "stream",
     "text": [
      "[Parallel(n_jobs=1)]: Done  20 out of  20 | elapsed:    0.0s finished\n",
      "[Parallel(n_jobs=1)]: Done  20 out of  20 | elapsed:    0.0s finished\n",
      "[Parallel(n_jobs=1)]: Done  20 out of  20 | elapsed:    0.0s finished\n",
      "[Parallel(n_jobs=1)]: Done  20 out of  20 | elapsed:    0.0s finished\n"
     ]
    },
    {
     "name": "stdout",
     "output_type": "stream",
     "text": [
      "TESTDATA_Normal_RampDown\n",
      "Saving Random Forest Model from rf_s0.pkl\n",
      "Saving Extra Trees Model\n",
      "Saving Random Forest Model from rf_s1.pkl\n",
      "Saving Extra Trees Model\n",
      "Saving Random Forest Model from rf_s2.pkl\n",
      "Saving Extra Trees Model\n",
      "Saving Random Forest Model from rf_s3.pkl\n",
      "Saving Extra Trees Model\n"
     ]
    },
    {
     "name": "stderr",
     "output_type": "stream",
     "text": [
      "[Parallel(n_jobs=1)]: Done  20 out of  20 | elapsed:    0.0s finished\n",
      "[Parallel(n_jobs=1)]: Done  20 out of  20 | elapsed:    0.0s finished\n",
      "[Parallel(n_jobs=1)]: Done  20 out of  20 | elapsed:    0.0s finished\n",
      "[Parallel(n_jobs=1)]: Done  20 out of  20 | elapsed:    0.0s finished\n"
     ]
    },
    {
     "name": "stdout",
     "output_type": "stream",
     "text": [
      "\n",
      "[ 0.    0.    0.45  0.55]\n",
      "TESTDATA_BearingRub_SlowRoll\n",
      "Saving Random Forest Model from rf_s0.pkl\n",
      "Saving Extra Trees Model\n",
      "Saving Random Forest Model from rf_s1.pkl\n",
      "Saving Extra Trees Model\n",
      "Saving Random Forest Model from rf_s2.pkl\n",
      "Saving Extra Trees Model\n",
      "Saving Random Forest Model from rf_s3.pkl\n",
      "Saving Extra Trees Model\n",
      "\n",
      "[ 0.    0.    0.45  0.55]\n"
     ]
    },
    {
     "name": "stderr",
     "output_type": "stream",
     "text": [
      "[Parallel(n_jobs=1)]: Done  20 out of  20 | elapsed:    0.0s finished\n",
      "[Parallel(n_jobs=1)]: Done  20 out of  20 | elapsed:    0.0s finished\n",
      "[Parallel(n_jobs=1)]: Done  20 out of  20 | elapsed:    0.0s finished\n",
      "[Parallel(n_jobs=1)]: Done  20 out of  20 | elapsed:    0.0s finished\n"
     ]
    },
    {
     "name": "stdout",
     "output_type": "stream",
     "text": [
      "TESTDATA_BearingRub_RampUp\n",
      "Saving Random Forest Model from rf_s0.pkl\n",
      "Saving Extra Trees Model\n",
      "Saving Random Forest Model from rf_s1.pkl\n",
      "Saving Extra Trees Model\n",
      "Saving Random Forest Model from rf_s2.pkl\n",
      "Saving Extra Trees Model\n",
      "Saving Random Forest Model from rf_s3.pkl\n",
      "Saving Extra Trees Model\n",
      "\n",
      "[ 0.   0.   0.5  0.5]\n"
     ]
    },
    {
     "name": "stderr",
     "output_type": "stream",
     "text": [
      "[Parallel(n_jobs=1)]: Done  20 out of  20 | elapsed:    0.0s finished\n",
      "[Parallel(n_jobs=1)]: Done  20 out of  20 | elapsed:    0.0s finished\n",
      "[Parallel(n_jobs=1)]: Done  20 out of  20 | elapsed:    0.0s finished\n",
      "[Parallel(n_jobs=1)]: Done  20 out of  20 | elapsed:    0.0s finished\n"
     ]
    },
    {
     "name": "stdout",
     "output_type": "stream",
     "text": [
      "TESTDATA_BearingRub_FastRoll\n",
      "Saving Random Forest Model from rf_s0.pkl\n",
      "Saving Extra Trees Model\n",
      "Saving Random Forest Model from rf_s1.pkl\n",
      "Saving Extra Trees Model\n",
      "Saving Random Forest Model from rf_s2.pkl\n",
      "Saving Extra Trees Model\n",
      "Saving Random Forest Model from rf_s3.pkl\n",
      "Saving Extra Trees Model\n",
      "\n",
      "[ 0.  0.  0.  1.]\n"
     ]
    },
    {
     "name": "stderr",
     "output_type": "stream",
     "text": [
      "[Parallel(n_jobs=1)]: Done  20 out of  20 | elapsed:    0.0s finished\n",
      "[Parallel(n_jobs=1)]: Done  20 out of  20 | elapsed:    0.0s finished\n",
      "[Parallel(n_jobs=1)]: Done  20 out of  20 | elapsed:    0.0s finished\n",
      "[Parallel(n_jobs=1)]: Done  20 out of  20 | elapsed:    0.0s finished\n"
     ]
    },
    {
     "name": "stdout",
     "output_type": "stream",
     "text": [
      "TESTDATA_BearingRub_RampDown\n",
      "Saving Random Forest Model from rf_s0.pkl\n",
      "Saving Extra Trees Model\n",
      "Saving Random Forest Model from rf_s1.pkl\n",
      "Saving Extra Trees Model\n",
      "Saving Random Forest Model from rf_s2.pkl\n",
      "Saving Extra Trees Model\n",
      "Saving Random Forest Model from rf_s3.pkl\n",
      "Saving Extra Trees Model\n",
      "\n",
      "[ 0.    0.05  0.35  0.6 ]\n"
     ]
    },
    {
     "name": "stderr",
     "output_type": "stream",
     "text": [
      "[Parallel(n_jobs=1)]: Done  20 out of  20 | elapsed:    0.0s finished\n",
      "[Parallel(n_jobs=1)]: Done  20 out of  20 | elapsed:    0.0s finished\n",
      "[Parallel(n_jobs=1)]: Done  20 out of  20 | elapsed:    0.0s finished\n",
      "[Parallel(n_jobs=1)]: Done  20 out of  20 | elapsed:    0.0s finished\n"
     ]
    },
    {
     "name": "stdout",
     "output_type": "stream",
     "text": [
      "TESTDATA_Preload_SlowRoll\n",
      "Saving Random Forest Model from rf_s0.pkl\n",
      "Saving Extra Trees Model\n",
      "Saving Random Forest Model from rf_s1.pkl\n",
      "Saving Extra Trees Model\n",
      "Saving Random Forest Model from rf_s2.pkl\n",
      "Saving Extra Trees Model\n",
      "Saving Random Forest Model from rf_s3.pkl\n",
      "Saving Extra Trees Model\n",
      "\n",
      "[ 0.   0.   0.9  0.1]\n"
     ]
    },
    {
     "name": "stderr",
     "output_type": "stream",
     "text": [
      "[Parallel(n_jobs=1)]: Done  20 out of  20 | elapsed:    0.0s finished\n",
      "[Parallel(n_jobs=1)]: Done  20 out of  20 | elapsed:    0.0s finished\n",
      "[Parallel(n_jobs=1)]: Done  20 out of  20 | elapsed:    0.0s finished\n",
      "[Parallel(n_jobs=1)]: Done  20 out of  20 | elapsed:    0.0s finished\n"
     ]
    },
    {
     "name": "stdout",
     "output_type": "stream",
     "text": [
      "TESTDATA_Preload_RampUp\n",
      "Saving Random Forest Model from rf_s0.pkl\n",
      "Saving Extra Trees Model\n",
      "Saving Random Forest Model from rf_s1.pkl\n",
      "Saving Extra Trees Model\n",
      "Saving Random Forest Model from rf_s2.pkl\n",
      "Saving Extra Trees Model\n",
      "Saving Random Forest Model from rf_s3.pkl\n",
      "Saving Extra Trees Model\n",
      "\n",
      "[ 0.   0.   0.7  0.3]\n"
     ]
    },
    {
     "name": "stderr",
     "output_type": "stream",
     "text": [
      "[Parallel(n_jobs=1)]: Done  20 out of  20 | elapsed:    0.0s finished\n",
      "[Parallel(n_jobs=1)]: Done  20 out of  20 | elapsed:    0.0s finished\n",
      "[Parallel(n_jobs=1)]: Done  20 out of  20 | elapsed:    0.0s finished\n",
      "[Parallel(n_jobs=1)]: Done  20 out of  20 | elapsed:    0.0s finished\n"
     ]
    },
    {
     "name": "stdout",
     "output_type": "stream",
     "text": [
      "TESTDATA_Preload_FastRoll\n",
      "Saving Random Forest Model from rf_s0.pkl\n",
      "Saving Extra Trees Model\n",
      "Saving Random Forest Model from rf_s1.pkl\n",
      "Saving Extra Trees Model\n",
      "Saving Random Forest Model from rf_s2.pkl\n",
      "Saving Extra Trees Model\n",
      "Saving Random Forest Model from rf_s3.pkl\n",
      "Saving Extra Trees Model\n",
      "\n"
     ]
    },
    {
     "name": "stderr",
     "output_type": "stream",
     "text": [
      "[Parallel(n_jobs=1)]: Done  20 out of  20 | elapsed:    0.0s finished\n",
      "[Parallel(n_jobs=1)]: Done  20 out of  20 | elapsed:    0.0s finished\n",
      "[Parallel(n_jobs=1)]: Done  20 out of  20 | elapsed:    0.0s finished\n",
      "[Parallel(n_jobs=1)]: Done  20 out of  20 | elapsed:    0.0s finished\n"
     ]
    },
    {
     "name": "stdout",
     "output_type": "stream",
     "text": [
      "[ 0.  0.  1.  0.]\n",
      "TESTDATA_Preload_RampDown\n",
      "Saving Random Forest Model from rf_s0.pkl\n",
      "Saving Extra Trees Model\n",
      "Saving Random Forest Model from rf_s1.pkl\n",
      "Saving Extra Trees Model\n",
      "Saving Random Forest Model from rf_s2.pkl\n",
      "Saving Extra Trees Model\n",
      "Saving Random Forest Model from rf_s3.pkl\n",
      "Saving Extra Trees Model\n",
      "\n",
      "[ 0.   0.   0.8  0.2]\n"
     ]
    },
    {
     "name": "stderr",
     "output_type": "stream",
     "text": [
      "[Parallel(n_jobs=1)]: Done  20 out of  20 | elapsed:    0.0s finished\n",
      "[Parallel(n_jobs=1)]: Done  20 out of  20 | elapsed:    0.0s finished\n",
      "[Parallel(n_jobs=1)]: Done  20 out of  20 | elapsed:    0.0s finished\n",
      "[Parallel(n_jobs=1)]: Done  20 out of  20 | elapsed:    0.0s finished\n"
     ]
    },
    {
     "name": "stdout",
     "output_type": "stream",
     "text": [
      "TESTDATA_Unbalance_SlowRoll\n",
      "Saving Random Forest Model from rf_s0.pkl\n",
      "Saving Extra Trees Model\n",
      "Saving Random Forest Model from rf_s1.pkl\n",
      "Saving Extra Trees Model\n",
      "Saving Random Forest Model from rf_s2.pkl\n",
      "Saving Extra Trees Model\n",
      "Saving Random Forest Model from rf_s3.pkl\n",
      "Saving Extra Trees Model\n",
      "\n",
      "[ 0.    0.15  0.6   0.25]\n"
     ]
    },
    {
     "name": "stderr",
     "output_type": "stream",
     "text": [
      "[Parallel(n_jobs=1)]: Done  20 out of  20 | elapsed:    0.0s finished\n",
      "[Parallel(n_jobs=1)]: Done  20 out of  20 | elapsed:    0.0s finished\n",
      "[Parallel(n_jobs=1)]: Done  20 out of  20 | elapsed:    0.0s finished\n",
      "[Parallel(n_jobs=1)]: Done  20 out of  20 | elapsed:    0.0s finished\n"
     ]
    },
    {
     "name": "stdout",
     "output_type": "stream",
     "text": [
      "TESTDATA_Unbalance_RampUp\n",
      "Saving Random Forest Model from rf_s0.pkl\n",
      "Saving Extra Trees Model\n",
      "Saving Random Forest Model from rf_s1.pkl\n",
      "Saving Extra Trees Model\n",
      "Saving Random Forest Model from rf_s2.pkl\n",
      "Saving Extra Trees Model\n",
      "Saving Random Forest Model from rf_s3.pkl\n",
      "Saving Extra Trees Model\n",
      "\n",
      "[ 0.    0.05  0.4   0.55]\n"
     ]
    },
    {
     "name": "stderr",
     "output_type": "stream",
     "text": [
      "[Parallel(n_jobs=1)]: Done  20 out of  20 | elapsed:    0.0s finished\n",
      "[Parallel(n_jobs=1)]: Done  20 out of  20 | elapsed:    0.0s finished\n",
      "[Parallel(n_jobs=1)]: Done  20 out of  20 | elapsed:    0.0s finished\n",
      "[Parallel(n_jobs=1)]: Done  20 out of  20 | elapsed:    0.0s finished\n"
     ]
    },
    {
     "name": "stdout",
     "output_type": "stream",
     "text": [
      "TESTDATA_Unbalance_FastRoll\n",
      "Saving Random Forest Model from rf_s0.pkl\n",
      "Saving Extra Trees Model\n",
      "Saving Random Forest Model from rf_s1.pkl\n",
      "Saving Extra Trees Model\n",
      "Saving Random Forest Model from rf_s2.pkl\n",
      "Saving Extra Trees Model\n",
      "Saving Random Forest Model from rf_s3.pkl\n",
      "Saving Extra Trees Model\n",
      "\n",
      "[ 0.    0.75  0.    0.25]\n"
     ]
    },
    {
     "name": "stderr",
     "output_type": "stream",
     "text": [
      "[Parallel(n_jobs=1)]: Done  20 out of  20 | elapsed:    0.0s finished\n",
      "[Parallel(n_jobs=1)]: Done  20 out of  20 | elapsed:    0.0s finished\n",
      "[Parallel(n_jobs=1)]: Done  20 out of  20 | elapsed:    0.0s finished\n",
      "[Parallel(n_jobs=1)]: Done  20 out of  20 | elapsed:    0.0s finished\n"
     ]
    },
    {
     "name": "stdout",
     "output_type": "stream",
     "text": [
      "TESTDATA_Unbalance_RampDown\n",
      "Saving Random Forest Model from rf_s0.pkl\n",
      "Saving Extra Trees Model\n",
      "Saving Random Forest Model from rf_s1.pkl\n",
      "Saving Extra Trees Model\n",
      "Saving Random Forest Model from rf_s2.pkl\n",
      "Saving Extra Trees Model\n",
      "Saving Random Forest Model from rf_s3.pkl\n",
      "Saving Extra Trees Model\n",
      "\n"
     ]
    },
    {
     "name": "stderr",
     "output_type": "stream",
     "text": [
      "[Parallel(n_jobs=1)]: Done  20 out of  20 | elapsed:    0.0s finished\n",
      "[Parallel(n_jobs=1)]: Done  20 out of  20 | elapsed:    0.0s finished\n",
      "[Parallel(n_jobs=1)]: Done  20 out of  20 | elapsed:    0.0s finished\n",
      "[Parallel(n_jobs=1)]: Done  20 out of  20 | elapsed:    0.0s finished\n"
     ]
    },
    {
     "name": "stdout",
     "output_type": "stream",
     "text": [
      "[ 0.   0.   0.5  0.5]\n",
      "TESTDATA_Normal_SlowRoll\n",
      "Saving Random Forest Model from rf_s0.pkl\n",
      "Saving Extra Trees Model\n",
      "Saving Random Forest Model from rf_s1.pkl\n",
      "Saving Extra Trees Model\n",
      "Saving Random Forest Model from rf_s2.pkl\n",
      "Saving Extra Trees Model\n",
      "Saving Random Forest Model from rf_s3.pkl\n",
      "Saving Extra Trees Model\n",
      "\n"
     ]
    },
    {
     "name": "stderr",
     "output_type": "stream",
     "text": [
      "[Parallel(n_jobs=1)]: Done  20 out of  20 | elapsed:    0.0s finished\n",
      "[Parallel(n_jobs=1)]: Done  20 out of  20 | elapsed:    0.0s finished\n",
      "[Parallel(n_jobs=1)]: Done  20 out of  20 | elapsed:    0.0s finished\n",
      "[Parallel(n_jobs=1)]: Done  20 out of  20 | elapsed:    0.0s finished\n"
     ]
    },
    {
     "name": "stdout",
     "output_type": "stream",
     "text": [
      "[ 0.    0.05  0.5   0.45]\n",
      "TESTDATA_Normal_RampUp\n",
      "Saving Random Forest Model from rf_s0.pkl\n",
      "Saving Extra Trees Model\n",
      "Saving Random Forest Model from rf_s1.pkl\n",
      "Saving Extra Trees Model\n",
      "Saving Random Forest Model from rf_s2.pkl\n",
      "Saving Extra Trees Model\n",
      "Saving Random Forest Model from rf_s3.pkl\n",
      "Saving Extra Trees Model\n",
      "\n",
      "[ 0.   0.   0.5  0.5]\n"
     ]
    },
    {
     "name": "stderr",
     "output_type": "stream",
     "text": [
      "[Parallel(n_jobs=1)]: Done  20 out of  20 | elapsed:    0.0s finished\n",
      "[Parallel(n_jobs=1)]: Done  20 out of  20 | elapsed:    0.0s finished\n",
      "[Parallel(n_jobs=1)]: Done  20 out of  20 | elapsed:    0.0s finished\n",
      "[Parallel(n_jobs=1)]: Done  20 out of  20 | elapsed:    0.0s finished\n"
     ]
    },
    {
     "name": "stdout",
     "output_type": "stream",
     "text": [
      "TESTDATA_Normal_FastRoll\n",
      "Saving Random Forest Model from rf_s0.pkl\n",
      "Saving Extra Trees Model\n",
      "Saving Random Forest Model from rf_s1.pkl\n",
      "Saving Extra Trees Model\n",
      "Saving Random Forest Model from rf_s2.pkl\n",
      "Saving Extra Trees Model\n",
      "Saving Random Forest Model from rf_s3.pkl\n",
      "Saving Extra Trees Model\n",
      "\n",
      "[ 1.  0.  0.  0.]\n"
     ]
    },
    {
     "name": "stderr",
     "output_type": "stream",
     "text": [
      "[Parallel(n_jobs=1)]: Done  20 out of  20 | elapsed:    0.0s finished\n",
      "[Parallel(n_jobs=1)]: Done  20 out of  20 | elapsed:    0.0s finished\n",
      "[Parallel(n_jobs=1)]: Done  20 out of  20 | elapsed:    0.0s finished\n",
      "[Parallel(n_jobs=1)]: Done  20 out of  20 | elapsed:    0.0s finished\n"
     ]
    },
    {
     "name": "stdout",
     "output_type": "stream",
     "text": [
      "TESTDATA_Normal_RampDown\n",
      "Saving Random Forest Model from rf_s0.pkl\n",
      "Saving Extra Trees Model\n",
      "Saving Random Forest Model from rf_s1.pkl\n",
      "Saving Extra Trees Model\n",
      "Saving Random Forest Model from rf_s2.pkl\n",
      "Saving Extra Trees Model\n",
      "Saving Random Forest Model from rf_s3.pkl\n",
      "Saving Extra Trees Model\n",
      "\n",
      "[ 0.    0.    0.45  0.55]\n"
     ]
    },
    {
     "name": "stderr",
     "output_type": "stream",
     "text": [
      "[Parallel(n_jobs=1)]: Done  20 out of  20 | elapsed:    0.0s finished\n",
      "[Parallel(n_jobs=1)]: Done  20 out of  20 | elapsed:    0.0s finished\n",
      "[Parallel(n_jobs=1)]: Done  20 out of  20 | elapsed:    0.0s finished\n",
      "[Parallel(n_jobs=1)]: Done  20 out of  20 | elapsed:    0.0s finished\n"
     ]
    },
    {
     "name": "stdout",
     "output_type": "stream",
     "text": [
      "TESTDATA_BearingRub_SlowRoll\n",
      "Saving Random Forest Model from rf_s0.pkl\n",
      "Saving Extra Trees Model\n",
      "Saving Random Forest Model from rf_s1.pkl\n",
      "Saving Extra Trees Model\n",
      "Saving Random Forest Model from rf_s2.pkl\n",
      "Saving Extra Trees Model\n",
      "Saving Random Forest Model from rf_s3.pkl\n",
      "Saving Extra Trees Model\n",
      "\n",
      "[ 0.    0.    0.45  0.55]\n"
     ]
    },
    {
     "name": "stderr",
     "output_type": "stream",
     "text": [
      "[Parallel(n_jobs=1)]: Done  20 out of  20 | elapsed:    0.0s finished\n",
      "[Parallel(n_jobs=1)]: Done  20 out of  20 | elapsed:    0.0s finished\n",
      "[Parallel(n_jobs=1)]: Done  20 out of  20 | elapsed:    0.0s finished\n",
      "[Parallel(n_jobs=1)]: Done  20 out of  20 | elapsed:    0.0s finished\n"
     ]
    },
    {
     "name": "stdout",
     "output_type": "stream",
     "text": [
      "TESTDATA_BearingRub_RampUp\n",
      "Saving Random Forest Model from rf_s0.pkl\n",
      "Saving Extra Trees Model\n",
      "Saving Random Forest Model from rf_s1.pkl\n",
      "Saving Extra Trees Model\n",
      "Saving Random Forest Model from rf_s2.pkl\n",
      "Saving Extra Trees Model\n",
      "Saving Random Forest Model from rf_s3.pkl\n",
      "Saving Extra Trees Model\n",
      "\n",
      "[ 0.   0.   0.5  0.5]\n"
     ]
    },
    {
     "name": "stderr",
     "output_type": "stream",
     "text": [
      "[Parallel(n_jobs=1)]: Done  20 out of  20 | elapsed:    0.0s finished\n",
      "[Parallel(n_jobs=1)]: Done  20 out of  20 | elapsed:    0.0s finished\n",
      "[Parallel(n_jobs=1)]: Done  20 out of  20 | elapsed:    0.0s finished\n",
      "[Parallel(n_jobs=1)]: Done  20 out of  20 | elapsed:    0.0s finished\n"
     ]
    },
    {
     "name": "stdout",
     "output_type": "stream",
     "text": [
      "TESTDATA_BearingRub_FastRoll\n",
      "Saving Random Forest Model from rf_s0.pkl\n",
      "Saving Extra Trees Model\n",
      "Saving Random Forest Model from rf_s1.pkl\n",
      "Saving Extra Trees Model\n",
      "Saving Random Forest Model from rf_s2.pkl\n",
      "Saving Extra Trees Model\n",
      "Saving Random Forest Model from rf_s3.pkl\n",
      "Saving Extra Trees Model\n",
      "\n"
     ]
    },
    {
     "name": "stderr",
     "output_type": "stream",
     "text": [
      "[Parallel(n_jobs=1)]: Done  20 out of  20 | elapsed:    0.0s finished\n",
      "[Parallel(n_jobs=1)]: Done  20 out of  20 | elapsed:    0.0s finished\n",
      "[Parallel(n_jobs=1)]: Done  20 out of  20 | elapsed:    0.0s finished\n",
      "[Parallel(n_jobs=1)]: Done  20 out of  20 | elapsed:    0.0s finished\n"
     ]
    },
    {
     "name": "stdout",
     "output_type": "stream",
     "text": [
      "[ 0.  0.  0.  1.]\n",
      "TESTDATA_BearingRub_RampDown\n",
      "Saving Random Forest Model from rf_s0.pkl\n",
      "Saving Extra Trees Model\n",
      "Saving Random Forest Model from rf_s1.pkl\n",
      "Saving Extra Trees Model\n",
      "Saving Random Forest Model from rf_s2.pkl\n",
      "Saving Extra Trees Model\n",
      "Saving Random Forest Model from rf_s3.pkl\n",
      "Saving Extra Trees Model\n",
      "\n",
      "[ 0.    0.05  0.35  0.6 ]\n"
     ]
    },
    {
     "name": "stderr",
     "output_type": "stream",
     "text": [
      "[Parallel(n_jobs=1)]: Done  20 out of  20 | elapsed:    0.0s finished\n",
      "[Parallel(n_jobs=1)]: Done  20 out of  20 | elapsed:    0.0s finished\n",
      "[Parallel(n_jobs=1)]: Done  20 out of  20 | elapsed:    0.0s finished\n",
      "[Parallel(n_jobs=1)]: Done  20 out of  20 | elapsed:    0.0s finished\n"
     ]
    },
    {
     "name": "stdout",
     "output_type": "stream",
     "text": [
      "TESTDATA_Preload_SlowRoll\n",
      "Saving Random Forest Model from rf_s0.pkl\n",
      "Saving Extra Trees Model\n",
      "Saving Random Forest Model from rf_s1.pkl\n",
      "Saving Extra Trees Model\n",
      "Saving Random Forest Model from rf_s2.pkl\n",
      "Saving Extra Trees Model\n",
      "Saving Random Forest Model from rf_s3.pkl\n",
      "Saving Extra Trees Model\n",
      "\n"
     ]
    },
    {
     "name": "stderr",
     "output_type": "stream",
     "text": [
      "[Parallel(n_jobs=1)]: Done  20 out of  20 | elapsed:    0.0s finished\n",
      "[Parallel(n_jobs=1)]: Done  20 out of  20 | elapsed:    0.0s finished\n",
      "[Parallel(n_jobs=1)]: Done  20 out of  20 | elapsed:    0.0s finished\n",
      "[Parallel(n_jobs=1)]: Done  20 out of  20 | elapsed:    0.0s finished\n"
     ]
    },
    {
     "name": "stdout",
     "output_type": "stream",
     "text": [
      "[ 0.   0.   0.9  0.1]\n",
      "TESTDATA_Preload_RampUp\n",
      "Saving Random Forest Model from rf_s0.pkl\n",
      "Saving Extra Trees Model\n",
      "Saving Random Forest Model from rf_s1.pkl\n",
      "Saving Extra Trees Model\n",
      "Saving Random Forest Model from rf_s2.pkl\n",
      "Saving Extra Trees Model\n",
      "Saving Random Forest Model from rf_s3.pkl\n",
      "Saving Extra Trees Model\n",
      "\n",
      "[ 0.   0.   0.7  0.3]\n"
     ]
    },
    {
     "name": "stderr",
     "output_type": "stream",
     "text": [
      "[Parallel(n_jobs=1)]: Done  20 out of  20 | elapsed:    0.0s finished\n",
      "[Parallel(n_jobs=1)]: Done  20 out of  20 | elapsed:    0.0s finished\n",
      "[Parallel(n_jobs=1)]: Done  20 out of  20 | elapsed:    0.0s finished\n",
      "[Parallel(n_jobs=1)]: Done  20 out of  20 | elapsed:    0.0s finished\n"
     ]
    },
    {
     "name": "stdout",
     "output_type": "stream",
     "text": [
      "TESTDATA_Preload_FastRoll\n",
      "Saving Random Forest Model from rf_s0.pkl\n",
      "Saving Extra Trees Model\n",
      "Saving Random Forest Model from rf_s1.pkl\n",
      "Saving Extra Trees Model\n",
      "Saving Random Forest Model from rf_s2.pkl\n",
      "Saving Extra Trees Model\n",
      "Saving Random Forest Model from rf_s3.pkl\n",
      "Saving Extra Trees Model\n",
      "\n",
      "[ 0.  0.  1.  0.]\n"
     ]
    },
    {
     "name": "stderr",
     "output_type": "stream",
     "text": [
      "[Parallel(n_jobs=1)]: Done  20 out of  20 | elapsed:    0.0s finished\n",
      "[Parallel(n_jobs=1)]: Done  20 out of  20 | elapsed:    0.0s finished\n",
      "[Parallel(n_jobs=1)]: Done  20 out of  20 | elapsed:    0.0s finished\n",
      "[Parallel(n_jobs=1)]: Done  20 out of  20 | elapsed:    0.0s finished\n"
     ]
    },
    {
     "name": "stdout",
     "output_type": "stream",
     "text": [
      "TESTDATA_Preload_RampDown\n",
      "Saving Random Forest Model from rf_s0.pkl\n",
      "Saving Extra Trees Model\n",
      "Saving Random Forest Model from rf_s1.pkl\n",
      "Saving Extra Trees Model\n",
      "Saving Random Forest Model from rf_s2.pkl\n",
      "Saving Extra Trees Model\n",
      "Saving Random Forest Model from rf_s3.pkl\n",
      "Saving Extra Trees Model\n",
      "\n",
      "[ 0.   0.   0.8  0.2]\n"
     ]
    },
    {
     "name": "stderr",
     "output_type": "stream",
     "text": [
      "[Parallel(n_jobs=1)]: Done  20 out of  20 | elapsed:    0.0s finished\n",
      "[Parallel(n_jobs=1)]: Done  20 out of  20 | elapsed:    0.0s finished\n",
      "[Parallel(n_jobs=1)]: Done  20 out of  20 | elapsed:    0.0s finished\n",
      "[Parallel(n_jobs=1)]: Done  20 out of  20 | elapsed:    0.0s finished\n"
     ]
    },
    {
     "name": "stdout",
     "output_type": "stream",
     "text": [
      "TESTDATA_Unbalance_SlowRoll\n",
      "Saving Random Forest Model from rf_s0.pkl\n",
      "Saving Extra Trees Model\n",
      "Saving Random Forest Model from rf_s1.pkl\n",
      "Saving Extra Trees Model\n",
      "Saving Random Forest Model from rf_s2.pkl\n",
      "Saving Extra Trees Model\n",
      "Saving Random Forest Model from rf_s3.pkl\n",
      "Saving Extra Trees Model\n",
      "\n",
      "[ 0.    0.15  0.6   0.25]\n"
     ]
    },
    {
     "name": "stderr",
     "output_type": "stream",
     "text": [
      "[Parallel(n_jobs=1)]: Done  20 out of  20 | elapsed:    0.0s finished\n",
      "[Parallel(n_jobs=1)]: Done  20 out of  20 | elapsed:    0.0s finished\n",
      "[Parallel(n_jobs=1)]: Done  20 out of  20 | elapsed:    0.0s finished\n",
      "[Parallel(n_jobs=1)]: Done  20 out of  20 | elapsed:    0.0s finished\n"
     ]
    },
    {
     "name": "stdout",
     "output_type": "stream",
     "text": [
      "TESTDATA_Unbalance_RampUp\n",
      "Saving Random Forest Model from rf_s0.pkl\n",
      "Saving Extra Trees Model\n",
      "Saving Random Forest Model from rf_s1.pkl\n",
      "Saving Extra Trees Model\n",
      "Saving Random Forest Model from rf_s2.pkl\n",
      "Saving Extra Trees Model\n",
      "Saving Random Forest Model from rf_s3.pkl\n",
      "Saving Extra Trees Model\n",
      "\n"
     ]
    },
    {
     "name": "stderr",
     "output_type": "stream",
     "text": [
      "[Parallel(n_jobs=1)]: Done  20 out of  20 | elapsed:    0.0s finished\n",
      "[Parallel(n_jobs=1)]: Done  20 out of  20 | elapsed:    0.0s finished\n",
      "[Parallel(n_jobs=1)]: Done  20 out of  20 | elapsed:    0.0s finished\n",
      "[Parallel(n_jobs=1)]: Done  20 out of  20 | elapsed:    0.0s finished\n"
     ]
    },
    {
     "name": "stdout",
     "output_type": "stream",
     "text": [
      "[ 0.    0.05  0.4   0.55]\n",
      "TESTDATA_Unbalance_FastRoll\n",
      "Saving Random Forest Model from rf_s0.pkl\n",
      "Saving Extra Trees Model\n",
      "Saving Random Forest Model from rf_s1.pkl\n",
      "Saving Extra Trees Model\n",
      "Saving Random Forest Model from rf_s2.pkl\n",
      "Saving Extra Trees Model\n",
      "Saving Random Forest Model from rf_s3.pkl\n",
      "Saving Extra Trees Model\n",
      "\n",
      "[ 0.    0.75  0.    0.25]\n"
     ]
    },
    {
     "name": "stderr",
     "output_type": "stream",
     "text": [
      "[Parallel(n_jobs=1)]: Done  20 out of  20 | elapsed:    0.0s finished\n",
      "[Parallel(n_jobs=1)]: Done  20 out of  20 | elapsed:    0.0s finished\n",
      "[Parallel(n_jobs=1)]: Done  20 out of  20 | elapsed:    0.0s finished\n",
      "[Parallel(n_jobs=1)]: Done  20 out of  20 | elapsed:    0.0s finished\n"
     ]
    },
    {
     "name": "stdout",
     "output_type": "stream",
     "text": [
      "TESTDATA_Unbalance_RampDown\n",
      "Saving Random Forest Model from rf_s0.pkl\n",
      "Saving Extra Trees Model\n",
      "Saving Random Forest Model from rf_s1.pkl\n",
      "Saving Extra Trees Model\n",
      "Saving Random Forest Model from rf_s2.pkl\n",
      "Saving Extra Trees Model\n",
      "Saving Random Forest Model from rf_s3.pkl\n",
      "Saving Extra Trees Model\n",
      "\n"
     ]
    },
    {
     "name": "stderr",
     "output_type": "stream",
     "text": [
      "[Parallel(n_jobs=1)]: Done  20 out of  20 | elapsed:    0.0s finished\n",
      "[Parallel(n_jobs=1)]: Done  20 out of  20 | elapsed:    0.0s finished\n",
      "[Parallel(n_jobs=1)]: Done  20 out of  20 | elapsed:    0.0s finished\n",
      "[Parallel(n_jobs=1)]: Done  20 out of  20 | elapsed:    0.0s finished\n"
     ]
    },
    {
     "name": "stdout",
     "output_type": "stream",
     "text": [
      "[ 0.   0.   0.5  0.5]\n",
      "TESTDATA_Normal_SlowRoll\n",
      "Saving Random Forest Model from rf_s0.pkl\n",
      "Saving Extra Trees Model\n",
      "Saving Random Forest Model from rf_s1.pkl\n",
      "Saving Extra Trees Model\n",
      "Saving Random Forest Model from rf_s2.pkl\n",
      "Saving Extra Trees Model\n",
      "Saving Random Forest Model from rf_s3.pkl\n",
      "Saving Extra Trees Model\n",
      "\n",
      "[ 0.    0.05  0.5   0.45]\n"
     ]
    },
    {
     "name": "stderr",
     "output_type": "stream",
     "text": [
      "[Parallel(n_jobs=1)]: Done  20 out of  20 | elapsed:    0.0s finished\n",
      "[Parallel(n_jobs=1)]: Done  20 out of  20 | elapsed:    0.0s finished\n",
      "[Parallel(n_jobs=1)]: Done  20 out of  20 | elapsed:    0.0s finished\n",
      "[Parallel(n_jobs=1)]: Done  20 out of  20 | elapsed:    0.0s finished\n"
     ]
    },
    {
     "name": "stdout",
     "output_type": "stream",
     "text": [
      "TESTDATA_Normal_RampUp\n",
      "Saving Random Forest Model from rf_s0.pkl\n",
      "Saving Extra Trees Model\n",
      "Saving Random Forest Model from rf_s1.pkl\n",
      "Saving Extra Trees Model\n",
      "Saving Random Forest Model from rf_s2.pkl\n",
      "Saving Extra Trees Model\n",
      "Saving Random Forest Model from rf_s3.pkl\n",
      "Saving Extra Trees Model\n"
     ]
    },
    {
     "name": "stderr",
     "output_type": "stream",
     "text": [
      "[Parallel(n_jobs=1)]: Done  20 out of  20 | elapsed:    0.0s finished\n",
      "[Parallel(n_jobs=1)]: Done  20 out of  20 | elapsed:    0.0s finished\n",
      "[Parallel(n_jobs=1)]: Done  20 out of  20 | elapsed:    0.0s finished\n",
      "[Parallel(n_jobs=1)]: Done  20 out of  20 | elapsed:    0.0s finished\n"
     ]
    },
    {
     "name": "stdout",
     "output_type": "stream",
     "text": [
      "\n",
      "[ 0.   0.   0.5  0.5]\n",
      "TESTDATA_Normal_FastRoll\n",
      "Saving Random Forest Model from rf_s0.pkl\n",
      "Saving Extra Trees Model\n",
      "Saving Random Forest Model from rf_s1.pkl\n",
      "Saving Extra Trees Model\n",
      "Saving Random Forest Model from rf_s2.pkl\n",
      "Saving Extra Trees Model\n",
      "Saving Random Forest Model from rf_s3.pkl\n",
      "Saving Extra Trees Model\n",
      "\n",
      "[ 1.  0.  0.  0.]\n"
     ]
    },
    {
     "name": "stderr",
     "output_type": "stream",
     "text": [
      "[Parallel(n_jobs=1)]: Done  20 out of  20 | elapsed:    0.0s finished\n",
      "[Parallel(n_jobs=1)]: Done  20 out of  20 | elapsed:    0.0s finished\n",
      "[Parallel(n_jobs=1)]: Done  20 out of  20 | elapsed:    0.0s finished\n",
      "[Parallel(n_jobs=1)]: Done  20 out of  20 | elapsed:    0.0s finished\n"
     ]
    },
    {
     "name": "stdout",
     "output_type": "stream",
     "text": [
      "TESTDATA_Normal_RampDown\n",
      "Saving Random Forest Model from rf_s0.pkl\n",
      "Saving Extra Trees Model\n",
      "Saving Random Forest Model from rf_s1.pkl\n",
      "Saving Extra Trees Model\n",
      "Saving Random Forest Model from rf_s2.pkl\n",
      "Saving Extra Trees Model\n",
      "Saving Random Forest Model from rf_s3.pkl\n",
      "Saving Extra Trees Model\n",
      "\n",
      "[ 0.    0.    0.45  0.55]\n"
     ]
    },
    {
     "name": "stderr",
     "output_type": "stream",
     "text": [
      "[Parallel(n_jobs=1)]: Done  20 out of  20 | elapsed:    0.0s finished\n",
      "[Parallel(n_jobs=1)]: Done  20 out of  20 | elapsed:    0.0s finished\n",
      "[Parallel(n_jobs=1)]: Done  20 out of  20 | elapsed:    0.0s finished\n",
      "[Parallel(n_jobs=1)]: Done  20 out of  20 | elapsed:    0.0s finished\n"
     ]
    },
    {
     "name": "stdout",
     "output_type": "stream",
     "text": [
      "TESTDATA_BearingRub_SlowRoll\n",
      "Saving Random Forest Model from rf_s0.pkl\n",
      "Saving Extra Trees Model\n",
      "Saving Random Forest Model from rf_s1.pkl\n",
      "Saving Extra Trees Model\n",
      "Saving Random Forest Model from rf_s2.pkl\n",
      "Saving Extra Trees Model\n",
      "Saving Random Forest Model from rf_s3.pkl\n",
      "Saving Extra Trees Model\n",
      "\n",
      "[ 0.    0.    0.45  0.55]\n"
     ]
    },
    {
     "name": "stderr",
     "output_type": "stream",
     "text": [
      "[Parallel(n_jobs=1)]: Done  20 out of  20 | elapsed:    0.0s finished\n",
      "[Parallel(n_jobs=1)]: Done  20 out of  20 | elapsed:    0.0s finished\n",
      "[Parallel(n_jobs=1)]: Done  20 out of  20 | elapsed:    0.0s finished\n",
      "[Parallel(n_jobs=1)]: Done  20 out of  20 | elapsed:    0.0s finished\n"
     ]
    },
    {
     "name": "stdout",
     "output_type": "stream",
     "text": [
      "TESTDATA_BearingRub_RampUp\n",
      "Saving Random Forest Model from rf_s0.pkl\n",
      "Saving Extra Trees Model\n",
      "Saving Random Forest Model from rf_s1.pkl\n",
      "Saving Extra Trees Model\n",
      "Saving Random Forest Model from rf_s2.pkl\n",
      "Saving Extra Trees Model\n",
      "Saving Random Forest Model from rf_s3.pkl\n",
      "Saving Extra Trees Model\n",
      "\n",
      "[ 0.   0.   0.5  0.5]\n"
     ]
    },
    {
     "name": "stderr",
     "output_type": "stream",
     "text": [
      "[Parallel(n_jobs=1)]: Done  20 out of  20 | elapsed:    0.0s finished\n",
      "[Parallel(n_jobs=1)]: Done  20 out of  20 | elapsed:    0.0s finished\n",
      "[Parallel(n_jobs=1)]: Done  20 out of  20 | elapsed:    0.0s finished\n",
      "[Parallel(n_jobs=1)]: Done  20 out of  20 | elapsed:    0.0s finished\n"
     ]
    },
    {
     "name": "stdout",
     "output_type": "stream",
     "text": [
      "TESTDATA_BearingRub_FastRoll\n",
      "Saving Random Forest Model from rf_s0.pkl\n",
      "Saving Extra Trees Model\n",
      "Saving Random Forest Model from rf_s1.pkl\n",
      "Saving Extra Trees Model\n",
      "Saving Random Forest Model from rf_s2.pkl\n",
      "Saving Extra Trees Model\n",
      "Saving Random Forest Model from rf_s3.pkl\n",
      "Saving Extra Trees Model\n",
      "\n",
      "[ 0.  0.  0.  1.]\n"
     ]
    },
    {
     "name": "stderr",
     "output_type": "stream",
     "text": [
      "[Parallel(n_jobs=1)]: Done  20 out of  20 | elapsed:    0.0s finished\n",
      "[Parallel(n_jobs=1)]: Done  20 out of  20 | elapsed:    0.0s finished\n",
      "[Parallel(n_jobs=1)]: Done  20 out of  20 | elapsed:    0.0s finished\n",
      "[Parallel(n_jobs=1)]: Done  20 out of  20 | elapsed:    0.0s finished\n"
     ]
    },
    {
     "name": "stdout",
     "output_type": "stream",
     "text": [
      "TESTDATA_BearingRub_RampDown\n",
      "Saving Random Forest Model from rf_s0.pkl\n",
      "Saving Extra Trees Model\n",
      "Saving Random Forest Model from rf_s1.pkl\n",
      "Saving Extra Trees Model\n",
      "Saving Random Forest Model from rf_s2.pkl\n",
      "Saving Extra Trees Model\n",
      "Saving Random Forest Model from rf_s3.pkl\n",
      "Saving Extra Trees Model\n",
      "\n"
     ]
    },
    {
     "name": "stderr",
     "output_type": "stream",
     "text": [
      "[Parallel(n_jobs=1)]: Done  20 out of  20 | elapsed:    0.0s finished\n",
      "[Parallel(n_jobs=1)]: Done  20 out of  20 | elapsed:    0.0s finished\n",
      "[Parallel(n_jobs=1)]: Done  20 out of  20 | elapsed:    0.0s finished\n",
      "[Parallel(n_jobs=1)]: Done  20 out of  20 | elapsed:    0.0s finished\n"
     ]
    },
    {
     "name": "stdout",
     "output_type": "stream",
     "text": [
      "[ 0.    0.05  0.35  0.6 ]\n",
      "TESTDATA_Preload_SlowRoll\n",
      "Saving Random Forest Model from rf_s0.pkl\n",
      "Saving Extra Trees Model\n",
      "Saving Random Forest Model from rf_s1.pkl\n",
      "Saving Extra Trees Model\n",
      "Saving Random Forest Model from rf_s2.pkl\n",
      "Saving Extra Trees Model\n",
      "Saving Random Forest Model from rf_s3.pkl\n",
      "Saving Extra Trees Model\n",
      "\n"
     ]
    },
    {
     "name": "stderr",
     "output_type": "stream",
     "text": [
      "[Parallel(n_jobs=1)]: Done  20 out of  20 | elapsed:    0.0s finished\n",
      "[Parallel(n_jobs=1)]: Done  20 out of  20 | elapsed:    0.0s finished\n",
      "[Parallel(n_jobs=1)]: Done  20 out of  20 | elapsed:    0.0s finished\n",
      "[Parallel(n_jobs=1)]: Done  20 out of  20 | elapsed:    0.0s finished\n"
     ]
    },
    {
     "name": "stdout",
     "output_type": "stream",
     "text": [
      "[ 0.   0.   0.9  0.1]\n",
      "TESTDATA_Preload_RampUp\n",
      "Saving Random Forest Model from rf_s0.pkl\n",
      "Saving Extra Trees Model\n",
      "Saving Random Forest Model from rf_s1.pkl\n",
      "Saving Extra Trees Model\n",
      "Saving Random Forest Model from rf_s2.pkl\n",
      "Saving Extra Trees Model\n",
      "Saving Random Forest Model from rf_s3.pkl\n",
      "Saving Extra Trees Model\n",
      "\n"
     ]
    },
    {
     "name": "stderr",
     "output_type": "stream",
     "text": [
      "[Parallel(n_jobs=1)]: Done  20 out of  20 | elapsed:    0.0s finished\n",
      "[Parallel(n_jobs=1)]: Done  20 out of  20 | elapsed:    0.0s finished\n",
      "[Parallel(n_jobs=1)]: Done  20 out of  20 | elapsed:    0.0s finished\n",
      "[Parallel(n_jobs=1)]: Done  20 out of  20 | elapsed:    0.0s finished\n"
     ]
    },
    {
     "name": "stdout",
     "output_type": "stream",
     "text": [
      "[ 0.   0.   0.7  0.3]\n",
      "TESTDATA_Preload_FastRoll\n",
      "Saving Random Forest Model from rf_s0.pkl\n",
      "Saving Extra Trees Model\n",
      "Saving Random Forest Model from rf_s1.pkl\n",
      "Saving Extra Trees Model\n",
      "Saving Random Forest Model from rf_s2.pkl\n",
      "Saving Extra Trees Model\n",
      "Saving Random Forest Model from rf_s3.pkl\n",
      "Saving Extra Trees Model\n",
      "\n",
      "[ 0.  0.  1.  0.]\n"
     ]
    },
    {
     "name": "stderr",
     "output_type": "stream",
     "text": [
      "[Parallel(n_jobs=1)]: Done  20 out of  20 | elapsed:    0.0s finished\n",
      "[Parallel(n_jobs=1)]: Done  20 out of  20 | elapsed:    0.0s finished\n",
      "[Parallel(n_jobs=1)]: Done  20 out of  20 | elapsed:    0.0s finished\n",
      "[Parallel(n_jobs=1)]: Done  20 out of  20 | elapsed:    0.0s finished\n"
     ]
    },
    {
     "name": "stdout",
     "output_type": "stream",
     "text": [
      "TESTDATA_Preload_RampDown\n",
      "Saving Random Forest Model from rf_s0.pkl\n",
      "Saving Extra Trees Model\n",
      "Saving Random Forest Model from rf_s1.pkl\n",
      "Saving Extra Trees Model\n",
      "Saving Random Forest Model from rf_s2.pkl\n",
      "Saving Extra Trees Model\n",
      "Saving Random Forest Model from rf_s3.pkl\n",
      "Saving Extra Trees Model\n",
      "\n"
     ]
    },
    {
     "name": "stderr",
     "output_type": "stream",
     "text": [
      "[Parallel(n_jobs=1)]: Done  20 out of  20 | elapsed:    0.0s finished\n",
      "[Parallel(n_jobs=1)]: Done  20 out of  20 | elapsed:    0.0s finished\n",
      "[Parallel(n_jobs=1)]: Done  20 out of  20 | elapsed:    0.0s finished\n",
      "[Parallel(n_jobs=1)]: Done  20 out of  20 | elapsed:    0.0s finished\n"
     ]
    },
    {
     "name": "stdout",
     "output_type": "stream",
     "text": [
      "[ 0.   0.   0.8  0.2]\n",
      "TESTDATA_Unbalance_SlowRoll\n",
      "Saving Random Forest Model from rf_s0.pkl\n",
      "Saving Extra Trees Model\n",
      "Saving Random Forest Model from rf_s1.pkl\n",
      "Saving Extra Trees Model\n",
      "Saving Random Forest Model from rf_s2.pkl\n",
      "Saving Extra Trees Model\n",
      "Saving Random Forest Model from rf_s3.pkl\n",
      "Saving Extra Trees Model\n",
      "\n",
      "[ 0.    0.15  0.6   0.25]\n"
     ]
    },
    {
     "name": "stderr",
     "output_type": "stream",
     "text": [
      "[Parallel(n_jobs=1)]: Done  20 out of  20 | elapsed:    0.0s finished\n",
      "[Parallel(n_jobs=1)]: Done  20 out of  20 | elapsed:    0.0s finished\n",
      "[Parallel(n_jobs=1)]: Done  20 out of  20 | elapsed:    0.0s finished\n",
      "[Parallel(n_jobs=1)]: Done  20 out of  20 | elapsed:    0.0s finished\n"
     ]
    },
    {
     "name": "stdout",
     "output_type": "stream",
     "text": [
      "TESTDATA_Unbalance_RampUp\n",
      "Saving Random Forest Model from rf_s0.pkl\n",
      "Saving Extra Trees Model\n",
      "Saving Random Forest Model from rf_s1.pkl\n",
      "Saving Extra Trees Model\n",
      "Saving Random Forest Model from rf_s2.pkl\n",
      "Saving Extra Trees Model\n",
      "Saving Random Forest Model from rf_s3.pkl\n",
      "Saving Extra Trees Model\n",
      "\n",
      "[ 0.    0.05  0.4   0.55]"
     ]
    },
    {
     "name": "stderr",
     "output_type": "stream",
     "text": [
      "[Parallel(n_jobs=1)]: Done  20 out of  20 | elapsed:    0.0s finished\n",
      "[Parallel(n_jobs=1)]: Done  20 out of  20 | elapsed:    0.0s finished\n",
      "[Parallel(n_jobs=1)]: Done  20 out of  20 | elapsed:    0.0s finished\n",
      "[Parallel(n_jobs=1)]: Done  20 out of  20 | elapsed:    0.0s finished\n"
     ]
    },
    {
     "name": "stdout",
     "output_type": "stream",
     "text": [
      "\n",
      "TESTDATA_Unbalance_FastRoll\n",
      "Saving Random Forest Model from rf_s0.pkl\n",
      "Saving Extra Trees Model\n",
      "Saving Random Forest Model from rf_s1.pkl\n",
      "Saving Extra Trees Model\n",
      "Saving Random Forest Model from rf_s2.pkl\n",
      "Saving Extra Trees Model\n",
      "Saving Random Forest Model from rf_s3.pkl\n",
      "Saving Extra Trees Model\n",
      "\n"
     ]
    },
    {
     "name": "stderr",
     "output_type": "stream",
     "text": [
      "[Parallel(n_jobs=1)]: Done  20 out of  20 | elapsed:    0.0s finished\n",
      "[Parallel(n_jobs=1)]: Done  20 out of  20 | elapsed:    0.0s finished\n",
      "[Parallel(n_jobs=1)]: Done  20 out of  20 | elapsed:    0.0s finished\n",
      "[Parallel(n_jobs=1)]: Done  20 out of  20 | elapsed:    0.0s finished\n"
     ]
    },
    {
     "name": "stdout",
     "output_type": "stream",
     "text": [
      "[ 0.    0.75  0.    0.25]\n",
      "TESTDATA_Unbalance_RampDown\n",
      "Saving Random Forest Model from rf_s0.pkl\n",
      "Saving Extra Trees Model\n",
      "Saving Random Forest Model from rf_s1.pkl\n",
      "Saving Extra Trees Model\n",
      "Saving Random Forest Model from rf_s2.pkl\n",
      "Saving Extra Trees Model\n",
      "Saving Random Forest Model from rf_s3.pkl\n",
      "Saving Extra Trees Model\n",
      "\n",
      "[ 0.   0.   0.5  0.5]\n"
     ]
    },
    {
     "name": "stderr",
     "output_type": "stream",
     "text": [
      "[Parallel(n_jobs=1)]: Done  20 out of  20 | elapsed:    0.0s finished\n",
      "[Parallel(n_jobs=1)]: Done  20 out of  20 | elapsed:    0.0s finished\n",
      "[Parallel(n_jobs=1)]: Done  20 out of  20 | elapsed:    0.0s finished\n",
      "[Parallel(n_jobs=1)]: Done  20 out of  20 | elapsed:    0.0s finished\n"
     ]
    },
    {
     "name": "stdout",
     "output_type": "stream",
     "text": [
      "TESTDATA_Normal_SlowRoll\n",
      "Saving Random Forest Model from rf_s0.pkl\n",
      "Saving Extra Trees Model\n",
      "Saving Random Forest Model from rf_s1.pkl\n",
      "Saving Extra Trees Model\n",
      "Saving Random Forest Model from rf_s2.pkl\n",
      "Saving Extra Trees Model\n",
      "Saving Random Forest Model from rf_s3.pkl\n",
      "Saving Extra Trees Model\n",
      "\n",
      "[ 0.    0.05  0.5   0.45]\n"
     ]
    },
    {
     "name": "stderr",
     "output_type": "stream",
     "text": [
      "[Parallel(n_jobs=1)]: Done  20 out of  20 | elapsed:    0.0s finished\n",
      "[Parallel(n_jobs=1)]: Done  20 out of  20 | elapsed:    0.0s finished\n",
      "[Parallel(n_jobs=1)]: Done  20 out of  20 | elapsed:    0.0s finished\n",
      "[Parallel(n_jobs=1)]: Done  20 out of  20 | elapsed:    0.0s finished\n"
     ]
    },
    {
     "name": "stdout",
     "output_type": "stream",
     "text": [
      "TESTDATA_Normal_RampUp\n",
      "Saving Random Forest Model from rf_s0.pkl\n",
      "Saving Extra Trees Model\n",
      "Saving Random Forest Model from rf_s1.pkl\n",
      "Saving Extra Trees Model\n",
      "Saving Random Forest Model from rf_s2.pkl\n",
      "Saving Extra Trees Model\n",
      "Saving Random Forest Model from rf_s3.pkl\n",
      "Saving Extra Trees Model\n",
      "\n"
     ]
    },
    {
     "name": "stderr",
     "output_type": "stream",
     "text": [
      "[Parallel(n_jobs=1)]: Done  20 out of  20 | elapsed:    0.0s finished\n",
      "[Parallel(n_jobs=1)]: Done  20 out of  20 | elapsed:    0.0s finished\n",
      "[Parallel(n_jobs=1)]: Done  20 out of  20 | elapsed:    0.0s finished\n",
      "[Parallel(n_jobs=1)]: Done  20 out of  20 | elapsed:    0.0s finished\n"
     ]
    },
    {
     "name": "stdout",
     "output_type": "stream",
     "text": [
      "[ 0.   0.   0.5  0.5]\n",
      "TESTDATA_Normal_FastRoll\n",
      "Saving Random Forest Model from rf_s0.pkl\n",
      "Saving Extra Trees Model\n",
      "Saving Random Forest Model from rf_s1.pkl\n",
      "Saving Extra Trees Model\n",
      "Saving Random Forest Model from rf_s2.pkl\n",
      "Saving Extra Trees Model\n",
      "Saving Random Forest Model from rf_s3.pkl\n",
      "Saving Extra Trees Model\n",
      "\n"
     ]
    },
    {
     "name": "stderr",
     "output_type": "stream",
     "text": [
      "[Parallel(n_jobs=1)]: Done  20 out of  20 | elapsed:    0.0s finished\n",
      "[Parallel(n_jobs=1)]: Done  20 out of  20 | elapsed:    0.0s finished\n",
      "[Parallel(n_jobs=1)]: Done  20 out of  20 | elapsed:    0.0s finished\n",
      "[Parallel(n_jobs=1)]: Done  20 out of  20 | elapsed:    0.0s finished\n"
     ]
    },
    {
     "name": "stdout",
     "output_type": "stream",
     "text": [
      "[ 1.  0.  0.  0.]\n",
      "TESTDATA_Normal_RampDown\n",
      "Saving Random Forest Model from rf_s0.pkl\n",
      "Saving Extra Trees Model\n",
      "Saving Random Forest Model from rf_s1.pkl\n",
      "Saving Extra Trees Model\n",
      "Saving Random Forest Model from rf_s2.pkl\n",
      "Saving Extra Trees Model\n",
      "Saving Random Forest Model from rf_s3.pkl\n",
      "Saving Extra Trees Model\n",
      "\n",
      "[ 0.    0.    0.45  0.55]\n"
     ]
    },
    {
     "name": "stderr",
     "output_type": "stream",
     "text": [
      "[Parallel(n_jobs=1)]: Done  20 out of  20 | elapsed:    0.0s finished\n",
      "[Parallel(n_jobs=1)]: Done  20 out of  20 | elapsed:    0.0s finished\n",
      "[Parallel(n_jobs=1)]: Done  20 out of  20 | elapsed:    0.0s finished\n",
      "[Parallel(n_jobs=1)]: Done  20 out of  20 | elapsed:    0.0s finished\n"
     ]
    },
    {
     "name": "stdout",
     "output_type": "stream",
     "text": [
      "TESTDATA_BearingRub_SlowRoll\n",
      "Saving Random Forest Model from rf_s0.pkl\n",
      "Saving Extra Trees Model\n",
      "Saving Random Forest Model from rf_s1.pkl\n",
      "Saving Extra Trees Model\n",
      "Saving Random Forest Model from rf_s2.pkl\n",
      "Saving Extra Trees Model\n",
      "Saving Random Forest Model from rf_s3.pkl\n",
      "Saving Extra Trees Model\n",
      "\n",
      "[ 0.    0.    0.45  0.55]\n"
     ]
    },
    {
     "name": "stderr",
     "output_type": "stream",
     "text": [
      "[Parallel(n_jobs=1)]: Done  20 out of  20 | elapsed:    0.0s finished\n",
      "[Parallel(n_jobs=1)]: Done  20 out of  20 | elapsed:    0.0s finished\n",
      "[Parallel(n_jobs=1)]: Done  20 out of  20 | elapsed:    0.0s finished\n",
      "[Parallel(n_jobs=1)]: Done  20 out of  20 | elapsed:    0.0s finished\n"
     ]
    },
    {
     "name": "stdout",
     "output_type": "stream",
     "text": [
      "TESTDATA_BearingRub_RampUp\n",
      "Saving Random Forest Model from rf_s0.pkl\n",
      "Saving Extra Trees Model\n",
      "Saving Random Forest Model from rf_s1.pkl\n",
      "Saving Extra Trees Model\n",
      "Saving Random Forest Model from rf_s2.pkl\n",
      "Saving Extra Trees Model\n",
      "Saving Random Forest Model from rf_s3.pkl\n",
      "Saving Extra Trees Model\n",
      "\n"
     ]
    },
    {
     "name": "stderr",
     "output_type": "stream",
     "text": [
      "[Parallel(n_jobs=1)]: Done  20 out of  20 | elapsed:    0.0s finished\n",
      "[Parallel(n_jobs=1)]: Done  20 out of  20 | elapsed:    0.0s finished\n",
      "[Parallel(n_jobs=1)]: Done  20 out of  20 | elapsed:    0.0s finished\n",
      "[Parallel(n_jobs=1)]: Done  20 out of  20 | elapsed:    0.0s finished\n"
     ]
    },
    {
     "name": "stdout",
     "output_type": "stream",
     "text": [
      "[ 0.   0.   0.5  0.5]\n",
      "TESTDATA_BearingRub_FastRoll\n",
      "Saving Random Forest Model from rf_s0.pkl\n",
      "Saving Extra Trees Model\n",
      "Saving Random Forest Model from rf_s1.pkl\n",
      "Saving Extra Trees Model\n",
      "Saving Random Forest Model from rf_s2.pkl\n",
      "Saving Extra Trees Model\n",
      "Saving Random Forest Model from rf_s3.pkl\n",
      "Saving Extra Trees Model\n",
      "\n",
      "[ 0.  0.  0.  1.]\n"
     ]
    },
    {
     "name": "stderr",
     "output_type": "stream",
     "text": [
      "[Parallel(n_jobs=1)]: Done  20 out of  20 | elapsed:    0.0s finished\n",
      "[Parallel(n_jobs=1)]: Done  20 out of  20 | elapsed:    0.0s finished\n",
      "[Parallel(n_jobs=1)]: Done  20 out of  20 | elapsed:    0.0s finished\n",
      "[Parallel(n_jobs=1)]: Done  20 out of  20 | elapsed:    0.0s finished\n"
     ]
    },
    {
     "name": "stdout",
     "output_type": "stream",
     "text": [
      "TESTDATA_BearingRub_RampDown\n",
      "Saving Random Forest Model from rf_s0.pkl\n",
      "Saving Extra Trees Model\n",
      "Saving Random Forest Model from rf_s1.pkl\n",
      "Saving Extra Trees Model\n",
      "Saving Random Forest Model from rf_s2.pkl\n",
      "Saving Extra Trees Model\n",
      "Saving Random Forest Model from rf_s3.pkl\n",
      "Saving Extra Trees Model\n",
      "\n"
     ]
    },
    {
     "name": "stderr",
     "output_type": "stream",
     "text": [
      "[Parallel(n_jobs=1)]: Done  20 out of  20 | elapsed:    0.0s finished\n",
      "[Parallel(n_jobs=1)]: Done  20 out of  20 | elapsed:    0.0s finished\n",
      "[Parallel(n_jobs=1)]: Done  20 out of  20 | elapsed:    0.0s finished\n",
      "[Parallel(n_jobs=1)]: Done  20 out of  20 | elapsed:    0.0s finished\n"
     ]
    },
    {
     "name": "stdout",
     "output_type": "stream",
     "text": [
      "[ 0.    0.05  0.35  0.6 ]\n",
      "TESTDATA_Preload_SlowRoll\n",
      "Saving Random Forest Model from rf_s0.pkl\n",
      "Saving Extra Trees Model\n",
      "Saving Random Forest Model from rf_s1.pkl\n",
      "Saving Extra Trees Model\n",
      "Saving Random Forest Model from rf_s2.pkl\n",
      "Saving Extra Trees Model\n",
      "Saving Random Forest Model from rf_s3.pkl\n",
      "Saving Extra Trees Model\n",
      "\n",
      "[ 0.   0.   0.9  0.1]\n"
     ]
    },
    {
     "name": "stderr",
     "output_type": "stream",
     "text": [
      "[Parallel(n_jobs=1)]: Done  20 out of  20 | elapsed:    0.0s finished\n",
      "[Parallel(n_jobs=1)]: Done  20 out of  20 | elapsed:    0.0s finished\n",
      "[Parallel(n_jobs=1)]: Done  20 out of  20 | elapsed:    0.0s finished\n",
      "[Parallel(n_jobs=1)]: Done  20 out of  20 | elapsed:    0.0s finished\n"
     ]
    },
    {
     "name": "stdout",
     "output_type": "stream",
     "text": [
      "TESTDATA_Preload_RampUp\n",
      "Saving Random Forest Model from rf_s0.pkl\n",
      "Saving Extra Trees Model\n",
      "Saving Random Forest Model from rf_s1.pkl\n",
      "Saving Extra Trees Model\n",
      "Saving Random Forest Model from rf_s2.pkl\n",
      "Saving Extra Trees Model\n",
      "Saving Random Forest Model from rf_s3.pkl\n",
      "Saving Extra Trees Model\n",
      "\n",
      "[ 0.   0.   0.7  0.3]\n"
     ]
    },
    {
     "name": "stderr",
     "output_type": "stream",
     "text": [
      "[Parallel(n_jobs=1)]: Done  20 out of  20 | elapsed:    0.0s finished\n",
      "[Parallel(n_jobs=1)]: Done  20 out of  20 | elapsed:    0.0s finished\n",
      "[Parallel(n_jobs=1)]: Done  20 out of  20 | elapsed:    0.0s finished\n",
      "[Parallel(n_jobs=1)]: Done  20 out of  20 | elapsed:    0.0s finished\n"
     ]
    },
    {
     "name": "stdout",
     "output_type": "stream",
     "text": [
      "TESTDATA_Preload_FastRoll\n",
      "Saving Random Forest Model from rf_s0.pkl\n",
      "Saving Extra Trees Model\n",
      "Saving Random Forest Model from rf_s1.pkl\n",
      "Saving Extra Trees Model\n",
      "Saving Random Forest Model from rf_s2.pkl\n",
      "Saving Extra Trees Model\n",
      "Saving Random Forest Model from rf_s3.pkl\n",
      "Saving Extra Trees Model\n",
      "\n",
      "[ 0.  0.  1.  0.]\n"
     ]
    },
    {
     "name": "stderr",
     "output_type": "stream",
     "text": [
      "[Parallel(n_jobs=1)]: Done  20 out of  20 | elapsed:    0.0s finished\n",
      "[Parallel(n_jobs=1)]: Done  20 out of  20 | elapsed:    0.0s finished\n",
      "[Parallel(n_jobs=1)]: Done  20 out of  20 | elapsed:    0.0s finished\n",
      "[Parallel(n_jobs=1)]: Done  20 out of  20 | elapsed:    0.0s finished\n"
     ]
    },
    {
     "name": "stdout",
     "output_type": "stream",
     "text": [
      "TESTDATA_Preload_RampDown\n",
      "Saving Random Forest Model from rf_s0.pkl\n",
      "Saving Extra Trees Model\n",
      "Saving Random Forest Model from rf_s1.pkl\n",
      "Saving Extra Trees Model\n",
      "Saving Random Forest Model from rf_s2.pkl\n",
      "Saving Extra Trees Model\n",
      "Saving Random Forest Model from rf_s3.pkl\n",
      "Saving Extra Trees Model\n",
      "\n"
     ]
    },
    {
     "name": "stderr",
     "output_type": "stream",
     "text": [
      "[Parallel(n_jobs=1)]: Done  20 out of  20 | elapsed:    0.0s finished\n",
      "[Parallel(n_jobs=1)]: Done  20 out of  20 | elapsed:    0.0s finished\n",
      "[Parallel(n_jobs=1)]: Done  20 out of  20 | elapsed:    0.0s finished\n",
      "[Parallel(n_jobs=1)]: Done  20 out of  20 | elapsed:    0.0s finished\n"
     ]
    },
    {
     "name": "stdout",
     "output_type": "stream",
     "text": [
      "[ 0.   0.   0.8  0.2]\n",
      "TESTDATA_Unbalance_SlowRoll\n",
      "Saving Random Forest Model from rf_s0.pkl\n",
      "Saving Extra Trees Model\n",
      "Saving Random Forest Model from rf_s1.pkl\n",
      "Saving Extra Trees Model\n",
      "Saving Random Forest Model from rf_s2.pkl\n",
      "Saving Extra Trees Model\n",
      "Saving Random Forest Model from rf_s3.pkl\n",
      "Saving Extra Trees Model\n",
      "\n",
      "[ 0.    0.15  0.6   0.25]\n"
     ]
    },
    {
     "name": "stderr",
     "output_type": "stream",
     "text": [
      "[Parallel(n_jobs=1)]: Done  20 out of  20 | elapsed:    0.0s finished\n",
      "[Parallel(n_jobs=1)]: Done  20 out of  20 | elapsed:    0.0s finished\n",
      "[Parallel(n_jobs=1)]: Done  20 out of  20 | elapsed:    0.0s finished\n",
      "[Parallel(n_jobs=1)]: Done  20 out of  20 | elapsed:    0.0s finished\n"
     ]
    },
    {
     "name": "stdout",
     "output_type": "stream",
     "text": [
      "TESTDATA_Unbalance_RampUp\n",
      "Saving Random Forest Model from rf_s0.pkl\n",
      "Saving Extra Trees Model\n",
      "Saving Random Forest Model from rf_s1.pkl\n",
      "Saving Extra Trees Model\n",
      "Saving Random Forest Model from rf_s2.pkl\n",
      "Saving Extra Trees Model\n",
      "Saving Random Forest Model from rf_s3.pkl\n",
      "Saving Extra Trees Model\n",
      "\n"
     ]
    },
    {
     "name": "stderr",
     "output_type": "stream",
     "text": [
      "[Parallel(n_jobs=1)]: Done  20 out of  20 | elapsed:    0.0s finished\n",
      "[Parallel(n_jobs=1)]: Done  20 out of  20 | elapsed:    0.0s finished\n",
      "[Parallel(n_jobs=1)]: Done  20 out of  20 | elapsed:    0.0s finished\n",
      "[Parallel(n_jobs=1)]: Done  20 out of  20 | elapsed:    0.0s finished\n"
     ]
    },
    {
     "name": "stdout",
     "output_type": "stream",
     "text": [
      "[ 0.    0.05  0.4   0.55]\n",
      "TESTDATA_Unbalance_FastRoll\n",
      "Saving Random Forest Model from rf_s0.pkl\n",
      "Saving Extra Trees Model\n",
      "Saving Random Forest Model from rf_s1.pkl\n",
      "Saving Extra Trees Model\n",
      "Saving Random Forest Model from rf_s2.pkl\n",
      "Saving Extra Trees Model\n",
      "Saving Random Forest Model from rf_s3.pkl\n",
      "Saving Extra Trees Model\n",
      "\n",
      "[ 0.    0.75  0.    0.25]\n"
     ]
    },
    {
     "name": "stderr",
     "output_type": "stream",
     "text": [
      "[Parallel(n_jobs=1)]: Done  20 out of  20 | elapsed:    0.0s finished\n",
      "[Parallel(n_jobs=1)]: Done  20 out of  20 | elapsed:    0.0s finished\n",
      "[Parallel(n_jobs=1)]: Done  20 out of  20 | elapsed:    0.0s finished\n",
      "[Parallel(n_jobs=1)]: Done  20 out of  20 | elapsed:    0.0s finished\n"
     ]
    },
    {
     "name": "stdout",
     "output_type": "stream",
     "text": [
      "TESTDATA_Unbalance_RampDown\n",
      "Saving Random Forest Model from rf_s0.pkl\n",
      "Saving Extra Trees Model\n",
      "Saving Random Forest Model from rf_s1.pkl\n",
      "Saving Extra Trees Model\n",
      "Saving Random Forest Model from rf_s2.pkl\n",
      "Saving Extra Trees Model\n",
      "Saving Random Forest Model from rf_s3.pkl\n",
      "Saving Extra Trees Model\n",
      "\n",
      "[ 0.   0.   0.5  0.5]\n"
     ]
    },
    {
     "name": "stderr",
     "output_type": "stream",
     "text": [
      "[Parallel(n_jobs=1)]: Done  20 out of  20 | elapsed:    0.0s finished\n",
      "[Parallel(n_jobs=1)]: Done  20 out of  20 | elapsed:    0.0s finished\n",
      "[Parallel(n_jobs=1)]: Done  20 out of  20 | elapsed:    0.0s finished\n",
      "[Parallel(n_jobs=1)]: Done  20 out of  20 | elapsed:    0.0s finished\n"
     ]
    },
    {
     "name": "stdout",
     "output_type": "stream",
     "text": [
      "TESTDATA_Normal_SlowRoll\n",
      "Saving Random Forest Model from rf_s0.pkl\n",
      "Saving Extra Trees Model\n",
      "Saving Random Forest Model from rf_s1.pkl\n",
      "Saving Extra Trees Model\n",
      "Saving Random Forest Model from rf_s2.pkl\n",
      "Saving Extra Trees Model\n",
      "Saving Random Forest Model from rf_s3.pkl\n",
      "Saving Extra Trees Model\n",
      "\n"
     ]
    },
    {
     "name": "stderr",
     "output_type": "stream",
     "text": [
      "[Parallel(n_jobs=1)]: Done  20 out of  20 | elapsed:    0.0s finished\n",
      "[Parallel(n_jobs=1)]: Done  20 out of  20 | elapsed:    0.0s finished\n",
      "[Parallel(n_jobs=1)]: Done  20 out of  20 | elapsed:    0.0s finished\n",
      "[Parallel(n_jobs=1)]: Done  20 out of  20 | elapsed:    0.0s finished\n"
     ]
    },
    {
     "name": "stdout",
     "output_type": "stream",
     "text": [
      "[ 0.    0.05  0.5   0.45]\n",
      "TESTDATA_Normal_RampUp\n",
      "Saving Random Forest Model from rf_s0.pkl\n",
      "Saving Extra Trees Model\n",
      "Saving Random Forest Model from rf_s1.pkl\n",
      "Saving Extra Trees Model\n",
      "Saving Random Forest Model from rf_s2.pkl\n",
      "Saving Extra Trees Model\n",
      "Saving Random Forest Model from rf_s3.pkl\n",
      "Saving Extra Trees Model\n",
      "\n",
      "[ 0.   0.   0.5  0.5]\n"
     ]
    },
    {
     "name": "stderr",
     "output_type": "stream",
     "text": [
      "[Parallel(n_jobs=1)]: Done  20 out of  20 | elapsed:    0.0s finished\n",
      "[Parallel(n_jobs=1)]: Done  20 out of  20 | elapsed:    0.0s finished\n",
      "[Parallel(n_jobs=1)]: Done  20 out of  20 | elapsed:    0.0s finished\n",
      "[Parallel(n_jobs=1)]: Done  20 out of  20 | elapsed:    0.0s finished\n"
     ]
    },
    {
     "name": "stdout",
     "output_type": "stream",
     "text": [
      "TESTDATA_Normal_FastRoll\n",
      "Saving Random Forest Model from rf_s0.pkl\n",
      "Saving Extra Trees Model\n",
      "Saving Random Forest Model from rf_s1.pkl\n",
      "Saving Extra Trees Model\n",
      "Saving Random Forest Model from rf_s2.pkl\n",
      "Saving Extra Trees Model\n",
      "Saving Random Forest Model from rf_s3.pkl\n",
      "Saving Extra Trees Model\n",
      "\n",
      "[ 1.  0.  0.  0.]\n"
     ]
    },
    {
     "name": "stderr",
     "output_type": "stream",
     "text": [
      "[Parallel(n_jobs=1)]: Done  20 out of  20 | elapsed:    0.0s finished\n",
      "[Parallel(n_jobs=1)]: Done  20 out of  20 | elapsed:    0.0s finished\n",
      "[Parallel(n_jobs=1)]: Done  20 out of  20 | elapsed:    0.0s finished\n",
      "[Parallel(n_jobs=1)]: Done  20 out of  20 | elapsed:    0.0s finished\n"
     ]
    },
    {
     "name": "stdout",
     "output_type": "stream",
     "text": [
      "TESTDATA_Normal_RampDown\n",
      "Saving Random Forest Model from rf_s0.pkl\n",
      "Saving Extra Trees Model\n",
      "Saving Random Forest Model from rf_s1.pkl\n",
      "Saving Extra Trees Model\n",
      "Saving Random Forest Model from rf_s2.pkl\n",
      "Saving Extra Trees Model\n",
      "Saving Random Forest Model from rf_s3.pkl\n",
      "Saving Extra Trees Model\n",
      "\n",
      "[ 0.    0.    0.45  0.55]\n"
     ]
    },
    {
     "name": "stderr",
     "output_type": "stream",
     "text": [
      "[Parallel(n_jobs=1)]: Done  20 out of  20 | elapsed:    0.0s finished\n",
      "[Parallel(n_jobs=1)]: Done  20 out of  20 | elapsed:    0.0s finished\n",
      "[Parallel(n_jobs=1)]: Done  20 out of  20 | elapsed:    0.0s finished\n",
      "[Parallel(n_jobs=1)]: Done  20 out of  20 | elapsed:    0.0s finished\n"
     ]
    },
    {
     "name": "stdout",
     "output_type": "stream",
     "text": [
      "TESTDATA_BearingRub_SlowRoll\n",
      "Saving Random Forest Model from rf_s0.pkl\n",
      "Saving Extra Trees Model\n",
      "Saving Random Forest Model from rf_s1.pkl\n",
      "Saving Extra Trees Model\n",
      "Saving Random Forest Model from rf_s2.pkl\n",
      "Saving Extra Trees Model\n",
      "Saving Random Forest Model from rf_s3.pkl\n",
      "Saving Extra Trees Model\n",
      "\n",
      "[ 0.    0.    0.45  0.55]\n"
     ]
    },
    {
     "name": "stderr",
     "output_type": "stream",
     "text": [
      "[Parallel(n_jobs=1)]: Done  20 out of  20 | elapsed:    0.0s finished\n",
      "[Parallel(n_jobs=1)]: Done  20 out of  20 | elapsed:    0.0s finished\n",
      "[Parallel(n_jobs=1)]: Done  20 out of  20 | elapsed:    0.0s finished\n",
      "[Parallel(n_jobs=1)]: Done  20 out of  20 | elapsed:    0.0s finished\n"
     ]
    },
    {
     "name": "stdout",
     "output_type": "stream",
     "text": [
      "TESTDATA_BearingRub_RampUp\n",
      "Saving Random Forest Model from rf_s0.pkl\n",
      "Saving Extra Trees Model\n",
      "Saving Random Forest Model from rf_s1.pkl\n",
      "Saving Extra Trees Model\n",
      "Saving Random Forest Model from rf_s2.pkl\n",
      "Saving Extra Trees Model\n",
      "Saving Random Forest Model from rf_s3.pkl\n",
      "Saving Extra Trees Model\n",
      "\n"
     ]
    },
    {
     "name": "stderr",
     "output_type": "stream",
     "text": [
      "[Parallel(n_jobs=1)]: Done  20 out of  20 | elapsed:    0.0s finished\n",
      "[Parallel(n_jobs=1)]: Done  20 out of  20 | elapsed:    0.0s finished\n",
      "[Parallel(n_jobs=1)]: Done  20 out of  20 | elapsed:    0.0s finished\n",
      "[Parallel(n_jobs=1)]: Done  20 out of  20 | elapsed:    0.0s finished\n"
     ]
    },
    {
     "name": "stdout",
     "output_type": "stream",
     "text": [
      "[ 0.   0.   0.5  0.5]\n",
      "TESTDATA_BearingRub_FastRoll\n",
      "Saving Random Forest Model from rf_s0.pkl\n",
      "Saving Extra Trees Model\n",
      "Saving Random Forest Model from rf_s1.pkl\n",
      "Saving Extra Trees Model\n",
      "Saving Random Forest Model from rf_s2.pkl\n",
      "Saving Extra Trees Model\n",
      "Saving Random Forest Model from rf_s3.pkl\n",
      "Saving Extra Trees Model\n",
      "\n",
      "[ 0.  0.  0.  1.]\n"
     ]
    },
    {
     "name": "stderr",
     "output_type": "stream",
     "text": [
      "[Parallel(n_jobs=1)]: Done  20 out of  20 | elapsed:    0.0s finished\n",
      "[Parallel(n_jobs=1)]: Done  20 out of  20 | elapsed:    0.0s finished\n",
      "[Parallel(n_jobs=1)]: Done  20 out of  20 | elapsed:    0.0s finished\n",
      "[Parallel(n_jobs=1)]: Done  20 out of  20 | elapsed:    0.0s finished\n"
     ]
    },
    {
     "name": "stdout",
     "output_type": "stream",
     "text": [
      "TESTDATA_BearingRub_RampDown\n",
      "Saving Random Forest Model from rf_s0.pkl\n",
      "Saving Extra Trees Model\n",
      "Saving Random Forest Model from rf_s1.pkl\n",
      "Saving Extra Trees Model\n",
      "Saving Random Forest Model from rf_s2.pkl\n",
      "Saving Extra Trees Model\n",
      "Saving Random Forest Model from rf_s3.pkl\n",
      "Saving Extra Trees Model\n",
      "\n"
     ]
    },
    {
     "name": "stderr",
     "output_type": "stream",
     "text": [
      "[Parallel(n_jobs=1)]: Done  20 out of  20 | elapsed:    0.0s finished\n",
      "[Parallel(n_jobs=1)]: Done  20 out of  20 | elapsed:    0.0s finished\n",
      "[Parallel(n_jobs=1)]: Done  20 out of  20 | elapsed:    0.0s finished\n",
      "[Parallel(n_jobs=1)]: Done  20 out of  20 | elapsed:    0.0s finished\n"
     ]
    },
    {
     "name": "stdout",
     "output_type": "stream",
     "text": [
      "[ 0.    0.05  0.35  0.6 ]\n",
      "TESTDATA_Preload_SlowRoll\n",
      "Saving Random Forest Model from rf_s0.pkl\n",
      "Saving Extra Trees Model\n",
      "Saving Random Forest Model from rf_s1.pkl\n",
      "Saving Extra Trees Model\n",
      "Saving Random Forest Model from rf_s2.pkl\n",
      "Saving Extra Trees Model\n",
      "Saving Random Forest Model from rf_s3.pkl\n",
      "Saving Extra Trees Model\n",
      "\n"
     ]
    },
    {
     "name": "stderr",
     "output_type": "stream",
     "text": [
      "[Parallel(n_jobs=1)]: Done  20 out of  20 | elapsed:    0.0s finished\n",
      "[Parallel(n_jobs=1)]: Done  20 out of  20 | elapsed:    0.0s finished\n",
      "[Parallel(n_jobs=1)]: Done  20 out of  20 | elapsed:    0.0s finished\n",
      "[Parallel(n_jobs=1)]: Done  20 out of  20 | elapsed:    0.0s finished\n"
     ]
    },
    {
     "name": "stdout",
     "output_type": "stream",
     "text": [
      "[ 0.   0.   0.9  0.1]\n",
      "TESTDATA_Preload_RampUp\n",
      "Saving Random Forest Model from rf_s0.pkl\n",
      "Saving Extra Trees Model\n",
      "Saving Random Forest Model from rf_s1.pkl\n",
      "Saving Extra Trees Model\n",
      "Saving Random Forest Model from rf_s2.pkl\n",
      "Saving Extra Trees Model\n",
      "Saving Random Forest Model from rf_s3.pkl\n",
      "Saving Extra Trees Model\n",
      "\n",
      "[ 0.   0.   0.7  0.3]\n"
     ]
    },
    {
     "name": "stderr",
     "output_type": "stream",
     "text": [
      "[Parallel(n_jobs=1)]: Done  20 out of  20 | elapsed:    0.0s finished\n",
      "[Parallel(n_jobs=1)]: Done  20 out of  20 | elapsed:    0.0s finished\n",
      "[Parallel(n_jobs=1)]: Done  20 out of  20 | elapsed:    0.0s finished\n",
      "[Parallel(n_jobs=1)]: Done  20 out of  20 | elapsed:    0.0s finished\n"
     ]
    },
    {
     "name": "stdout",
     "output_type": "stream",
     "text": [
      "TESTDATA_Preload_FastRoll\n",
      "Saving Random Forest Model from rf_s0.pkl\n",
      "Saving Extra Trees Model\n",
      "Saving Random Forest Model from rf_s1.pkl\n",
      "Saving Extra Trees Model\n",
      "Saving Random Forest Model from rf_s2.pkl\n",
      "Saving Extra Trees Model\n",
      "Saving Random Forest Model from rf_s3.pkl\n",
      "Saving Extra Trees Model\n",
      "\n"
     ]
    },
    {
     "name": "stderr",
     "output_type": "stream",
     "text": [
      "[Parallel(n_jobs=1)]: Done  20 out of  20 | elapsed:    0.0s finished\n",
      "[Parallel(n_jobs=1)]: Done  20 out of  20 | elapsed:    0.0s finished\n",
      "[Parallel(n_jobs=1)]: Done  20 out of  20 | elapsed:    0.0s finished\n",
      "[Parallel(n_jobs=1)]: Done  20 out of  20 | elapsed:    0.0s finished\n"
     ]
    },
    {
     "name": "stdout",
     "output_type": "stream",
     "text": [
      "[ 0.  0.  1.  0.]\n",
      "TESTDATA_Preload_RampDown\n",
      "Saving Random Forest Model from rf_s0.pkl\n",
      "Saving Extra Trees Model\n",
      "Saving Random Forest Model from rf_s1.pkl\n",
      "Saving Extra Trees Model\n",
      "Saving Random Forest Model from rf_s2.pkl\n",
      "Saving Extra Trees Model\n",
      "Saving Random Forest Model from rf_s3.pkl\n",
      "Saving Extra Trees Model\n",
      "\n"
     ]
    },
    {
     "name": "stderr",
     "output_type": "stream",
     "text": [
      "[Parallel(n_jobs=1)]: Done  20 out of  20 | elapsed:    0.0s finished\n",
      "[Parallel(n_jobs=1)]: Done  20 out of  20 | elapsed:    0.0s finished\n",
      "[Parallel(n_jobs=1)]: Done  20 out of  20 | elapsed:    0.0s finished\n",
      "[Parallel(n_jobs=1)]: Done  20 out of  20 | elapsed:    0.0s finished\n"
     ]
    },
    {
     "name": "stdout",
     "output_type": "stream",
     "text": [
      "[ 0.   0.   0.8  0.2]\n",
      "TESTDATA_Unbalance_SlowRoll\n",
      "Saving Random Forest Model from rf_s0.pkl\n",
      "Saving Extra Trees Model\n",
      "Saving Random Forest Model from rf_s1.pkl\n",
      "Saving Extra Trees Model\n",
      "Saving Random Forest Model from rf_s2.pkl\n",
      "Saving Extra Trees Model\n",
      "Saving Random Forest Model from rf_s3.pkl\n",
      "Saving Extra Trees Model\n",
      "\n",
      "[ 0.    0.15  0.6   0.25]\n"
     ]
    },
    {
     "name": "stderr",
     "output_type": "stream",
     "text": [
      "[Parallel(n_jobs=1)]: Done  20 out of  20 | elapsed:    0.0s finished\n",
      "[Parallel(n_jobs=1)]: Done  20 out of  20 | elapsed:    0.0s finished\n",
      "[Parallel(n_jobs=1)]: Done  20 out of  20 | elapsed:    0.0s finished\n",
      "[Parallel(n_jobs=1)]: Done  20 out of  20 | elapsed:    0.0s finished\n"
     ]
    },
    {
     "name": "stdout",
     "output_type": "stream",
     "text": [
      "TESTDATA_Unbalance_RampUp\n",
      "Saving Random Forest Model from rf_s0.pkl\n",
      "Saving Extra Trees Model\n",
      "Saving Random Forest Model from rf_s1.pkl\n",
      "Saving Extra Trees Model\n",
      "Saving Random Forest Model from rf_s2.pkl\n",
      "Saving Extra Trees Model\n",
      "Saving Random Forest Model from rf_s3.pkl\n",
      "Saving Extra Trees Model\n",
      "\n",
      "[ 0.    0.05  0.4   0.55]\n"
     ]
    },
    {
     "name": "stderr",
     "output_type": "stream",
     "text": [
      "[Parallel(n_jobs=1)]: Done  20 out of  20 | elapsed:    0.0s finished\n",
      "[Parallel(n_jobs=1)]: Done  20 out of  20 | elapsed:    0.0s finished\n",
      "[Parallel(n_jobs=1)]: Done  20 out of  20 | elapsed:    0.0s finished\n",
      "[Parallel(n_jobs=1)]: Done  20 out of  20 | elapsed:    0.0s finished\n"
     ]
    },
    {
     "name": "stdout",
     "output_type": "stream",
     "text": [
      "TESTDATA_Unbalance_FastRoll\n",
      "Saving Random Forest Model from rf_s0.pkl\n",
      "Saving Extra Trees Model\n",
      "Saving Random Forest Model from rf_s1.pkl\n",
      "Saving Extra Trees Model\n",
      "Saving Random Forest Model from rf_s2.pkl\n",
      "Saving Extra Trees Model\n",
      "Saving Random Forest Model from rf_s3.pkl\n",
      "Saving Extra Trees Model\n",
      "\n"
     ]
    },
    {
     "name": "stderr",
     "output_type": "stream",
     "text": [
      "[Parallel(n_jobs=1)]: Done  20 out of  20 | elapsed:    0.0s finished\n",
      "[Parallel(n_jobs=1)]: Done  20 out of  20 | elapsed:    0.0s finished\n",
      "[Parallel(n_jobs=1)]: Done  20 out of  20 | elapsed:    0.0s finished\n",
      "[Parallel(n_jobs=1)]: Done  20 out of  20 | elapsed:    0.0s finished\n"
     ]
    },
    {
     "name": "stdout",
     "output_type": "stream",
     "text": [
      "[ 0.    0.75  0.    0.25]\n",
      "TESTDATA_Unbalance_RampDown\n",
      "Saving Random Forest Model from rf_s0.pkl\n",
      "Saving Extra Trees Model\n",
      "Saving Random Forest Model from rf_s1.pkl\n",
      "Saving Extra Trees Model\n",
      "Saving Random Forest Model from rf_s2.pkl\n",
      "Saving Extra Trees Model\n",
      "Saving Random Forest Model from rf_s3.pkl\n",
      "Saving Extra Trees Model\n",
      "\n"
     ]
    },
    {
     "name": "stderr",
     "output_type": "stream",
     "text": [
      "[Parallel(n_jobs=1)]: Done  20 out of  20 | elapsed:    0.0s finished\n",
      "[Parallel(n_jobs=1)]: Done  20 out of  20 | elapsed:    0.0s finished\n",
      "[Parallel(n_jobs=1)]: Done  20 out of  20 | elapsed:    0.0s finished\n",
      "[Parallel(n_jobs=1)]: Done  20 out of  20 | elapsed:    0.0s finished\n"
     ]
    },
    {
     "name": "stdout",
     "output_type": "stream",
     "text": [
      "[ 0.   0.   0.5  0.5]\n",
      "TESTDATA_Normal_SlowRoll\n",
      "Saving Random Forest Model from rf_s0.pkl\n",
      "Saving Extra Trees Model\n",
      "Saving Random Forest Model from rf_s1.pkl\n",
      "Saving Extra Trees Model\n",
      "Saving Random Forest Model from rf_s2.pkl\n",
      "Saving Extra Trees Model\n",
      "Saving Random Forest Model from rf_s3.pkl\n",
      "Saving Extra Trees Model\n",
      "\n"
     ]
    },
    {
     "name": "stderr",
     "output_type": "stream",
     "text": [
      "[Parallel(n_jobs=1)]: Done  20 out of  20 | elapsed:    0.0s finished\n",
      "[Parallel(n_jobs=1)]: Done  20 out of  20 | elapsed:    0.0s finished\n",
      "[Parallel(n_jobs=1)]: Done  20 out of  20 | elapsed:    0.0s finished\n",
      "[Parallel(n_jobs=1)]: Done  20 out of  20 | elapsed:    0.0s finished\n"
     ]
    },
    {
     "name": "stdout",
     "output_type": "stream",
     "text": [
      "[ 0.    0.05  0.5   0.45]\n",
      "TESTDATA_Normal_RampUp\n",
      "Saving Random Forest Model from rf_s0.pkl\n",
      "Saving Extra Trees Model\n",
      "Saving Random Forest Model from rf_s1.pkl\n",
      "Saving Extra Trees Model\n",
      "Saving Random Forest Model from rf_s2.pkl\n",
      "Saving Extra Trees Model\n",
      "Saving Random Forest Model from rf_s3.pkl\n",
      "Saving Extra Trees Model\n",
      "\n"
     ]
    },
    {
     "name": "stderr",
     "output_type": "stream",
     "text": [
      "[Parallel(n_jobs=1)]: Done  20 out of  20 | elapsed:    0.0s finished\n",
      "[Parallel(n_jobs=1)]: Done  20 out of  20 | elapsed:    0.0s finished\n",
      "[Parallel(n_jobs=1)]: Done  20 out of  20 | elapsed:    0.0s finished\n",
      "[Parallel(n_jobs=1)]: Done  20 out of  20 | elapsed:    0.0s finished\n"
     ]
    },
    {
     "name": "stdout",
     "output_type": "stream",
     "text": [
      "[ 0.   0.   0.5  0.5]\n",
      "TESTDATA_Normal_FastRoll\n",
      "Saving Random Forest Model from rf_s0.pkl\n",
      "Saving Extra Trees Model\n",
      "Saving Random Forest Model from rf_s1.pkl\n",
      "Saving Extra Trees Model\n",
      "Saving Random Forest Model from rf_s2.pkl\n",
      "Saving Extra Trees Model\n",
      "Saving Random Forest Model from rf_s3.pkl\n",
      "Saving Extra Trees Model\n",
      "\n",
      "[ 1.  0.  0.  0.]\n"
     ]
    },
    {
     "name": "stderr",
     "output_type": "stream",
     "text": [
      "[Parallel(n_jobs=1)]: Done  20 out of  20 | elapsed:    0.0s finished\n",
      "[Parallel(n_jobs=1)]: Done  20 out of  20 | elapsed:    0.0s finished\n",
      "[Parallel(n_jobs=1)]: Done  20 out of  20 | elapsed:    0.0s finished\n",
      "[Parallel(n_jobs=1)]: Done  20 out of  20 | elapsed:    0.0s finished\n"
     ]
    },
    {
     "name": "stdout",
     "output_type": "stream",
     "text": [
      "TESTDATA_Normal_RampDown\n",
      "Saving Random Forest Model from rf_s0.pkl\n",
      "Saving Extra Trees Model\n",
      "Saving Random Forest Model from rf_s1.pkl\n",
      "Saving Extra Trees Model\n",
      "Saving Random Forest Model from rf_s2.pkl\n",
      "Saving Extra Trees Model\n",
      "Saving Random Forest Model from rf_s3.pkl\n",
      "Saving Extra Trees Model\n",
      "\n",
      "[ 0.    0.    0.45  0.55]\n"
     ]
    },
    {
     "name": "stderr",
     "output_type": "stream",
     "text": [
      "[Parallel(n_jobs=1)]: Done  20 out of  20 | elapsed:    0.0s finished\n",
      "[Parallel(n_jobs=1)]: Done  20 out of  20 | elapsed:    0.0s finished\n",
      "[Parallel(n_jobs=1)]: Done  20 out of  20 | elapsed:    0.0s finished\n",
      "[Parallel(n_jobs=1)]: Done  20 out of  20 | elapsed:    0.0s finished\n"
     ]
    },
    {
     "name": "stdout",
     "output_type": "stream",
     "text": [
      "TESTDATA_BearingRub_SlowRoll\n",
      "Saving Random Forest Model from rf_s0.pkl\n",
      "Saving Extra Trees Model\n",
      "Saving Random Forest Model from rf_s1.pkl\n",
      "Saving Extra Trees Model\n",
      "Saving Random Forest Model from rf_s2.pkl\n",
      "Saving Extra Trees Model\n",
      "Saving Random Forest Model from rf_s3.pkl\n",
      "Saving Extra Trees Model\n",
      "\n"
     ]
    },
    {
     "name": "stderr",
     "output_type": "stream",
     "text": [
      "[Parallel(n_jobs=1)]: Done  20 out of  20 | elapsed:    0.0s finished\n",
      "[Parallel(n_jobs=1)]: Done  20 out of  20 | elapsed:    0.0s finished\n",
      "[Parallel(n_jobs=1)]: Done  20 out of  20 | elapsed:    0.0s finished\n",
      "[Parallel(n_jobs=1)]: Done  20 out of  20 | elapsed:    0.0s finished\n"
     ]
    },
    {
     "name": "stdout",
     "output_type": "stream",
     "text": [
      "[ 0.    0.    0.45  0.55]\n",
      "TESTDATA_BearingRub_RampUp\n",
      "Saving Random Forest Model from rf_s0.pkl\n",
      "Saving Extra Trees Model\n",
      "Saving Random Forest Model from rf_s1.pkl\n",
      "Saving Extra Trees Model\n",
      "Saving Random Forest Model from rf_s2.pkl\n",
      "Saving Extra Trees Model\n",
      "Saving Random Forest Model from rf_s3.pkl\n",
      "Saving Extra Trees Model\n",
      "\n"
     ]
    },
    {
     "name": "stderr",
     "output_type": "stream",
     "text": [
      "[Parallel(n_jobs=1)]: Done  20 out of  20 | elapsed:    0.0s finished\n",
      "[Parallel(n_jobs=1)]: Done  20 out of  20 | elapsed:    0.0s finished\n",
      "[Parallel(n_jobs=1)]: Done  20 out of  20 | elapsed:    0.0s finished\n",
      "[Parallel(n_jobs=1)]: Done  20 out of  20 | elapsed:    0.0s finished\n"
     ]
    },
    {
     "name": "stdout",
     "output_type": "stream",
     "text": [
      "[ 0.   0.   0.5  0.5]\n",
      "TESTDATA_BearingRub_FastRoll\n",
      "Saving Random Forest Model from rf_s0.pkl\n",
      "Saving Extra Trees Model\n",
      "Saving Random Forest Model from rf_s1.pkl\n",
      "Saving Extra Trees Model\n",
      "Saving Random Forest Model from rf_s2.pkl\n",
      "Saving Extra Trees Model\n",
      "Saving Random Forest Model from rf_s3.pkl\n",
      "Saving Extra Trees Model\n",
      "\n"
     ]
    },
    {
     "name": "stderr",
     "output_type": "stream",
     "text": [
      "[Parallel(n_jobs=1)]: Done  20 out of  20 | elapsed:    0.0s finished\n",
      "[Parallel(n_jobs=1)]: Done  20 out of  20 | elapsed:    0.0s finished\n",
      "[Parallel(n_jobs=1)]: Done  20 out of  20 | elapsed:    0.0s finished\n",
      "[Parallel(n_jobs=1)]: Done  20 out of  20 | elapsed:    0.0s finished\n"
     ]
    },
    {
     "name": "stdout",
     "output_type": "stream",
     "text": [
      "[ 0.  0.  0.  1.]\n",
      "TESTDATA_BearingRub_RampDown\n",
      "Saving Random Forest Model from rf_s0.pkl\n",
      "Saving Extra Trees Model\n",
      "Saving Random Forest Model from rf_s1.pkl\n",
      "Saving Extra Trees Model\n",
      "Saving Random Forest Model from rf_s2.pkl\n",
      "Saving Extra Trees Model\n",
      "Saving Random Forest Model from rf_s3.pkl\n",
      "Saving Extra Trees Model\n",
      "\n",
      "[ 0.    0.05  0.35  0.6 ]\n"
     ]
    },
    {
     "name": "stderr",
     "output_type": "stream",
     "text": [
      "[Parallel(n_jobs=1)]: Done  20 out of  20 | elapsed:    0.0s finished\n",
      "[Parallel(n_jobs=1)]: Done  20 out of  20 | elapsed:    0.0s finished\n",
      "[Parallel(n_jobs=1)]: Done  20 out of  20 | elapsed:    0.0s finished\n",
      "[Parallel(n_jobs=1)]: Done  20 out of  20 | elapsed:    0.0s finished\n"
     ]
    },
    {
     "name": "stdout",
     "output_type": "stream",
     "text": [
      "TESTDATA_Preload_SlowRoll\n",
      "Saving Random Forest Model from rf_s0.pkl\n",
      "Saving Extra Trees Model\n",
      "Saving Random Forest Model from rf_s1.pkl\n",
      "Saving Extra Trees Model\n",
      "Saving Random Forest Model from rf_s2.pkl\n",
      "Saving Extra Trees Model\n",
      "Saving Random Forest Model from rf_s3.pkl\n",
      "Saving Extra Trees Model\n"
     ]
    },
    {
     "name": "stderr",
     "output_type": "stream",
     "text": [
      "[Parallel(n_jobs=1)]: Done  20 out of  20 | elapsed:    0.0s finished\n",
      "[Parallel(n_jobs=1)]: Done  20 out of  20 | elapsed:    0.0s finished\n",
      "[Parallel(n_jobs=1)]: Done  20 out of  20 | elapsed:    0.0s finished\n",
      "[Parallel(n_jobs=1)]: Done  20 out of  20 | elapsed:    0.0s finished\n"
     ]
    },
    {
     "name": "stdout",
     "output_type": "stream",
     "text": [
      "\n",
      "[ 0.   0.   0.9  0.1]\n",
      "TESTDATA_Preload_RampUp\n",
      "Saving Random Forest Model from rf_s0.pkl\n",
      "Saving Extra Trees Model\n",
      "Saving Random Forest Model from rf_s1.pkl\n",
      "Saving Extra Trees Model\n",
      "Saving Random Forest Model from rf_s2.pkl\n",
      "Saving Extra Trees Model\n",
      "Saving Random Forest Model from rf_s3.pkl\n",
      "Saving Extra Trees Model\n",
      "\n",
      "[ 0.   0.   0.7  0.3]\n"
     ]
    },
    {
     "name": "stderr",
     "output_type": "stream",
     "text": [
      "[Parallel(n_jobs=1)]: Done  20 out of  20 | elapsed:    0.0s finished\n",
      "[Parallel(n_jobs=1)]: Done  20 out of  20 | elapsed:    0.0s finished\n",
      "[Parallel(n_jobs=1)]: Done  20 out of  20 | elapsed:    0.0s finished\n",
      "[Parallel(n_jobs=1)]: Done  20 out of  20 | elapsed:    0.0s finished\n"
     ]
    },
    {
     "name": "stdout",
     "output_type": "stream",
     "text": [
      "TESTDATA_Preload_FastRoll\n",
      "Saving Random Forest Model from rf_s0.pkl\n",
      "Saving Extra Trees Model\n",
      "Saving Random Forest Model from rf_s1.pkl\n",
      "Saving Extra Trees Model\n",
      "Saving Random Forest Model from rf_s2.pkl\n",
      "Saving Extra Trees Model\n",
      "Saving Random Forest Model from rf_s3.pkl\n",
      "Saving Extra Trees Model\n",
      "\n"
     ]
    },
    {
     "name": "stderr",
     "output_type": "stream",
     "text": [
      "[Parallel(n_jobs=1)]: Done  20 out of  20 | elapsed:    0.0s finished\n",
      "[Parallel(n_jobs=1)]: Done  20 out of  20 | elapsed:    0.0s finished\n",
      "[Parallel(n_jobs=1)]: Done  20 out of  20 | elapsed:    0.0s finished\n",
      "[Parallel(n_jobs=1)]: Done  20 out of  20 | elapsed:    0.0s finished\n"
     ]
    },
    {
     "name": "stdout",
     "output_type": "stream",
     "text": [
      "[ 0.  0.  1.  0.]\n",
      "TESTDATA_Preload_RampDown\n",
      "Saving Random Forest Model from rf_s0.pkl\n",
      "Saving Extra Trees Model\n",
      "Saving Random Forest Model from rf_s1.pkl\n",
      "Saving Extra Trees Model\n",
      "Saving Random Forest Model from rf_s2.pkl\n",
      "Saving Extra Trees Model\n",
      "Saving Random Forest Model from rf_s3.pkl\n",
      "Saving Extra Trees Model\n",
      "\n"
     ]
    },
    {
     "name": "stderr",
     "output_type": "stream",
     "text": [
      "[Parallel(n_jobs=1)]: Done  20 out of  20 | elapsed:    0.0s finished\n",
      "[Parallel(n_jobs=1)]: Done  20 out of  20 | elapsed:    0.0s finished\n",
      "[Parallel(n_jobs=1)]: Done  20 out of  20 | elapsed:    0.0s finished\n",
      "[Parallel(n_jobs=1)]: Done  20 out of  20 | elapsed:    0.0s finished\n"
     ]
    },
    {
     "name": "stdout",
     "output_type": "stream",
     "text": [
      "[ 0.   0.   0.8  0.2]\n",
      "TESTDATA_Unbalance_SlowRoll\n",
      "Saving Random Forest Model from rf_s0.pkl\n",
      "Saving Extra Trees Model\n",
      "Saving Random Forest Model from rf_s1.pkl\n",
      "Saving Extra Trees Model\n",
      "Saving Random Forest Model from rf_s2.pkl\n",
      "Saving Extra Trees Model\n",
      "Saving Random Forest Model from rf_s3.pkl\n",
      "Saving Extra Trees Model\n",
      "\n",
      "[ 0.    0.15  0.6   0.25]\n"
     ]
    },
    {
     "name": "stderr",
     "output_type": "stream",
     "text": [
      "[Parallel(n_jobs=1)]: Done  20 out of  20 | elapsed:    0.0s finished\n",
      "[Parallel(n_jobs=1)]: Done  20 out of  20 | elapsed:    0.0s finished\n",
      "[Parallel(n_jobs=1)]: Done  20 out of  20 | elapsed:    0.0s finished\n",
      "[Parallel(n_jobs=1)]: Done  20 out of  20 | elapsed:    0.0s finished\n"
     ]
    },
    {
     "name": "stdout",
     "output_type": "stream",
     "text": [
      "TESTDATA_Unbalance_RampUp\n",
      "Saving Random Forest Model from rf_s0.pkl\n",
      "Saving Extra Trees Model\n",
      "Saving Random Forest Model from rf_s1.pkl\n",
      "Saving Extra Trees Model\n",
      "Saving Random Forest Model from rf_s2.pkl\n",
      "Saving Extra Trees Model\n",
      "Saving Random Forest Model from rf_s3.pkl\n",
      "Saving Extra Trees Model\n",
      "\n",
      "[ 0.    0.05  0.4   0.55]\n"
     ]
    },
    {
     "name": "stderr",
     "output_type": "stream",
     "text": [
      "[Parallel(n_jobs=1)]: Done  20 out of  20 | elapsed:    0.0s finished\n",
      "[Parallel(n_jobs=1)]: Done  20 out of  20 | elapsed:    0.0s finished\n",
      "[Parallel(n_jobs=1)]: Done  20 out of  20 | elapsed:    0.0s finished\n",
      "[Parallel(n_jobs=1)]: Done  20 out of  20 | elapsed:    0.0s finished\n"
     ]
    },
    {
     "name": "stdout",
     "output_type": "stream",
     "text": [
      "TESTDATA_Unbalance_FastRoll\n",
      "Saving Random Forest Model from rf_s0.pkl\n",
      "Saving Extra Trees Model\n",
      "Saving Random Forest Model from rf_s1.pkl\n",
      "Saving Extra Trees Model\n",
      "Saving Random Forest Model from rf_s2.pkl\n",
      "Saving Extra Trees Model\n",
      "Saving Random Forest Model from rf_s3.pkl\n",
      "Saving Extra Trees Model\n",
      "\n"
     ]
    },
    {
     "name": "stderr",
     "output_type": "stream",
     "text": [
      "[Parallel(n_jobs=1)]: Done  20 out of  20 | elapsed:    0.0s finished\n",
      "[Parallel(n_jobs=1)]: Done  20 out of  20 | elapsed:    0.0s finished\n",
      "[Parallel(n_jobs=1)]: Done  20 out of  20 | elapsed:    0.0s finished\n",
      "[Parallel(n_jobs=1)]: Done  20 out of  20 | elapsed:    0.0s finished\n"
     ]
    },
    {
     "name": "stdout",
     "output_type": "stream",
     "text": [
      "[ 0.    0.75  0.    0.25]\n",
      "TESTDATA_Unbalance_RampDown\n",
      "Saving Random Forest Model from rf_s0.pkl\n",
      "Saving Extra Trees Model\n",
      "Saving Random Forest Model from rf_s1.pkl\n",
      "Saving Extra Trees Model\n",
      "Saving Random Forest Model from rf_s2.pkl\n",
      "Saving Extra Trees Model\n",
      "Saving Random Forest Model from rf_s3.pkl\n",
      "Saving Extra Trees Model\n",
      "\n",
      "[ 0.   0.   0.5  0.5]\n"
     ]
    },
    {
     "name": "stderr",
     "output_type": "stream",
     "text": [
      "[Parallel(n_jobs=1)]: Done  20 out of  20 | elapsed:    0.0s finished\n",
      "[Parallel(n_jobs=1)]: Done  20 out of  20 | elapsed:    0.0s finished\n",
      "[Parallel(n_jobs=1)]: Done  20 out of  20 | elapsed:    0.0s finished\n",
      "[Parallel(n_jobs=1)]: Done  20 out of  20 | elapsed:    0.0s finished\n"
     ]
    },
    {
     "name": "stdout",
     "output_type": "stream",
     "text": [
      "TESTDATA_Normal_SlowRoll\n",
      "Saving Random Forest Model from rf_s0.pkl\n",
      "Saving Extra Trees Model\n",
      "Saving Random Forest Model from rf_s1.pkl\n",
      "Saving Extra Trees Model\n",
      "Saving Random Forest Model from rf_s2.pkl\n",
      "Saving Extra Trees Model\n",
      "Saving Random Forest Model from rf_s3.pkl\n",
      "Saving Extra Trees Model\n",
      "\n"
     ]
    },
    {
     "name": "stderr",
     "output_type": "stream",
     "text": [
      "[Parallel(n_jobs=1)]: Done  20 out of  20 | elapsed:    0.0s finished\n",
      "[Parallel(n_jobs=1)]: Done  20 out of  20 | elapsed:    0.0s finished\n",
      "[Parallel(n_jobs=1)]: Done  20 out of  20 | elapsed:    0.0s finished\n",
      "[Parallel(n_jobs=1)]: Done  20 out of  20 | elapsed:    0.0s finished\n"
     ]
    },
    {
     "name": "stdout",
     "output_type": "stream",
     "text": [
      "[ 0.    0.05  0.5   0.45]\n",
      "TESTDATA_Normal_RampUp\n",
      "Saving Random Forest Model from rf_s0.pkl\n",
      "Saving Extra Trees Model\n",
      "Saving Random Forest Model from rf_s1.pkl\n",
      "Saving Extra Trees Model\n",
      "Saving Random Forest Model from rf_s2.pkl\n",
      "Saving Extra Trees Model\n",
      "Saving Random Forest Model from rf_s3.pkl\n",
      "Saving Extra Trees Model\n",
      "\n"
     ]
    },
    {
     "name": "stderr",
     "output_type": "stream",
     "text": [
      "[Parallel(n_jobs=1)]: Done  20 out of  20 | elapsed:    0.0s finished\n",
      "[Parallel(n_jobs=1)]: Done  20 out of  20 | elapsed:    0.0s finished\n",
      "[Parallel(n_jobs=1)]: Done  20 out of  20 | elapsed:    0.0s finished\n",
      "[Parallel(n_jobs=1)]: Done  20 out of  20 | elapsed:    0.0s finished\n"
     ]
    },
    {
     "name": "stdout",
     "output_type": "stream",
     "text": [
      "[ 0.   0.   0.5  0.5]\n",
      "TESTDATA_Normal_FastRoll\n",
      "Saving Random Forest Model from rf_s0.pkl\n",
      "Saving Extra Trees Model\n",
      "Saving Random Forest Model from rf_s1.pkl\n",
      "Saving Extra Trees Model\n",
      "Saving Random Forest Model from rf_s2.pkl\n",
      "Saving Extra Trees Model\n",
      "Saving Random Forest Model from rf_s3.pkl\n",
      "Saving Extra Trees Model\n",
      "\n"
     ]
    },
    {
     "name": "stderr",
     "output_type": "stream",
     "text": [
      "[Parallel(n_jobs=1)]: Done  20 out of  20 | elapsed:    0.0s finished\n",
      "[Parallel(n_jobs=1)]: Done  20 out of  20 | elapsed:    0.0s finished\n",
      "[Parallel(n_jobs=1)]: Done  20 out of  20 | elapsed:    0.0s finished\n",
      "[Parallel(n_jobs=1)]: Done  20 out of  20 | elapsed:    0.0s finished\n"
     ]
    },
    {
     "name": "stdout",
     "output_type": "stream",
     "text": [
      "[ 1.  0.  0.  0.]\n",
      "TESTDATA_Normal_RampDown\n",
      "Saving Random Forest Model from rf_s0.pkl\n",
      "Saving Extra Trees Model\n",
      "Saving Random Forest Model from rf_s1.pkl\n",
      "Saving Extra Trees Model\n",
      "Saving Random Forest Model from rf_s2.pkl\n",
      "Saving Extra Trees Model\n",
      "Saving Random Forest Model from rf_s3.pkl\n",
      "Saving Extra Trees Model\n",
      "\n"
     ]
    },
    {
     "name": "stderr",
     "output_type": "stream",
     "text": [
      "[Parallel(n_jobs=1)]: Done  20 out of  20 | elapsed:    0.0s finished\n",
      "[Parallel(n_jobs=1)]: Done  20 out of  20 | elapsed:    0.0s finished\n",
      "[Parallel(n_jobs=1)]: Done  20 out of  20 | elapsed:    0.0s finished\n",
      "[Parallel(n_jobs=1)]: Done  20 out of  20 | elapsed:    0.0s finished\n"
     ]
    },
    {
     "name": "stdout",
     "output_type": "stream",
     "text": [
      "[ 0.    0.    0.45  0.55]\n",
      "TESTDATA_BearingRub_SlowRoll\n",
      "Saving Random Forest Model from rf_s0.pkl\n",
      "Saving Extra Trees Model\n",
      "Saving Random Forest Model from rf_s1.pkl\n",
      "Saving Extra Trees Model\n",
      "Saving Random Forest Model from rf_s2.pkl\n",
      "Saving Extra Trees Model\n",
      "Saving Random Forest Model from rf_s3.pkl\n",
      "Saving Extra Trees Model\n",
      "\n",
      "[ 0.    0.    0.45  0.55]\n"
     ]
    },
    {
     "name": "stderr",
     "output_type": "stream",
     "text": [
      "[Parallel(n_jobs=1)]: Done  20 out of  20 | elapsed:    0.0s finished\n",
      "[Parallel(n_jobs=1)]: Done  20 out of  20 | elapsed:    0.0s finished\n",
      "[Parallel(n_jobs=1)]: Done  20 out of  20 | elapsed:    0.0s finished\n",
      "[Parallel(n_jobs=1)]: Done  20 out of  20 | elapsed:    0.0s finished\n"
     ]
    },
    {
     "name": "stdout",
     "output_type": "stream",
     "text": [
      "TESTDATA_BearingRub_RampUp\n",
      "Saving Random Forest Model from rf_s0.pkl\n",
      "Saving Extra Trees Model\n",
      "Saving Random Forest Model from rf_s1.pkl\n",
      "Saving Extra Trees Model\n",
      "Saving Random Forest Model from rf_s2.pkl\n",
      "Saving Extra Trees Model\n",
      "Saving Random Forest Model from rf_s3.pkl\n",
      "Saving Extra Trees Model\n",
      "\n",
      "[ 0.   0.   0.5  0.5]\n"
     ]
    },
    {
     "name": "stderr",
     "output_type": "stream",
     "text": [
      "[Parallel(n_jobs=1)]: Done  20 out of  20 | elapsed:    0.0s finished\n",
      "[Parallel(n_jobs=1)]: Done  20 out of  20 | elapsed:    0.0s finished\n",
      "[Parallel(n_jobs=1)]: Done  20 out of  20 | elapsed:    0.0s finished\n",
      "[Parallel(n_jobs=1)]: Done  20 out of  20 | elapsed:    0.0s finished\n"
     ]
    },
    {
     "name": "stdout",
     "output_type": "stream",
     "text": [
      "TESTDATA_BearingRub_FastRoll\n",
      "Saving Random Forest Model from rf_s0.pkl\n",
      "Saving Extra Trees Model\n",
      "Saving Random Forest Model from rf_s1.pkl\n",
      "Saving Extra Trees Model\n",
      "Saving Random Forest Model from rf_s2.pkl\n",
      "Saving Extra Trees Model\n",
      "Saving Random Forest Model from rf_s3.pkl\n",
      "Saving Extra Trees Model\n"
     ]
    },
    {
     "name": "stderr",
     "output_type": "stream",
     "text": [
      "[Parallel(n_jobs=1)]: Done  20 out of  20 | elapsed:    0.0s finished\n",
      "[Parallel(n_jobs=1)]: Done  20 out of  20 | elapsed:    0.0s finished\n",
      "[Parallel(n_jobs=1)]: Done  20 out of  20 | elapsed:    0.0s finished\n",
      "[Parallel(n_jobs=1)]: Done  20 out of  20 | elapsed:    0.0s finished\n"
     ]
    },
    {
     "name": "stdout",
     "output_type": "stream",
     "text": [
      "\n",
      "[ 0.  0.  0.  1.]\n",
      "TESTDATA_BearingRub_RampDown\n",
      "Saving Random Forest Model from rf_s0.pkl\n",
      "Saving Extra Trees Model\n",
      "Saving Random Forest Model from rf_s1.pkl\n",
      "Saving Extra Trees Model\n",
      "Saving Random Forest Model from rf_s2.pkl\n",
      "Saving Extra Trees Model\n",
      "Saving Random Forest Model from rf_s3.pkl\n",
      "Saving Extra Trees Model\n",
      "\n",
      "[ 0.    0.05  0.35  0.6 ]\n"
     ]
    },
    {
     "name": "stderr",
     "output_type": "stream",
     "text": [
      "[Parallel(n_jobs=1)]: Done  20 out of  20 | elapsed:    0.0s finished\n",
      "[Parallel(n_jobs=1)]: Done  20 out of  20 | elapsed:    0.0s finished\n",
      "[Parallel(n_jobs=1)]: Done  20 out of  20 | elapsed:    0.0s finished\n",
      "[Parallel(n_jobs=1)]: Done  20 out of  20 | elapsed:    0.0s finished\n"
     ]
    },
    {
     "name": "stdout",
     "output_type": "stream",
     "text": [
      "TESTDATA_Preload_SlowRoll\n",
      "Saving Random Forest Model from rf_s0.pkl\n",
      "Saving Extra Trees Model\n",
      "Saving Random Forest Model from rf_s1.pkl\n",
      "Saving Extra Trees Model\n",
      "Saving Random Forest Model from rf_s2.pkl\n",
      "Saving Extra Trees Model\n",
      "Saving Random Forest Model from rf_s3.pkl\n",
      "Saving Extra Trees Model\n",
      "\n",
      "[ 0.   0.   0.9  0.1]\n"
     ]
    },
    {
     "name": "stderr",
     "output_type": "stream",
     "text": [
      "[Parallel(n_jobs=1)]: Done  20 out of  20 | elapsed:    0.0s finished\n",
      "[Parallel(n_jobs=1)]: Done  20 out of  20 | elapsed:    0.0s finished\n",
      "[Parallel(n_jobs=1)]: Done  20 out of  20 | elapsed:    0.0s finished\n",
      "[Parallel(n_jobs=1)]: Done  20 out of  20 | elapsed:    0.0s finished\n"
     ]
    },
    {
     "name": "stdout",
     "output_type": "stream",
     "text": [
      "TESTDATA_Preload_RampUp\n",
      "Saving Random Forest Model from rf_s0.pkl\n",
      "Saving Extra Trees Model\n",
      "Saving Random Forest Model from rf_s1.pkl\n",
      "Saving Extra Trees Model\n",
      "Saving Random Forest Model from rf_s2.pkl\n",
      "Saving Extra Trees Model\n",
      "Saving Random Forest Model from rf_s3.pkl\n",
      "Saving Extra Trees Model\n"
     ]
    },
    {
     "name": "stderr",
     "output_type": "stream",
     "text": [
      "[Parallel(n_jobs=1)]: Done  20 out of  20 | elapsed:    0.0s finished\n",
      "[Parallel(n_jobs=1)]: Done  20 out of  20 | elapsed:    0.0s finished\n",
      "[Parallel(n_jobs=1)]: Done  20 out of  20 | elapsed:    0.0s finished\n",
      "[Parallel(n_jobs=1)]: Done  20 out of  20 | elapsed:    0.0s finished\n"
     ]
    },
    {
     "name": "stdout",
     "output_type": "stream",
     "text": [
      "\n",
      "[ 0.   0.   0.7  0.3]\n",
      "TESTDATA_Preload_FastRoll\n",
      "Saving Random Forest Model from rf_s0.pkl\n",
      "Saving Extra Trees Model\n",
      "Saving Random Forest Model from rf_s1.pkl\n",
      "Saving Extra Trees Model\n",
      "Saving Random Forest Model from rf_s2.pkl\n",
      "Saving Extra Trees Model\n",
      "Saving Random Forest Model from rf_s3.pkl\n",
      "Saving Extra Trees Model\n",
      "\n",
      "[ 0.  0.  1.  0.]\n"
     ]
    },
    {
     "name": "stderr",
     "output_type": "stream",
     "text": [
      "[Parallel(n_jobs=1)]: Done  20 out of  20 | elapsed:    0.0s finished\n",
      "[Parallel(n_jobs=1)]: Done  20 out of  20 | elapsed:    0.0s finished\n",
      "[Parallel(n_jobs=1)]: Done  20 out of  20 | elapsed:    0.0s finished\n",
      "[Parallel(n_jobs=1)]: Done  20 out of  20 | elapsed:    0.0s finished\n"
     ]
    },
    {
     "name": "stdout",
     "output_type": "stream",
     "text": [
      "TESTDATA_Preload_RampDown\n",
      "Saving Random Forest Model from rf_s0.pkl\n",
      "Saving Extra Trees Model\n",
      "Saving Random Forest Model from rf_s1.pkl\n",
      "Saving Extra Trees Model\n",
      "Saving Random Forest Model from rf_s2.pkl\n",
      "Saving Extra Trees Model\n",
      "Saving Random Forest Model from rf_s3.pkl\n",
      "Saving Extra Trees Model\n",
      "\n"
     ]
    },
    {
     "name": "stderr",
     "output_type": "stream",
     "text": [
      "[Parallel(n_jobs=1)]: Done  20 out of  20 | elapsed:    0.0s finished\n",
      "[Parallel(n_jobs=1)]: Done  20 out of  20 | elapsed:    0.0s finished\n",
      "[Parallel(n_jobs=1)]: Done  20 out of  20 | elapsed:    0.0s finished\n",
      "[Parallel(n_jobs=1)]: Done  20 out of  20 | elapsed:    0.0s finished\n"
     ]
    },
    {
     "name": "stdout",
     "output_type": "stream",
     "text": [
      "[ 0.   0.   0.8  0.2]\n",
      "TESTDATA_Unbalance_SlowRoll\n",
      "Saving Random Forest Model from rf_s0.pkl\n",
      "Saving Extra Trees Model\n",
      "Saving Random Forest Model from rf_s1.pkl\n",
      "Saving Extra Trees Model\n",
      "Saving Random Forest Model from rf_s2.pkl\n",
      "Saving Extra Trees Model\n",
      "Saving Random Forest Model from rf_s3.pkl\n",
      "Saving Extra Trees Model\n",
      "\n"
     ]
    },
    {
     "name": "stderr",
     "output_type": "stream",
     "text": [
      "[Parallel(n_jobs=1)]: Done  20 out of  20 | elapsed:    0.0s finished\n",
      "[Parallel(n_jobs=1)]: Done  20 out of  20 | elapsed:    0.0s finished\n",
      "[Parallel(n_jobs=1)]: Done  20 out of  20 | elapsed:    0.0s finished\n",
      "[Parallel(n_jobs=1)]: Done  20 out of  20 | elapsed:    0.0s finished\n"
     ]
    },
    {
     "name": "stdout",
     "output_type": "stream",
     "text": [
      "[ 0.    0.15  0.6   0.25]\n",
      "TESTDATA_Unbalance_RampUp\n",
      "Saving Random Forest Model from rf_s0.pkl\n",
      "Saving Extra Trees Model\n",
      "Saving Random Forest Model from rf_s1.pkl\n",
      "Saving Extra Trees Model\n",
      "Saving Random Forest Model from rf_s2.pkl\n",
      "Saving Extra Trees Model\n",
      "Saving Random Forest Model from rf_s3.pkl\n",
      "Saving Extra Trees Model\n",
      "\n",
      "[ 0.    0.05  0.4   0.55]\n"
     ]
    },
    {
     "name": "stderr",
     "output_type": "stream",
     "text": [
      "[Parallel(n_jobs=1)]: Done  20 out of  20 | elapsed:    0.0s finished\n",
      "[Parallel(n_jobs=1)]: Done  20 out of  20 | elapsed:    0.0s finished\n",
      "[Parallel(n_jobs=1)]: Done  20 out of  20 | elapsed:    0.0s finished\n",
      "[Parallel(n_jobs=1)]: Done  20 out of  20 | elapsed:    0.0s finished\n"
     ]
    },
    {
     "name": "stdout",
     "output_type": "stream",
     "text": [
      "TESTDATA_Unbalance_FastRoll\n",
      "Saving Random Forest Model from rf_s0.pkl\n",
      "Saving Extra Trees Model\n",
      "Saving Random Forest Model from rf_s1.pkl\n",
      "Saving Extra Trees Model\n",
      "Saving Random Forest Model from rf_s2.pkl\n",
      "Saving Extra Trees Model\n",
      "Saving Random Forest Model from rf_s3.pkl\n",
      "Saving Extra Trees Model\n",
      "\n"
     ]
    },
    {
     "name": "stderr",
     "output_type": "stream",
     "text": [
      "[Parallel(n_jobs=1)]: Done  20 out of  20 | elapsed:    0.0s finished\n",
      "[Parallel(n_jobs=1)]: Done  20 out of  20 | elapsed:    0.0s finished\n",
      "[Parallel(n_jobs=1)]: Done  20 out of  20 | elapsed:    0.0s finished\n",
      "[Parallel(n_jobs=1)]: Done  20 out of  20 | elapsed:    0.0s finished\n"
     ]
    },
    {
     "name": "stdout",
     "output_type": "stream",
     "text": [
      "[ 0.    0.75  0.    0.25]\n",
      "TESTDATA_Unbalance_RampDown\n",
      "Saving Random Forest Model from rf_s0.pkl\n",
      "Saving Extra Trees Model\n",
      "Saving Random Forest Model from rf_s1.pkl\n",
      "Saving Extra Trees Model\n",
      "Saving Random Forest Model from rf_s2.pkl\n",
      "Saving Extra Trees Model\n",
      "Saving Random Forest Model from rf_s3.pkl\n",
      "Saving Extra Trees Model\n",
      "\n",
      "[ 0.   0.   0.5  0.5]\n"
     ]
    },
    {
     "name": "stderr",
     "output_type": "stream",
     "text": [
      "[Parallel(n_jobs=1)]: Done  20 out of  20 | elapsed:    0.0s finished\n",
      "[Parallel(n_jobs=1)]: Done  20 out of  20 | elapsed:    0.0s finished\n",
      "[Parallel(n_jobs=1)]: Done  20 out of  20 | elapsed:    0.0s finished\n",
      "[Parallel(n_jobs=1)]: Done  20 out of  20 | elapsed:    0.0s finished\n"
     ]
    },
    {
     "name": "stdout",
     "output_type": "stream",
     "text": [
      "TESTDATA_Normal_SlowRoll\n",
      "Saving Random Forest Model from rf_s0.pkl\n",
      "Saving Extra Trees Model\n",
      "Saving Random Forest Model from rf_s1.pkl\n",
      "Saving Extra Trees Model\n",
      "Saving Random Forest Model from rf_s2.pkl\n",
      "Saving Extra Trees Model\n",
      "Saving Random Forest Model from rf_s3.pkl\n",
      "Saving Extra Trees Model\n",
      "\n",
      "[ 0.    0.05  0.5   0.45]\n"
     ]
    },
    {
     "name": "stderr",
     "output_type": "stream",
     "text": [
      "[Parallel(n_jobs=1)]: Done  20 out of  20 | elapsed:    0.0s finished\n",
      "[Parallel(n_jobs=1)]: Done  20 out of  20 | elapsed:    0.0s finished\n",
      "[Parallel(n_jobs=1)]: Done  20 out of  20 | elapsed:    0.0s finished\n",
      "[Parallel(n_jobs=1)]: Done  20 out of  20 | elapsed:    0.0s finished\n"
     ]
    },
    {
     "name": "stdout",
     "output_type": "stream",
     "text": [
      "TESTDATA_Normal_RampUp\n",
      "Saving Random Forest Model from rf_s0.pkl\n",
      "Saving Extra Trees Model\n",
      "Saving Random Forest Model from rf_s1.pkl\n",
      "Saving Extra Trees Model\n",
      "Saving Random Forest Model from rf_s2.pkl\n",
      "Saving Extra Trees Model\n",
      "Saving Random Forest Model from rf_s3.pkl\n",
      "Saving Extra Trees Model\n",
      "\n"
     ]
    },
    {
     "name": "stderr",
     "output_type": "stream",
     "text": [
      "[Parallel(n_jobs=1)]: Done  20 out of  20 | elapsed:    0.0s finished\n",
      "[Parallel(n_jobs=1)]: Done  20 out of  20 | elapsed:    0.0s finished\n",
      "[Parallel(n_jobs=1)]: Done  20 out of  20 | elapsed:    0.0s finished\n",
      "[Parallel(n_jobs=1)]: Done  20 out of  20 | elapsed:    0.0s finished\n"
     ]
    },
    {
     "name": "stdout",
     "output_type": "stream",
     "text": [
      "[ 0.   0.   0.5  0.5]\n",
      "TESTDATA_Normal_FastRoll\n",
      "Saving Random Forest Model from rf_s0.pkl\n",
      "Saving Extra Trees Model\n",
      "Saving Random Forest Model from rf_s1.pkl\n",
      "Saving Extra Trees Model\n",
      "Saving Random Forest Model from rf_s2.pkl\n",
      "Saving Extra Trees Model\n",
      "Saving Random Forest Model from rf_s3.pkl\n",
      "Saving Extra Trees Model\n",
      "\n"
     ]
    },
    {
     "name": "stderr",
     "output_type": "stream",
     "text": [
      "[Parallel(n_jobs=1)]: Done  20 out of  20 | elapsed:    0.0s finished\n",
      "[Parallel(n_jobs=1)]: Done  20 out of  20 | elapsed:    0.0s finished\n",
      "[Parallel(n_jobs=1)]: Done  20 out of  20 | elapsed:    0.0s finished\n",
      "[Parallel(n_jobs=1)]: Done  20 out of  20 | elapsed:    0.0s finished\n"
     ]
    },
    {
     "name": "stdout",
     "output_type": "stream",
     "text": [
      "[ 1.  0.  0.  0.]\n",
      "TESTDATA_Normal_RampDown\n",
      "Saving Random Forest Model from rf_s0.pkl\n",
      "Saving Extra Trees Model\n",
      "Saving Random Forest Model from rf_s1.pkl\n",
      "Saving Extra Trees Model\n",
      "Saving Random Forest Model from rf_s2.pkl\n",
      "Saving Extra Trees Model\n",
      "Saving Random Forest Model from rf_s3.pkl\n",
      "Saving Extra Trees Model\n",
      "\n",
      "[ 0.    0.    0.45  0.55]\n"
     ]
    },
    {
     "name": "stderr",
     "output_type": "stream",
     "text": [
      "[Parallel(n_jobs=1)]: Done  20 out of  20 | elapsed:    0.0s finished\n",
      "[Parallel(n_jobs=1)]: Done  20 out of  20 | elapsed:    0.0s finished\n",
      "[Parallel(n_jobs=1)]: Done  20 out of  20 | elapsed:    0.0s finished\n",
      "[Parallel(n_jobs=1)]: Done  20 out of  20 | elapsed:    0.0s finished\n"
     ]
    },
    {
     "name": "stdout",
     "output_type": "stream",
     "text": [
      "TESTDATA_BearingRub_SlowRoll\n",
      "Saving Random Forest Model from rf_s0.pkl\n",
      "Saving Extra Trees Model\n",
      "Saving Random Forest Model from rf_s1.pkl\n",
      "Saving Extra Trees Model\n",
      "Saving Random Forest Model from rf_s2.pkl\n",
      "Saving Extra Trees Model\n",
      "Saving Random Forest Model from rf_s3.pkl\n",
      "Saving Extra Trees Model\n",
      "\n",
      "[ 0.    0.    0.45  0.55]\n"
     ]
    },
    {
     "name": "stderr",
     "output_type": "stream",
     "text": [
      "[Parallel(n_jobs=1)]: Done  20 out of  20 | elapsed:    0.0s finished\n",
      "[Parallel(n_jobs=1)]: Done  20 out of  20 | elapsed:    0.0s finished\n",
      "[Parallel(n_jobs=1)]: Done  20 out of  20 | elapsed:    0.0s finished\n",
      "[Parallel(n_jobs=1)]: Done  20 out of  20 | elapsed:    0.0s finished\n"
     ]
    },
    {
     "name": "stdout",
     "output_type": "stream",
     "text": [
      "TESTDATA_BearingRub_RampUp\n",
      "Saving Random Forest Model from rf_s0.pkl\n",
      "Saving Extra Trees Model\n",
      "Saving Random Forest Model from rf_s1.pkl\n",
      "Saving Extra Trees Model\n",
      "Saving Random Forest Model from rf_s2.pkl\n",
      "Saving Extra Trees Model\n",
      "Saving Random Forest Model from rf_s3.pkl\n",
      "Saving Extra Trees Model\n",
      "\n"
     ]
    },
    {
     "name": "stderr",
     "output_type": "stream",
     "text": [
      "[Parallel(n_jobs=1)]: Done  20 out of  20 | elapsed:    0.0s finished\n",
      "[Parallel(n_jobs=1)]: Done  20 out of  20 | elapsed:    0.0s finished\n",
      "[Parallel(n_jobs=1)]: Done  20 out of  20 | elapsed:    0.0s finished\n",
      "[Parallel(n_jobs=1)]: Done  20 out of  20 | elapsed:    0.0s finished\n"
     ]
    },
    {
     "name": "stdout",
     "output_type": "stream",
     "text": [
      "[ 0.   0.   0.5  0.5]\n",
      "TESTDATA_BearingRub_FastRoll\n",
      "Saving Random Forest Model from rf_s0.pkl\n",
      "Saving Extra Trees Model\n",
      "Saving Random Forest Model from rf_s1.pkl\n",
      "Saving Extra Trees Model\n",
      "Saving Random Forest Model from rf_s2.pkl\n",
      "Saving Extra Trees Model\n",
      "Saving Random Forest Model from rf_s3.pkl\n",
      "Saving Extra Trees Model\n",
      "\n",
      "[ 0.  0.  0.  1.]\n"
     ]
    },
    {
     "name": "stderr",
     "output_type": "stream",
     "text": [
      "[Parallel(n_jobs=1)]: Done  20 out of  20 | elapsed:    0.0s finished\n",
      "[Parallel(n_jobs=1)]: Done  20 out of  20 | elapsed:    0.0s finished\n",
      "[Parallel(n_jobs=1)]: Done  20 out of  20 | elapsed:    0.0s finished\n",
      "[Parallel(n_jobs=1)]: Done  20 out of  20 | elapsed:    0.0s finished\n"
     ]
    },
    {
     "name": "stdout",
     "output_type": "stream",
     "text": [
      "TESTDATA_BearingRub_RampDown\n",
      "Saving Random Forest Model from rf_s0.pkl\n",
      "Saving Extra Trees Model\n",
      "Saving Random Forest Model from rf_s1.pkl\n",
      "Saving Extra Trees Model\n",
      "Saving Random Forest Model from rf_s2.pkl\n",
      "Saving Extra Trees Model\n",
      "Saving Random Forest Model from rf_s3.pkl\n",
      "Saving Extra Trees Model\n",
      "\n"
     ]
    },
    {
     "name": "stderr",
     "output_type": "stream",
     "text": [
      "[Parallel(n_jobs=1)]: Done  20 out of  20 | elapsed:    0.0s finished\n",
      "[Parallel(n_jobs=1)]: Done  20 out of  20 | elapsed:    0.0s finished\n",
      "[Parallel(n_jobs=1)]: Done  20 out of  20 | elapsed:    0.0s finished\n",
      "[Parallel(n_jobs=1)]: Done  20 out of  20 | elapsed:    0.0s finished\n"
     ]
    },
    {
     "name": "stdout",
     "output_type": "stream",
     "text": [
      "[ 0.    0.05  0.35  0.6 ]\n",
      "TESTDATA_Preload_SlowRoll\n",
      "Saving Random Forest Model from rf_s0.pkl\n",
      "Saving Extra Trees Model\n",
      "Saving Random Forest Model from rf_s1.pkl\n",
      "Saving Extra Trees Model\n",
      "Saving Random Forest Model from rf_s2.pkl\n",
      "Saving Extra Trees Model\n",
      "Saving Random Forest Model from rf_s3.pkl\n",
      "Saving Extra Trees Model\n",
      "\n"
     ]
    },
    {
     "name": "stderr",
     "output_type": "stream",
     "text": [
      "[Parallel(n_jobs=1)]: Done  20 out of  20 | elapsed:    0.0s finished\n",
      "[Parallel(n_jobs=1)]: Done  20 out of  20 | elapsed:    0.0s finished\n",
      "[Parallel(n_jobs=1)]: Done  20 out of  20 | elapsed:    0.0s finished\n",
      "[Parallel(n_jobs=1)]: Done  20 out of  20 | elapsed:    0.0s finished\n"
     ]
    },
    {
     "name": "stdout",
     "output_type": "stream",
     "text": [
      "[ 0.   0.   0.9  0.1]\n",
      "TESTDATA_Preload_RampUp\n",
      "Saving Random Forest Model from rf_s0.pkl\n",
      "Saving Extra Trees Model\n",
      "Saving Random Forest Model from rf_s1.pkl\n",
      "Saving Extra Trees Model\n",
      "Saving Random Forest Model from rf_s2.pkl\n",
      "Saving Extra Trees Model\n",
      "Saving Random Forest Model from rf_s3.pkl\n",
      "Saving Extra Trees Model\n",
      "\n"
     ]
    },
    {
     "name": "stderr",
     "output_type": "stream",
     "text": [
      "[Parallel(n_jobs=1)]: Done  20 out of  20 | elapsed:    0.0s finished\n",
      "[Parallel(n_jobs=1)]: Done  20 out of  20 | elapsed:    0.0s finished\n",
      "[Parallel(n_jobs=1)]: Done  20 out of  20 | elapsed:    0.0s finished\n",
      "[Parallel(n_jobs=1)]: Done  20 out of  20 | elapsed:    0.0s finished\n"
     ]
    },
    {
     "name": "stdout",
     "output_type": "stream",
     "text": [
      "[ 0.   0.   0.7  0.3]\n",
      "TESTDATA_Preload_FastRoll\n",
      "Saving Random Forest Model from rf_s0.pkl\n",
      "Saving Extra Trees Model\n",
      "Saving Random Forest Model from rf_s1.pkl\n",
      "Saving Extra Trees Model\n",
      "Saving Random Forest Model from rf_s2.pkl\n",
      "Saving Extra Trees Model\n",
      "Saving Random Forest Model from rf_s3.pkl\n",
      "Saving Extra Trees Model\n",
      "\n",
      "[ 0.  0.  1.  0.]\n"
     ]
    },
    {
     "name": "stderr",
     "output_type": "stream",
     "text": [
      "[Parallel(n_jobs=1)]: Done  20 out of  20 | elapsed:    0.0s finished\n",
      "[Parallel(n_jobs=1)]: Done  20 out of  20 | elapsed:    0.0s finished\n",
      "[Parallel(n_jobs=1)]: Done  20 out of  20 | elapsed:    0.0s finished\n",
      "[Parallel(n_jobs=1)]: Done  20 out of  20 | elapsed:    0.0s finished\n"
     ]
    },
    {
     "name": "stdout",
     "output_type": "stream",
     "text": [
      "TESTDATA_Preload_RampDown\n",
      "Saving Random Forest Model from rf_s0.pkl\n",
      "Saving Extra Trees Model\n",
      "Saving Random Forest Model from rf_s1.pkl\n",
      "Saving Extra Trees Model\n",
      "Saving Random Forest Model from rf_s2.pkl\n",
      "Saving Extra Trees Model\n",
      "Saving Random Forest Model from rf_s3.pkl\n",
      "Saving Extra Trees Model\n",
      "\n"
     ]
    },
    {
     "name": "stderr",
     "output_type": "stream",
     "text": [
      "[Parallel(n_jobs=1)]: Done  20 out of  20 | elapsed:    0.0s finished\n",
      "[Parallel(n_jobs=1)]: Done  20 out of  20 | elapsed:    0.0s finished\n",
      "[Parallel(n_jobs=1)]: Done  20 out of  20 | elapsed:    0.0s finished\n",
      "[Parallel(n_jobs=1)]: Done  20 out of  20 | elapsed:    0.0s finished\n"
     ]
    },
    {
     "name": "stdout",
     "output_type": "stream",
     "text": [
      "[ 0.   0.   0.8  0.2]\n",
      "TESTDATA_Unbalance_SlowRoll\n",
      "Saving Random Forest Model from rf_s0.pkl\n",
      "Saving Extra Trees Model\n",
      "Saving Random Forest Model from rf_s1.pkl\n",
      "Saving Extra Trees Model\n",
      "Saving Random Forest Model from rf_s2.pkl\n",
      "Saving Extra Trees Model\n",
      "Saving Random Forest Model from rf_s3.pkl\n",
      "Saving Extra Trees Model\n",
      "\n"
     ]
    },
    {
     "name": "stderr",
     "output_type": "stream",
     "text": [
      "[Parallel(n_jobs=1)]: Done  20 out of  20 | elapsed:    0.0s finished\n",
      "[Parallel(n_jobs=1)]: Done  20 out of  20 | elapsed:    0.0s finished\n",
      "[Parallel(n_jobs=1)]: Done  20 out of  20 | elapsed:    0.0s finished\n",
      "[Parallel(n_jobs=1)]: Done  20 out of  20 | elapsed:    0.0s finished\n"
     ]
    },
    {
     "name": "stdout",
     "output_type": "stream",
     "text": [
      "[ 0.    0.15  0.6   0.25]\n",
      "TESTDATA_Unbalance_RampUp\n",
      "Saving Random Forest Model from rf_s0.pkl\n",
      "Saving Extra Trees Model\n",
      "Saving Random Forest Model from rf_s1.pkl\n",
      "Saving Extra Trees Model\n",
      "Saving Random Forest Model from rf_s2.pkl\n",
      "Saving Extra Trees Model\n",
      "Saving Random Forest Model from rf_s3.pkl\n",
      "Saving Extra Trees Model\n",
      "\n"
     ]
    },
    {
     "name": "stderr",
     "output_type": "stream",
     "text": [
      "[Parallel(n_jobs=1)]: Done  20 out of  20 | elapsed:    0.0s finished\n",
      "[Parallel(n_jobs=1)]: Done  20 out of  20 | elapsed:    0.0s finished\n",
      "[Parallel(n_jobs=1)]: Done  20 out of  20 | elapsed:    0.0s finished\n",
      "[Parallel(n_jobs=1)]: Done  20 out of  20 | elapsed:    0.0s finished\n"
     ]
    },
    {
     "name": "stdout",
     "output_type": "stream",
     "text": [
      "[ 0.    0.05  0.4   0.55]\n",
      "TESTDATA_Unbalance_FastRoll\n",
      "Saving Random Forest Model from rf_s0.pkl\n",
      "Saving Extra Trees Model\n",
      "Saving Random Forest Model from rf_s1.pkl\n",
      "Saving Extra Trees Model\n",
      "Saving Random Forest Model from rf_s2.pkl\n",
      "Saving Extra Trees Model\n",
      "Saving Random Forest Model from rf_s3.pkl\n",
      "Saving Extra Trees Model\n",
      "\n"
     ]
    },
    {
     "name": "stderr",
     "output_type": "stream",
     "text": [
      "[Parallel(n_jobs=1)]: Done  20 out of  20 | elapsed:    0.0s finished\n",
      "[Parallel(n_jobs=1)]: Done  20 out of  20 | elapsed:    0.0s finished\n",
      "[Parallel(n_jobs=1)]: Done  20 out of  20 | elapsed:    0.0s finished\n",
      "[Parallel(n_jobs=1)]: Done  20 out of  20 | elapsed:    0.0s finished\n"
     ]
    },
    {
     "name": "stdout",
     "output_type": "stream",
     "text": [
      "[ 0.    0.75  0.    0.25]\n",
      "TESTDATA_Unbalance_RampDown\n",
      "Saving Random Forest Model from rf_s0.pkl\n",
      "Saving Extra Trees Model\n",
      "Saving Random Forest Model from rf_s1.pkl\n",
      "Saving Extra Trees Model\n",
      "Saving Random Forest Model from rf_s2.pkl\n",
      "Saving Extra Trees Model\n",
      "Saving Random Forest Model from rf_s3.pkl\n",
      "Saving Extra Trees Model\n",
      "\n"
     ]
    },
    {
     "name": "stderr",
     "output_type": "stream",
     "text": [
      "[Parallel(n_jobs=1)]: Done  20 out of  20 | elapsed:    0.0s finished\n",
      "[Parallel(n_jobs=1)]: Done  20 out of  20 | elapsed:    0.0s finished\n",
      "[Parallel(n_jobs=1)]: Done  20 out of  20 | elapsed:    0.0s finished\n",
      "[Parallel(n_jobs=1)]: Done  20 out of  20 | elapsed:    0.0s finished\n"
     ]
    },
    {
     "name": "stdout",
     "output_type": "stream",
     "text": [
      "[ 0.   0.   0.5  0.5]\n",
      "TESTDATA_Normal_SlowRoll\n",
      "Saving Random Forest Model from rf_s0.pkl\n",
      "Saving Extra Trees Model\n",
      "Saving Random Forest Model from rf_s1.pkl\n",
      "Saving Extra Trees Model\n",
      "Saving Random Forest Model from rf_s2.pkl\n",
      "Saving Extra Trees Model\n",
      "Saving Random Forest Model from rf_s3.pkl\n",
      "Saving Extra Trees Model\n",
      "\n"
     ]
    },
    {
     "name": "stderr",
     "output_type": "stream",
     "text": [
      "[Parallel(n_jobs=1)]: Done  20 out of  20 | elapsed:    0.0s finished\n",
      "[Parallel(n_jobs=1)]: Done  20 out of  20 | elapsed:    0.0s finished\n",
      "[Parallel(n_jobs=1)]: Done  20 out of  20 | elapsed:    0.0s finished\n",
      "[Parallel(n_jobs=1)]: Done  20 out of  20 | elapsed:    0.0s finished\n"
     ]
    },
    {
     "name": "stdout",
     "output_type": "stream",
     "text": [
      "[ 0.    0.05  0.5   0.45]\n",
      "TESTDATA_Normal_RampUp\n",
      "Saving Random Forest Model from rf_s0.pkl\n",
      "Saving Extra Trees Model\n",
      "Saving Random Forest Model from rf_s1.pkl\n",
      "Saving Extra Trees Model\n",
      "Saving Random Forest Model from rf_s2.pkl\n",
      "Saving Extra Trees Model\n",
      "Saving Random Forest Model from rf_s3.pkl\n",
      "Saving Extra Trees Model\n",
      "\n",
      "[ 0.   0.   0.5  0.5]\n"
     ]
    },
    {
     "name": "stderr",
     "output_type": "stream",
     "text": [
      "[Parallel(n_jobs=1)]: Done  20 out of  20 | elapsed:    0.0s finished\n",
      "[Parallel(n_jobs=1)]: Done  20 out of  20 | elapsed:    0.0s finished\n",
      "[Parallel(n_jobs=1)]: Done  20 out of  20 | elapsed:    0.0s finished\n",
      "[Parallel(n_jobs=1)]: Done  20 out of  20 | elapsed:    0.0s finished\n"
     ]
    },
    {
     "name": "stdout",
     "output_type": "stream",
     "text": [
      "TESTDATA_Normal_FastRoll\n",
      "Saving Random Forest Model from rf_s0.pkl\n",
      "Saving Extra Trees Model\n",
      "Saving Random Forest Model from rf_s1.pkl\n",
      "Saving Extra Trees Model\n",
      "Saving Random Forest Model from rf_s2.pkl\n",
      "Saving Extra Trees Model\n",
      "Saving Random Forest Model from rf_s3.pkl\n",
      "Saving Extra Trees Model\n",
      "\n"
     ]
    },
    {
     "name": "stderr",
     "output_type": "stream",
     "text": [
      "[Parallel(n_jobs=1)]: Done  20 out of  20 | elapsed:    0.0s finished\n",
      "[Parallel(n_jobs=1)]: Done  20 out of  20 | elapsed:    0.0s finished\n",
      "[Parallel(n_jobs=1)]: Done  20 out of  20 | elapsed:    0.0s finished\n",
      "[Parallel(n_jobs=1)]: Done  20 out of  20 | elapsed:    0.0s finished\n"
     ]
    },
    {
     "name": "stdout",
     "output_type": "stream",
     "text": [
      "[ 1.  0.  0.  0.]\n",
      "TESTDATA_Normal_RampDown\n",
      "Saving Random Forest Model from rf_s0.pkl\n",
      "Saving Extra Trees Model\n",
      "Saving Random Forest Model from rf_s1.pkl\n",
      "Saving Extra Trees Model\n",
      "Saving Random Forest Model from rf_s2.pkl\n",
      "Saving Extra Trees Model\n",
      "Saving Random Forest Model from rf_s3.pkl\n",
      "Saving Extra Trees Model\n",
      "\n"
     ]
    },
    {
     "name": "stderr",
     "output_type": "stream",
     "text": [
      "[Parallel(n_jobs=1)]: Done  20 out of  20 | elapsed:    0.0s finished\n",
      "[Parallel(n_jobs=1)]: Done  20 out of  20 | elapsed:    0.0s finished\n",
      "[Parallel(n_jobs=1)]: Done  20 out of  20 | elapsed:    0.0s finished\n",
      "[Parallel(n_jobs=1)]: Done  20 out of  20 | elapsed:    0.0s finished\n"
     ]
    },
    {
     "name": "stdout",
     "output_type": "stream",
     "text": [
      "[ 0.    0.    0.45  0.55]\n",
      "TESTDATA_BearingRub_SlowRoll\n",
      "Saving Random Forest Model from rf_s0.pkl\n",
      "Saving Extra Trees Model\n",
      "Saving Random Forest Model from rf_s1.pkl\n",
      "Saving Extra Trees Model\n",
      "Saving Random Forest Model from rf_s2.pkl\n",
      "Saving Extra Trees Model\n",
      "Saving Random Forest Model from rf_s3.pkl\n",
      "Saving Extra Trees Model\n",
      "\n"
     ]
    },
    {
     "name": "stderr",
     "output_type": "stream",
     "text": [
      "[Parallel(n_jobs=1)]: Done  20 out of  20 | elapsed:    0.0s finished\n",
      "[Parallel(n_jobs=1)]: Done  20 out of  20 | elapsed:    0.0s finished\n",
      "[Parallel(n_jobs=1)]: Done  20 out of  20 | elapsed:    0.0s finished\n",
      "[Parallel(n_jobs=1)]: Done  20 out of  20 | elapsed:    0.0s finished\n"
     ]
    },
    {
     "name": "stdout",
     "output_type": "stream",
     "text": [
      "[ 0.    0.    0.45  0.55]\n",
      "TESTDATA_BearingRub_RampUp\n",
      "Saving Random Forest Model from rf_s0.pkl\n",
      "Saving Extra Trees Model\n",
      "Saving Random Forest Model from rf_s1.pkl\n",
      "Saving Extra Trees Model\n",
      "Saving Random Forest Model from rf_s2.pkl\n",
      "Saving Extra Trees Model\n",
      "Saving Random Forest Model from rf_s3.pkl\n",
      "Saving Extra Trees Model\n",
      "\n",
      "[ 0.   0.   0.5  0.5]\n"
     ]
    },
    {
     "name": "stderr",
     "output_type": "stream",
     "text": [
      "[Parallel(n_jobs=1)]: Done  20 out of  20 | elapsed:    0.0s finished\n",
      "[Parallel(n_jobs=1)]: Done  20 out of  20 | elapsed:    0.0s finished\n",
      "[Parallel(n_jobs=1)]: Done  20 out of  20 | elapsed:    0.0s finished\n",
      "[Parallel(n_jobs=1)]: Done  20 out of  20 | elapsed:    0.0s finished\n"
     ]
    },
    {
     "name": "stdout",
     "output_type": "stream",
     "text": [
      "TESTDATA_BearingRub_FastRoll\n",
      "Saving Random Forest Model from rf_s0.pkl\n",
      "Saving Extra Trees Model\n",
      "Saving Random Forest Model from rf_s1.pkl\n",
      "Saving Extra Trees Model\n",
      "Saving Random Forest Model from rf_s2.pkl\n",
      "Saving Extra Trees Model\n",
      "Saving Random Forest Model from rf_s3.pkl\n",
      "Saving Extra Trees Model\n",
      "\n",
      "[ 0.  0.  0.  1.]\n"
     ]
    },
    {
     "name": "stderr",
     "output_type": "stream",
     "text": [
      "[Parallel(n_jobs=1)]: Done  20 out of  20 | elapsed:    0.0s finished\n",
      "[Parallel(n_jobs=1)]: Done  20 out of  20 | elapsed:    0.0s finished\n",
      "[Parallel(n_jobs=1)]: Done  20 out of  20 | elapsed:    0.0s finished\n",
      "[Parallel(n_jobs=1)]: Done  20 out of  20 | elapsed:    0.0s finished\n"
     ]
    },
    {
     "name": "stdout",
     "output_type": "stream",
     "text": [
      "TESTDATA_BearingRub_RampDown\n",
      "Saving Random Forest Model from rf_s0.pkl\n",
      "Saving Extra Trees Model\n",
      "Saving Random Forest Model from rf_s1.pkl\n",
      "Saving Extra Trees Model\n",
      "Saving Random Forest Model from rf_s2.pkl\n",
      "Saving Extra Trees Model\n",
      "Saving Random Forest Model from rf_s3.pkl\n",
      "Saving Extra Trees Model\n",
      "\n"
     ]
    },
    {
     "name": "stderr",
     "output_type": "stream",
     "text": [
      "[Parallel(n_jobs=1)]: Done  20 out of  20 | elapsed:    0.0s finished\n",
      "[Parallel(n_jobs=1)]: Done  20 out of  20 | elapsed:    0.0s finished\n",
      "[Parallel(n_jobs=1)]: Done  20 out of  20 | elapsed:    0.0s finished\n",
      "[Parallel(n_jobs=1)]: Done  20 out of  20 | elapsed:    0.0s finished\n"
     ]
    },
    {
     "name": "stdout",
     "output_type": "stream",
     "text": [
      "[ 0.    0.05  0.35  0.6 ]\n",
      "TESTDATA_Preload_SlowRoll\n",
      "Saving Random Forest Model from rf_s0.pkl\n",
      "Saving Extra Trees Model\n",
      "Saving Random Forest Model from rf_s1.pkl\n",
      "Saving Extra Trees Model\n",
      "Saving Random Forest Model from rf_s2.pkl\n",
      "Saving Extra Trees Model\n",
      "Saving Random Forest Model from rf_s3.pkl\n",
      "Saving Extra Trees Model\n",
      "\n"
     ]
    },
    {
     "name": "stderr",
     "output_type": "stream",
     "text": [
      "[Parallel(n_jobs=1)]: Done  20 out of  20 | elapsed:    0.0s finished\n",
      "[Parallel(n_jobs=1)]: Done  20 out of  20 | elapsed:    0.0s finished\n",
      "[Parallel(n_jobs=1)]: Done  20 out of  20 | elapsed:    0.0s finished\n",
      "[Parallel(n_jobs=1)]: Done  20 out of  20 | elapsed:    0.0s finished\n"
     ]
    },
    {
     "name": "stdout",
     "output_type": "stream",
     "text": [
      "[ 0.   0.   0.9  0.1]\n",
      "TESTDATA_Preload_RampUp\n",
      "Saving Random Forest Model from rf_s0.pkl\n",
      "Saving Extra Trees Model\n",
      "Saving Random Forest Model from rf_s1.pkl\n",
      "Saving Extra Trees Model\n",
      "Saving Random Forest Model from rf_s2.pkl\n",
      "Saving Extra Trees Model\n",
      "Saving Random Forest Model from rf_s3.pkl\n",
      "Saving Extra Trees Model\n",
      "\n"
     ]
    },
    {
     "name": "stderr",
     "output_type": "stream",
     "text": [
      "[Parallel(n_jobs=1)]: Done  20 out of  20 | elapsed:    0.0s finished\n",
      "[Parallel(n_jobs=1)]: Done  20 out of  20 | elapsed:    0.0s finished\n",
      "[Parallel(n_jobs=1)]: Done  20 out of  20 | elapsed:    0.0s finished\n",
      "[Parallel(n_jobs=1)]: Done  20 out of  20 | elapsed:    0.0s finished\n"
     ]
    },
    {
     "name": "stdout",
     "output_type": "stream",
     "text": [
      "[ 0.   0.   0.7  0.3]\n",
      "TESTDATA_Preload_FastRoll\n",
      "Saving Random Forest Model from rf_s0.pkl\n",
      "Saving Extra Trees Model\n",
      "Saving Random Forest Model from rf_s1.pkl\n",
      "Saving Extra Trees Model\n",
      "Saving Random Forest Model from rf_s2.pkl\n",
      "Saving Extra Trees Model\n",
      "Saving Random Forest Model from rf_s3.pkl\n",
      "Saving Extra Trees Model\n",
      "\n"
     ]
    },
    {
     "name": "stderr",
     "output_type": "stream",
     "text": [
      "[Parallel(n_jobs=1)]: Done  20 out of  20 | elapsed:    0.0s finished\n",
      "[Parallel(n_jobs=1)]: Done  20 out of  20 | elapsed:    0.0s finished\n",
      "[Parallel(n_jobs=1)]: Done  20 out of  20 | elapsed:    0.0s finished\n",
      "[Parallel(n_jobs=1)]: Done  20 out of  20 | elapsed:    0.0s finished\n"
     ]
    },
    {
     "name": "stdout",
     "output_type": "stream",
     "text": [
      "[ 0.  0.  1.  0.]\n",
      "TESTDATA_Preload_RampDown\n",
      "Saving Random Forest Model from rf_s0.pkl\n",
      "Saving Extra Trees Model\n",
      "Saving Random Forest Model from rf_s1.pkl\n",
      "Saving Extra Trees Model\n",
      "Saving Random Forest Model from rf_s2.pkl\n",
      "Saving Extra Trees Model\n",
      "Saving Random Forest Model from rf_s3.pkl\n",
      "Saving Extra Trees Model\n",
      "\n",
      "[ 0.   0.   0.8  0.2]\n"
     ]
    },
    {
     "name": "stderr",
     "output_type": "stream",
     "text": [
      "[Parallel(n_jobs=1)]: Done  20 out of  20 | elapsed:    0.0s finished\n",
      "[Parallel(n_jobs=1)]: Done  20 out of  20 | elapsed:    0.0s finished\n",
      "[Parallel(n_jobs=1)]: Done  20 out of  20 | elapsed:    0.0s finished\n",
      "[Parallel(n_jobs=1)]: Done  20 out of  20 | elapsed:    0.0s finished\n"
     ]
    },
    {
     "name": "stdout",
     "output_type": "stream",
     "text": [
      "TESTDATA_Unbalance_SlowRoll\n",
      "Saving Random Forest Model from rf_s0.pkl\n",
      "Saving Extra Trees Model\n",
      "Saving Random Forest Model from rf_s1.pkl\n",
      "Saving Extra Trees Model\n",
      "Saving Random Forest Model from rf_s2.pkl\n",
      "Saving Extra Trees Model\n",
      "Saving Random Forest Model from rf_s3.pkl\n",
      "Saving Extra Trees Model\n",
      "\n",
      "[ 0.    0.15  0.6   0.25]\n"
     ]
    },
    {
     "name": "stderr",
     "output_type": "stream",
     "text": [
      "[Parallel(n_jobs=1)]: Done  20 out of  20 | elapsed:    0.0s finished\n",
      "[Parallel(n_jobs=1)]: Done  20 out of  20 | elapsed:    0.0s finished\n",
      "[Parallel(n_jobs=1)]: Done  20 out of  20 | elapsed:    0.0s finished\n",
      "[Parallel(n_jobs=1)]: Done  20 out of  20 | elapsed:    0.0s finished\n"
     ]
    },
    {
     "name": "stdout",
     "output_type": "stream",
     "text": [
      "TESTDATA_Unbalance_RampUp\n",
      "Saving Random Forest Model from rf_s0.pkl\n",
      "Saving Extra Trees Model\n",
      "Saving Random Forest Model from rf_s1.pkl\n",
      "Saving Extra Trees Model\n",
      "Saving Random Forest Model from rf_s2.pkl\n",
      "Saving Extra Trees Model\n",
      "Saving Random Forest Model from rf_s3.pkl\n",
      "Saving Extra Trees Model\n",
      "\n",
      "[ 0.    0.05  0.4   0.55]\n"
     ]
    },
    {
     "name": "stderr",
     "output_type": "stream",
     "text": [
      "[Parallel(n_jobs=1)]: Done  20 out of  20 | elapsed:    0.0s finished\n",
      "[Parallel(n_jobs=1)]: Done  20 out of  20 | elapsed:    0.0s finished\n",
      "[Parallel(n_jobs=1)]: Done  20 out of  20 | elapsed:    0.0s finished\n",
      "[Parallel(n_jobs=1)]: Done  20 out of  20 | elapsed:    0.0s finished\n"
     ]
    },
    {
     "name": "stdout",
     "output_type": "stream",
     "text": [
      "TESTDATA_Unbalance_FastRoll\n",
      "Saving Random Forest Model from rf_s0.pkl\n",
      "Saving Extra Trees Model\n",
      "Saving Random Forest Model from rf_s1.pkl\n",
      "Saving Extra Trees Model\n",
      "Saving Random Forest Model from rf_s2.pkl\n",
      "Saving Extra Trees Model\n",
      "Saving Random Forest Model from rf_s3.pkl\n",
      "Saving Extra Trees Model\n",
      "\n",
      "[ 0.    0.75  0.    0.25]\n"
     ]
    },
    {
     "name": "stderr",
     "output_type": "stream",
     "text": [
      "[Parallel(n_jobs=1)]: Done  20 out of  20 | elapsed:    0.0s finished\n",
      "[Parallel(n_jobs=1)]: Done  20 out of  20 | elapsed:    0.0s finished\n",
      "[Parallel(n_jobs=1)]: Done  20 out of  20 | elapsed:    0.0s finished\n",
      "[Parallel(n_jobs=1)]: Done  20 out of  20 | elapsed:    0.0s finished\n"
     ]
    },
    {
     "name": "stdout",
     "output_type": "stream",
     "text": [
      "TESTDATA_Unbalance_RampDown\n",
      "Saving Random Forest Model from rf_s0.pkl\n",
      "Saving Extra Trees Model\n",
      "Saving Random Forest Model from rf_s1.pkl\n",
      "Saving Extra Trees Model\n",
      "Saving Random Forest Model from rf_s2.pkl\n",
      "Saving Extra Trees Model\n",
      "Saving Random Forest Model from rf_s3.pkl\n",
      "Saving Extra Trees Model\n",
      "\n"
     ]
    },
    {
     "name": "stderr",
     "output_type": "stream",
     "text": [
      "[Parallel(n_jobs=1)]: Done  20 out of  20 | elapsed:    0.0s finished\n",
      "[Parallel(n_jobs=1)]: Done  20 out of  20 | elapsed:    0.0s finished\n",
      "[Parallel(n_jobs=1)]: Done  20 out of  20 | elapsed:    0.0s finished\n",
      "[Parallel(n_jobs=1)]: Done  20 out of  20 | elapsed:    0.0s finished\n"
     ]
    },
    {
     "name": "stdout",
     "output_type": "stream",
     "text": [
      "[ 0.   0.   0.5  0.5]\n",
      "TESTDATA_Normal_SlowRoll\n",
      "Saving Random Forest Model from rf_s0.pkl\n",
      "Saving Extra Trees Model\n",
      "Saving Random Forest Model from rf_s1.pkl\n",
      "Saving Extra Trees Model\n",
      "Saving Random Forest Model from rf_s2.pkl\n",
      "Saving Extra Trees Model\n",
      "Saving Random Forest Model from rf_s3.pkl\n",
      "Saving Extra Trees Model\n",
      "\n",
      "[ 0.    0.05  0.5   0.45]\n"
     ]
    },
    {
     "name": "stderr",
     "output_type": "stream",
     "text": [
      "[Parallel(n_jobs=1)]: Done  20 out of  20 | elapsed:    0.0s finished\n",
      "[Parallel(n_jobs=1)]: Done  20 out of  20 | elapsed:    0.0s finished\n",
      "[Parallel(n_jobs=1)]: Done  20 out of  20 | elapsed:    0.0s finished\n",
      "[Parallel(n_jobs=1)]: Done  20 out of  20 | elapsed:    0.0s finished\n"
     ]
    },
    {
     "name": "stdout",
     "output_type": "stream",
     "text": [
      "TESTDATA_Normal_RampUp\n",
      "Saving Random Forest Model from rf_s0.pkl\n",
      "Saving Extra Trees Model\n",
      "Saving Random Forest Model from rf_s1.pkl\n",
      "Saving Extra Trees Model\n",
      "Saving Random Forest Model from rf_s2.pkl\n",
      "Saving Extra Trees Model\n",
      "Saving Random Forest Model from rf_s3.pkl\n",
      "Saving Extra Trees Model\n",
      "\n",
      "[ 0.   0.   0.5  0.5]\n"
     ]
    },
    {
     "name": "stderr",
     "output_type": "stream",
     "text": [
      "[Parallel(n_jobs=1)]: Done  20 out of  20 | elapsed:    0.0s finished\n",
      "[Parallel(n_jobs=1)]: Done  20 out of  20 | elapsed:    0.0s finished\n",
      "[Parallel(n_jobs=1)]: Done  20 out of  20 | elapsed:    0.0s finished\n",
      "[Parallel(n_jobs=1)]: Done  20 out of  20 | elapsed:    0.0s finished\n"
     ]
    },
    {
     "name": "stdout",
     "output_type": "stream",
     "text": [
      "TESTDATA_Normal_FastRoll\n",
      "Saving Random Forest Model from rf_s0.pkl\n",
      "Saving Extra Trees Model\n",
      "Saving Random Forest Model from rf_s1.pkl\n",
      "Saving Extra Trees Model\n",
      "Saving Random Forest Model from rf_s2.pkl\n",
      "Saving Extra Trees Model\n",
      "Saving Random Forest Model from rf_s3.pkl\n",
      "Saving Extra Trees Model\n",
      "\n"
     ]
    },
    {
     "name": "stderr",
     "output_type": "stream",
     "text": [
      "[Parallel(n_jobs=1)]: Done  20 out of  20 | elapsed:    0.0s finished\n",
      "[Parallel(n_jobs=1)]: Done  20 out of  20 | elapsed:    0.0s finished\n",
      "[Parallel(n_jobs=1)]: Done  20 out of  20 | elapsed:    0.0s finished\n",
      "[Parallel(n_jobs=1)]: Done  20 out of  20 | elapsed:    0.0s finished\n"
     ]
    },
    {
     "name": "stdout",
     "output_type": "stream",
     "text": [
      "[ 1.  0.  0.  0.]\n",
      "TESTDATA_Normal_RampDown\n",
      "Saving Random Forest Model from rf_s0.pkl\n",
      "Saving Extra Trees Model\n",
      "Saving Random Forest Model from rf_s1.pkl\n",
      "Saving Extra Trees Model\n",
      "Saving Random Forest Model from rf_s2.pkl\n",
      "Saving Extra Trees Model\n",
      "Saving Random Forest Model from rf_s3.pkl\n",
      "Saving Extra Trees Model\n",
      "\n",
      "[ 0.    0.    0.45  0.55]\n"
     ]
    },
    {
     "name": "stderr",
     "output_type": "stream",
     "text": [
      "[Parallel(n_jobs=1)]: Done  20 out of  20 | elapsed:    0.0s finished\n",
      "[Parallel(n_jobs=1)]: Done  20 out of  20 | elapsed:    0.0s finished\n",
      "[Parallel(n_jobs=1)]: Done  20 out of  20 | elapsed:    0.0s finished\n",
      "[Parallel(n_jobs=1)]: Done  20 out of  20 | elapsed:    0.0s finished\n"
     ]
    },
    {
     "name": "stdout",
     "output_type": "stream",
     "text": [
      "TESTDATA_BearingRub_SlowRoll\n",
      "Saving Random Forest Model from rf_s0.pkl\n",
      "Saving Extra Trees Model\n",
      "Saving Random Forest Model from rf_s1.pkl\n",
      "Saving Extra Trees Model\n",
      "Saving Random Forest Model from rf_s2.pkl\n",
      "Saving Extra Trees Model\n",
      "Saving Random Forest Model from rf_s3.pkl\n",
      "Saving Extra Trees Model\n",
      "\n"
     ]
    },
    {
     "name": "stderr",
     "output_type": "stream",
     "text": [
      "[Parallel(n_jobs=1)]: Done  20 out of  20 | elapsed:    0.0s finished\n",
      "[Parallel(n_jobs=1)]: Done  20 out of  20 | elapsed:    0.0s finished\n",
      "[Parallel(n_jobs=1)]: Done  20 out of  20 | elapsed:    0.0s finished\n",
      "[Parallel(n_jobs=1)]: Done  20 out of  20 | elapsed:    0.0s finished\n"
     ]
    },
    {
     "name": "stdout",
     "output_type": "stream",
     "text": [
      "[ 0.    0.    0.45  0.55]\n",
      "TESTDATA_BearingRub_RampUp\n",
      "Saving Random Forest Model from rf_s0.pkl\n",
      "Saving Extra Trees Model\n",
      "Saving Random Forest Model from rf_s1.pkl\n",
      "Saving Extra Trees Model\n",
      "Saving Random Forest Model from rf_s2.pkl\n",
      "Saving Extra Trees Model\n",
      "Saving Random Forest Model from rf_s3.pkl\n",
      "Saving Extra Trees Model\n",
      "\n"
     ]
    },
    {
     "name": "stderr",
     "output_type": "stream",
     "text": [
      "[Parallel(n_jobs=1)]: Done  20 out of  20 | elapsed:    0.0s finished\n",
      "[Parallel(n_jobs=1)]: Done  20 out of  20 | elapsed:    0.0s finished\n",
      "[Parallel(n_jobs=1)]: Done  20 out of  20 | elapsed:    0.0s finished\n",
      "[Parallel(n_jobs=1)]: Done  20 out of  20 | elapsed:    0.0s finished\n"
     ]
    },
    {
     "name": "stdout",
     "output_type": "stream",
     "text": [
      "[ 0.   0.   0.5  0.5]\n",
      "TESTDATA_BearingRub_FastRoll\n",
      "Saving Random Forest Model from rf_s0.pkl\n",
      "Saving Extra Trees Model\n",
      "Saving Random Forest Model from rf_s1.pkl\n",
      "Saving Extra Trees Model\n",
      "Saving Random Forest Model from rf_s2.pkl\n",
      "Saving Extra Trees Model\n",
      "Saving Random Forest Model from rf_s3.pkl\n",
      "Saving Extra Trees Model\n",
      "\n",
      "[ 0.  0.  0.  1.]\n"
     ]
    },
    {
     "name": "stderr",
     "output_type": "stream",
     "text": [
      "[Parallel(n_jobs=1)]: Done  20 out of  20 | elapsed:    0.0s finished\n",
      "[Parallel(n_jobs=1)]: Done  20 out of  20 | elapsed:    0.0s finished\n",
      "[Parallel(n_jobs=1)]: Done  20 out of  20 | elapsed:    0.0s finished\n",
      "[Parallel(n_jobs=1)]: Done  20 out of  20 | elapsed:    0.0s finished\n"
     ]
    },
    {
     "name": "stdout",
     "output_type": "stream",
     "text": [
      "TESTDATA_BearingRub_RampDown\n",
      "Saving Random Forest Model from rf_s0.pkl\n",
      "Saving Extra Trees Model\n",
      "Saving Random Forest Model from rf_s1.pkl\n",
      "Saving Extra Trees Model\n",
      "Saving Random Forest Model from rf_s2.pkl\n",
      "Saving Extra Trees Model\n",
      "Saving Random Forest Model from rf_s3.pkl\n",
      "Saving Extra Trees Model\n",
      "\n"
     ]
    },
    {
     "name": "stderr",
     "output_type": "stream",
     "text": [
      "[Parallel(n_jobs=1)]: Done  20 out of  20 | elapsed:    0.0s finished\n",
      "[Parallel(n_jobs=1)]: Done  20 out of  20 | elapsed:    0.0s finished\n",
      "[Parallel(n_jobs=1)]: Done  20 out of  20 | elapsed:    0.0s finished\n",
      "[Parallel(n_jobs=1)]: Done  20 out of  20 | elapsed:    0.0s finished\n"
     ]
    },
    {
     "name": "stdout",
     "output_type": "stream",
     "text": [
      "[ 0.    0.05  0.35  0.6 ]\n",
      "TESTDATA_Preload_SlowRoll\n",
      "Saving Random Forest Model from rf_s0.pkl\n",
      "Saving Extra Trees Model\n",
      "Saving Random Forest Model from rf_s1.pkl\n",
      "Saving Extra Trees Model\n",
      "Saving Random Forest Model from rf_s2.pkl\n",
      "Saving Extra Trees Model\n",
      "Saving Random Forest Model from rf_s3.pkl\n",
      "Saving Extra Trees Model\n",
      "\n"
     ]
    },
    {
     "name": "stderr",
     "output_type": "stream",
     "text": [
      "[Parallel(n_jobs=1)]: Done  20 out of  20 | elapsed:    0.0s finished\n",
      "[Parallel(n_jobs=1)]: Done  20 out of  20 | elapsed:    0.0s finished\n",
      "[Parallel(n_jobs=1)]: Done  20 out of  20 | elapsed:    0.0s finished\n",
      "[Parallel(n_jobs=1)]: Done  20 out of  20 | elapsed:    0.0s finished\n"
     ]
    },
    {
     "name": "stdout",
     "output_type": "stream",
     "text": [
      "[ 0.   0.   0.9  0.1]\n",
      "TESTDATA_Preload_RampUp\n",
      "Saving Random Forest Model from rf_s0.pkl\n",
      "Saving Extra Trees Model\n",
      "Saving Random Forest Model from rf_s1.pkl\n",
      "Saving Extra Trees Model\n",
      "Saving Random Forest Model from rf_s2.pkl\n",
      "Saving Extra Trees Model\n",
      "Saving Random Forest Model from rf_s3.pkl\n",
      "Saving Extra Trees Model\n",
      "\n"
     ]
    },
    {
     "name": "stderr",
     "output_type": "stream",
     "text": [
      "[Parallel(n_jobs=1)]: Done  20 out of  20 | elapsed:    0.0s finished\n",
      "[Parallel(n_jobs=1)]: Done  20 out of  20 | elapsed:    0.0s finished\n",
      "[Parallel(n_jobs=1)]: Done  20 out of  20 | elapsed:    0.0s finished\n",
      "[Parallel(n_jobs=1)]: Done  20 out of  20 | elapsed:    0.0s finished\n"
     ]
    },
    {
     "name": "stdout",
     "output_type": "stream",
     "text": [
      "[ 0.   0.   0.7  0.3]\n",
      "TESTDATA_Preload_FastRoll\n",
      "Saving Random Forest Model from rf_s0.pkl\n",
      "Saving Extra Trees Model\n",
      "Saving Random Forest Model from rf_s1.pkl\n",
      "Saving Extra Trees Model\n",
      "Saving Random Forest Model from rf_s2.pkl\n",
      "Saving Extra Trees Model\n",
      "Saving Random Forest Model from rf_s3.pkl\n",
      "Saving Extra Trees Model\n",
      "\n",
      "[ 0.  0.  1.  0.]\n"
     ]
    },
    {
     "name": "stderr",
     "output_type": "stream",
     "text": [
      "[Parallel(n_jobs=1)]: Done  20 out of  20 | elapsed:    0.0s finished\n",
      "[Parallel(n_jobs=1)]: Done  20 out of  20 | elapsed:    0.0s finished\n",
      "[Parallel(n_jobs=1)]: Done  20 out of  20 | elapsed:    0.0s finished\n",
      "[Parallel(n_jobs=1)]: Done  20 out of  20 | elapsed:    0.0s finished\n"
     ]
    },
    {
     "name": "stdout",
     "output_type": "stream",
     "text": [
      "TESTDATA_Preload_RampDown\n",
      "Saving Random Forest Model from rf_s0.pkl\n",
      "Saving Extra Trees Model\n",
      "Saving Random Forest Model from rf_s1.pkl\n",
      "Saving Extra Trees Model\n",
      "Saving Random Forest Model from rf_s2.pkl\n",
      "Saving Extra Trees Model\n",
      "Saving Random Forest Model from rf_s3.pkl\n",
      "Saving Extra Trees Model\n",
      "\n",
      "[ 0.   0.   0.8  0.2]\n"
     ]
    },
    {
     "name": "stderr",
     "output_type": "stream",
     "text": [
      "[Parallel(n_jobs=1)]: Done  20 out of  20 | elapsed:    0.0s finished\n",
      "[Parallel(n_jobs=1)]: Done  20 out of  20 | elapsed:    0.0s finished\n",
      "[Parallel(n_jobs=1)]: Done  20 out of  20 | elapsed:    0.0s finished\n",
      "[Parallel(n_jobs=1)]: Done  20 out of  20 | elapsed:    0.0s finished\n"
     ]
    },
    {
     "name": "stdout",
     "output_type": "stream",
     "text": [
      "TESTDATA_Unbalance_SlowRoll\n",
      "Saving Random Forest Model from rf_s0.pkl\n",
      "Saving Extra Trees Model\n",
      "Saving Random Forest Model from rf_s1.pkl\n",
      "Saving Extra Trees Model\n",
      "Saving Random Forest Model from rf_s2.pkl\n",
      "Saving Extra Trees Model\n",
      "Saving Random Forest Model from rf_s3.pkl\n",
      "Saving Extra Trees Model\n",
      "\n"
     ]
    },
    {
     "name": "stderr",
     "output_type": "stream",
     "text": [
      "[Parallel(n_jobs=1)]: Done  20 out of  20 | elapsed:    0.0s finished\n",
      "[Parallel(n_jobs=1)]: Done  20 out of  20 | elapsed:    0.0s finished\n",
      "[Parallel(n_jobs=1)]: Done  20 out of  20 | elapsed:    0.0s finished\n",
      "[Parallel(n_jobs=1)]: Done  20 out of  20 | elapsed:    0.0s finished\n"
     ]
    },
    {
     "name": "stdout",
     "output_type": "stream",
     "text": [
      "[ 0.    0.15  0.6   0.25]\n",
      "TESTDATA_Unbalance_RampUp\n",
      "Saving Random Forest Model from rf_s0.pkl\n",
      "Saving Extra Trees Model\n",
      "Saving Random Forest Model from rf_s1.pkl\n",
      "Saving Extra Trees Model\n",
      "Saving Random Forest Model from rf_s2.pkl\n",
      "Saving Extra Trees Model\n",
      "Saving Random Forest Model from rf_s3.pkl\n",
      "Saving Extra Trees Model\n"
     ]
    },
    {
     "name": "stderr",
     "output_type": "stream",
     "text": [
      "[Parallel(n_jobs=1)]: Done  20 out of  20 | elapsed:    0.0s finished\n",
      "[Parallel(n_jobs=1)]: Done  20 out of  20 | elapsed:    0.0s finished\n",
      "[Parallel(n_jobs=1)]: Done  20 out of  20 | elapsed:    0.0s finished\n",
      "[Parallel(n_jobs=1)]: Done  20 out of  20 | elapsed:    0.0s finished\n"
     ]
    },
    {
     "name": "stdout",
     "output_type": "stream",
     "text": [
      "\n",
      "[ 0.    0.05  0.4   0.55]\n",
      "TESTDATA_Unbalance_FastRoll\n",
      "Saving Random Forest Model from rf_s0.pkl\n",
      "Saving Extra Trees Model\n",
      "Saving Random Forest Model from rf_s1.pkl\n",
      "Saving Extra Trees Model\n",
      "Saving Random Forest Model from rf_s2.pkl\n",
      "Saving Extra Trees Model\n",
      "Saving Random Forest Model from rf_s3.pkl\n",
      "Saving Extra Trees Model\n",
      "\n",
      "[ 0.    0.75  0.    0.25]\n"
     ]
    },
    {
     "name": "stderr",
     "output_type": "stream",
     "text": [
      "[Parallel(n_jobs=1)]: Done  20 out of  20 | elapsed:    0.0s finished\n",
      "[Parallel(n_jobs=1)]: Done  20 out of  20 | elapsed:    0.0s finished\n",
      "[Parallel(n_jobs=1)]: Done  20 out of  20 | elapsed:    0.0s finished\n",
      "[Parallel(n_jobs=1)]: Done  20 out of  20 | elapsed:    0.0s finished\n"
     ]
    },
    {
     "name": "stdout",
     "output_type": "stream",
     "text": [
      "TESTDATA_Unbalance_RampDown\n",
      "Saving Random Forest Model from rf_s0.pkl\n",
      "Saving Extra Trees Model\n",
      "Saving Random Forest Model from rf_s1.pkl\n",
      "Saving Extra Trees Model\n",
      "Saving Random Forest Model from rf_s2.pkl\n",
      "Saving Extra Trees Model\n",
      "Saving Random Forest Model from rf_s3.pkl\n",
      "Saving Extra Trees Model\n",
      "\n",
      "[ 0.   0.   0.5  0.5]\n"
     ]
    },
    {
     "name": "stderr",
     "output_type": "stream",
     "text": [
      "[Parallel(n_jobs=1)]: Done  20 out of  20 | elapsed:    0.0s finished\n",
      "[Parallel(n_jobs=1)]: Done  20 out of  20 | elapsed:    0.0s finished\n",
      "[Parallel(n_jobs=1)]: Done  20 out of  20 | elapsed:    0.0s finished\n",
      "[Parallel(n_jobs=1)]: Done  20 out of  20 | elapsed:    0.0s finished\n"
     ]
    },
    {
     "name": "stdout",
     "output_type": "stream",
     "text": [
      "TESTDATA_Normal_SlowRoll\n",
      "Saving Random Forest Model from rf_s0.pkl\n",
      "Saving Extra Trees Model\n",
      "Saving Random Forest Model from rf_s1.pkl\n",
      "Saving Extra Trees Model\n",
      "Saving Random Forest Model from rf_s2.pkl\n",
      "Saving Extra Trees Model\n",
      "Saving Random Forest Model from rf_s3.pkl\n",
      "Saving Extra Trees Model\n",
      "\n"
     ]
    },
    {
     "name": "stderr",
     "output_type": "stream",
     "text": [
      "[Parallel(n_jobs=1)]: Done  20 out of  20 | elapsed:    0.0s finished\n",
      "[Parallel(n_jobs=1)]: Done  20 out of  20 | elapsed:    0.0s finished\n",
      "[Parallel(n_jobs=1)]: Done  20 out of  20 | elapsed:    0.0s finished\n",
      "[Parallel(n_jobs=1)]: Done  20 out of  20 | elapsed:    0.0s finished\n"
     ]
    },
    {
     "name": "stdout",
     "output_type": "stream",
     "text": [
      "[ 0.    0.05  0.5   0.45]\n",
      "TESTDATA_Normal_RampUp\n",
      "Saving Random Forest Model from rf_s0.pkl\n",
      "Saving Extra Trees Model\n",
      "Saving Random Forest Model from rf_s1.pkl\n",
      "Saving Extra Trees Model\n",
      "Saving Random Forest Model from rf_s2.pkl\n",
      "Saving Extra Trees Model\n",
      "Saving Random Forest Model from rf_s3.pkl\n",
      "Saving Extra Trees Model\n"
     ]
    },
    {
     "name": "stderr",
     "output_type": "stream",
     "text": [
      "[Parallel(n_jobs=1)]: Done  20 out of  20 | elapsed:    0.0s finished\n",
      "[Parallel(n_jobs=1)]: Done  20 out of  20 | elapsed:    0.0s finished\n",
      "[Parallel(n_jobs=1)]: Done  20 out of  20 | elapsed:    0.0s finished\n",
      "[Parallel(n_jobs=1)]: Done  20 out of  20 | elapsed:    0.0s finished\n"
     ]
    },
    {
     "name": "stdout",
     "output_type": "stream",
     "text": [
      "\n",
      "[ 0.   0.   0.5  0.5]\n",
      "TESTDATA_Normal_FastRoll\n",
      "Saving Random Forest Model from rf_s0.pkl\n",
      "Saving Extra Trees Model\n",
      "Saving Random Forest Model from rf_s1.pkl\n",
      "Saving Extra Trees Model\n",
      "Saving Random Forest Model from rf_s2.pkl\n",
      "Saving Extra Trees Model\n",
      "Saving Random Forest Model from rf_s3.pkl\n",
      "Saving Extra Trees Model\n",
      "\n",
      "[ 1.  0.  0.  0.]\n"
     ]
    },
    {
     "name": "stderr",
     "output_type": "stream",
     "text": [
      "[Parallel(n_jobs=1)]: Done  20 out of  20 | elapsed:    0.0s finished\n",
      "[Parallel(n_jobs=1)]: Done  20 out of  20 | elapsed:    0.0s finished\n",
      "[Parallel(n_jobs=1)]: Done  20 out of  20 | elapsed:    0.0s finished\n",
      "[Parallel(n_jobs=1)]: Done  20 out of  20 | elapsed:    0.0s finished\n"
     ]
    },
    {
     "name": "stdout",
     "output_type": "stream",
     "text": [
      "TESTDATA_Normal_RampDown\n",
      "Saving Random Forest Model from rf_s0.pkl\n",
      "Saving Extra Trees Model\n",
      "Saving Random Forest Model from rf_s1.pkl\n",
      "Saving Extra Trees Model\n",
      "Saving Random Forest Model from rf_s2.pkl\n",
      "Saving Extra Trees Model\n",
      "Saving Random Forest Model from rf_s3.pkl\n",
      "Saving Extra Trees Model\n",
      "\n",
      "[ 0.    0.    0.45  0.55]\n"
     ]
    },
    {
     "name": "stderr",
     "output_type": "stream",
     "text": [
      "[Parallel(n_jobs=1)]: Done  20 out of  20 | elapsed:    0.0s finished\n",
      "[Parallel(n_jobs=1)]: Done  20 out of  20 | elapsed:    0.0s finished\n",
      "[Parallel(n_jobs=1)]: Done  20 out of  20 | elapsed:    0.0s finished\n",
      "[Parallel(n_jobs=1)]: Done  20 out of  20 | elapsed:    0.0s finished\n"
     ]
    },
    {
     "name": "stdout",
     "output_type": "stream",
     "text": [
      "TESTDATA_BearingRub_SlowRoll\n",
      "Saving Random Forest Model from rf_s0.pkl\n",
      "Saving Extra Trees Model\n",
      "Saving Random Forest Model from rf_s1.pkl\n",
      "Saving Extra Trees Model\n",
      "Saving Random Forest Model from rf_s2.pkl\n",
      "Saving Extra Trees Model\n",
      "Saving Random Forest Model from rf_s3.pkl\n",
      "Saving Extra Trees Model\n",
      "\n",
      "[ 0.    0.    0.45  0.55]\n"
     ]
    },
    {
     "name": "stderr",
     "output_type": "stream",
     "text": [
      "[Parallel(n_jobs=1)]: Done  20 out of  20 | elapsed:    0.0s finished\n",
      "[Parallel(n_jobs=1)]: Done  20 out of  20 | elapsed:    0.0s finished\n",
      "[Parallel(n_jobs=1)]: Done  20 out of  20 | elapsed:    0.0s finished\n",
      "[Parallel(n_jobs=1)]: Done  20 out of  20 | elapsed:    0.0s finished\n"
     ]
    },
    {
     "name": "stdout",
     "output_type": "stream",
     "text": [
      "TESTDATA_BearingRub_RampUp\n",
      "Saving Random Forest Model from rf_s0.pkl\n",
      "Saving Extra Trees Model\n",
      "Saving Random Forest Model from rf_s1.pkl\n",
      "Saving Extra Trees Model\n",
      "Saving Random Forest Model from rf_s2.pkl\n",
      "Saving Extra Trees Model\n",
      "Saving Random Forest Model from rf_s3.pkl\n",
      "Saving Extra Trees Model\n",
      "\n"
     ]
    },
    {
     "name": "stderr",
     "output_type": "stream",
     "text": [
      "[Parallel(n_jobs=1)]: Done  20 out of  20 | elapsed:    0.0s finished\n",
      "[Parallel(n_jobs=1)]: Done  20 out of  20 | elapsed:    0.0s finished\n",
      "[Parallel(n_jobs=1)]: Done  20 out of  20 | elapsed:    0.0s finished\n",
      "[Parallel(n_jobs=1)]: Done  20 out of  20 | elapsed:    0.0s finished\n"
     ]
    },
    {
     "name": "stdout",
     "output_type": "stream",
     "text": [
      "[ 0.   0.   0.5  0.5]\n",
      "TESTDATA_BearingRub_FastRoll\n",
      "Saving Random Forest Model from rf_s0.pkl\n",
      "Saving Extra Trees Model\n",
      "Saving Random Forest Model from rf_s1.pkl\n",
      "Saving Extra Trees Model\n",
      "Saving Random Forest Model from rf_s2.pkl\n",
      "Saving Extra Trees Model\n",
      "Saving Random Forest Model from rf_s3.pkl\n",
      "Saving Extra Trees Model\n",
      "\n"
     ]
    },
    {
     "name": "stderr",
     "output_type": "stream",
     "text": [
      "[Parallel(n_jobs=1)]: Done  20 out of  20 | elapsed:    0.0s finished\n",
      "[Parallel(n_jobs=1)]: Done  20 out of  20 | elapsed:    0.0s finished\n",
      "[Parallel(n_jobs=1)]: Done  20 out of  20 | elapsed:    0.0s finished\n",
      "[Parallel(n_jobs=1)]: Done  20 out of  20 | elapsed:    0.0s finished\n"
     ]
    },
    {
     "name": "stdout",
     "output_type": "stream",
     "text": [
      "[ 0.  0.  0.  1.]\n",
      "TESTDATA_BearingRub_RampDown\n",
      "Saving Random Forest Model from rf_s0.pkl\n",
      "Saving Extra Trees Model\n",
      "Saving Random Forest Model from rf_s1.pkl\n",
      "Saving Extra Trees Model\n",
      "Saving Random Forest Model from rf_s2.pkl\n",
      "Saving Extra Trees Model\n",
      "Saving Random Forest Model from rf_s3.pkl\n",
      "Saving Extra Trees Model\n",
      "\n",
      "[ 0.    0.05  0.35  0.6 ]\n"
     ]
    },
    {
     "name": "stderr",
     "output_type": "stream",
     "text": [
      "[Parallel(n_jobs=1)]: Done  20 out of  20 | elapsed:    0.0s finished\n",
      "[Parallel(n_jobs=1)]: Done  20 out of  20 | elapsed:    0.0s finished\n",
      "[Parallel(n_jobs=1)]: Done  20 out of  20 | elapsed:    0.0s finished\n",
      "[Parallel(n_jobs=1)]: Done  20 out of  20 | elapsed:    0.0s finished\n"
     ]
    },
    {
     "name": "stdout",
     "output_type": "stream",
     "text": [
      "TESTDATA_Preload_SlowRoll\n",
      "Saving Random Forest Model from rf_s0.pkl\n",
      "Saving Extra Trees Model\n",
      "Saving Random Forest Model from rf_s1.pkl\n",
      "Saving Extra Trees Model\n",
      "Saving Random Forest Model from rf_s2.pkl\n",
      "Saving Extra Trees Model\n",
      "Saving Random Forest Model from rf_s3.pkl\n",
      "Saving Extra Trees Model\n",
      "\n",
      "[ 0.   0.   0.9  0.1]\n"
     ]
    },
    {
     "name": "stderr",
     "output_type": "stream",
     "text": [
      "[Parallel(n_jobs=1)]: Done  20 out of  20 | elapsed:    0.0s finished\n",
      "[Parallel(n_jobs=1)]: Done  20 out of  20 | elapsed:    0.0s finished\n",
      "[Parallel(n_jobs=1)]: Done  20 out of  20 | elapsed:    0.0s finished\n",
      "[Parallel(n_jobs=1)]: Done  20 out of  20 | elapsed:    0.0s finished\n"
     ]
    },
    {
     "name": "stdout",
     "output_type": "stream",
     "text": [
      "TESTDATA_Preload_RampUp\n",
      "Saving Random Forest Model from rf_s0.pkl\n",
      "Saving Extra Trees Model\n",
      "Saving Random Forest Model from rf_s1.pkl\n",
      "Saving Extra Trees Model\n",
      "Saving Random Forest Model from rf_s2.pkl\n",
      "Saving Extra Trees Model\n",
      "Saving Random Forest Model from rf_s3.pkl\n",
      "Saving Extra Trees Model\n",
      "\n"
     ]
    },
    {
     "name": "stderr",
     "output_type": "stream",
     "text": [
      "[Parallel(n_jobs=1)]: Done  20 out of  20 | elapsed:    0.0s finished\n",
      "[Parallel(n_jobs=1)]: Done  20 out of  20 | elapsed:    0.0s finished\n",
      "[Parallel(n_jobs=1)]: Done  20 out of  20 | elapsed:    0.0s finished\n",
      "[Parallel(n_jobs=1)]: Done  20 out of  20 | elapsed:    0.0s finished\n"
     ]
    },
    {
     "name": "stdout",
     "output_type": "stream",
     "text": [
      "[ 0.   0.   0.7  0.3]\n",
      "TESTDATA_Preload_FastRoll\n",
      "Saving Random Forest Model from rf_s0.pkl\n",
      "Saving Extra Trees Model\n",
      "Saving Random Forest Model from rf_s1.pkl\n",
      "Saving Extra Trees Model\n",
      "Saving Random Forest Model from rf_s2.pkl\n",
      "Saving Extra Trees Model\n",
      "Saving Random Forest Model from rf_s3.pkl\n",
      "Saving Extra Trees Model\n",
      "\n"
     ]
    },
    {
     "name": "stderr",
     "output_type": "stream",
     "text": [
      "[Parallel(n_jobs=1)]: Done  20 out of  20 | elapsed:    0.0s finished\n",
      "[Parallel(n_jobs=1)]: Done  20 out of  20 | elapsed:    0.0s finished\n",
      "[Parallel(n_jobs=1)]: Done  20 out of  20 | elapsed:    0.0s finished\n",
      "[Parallel(n_jobs=1)]: Done  20 out of  20 | elapsed:    0.0s finished\n"
     ]
    },
    {
     "name": "stdout",
     "output_type": "stream",
     "text": [
      "[ 0.  0.  1.  0.]\n",
      "TESTDATA_Preload_RampDown\n",
      "Saving Random Forest Model from rf_s0.pkl\n",
      "Saving Extra Trees Model\n",
      "Saving Random Forest Model from rf_s1.pkl\n",
      "Saving Extra Trees Model\n",
      "Saving Random Forest Model from rf_s2.pkl\n",
      "Saving Extra Trees Model\n",
      "Saving Random Forest Model from rf_s3.pkl\n",
      "Saving Extra Trees Model\n",
      "\n",
      "[ 0.   0.   0.8  0.2]\n"
     ]
    },
    {
     "name": "stderr",
     "output_type": "stream",
     "text": [
      "[Parallel(n_jobs=1)]: Done  20 out of  20 | elapsed:    0.0s finished\n",
      "[Parallel(n_jobs=1)]: Done  20 out of  20 | elapsed:    0.0s finished\n",
      "[Parallel(n_jobs=1)]: Done  20 out of  20 | elapsed:    0.0s finished\n",
      "[Parallel(n_jobs=1)]: Done  20 out of  20 | elapsed:    0.0s finished\n"
     ]
    },
    {
     "name": "stdout",
     "output_type": "stream",
     "text": [
      "TESTDATA_Unbalance_SlowRoll\n",
      "Saving Random Forest Model from rf_s0.pkl\n",
      "Saving Extra Trees Model\n",
      "Saving Random Forest Model from rf_s1.pkl\n",
      "Saving Extra Trees Model\n",
      "Saving Random Forest Model from rf_s2.pkl\n",
      "Saving Extra Trees Model\n",
      "Saving Random Forest Model from rf_s3.pkl\n",
      "Saving Extra Trees Model\n",
      "\n",
      "[ 0.    0.15  0.6   0.25]\n"
     ]
    },
    {
     "name": "stderr",
     "output_type": "stream",
     "text": [
      "[Parallel(n_jobs=1)]: Done  20 out of  20 | elapsed:    0.0s finished\n",
      "[Parallel(n_jobs=1)]: Done  20 out of  20 | elapsed:    0.0s finished\n",
      "[Parallel(n_jobs=1)]: Done  20 out of  20 | elapsed:    0.0s finished\n",
      "[Parallel(n_jobs=1)]: Done  20 out of  20 | elapsed:    0.0s finished\n"
     ]
    },
    {
     "name": "stdout",
     "output_type": "stream",
     "text": [
      "TESTDATA_Unbalance_RampUp\n",
      "Saving Random Forest Model from rf_s0.pkl\n",
      "Saving Extra Trees Model\n",
      "Saving Random Forest Model from rf_s1.pkl\n",
      "Saving Extra Trees Model\n",
      "Saving Random Forest Model from rf_s2.pkl\n",
      "Saving Extra Trees Model\n",
      "Saving Random Forest Model from rf_s3.pkl\n",
      "Saving Extra Trees Model\n",
      "\n",
      "[ 0.    0.05  0.4   0.55]\n"
     ]
    },
    {
     "name": "stderr",
     "output_type": "stream",
     "text": [
      "[Parallel(n_jobs=1)]: Done  20 out of  20 | elapsed:    0.0s finished\n",
      "[Parallel(n_jobs=1)]: Done  20 out of  20 | elapsed:    0.0s finished\n",
      "[Parallel(n_jobs=1)]: Done  20 out of  20 | elapsed:    0.0s finished\n",
      "[Parallel(n_jobs=1)]: Done  20 out of  20 | elapsed:    0.0s finished\n"
     ]
    },
    {
     "name": "stdout",
     "output_type": "stream",
     "text": [
      "TESTDATA_Unbalance_FastRoll\n",
      "Saving Random Forest Model from rf_s0.pkl\n",
      "Saving Extra Trees Model\n",
      "Saving Random Forest Model from rf_s1.pkl\n",
      "Saving Extra Trees Model\n",
      "Saving Random Forest Model from rf_s2.pkl\n",
      "Saving Extra Trees Model\n",
      "Saving Random Forest Model from rf_s3.pkl\n",
      "Saving Extra Trees Model\n",
      "\n",
      "[ 0.    0.75  0.    0.25]\n"
     ]
    },
    {
     "name": "stderr",
     "output_type": "stream",
     "text": [
      "[Parallel(n_jobs=1)]: Done  20 out of  20 | elapsed:    0.0s finished\n",
      "[Parallel(n_jobs=1)]: Done  20 out of  20 | elapsed:    0.0s finished\n",
      "[Parallel(n_jobs=1)]: Done  20 out of  20 | elapsed:    0.0s finished\n",
      "[Parallel(n_jobs=1)]: Done  20 out of  20 | elapsed:    0.0s finished\n"
     ]
    },
    {
     "name": "stdout",
     "output_type": "stream",
     "text": [
      "TESTDATA_Unbalance_RampDown\n",
      "Saving Random Forest Model from rf_s0.pkl\n",
      "Saving Extra Trees Model\n",
      "Saving Random Forest Model from rf_s1.pkl\n",
      "Saving Extra Trees Model\n",
      "Saving Random Forest Model from rf_s2.pkl\n",
      "Saving Extra Trees Model\n",
      "Saving Random Forest Model from rf_s3.pkl\n",
      "Saving Extra Trees Model\n",
      "\n"
     ]
    },
    {
     "name": "stderr",
     "output_type": "stream",
     "text": [
      "[Parallel(n_jobs=1)]: Done  20 out of  20 | elapsed:    0.0s finished\n",
      "[Parallel(n_jobs=1)]: Done  20 out of  20 | elapsed:    0.0s finished\n",
      "[Parallel(n_jobs=1)]: Done  20 out of  20 | elapsed:    0.0s finished\n",
      "[Parallel(n_jobs=1)]: Done  20 out of  20 | elapsed:    0.0s finished\n"
     ]
    },
    {
     "name": "stdout",
     "output_type": "stream",
     "text": [
      "[ 0.   0.   0.5  0.5]\n",
      "TESTDATA_Normal_SlowRoll\n",
      "Saving Random Forest Model from rf_s0.pkl\n",
      "Saving Extra Trees Model\n",
      "Saving Random Forest Model from rf_s1.pkl\n",
      "Saving Extra Trees Model\n",
      "Saving Random Forest Model from rf_s2.pkl\n",
      "Saving Extra Trees Model\n",
      "Saving Random Forest Model from rf_s3.pkl\n",
      "Saving Extra Trees Model\n",
      "\n",
      "[ 0.    0.05  0.5   0.45]\n"
     ]
    },
    {
     "name": "stderr",
     "output_type": "stream",
     "text": [
      "[Parallel(n_jobs=1)]: Done  20 out of  20 | elapsed:    0.0s finished\n",
      "[Parallel(n_jobs=1)]: Done  20 out of  20 | elapsed:    0.0s finished\n",
      "[Parallel(n_jobs=1)]: Done  20 out of  20 | elapsed:    0.0s finished\n",
      "[Parallel(n_jobs=1)]: Done  20 out of  20 | elapsed:    0.0s finished\n"
     ]
    },
    {
     "name": "stdout",
     "output_type": "stream",
     "text": [
      "TESTDATA_Normal_RampUp\n",
      "Saving Random Forest Model from rf_s0.pkl\n",
      "Saving Extra Trees Model\n",
      "Saving Random Forest Model from rf_s1.pkl\n",
      "Saving Extra Trees Model\n",
      "Saving Random Forest Model from rf_s2.pkl\n",
      "Saving Extra Trees Model\n",
      "Saving Random Forest Model from rf_s3.pkl\n",
      "Saving Extra Trees Model\n",
      "\n"
     ]
    },
    {
     "name": "stderr",
     "output_type": "stream",
     "text": [
      "[Parallel(n_jobs=1)]: Done  20 out of  20 | elapsed:    0.0s finished\n",
      "[Parallel(n_jobs=1)]: Done  20 out of  20 | elapsed:    0.0s finished\n",
      "[Parallel(n_jobs=1)]: Done  20 out of  20 | elapsed:    0.0s finished\n",
      "[Parallel(n_jobs=1)]: Done  20 out of  20 | elapsed:    0.0s finished\n"
     ]
    },
    {
     "name": "stdout",
     "output_type": "stream",
     "text": [
      "[ 0.   0.   0.5  0.5]\n",
      "TESTDATA_Normal_FastRoll\n",
      "Saving Random Forest Model from rf_s0.pkl\n",
      "Saving Extra Trees Model\n",
      "Saving Random Forest Model from rf_s1.pkl\n",
      "Saving Extra Trees Model\n",
      "Saving Random Forest Model from rf_s2.pkl\n",
      "Saving Extra Trees Model\n",
      "Saving Random Forest Model from rf_s3.pkl\n",
      "Saving Extra Trees Model\n",
      "\n"
     ]
    },
    {
     "name": "stderr",
     "output_type": "stream",
     "text": [
      "[Parallel(n_jobs=1)]: Done  20 out of  20 | elapsed:    0.0s finished\n",
      "[Parallel(n_jobs=1)]: Done  20 out of  20 | elapsed:    0.0s finished\n",
      "[Parallel(n_jobs=1)]: Done  20 out of  20 | elapsed:    0.0s finished\n",
      "[Parallel(n_jobs=1)]: Done  20 out of  20 | elapsed:    0.0s finished\n"
     ]
    },
    {
     "name": "stdout",
     "output_type": "stream",
     "text": [
      "[ 1.  0.  0.  0.]\n",
      "TESTDATA_Normal_RampDown\n",
      "Saving Random Forest Model from rf_s0.pkl\n",
      "Saving Extra Trees Model\n",
      "Saving Random Forest Model from rf_s1.pkl\n",
      "Saving Extra Trees Model\n",
      "Saving Random Forest Model from rf_s2.pkl\n",
      "Saving Extra Trees Model\n",
      "Saving Random Forest Model from rf_s3.pkl\n",
      "Saving Extra Trees Model\n",
      "\n",
      "[ 0.    0.    0.45  0.55]\n"
     ]
    },
    {
     "name": "stderr",
     "output_type": "stream",
     "text": [
      "[Parallel(n_jobs=1)]: Done  20 out of  20 | elapsed:    0.0s finished\n",
      "[Parallel(n_jobs=1)]: Done  20 out of  20 | elapsed:    0.0s finished\n",
      "[Parallel(n_jobs=1)]: Done  20 out of  20 | elapsed:    0.0s finished\n",
      "[Parallel(n_jobs=1)]: Done  20 out of  20 | elapsed:    0.0s finished\n"
     ]
    },
    {
     "name": "stdout",
     "output_type": "stream",
     "text": [
      "TESTDATA_BearingRub_SlowRoll\n",
      "Saving Random Forest Model from rf_s0.pkl\n",
      "Saving Extra Trees Model\n",
      "Saving Random Forest Model from rf_s1.pkl\n",
      "Saving Extra Trees Model\n",
      "Saving Random Forest Model from rf_s2.pkl\n",
      "Saving Extra Trees Model\n",
      "Saving Random Forest Model from rf_s3.pkl\n",
      "Saving Extra Trees Model\n"
     ]
    },
    {
     "name": "stderr",
     "output_type": "stream",
     "text": [
      "[Parallel(n_jobs=1)]: Done  20 out of  20 | elapsed:    0.0s finished\n",
      "[Parallel(n_jobs=1)]: Done  20 out of  20 | elapsed:    0.0s finished\n",
      "[Parallel(n_jobs=1)]: Done  20 out of  20 | elapsed:    0.0s finished\n",
      "[Parallel(n_jobs=1)]: Done  20 out of  20 | elapsed:    0.0s finished\n"
     ]
    },
    {
     "name": "stdout",
     "output_type": "stream",
     "text": [
      "\n",
      "[ 0.    0.    0.45  0.55]\n",
      "TESTDATA_BearingRub_RampUp\n",
      "Saving Random Forest Model from rf_s0.pkl\n",
      "Saving Extra Trees Model\n",
      "Saving Random Forest Model from rf_s1.pkl\n",
      "Saving Extra Trees Model\n",
      "Saving Random Forest Model from rf_s2.pkl\n",
      "Saving Extra Trees Model\n",
      "Saving Random Forest Model from rf_s3.pkl\n",
      "Saving Extra Trees Model\n",
      "\n",
      "[ 0.   0.   0.5  0.5]\n"
     ]
    },
    {
     "name": "stderr",
     "output_type": "stream",
     "text": [
      "[Parallel(n_jobs=1)]: Done  20 out of  20 | elapsed:    0.0s finished\n",
      "[Parallel(n_jobs=1)]: Done  20 out of  20 | elapsed:    0.0s finished\n",
      "[Parallel(n_jobs=1)]: Done  20 out of  20 | elapsed:    0.0s finished\n",
      "[Parallel(n_jobs=1)]: Done  20 out of  20 | elapsed:    0.0s finished\n"
     ]
    },
    {
     "name": "stdout",
     "output_type": "stream",
     "text": [
      "TESTDATA_BearingRub_FastRoll\n",
      "Saving Random Forest Model from rf_s0.pkl\n",
      "Saving Extra Trees Model\n",
      "Saving Random Forest Model from rf_s1.pkl\n",
      "Saving Extra Trees Model\n",
      "Saving Random Forest Model from rf_s2.pkl\n",
      "Saving Extra Trees Model\n",
      "Saving Random Forest Model from rf_s3.pkl\n",
      "Saving Extra Trees Model\n",
      "\n"
     ]
    },
    {
     "name": "stderr",
     "output_type": "stream",
     "text": [
      "[Parallel(n_jobs=1)]: Done  20 out of  20 | elapsed:    0.0s finished\n",
      "[Parallel(n_jobs=1)]: Done  20 out of  20 | elapsed:    0.0s finished\n",
      "[Parallel(n_jobs=1)]: Done  20 out of  20 | elapsed:    0.0s finished\n",
      "[Parallel(n_jobs=1)]: Done  20 out of  20 | elapsed:    0.0s finished\n"
     ]
    },
    {
     "name": "stdout",
     "output_type": "stream",
     "text": [
      "[ 0.  0.  0.  1.]\n",
      "TESTDATA_BearingRub_RampDown\n",
      "Saving Random Forest Model from rf_s0.pkl\n",
      "Saving Extra Trees Model\n",
      "Saving Random Forest Model from rf_s1.pkl\n",
      "Saving Extra Trees Model\n",
      "Saving Random Forest Model from rf_s2.pkl\n",
      "Saving Extra Trees Model\n",
      "Saving Random Forest Model from rf_s3.pkl\n",
      "Saving Extra Trees Model\n",
      "\n",
      "[ 0.    0.05  0.35  0.6 ]\n"
     ]
    },
    {
     "name": "stderr",
     "output_type": "stream",
     "text": [
      "[Parallel(n_jobs=1)]: Done  20 out of  20 | elapsed:    0.0s finished\n",
      "[Parallel(n_jobs=1)]: Done  20 out of  20 | elapsed:    0.0s finished\n",
      "[Parallel(n_jobs=1)]: Done  20 out of  20 | elapsed:    0.0s finished\n",
      "[Parallel(n_jobs=1)]: Done  20 out of  20 | elapsed:    0.0s finished\n"
     ]
    },
    {
     "name": "stdout",
     "output_type": "stream",
     "text": [
      "TESTDATA_Preload_SlowRoll\n",
      "Saving Random Forest Model from rf_s0.pkl\n",
      "Saving Extra Trees Model\n",
      "Saving Random Forest Model from rf_s1.pkl\n",
      "Saving Extra Trees Model\n",
      "Saving Random Forest Model from rf_s2.pkl\n",
      "Saving Extra Trees Model\n",
      "Saving Random Forest Model from rf_s3.pkl\n",
      "Saving Extra Trees Model\n"
     ]
    },
    {
     "name": "stderr",
     "output_type": "stream",
     "text": [
      "[Parallel(n_jobs=1)]: Done  20 out of  20 | elapsed:    0.0s finished\n",
      "[Parallel(n_jobs=1)]: Done  20 out of  20 | elapsed:    0.0s finished\n",
      "[Parallel(n_jobs=1)]: Done  20 out of  20 | elapsed:    0.0s finished\n",
      "[Parallel(n_jobs=1)]: Done  20 out of  20 | elapsed:    0.0s finished\n"
     ]
    },
    {
     "name": "stdout",
     "output_type": "stream",
     "text": [
      "\n",
      "[ 0.   0.   0.9  0.1]\n",
      "TESTDATA_Preload_RampUp\n",
      "Saving Random Forest Model from rf_s0.pkl\n",
      "Saving Extra Trees Model\n",
      "Saving Random Forest Model from rf_s1.pkl\n",
      "Saving Extra Trees Model\n",
      "Saving Random Forest Model from rf_s2.pkl\n",
      "Saving Extra Trees Model\n",
      "Saving Random Forest Model from rf_s3.pkl\n",
      "Saving Extra Trees Model\n",
      "\n"
     ]
    },
    {
     "name": "stderr",
     "output_type": "stream",
     "text": [
      "[Parallel(n_jobs=1)]: Done  20 out of  20 | elapsed:    0.0s finished\n",
      "[Parallel(n_jobs=1)]: Done  20 out of  20 | elapsed:    0.0s finished\n",
      "[Parallel(n_jobs=1)]: Done  20 out of  20 | elapsed:    0.0s finished\n",
      "[Parallel(n_jobs=1)]: Done  20 out of  20 | elapsed:    0.0s finished\n"
     ]
    },
    {
     "name": "stdout",
     "output_type": "stream",
     "text": [
      "[ 0.   0.   0.7  0.3]\n",
      "TESTDATA_Preload_FastRoll\n",
      "Saving Random Forest Model from rf_s0.pkl\n",
      "Saving Extra Trees Model\n",
      "Saving Random Forest Model from rf_s1.pkl\n",
      "Saving Extra Trees Model\n",
      "Saving Random Forest Model from rf_s2.pkl\n",
      "Saving Extra Trees Model\n",
      "Saving Random Forest Model from rf_s3.pkl\n",
      "Saving Extra Trees Model\n",
      "\n"
     ]
    },
    {
     "name": "stderr",
     "output_type": "stream",
     "text": [
      "[Parallel(n_jobs=1)]: Done  20 out of  20 | elapsed:    0.0s finished\n",
      "[Parallel(n_jobs=1)]: Done  20 out of  20 | elapsed:    0.0s finished\n",
      "[Parallel(n_jobs=1)]: Done  20 out of  20 | elapsed:    0.0s finished\n",
      "[Parallel(n_jobs=1)]: Done  20 out of  20 | elapsed:    0.0s finished\n"
     ]
    },
    {
     "name": "stdout",
     "output_type": "stream",
     "text": [
      "[ 0.  0.  1.  0.]\n",
      "TESTDATA_Preload_RampDown\n",
      "Saving Random Forest Model from rf_s0.pkl\n",
      "Saving Extra Trees Model\n",
      "Saving Random Forest Model from rf_s1.pkl\n",
      "Saving Extra Trees Model\n",
      "Saving Random Forest Model from rf_s2.pkl\n",
      "Saving Extra Trees Model\n",
      "Saving Random Forest Model from rf_s3.pkl\n",
      "Saving Extra Trees Model\n"
     ]
    },
    {
     "name": "stderr",
     "output_type": "stream",
     "text": [
      "[Parallel(n_jobs=1)]: Done  20 out of  20 | elapsed:    0.0s finished\n",
      "[Parallel(n_jobs=1)]: Done  20 out of  20 | elapsed:    0.0s finished\n",
      "[Parallel(n_jobs=1)]: Done  20 out of  20 | elapsed:    0.0s finished\n",
      "[Parallel(n_jobs=1)]: Done  20 out of  20 | elapsed:    0.0s finished\n"
     ]
    },
    {
     "name": "stdout",
     "output_type": "stream",
     "text": [
      "\n",
      "[ 0.   0.   0.8  0.2]\n",
      "TESTDATA_Unbalance_SlowRoll\n",
      "Saving Random Forest Model from rf_s0.pkl\n",
      "Saving Extra Trees Model\n",
      "Saving Random Forest Model from rf_s1.pkl\n",
      "Saving Extra Trees Model\n",
      "Saving Random Forest Model from rf_s2.pkl\n",
      "Saving Extra Trees Model\n",
      "Saving Random Forest Model from rf_s3.pkl\n",
      "Saving Extra Trees Model\n",
      "\n",
      "[ 0.    0.15  0.6   0.25]\n"
     ]
    },
    {
     "name": "stderr",
     "output_type": "stream",
     "text": [
      "[Parallel(n_jobs=1)]: Done  20 out of  20 | elapsed:    0.0s finished\n",
      "[Parallel(n_jobs=1)]: Done  20 out of  20 | elapsed:    0.0s finished\n",
      "[Parallel(n_jobs=1)]: Done  20 out of  20 | elapsed:    0.0s finished\n",
      "[Parallel(n_jobs=1)]: Done  20 out of  20 | elapsed:    0.0s finished\n"
     ]
    },
    {
     "name": "stdout",
     "output_type": "stream",
     "text": [
      "TESTDATA_Unbalance_RampUp\n",
      "Saving Random Forest Model from rf_s0.pkl\n",
      "Saving Extra Trees Model\n",
      "Saving Random Forest Model from rf_s1.pkl\n",
      "Saving Extra Trees Model\n",
      "Saving Random Forest Model from rf_s2.pkl\n",
      "Saving Extra Trees Model\n",
      "Saving Random Forest Model from rf_s3.pkl\n",
      "Saving Extra Trees Model\n",
      "\n"
     ]
    },
    {
     "name": "stderr",
     "output_type": "stream",
     "text": [
      "[Parallel(n_jobs=1)]: Done  20 out of  20 | elapsed:    0.0s finished\n",
      "[Parallel(n_jobs=1)]: Done  20 out of  20 | elapsed:    0.0s finished\n",
      "[Parallel(n_jobs=1)]: Done  20 out of  20 | elapsed:    0.0s finished\n",
      "[Parallel(n_jobs=1)]: Done  20 out of  20 | elapsed:    0.0s finished\n"
     ]
    },
    {
     "name": "stdout",
     "output_type": "stream",
     "text": [
      "[ 0.    0.05  0.4   0.55]\n",
      "TESTDATA_Unbalance_FastRoll\n",
      "Saving Random Forest Model from rf_s0.pkl\n",
      "Saving Extra Trees Model\n",
      "Saving Random Forest Model from rf_s1.pkl\n",
      "Saving Extra Trees Model\n",
      "Saving Random Forest Model from rf_s2.pkl\n",
      "Saving Extra Trees Model\n",
      "Saving Random Forest Model from rf_s3.pkl\n",
      "Saving Extra Trees Model\n"
     ]
    },
    {
     "name": "stderr",
     "output_type": "stream",
     "text": [
      "[Parallel(n_jobs=1)]: Done  20 out of  20 | elapsed:    0.0s finished\n",
      "[Parallel(n_jobs=1)]: Done  20 out of  20 | elapsed:    0.0s finished\n",
      "[Parallel(n_jobs=1)]: Done  20 out of  20 | elapsed:    0.0s finished\n",
      "[Parallel(n_jobs=1)]: Done  20 out of  20 | elapsed:    0.0s finished\n"
     ]
    },
    {
     "name": "stdout",
     "output_type": "stream",
     "text": [
      "\n",
      "[ 0.    0.75  0.    0.25]\n",
      "TESTDATA_Unbalance_RampDown\n",
      "Saving Random Forest Model from rf_s0.pkl\n",
      "Saving Extra Trees Model\n",
      "Saving Random Forest Model from rf_s1.pkl\n",
      "Saving Extra Trees Model\n",
      "Saving Random Forest Model from rf_s2.pkl\n",
      "Saving Extra Trees Model\n",
      "Saving Random Forest Model from rf_s3.pkl\n",
      "Saving Extra Trees Model\n",
      "\n"
     ]
    },
    {
     "name": "stderr",
     "output_type": "stream",
     "text": [
      "[Parallel(n_jobs=1)]: Done  20 out of  20 | elapsed:    0.0s finished\n",
      "[Parallel(n_jobs=1)]: Done  20 out of  20 | elapsed:    0.0s finished\n",
      "[Parallel(n_jobs=1)]: Done  20 out of  20 | elapsed:    0.0s finished\n",
      "[Parallel(n_jobs=1)]: Done  20 out of  20 | elapsed:    0.0s finished\n"
     ]
    },
    {
     "name": "stdout",
     "output_type": "stream",
     "text": [
      "[ 0.   0.   0.5  0.5]\n",
      "TESTDATA_Normal_SlowRoll\n",
      "Saving Random Forest Model from rf_s0.pkl\n",
      "Saving Extra Trees Model\n",
      "Saving Random Forest Model from rf_s1.pkl\n",
      "Saving Extra Trees Model\n",
      "Saving Random Forest Model from rf_s2.pkl\n",
      "Saving Extra Trees Model\n",
      "Saving Random Forest Model from rf_s3.pkl\n",
      "Saving Extra Trees Model\n"
     ]
    },
    {
     "name": "stderr",
     "output_type": "stream",
     "text": [
      "[Parallel(n_jobs=1)]: Done  20 out of  20 | elapsed:    0.0s finished\n",
      "[Parallel(n_jobs=1)]: Done  20 out of  20 | elapsed:    0.0s finished\n",
      "[Parallel(n_jobs=1)]: Done  20 out of  20 | elapsed:    0.0s finished\n",
      "[Parallel(n_jobs=1)]: Done  20 out of  20 | elapsed:    0.0s finished\n"
     ]
    },
    {
     "name": "stdout",
     "output_type": "stream",
     "text": [
      "\n",
      "[ 0.    0.05  0.5   0.45]\n",
      "TESTDATA_Normal_RampUp\n",
      "Saving Random Forest Model from rf_s0.pkl\n",
      "Saving Extra Trees Model\n",
      "Saving Random Forest Model from rf_s1.pkl\n",
      "Saving Extra Trees Model\n",
      "Saving Random Forest Model from rf_s2.pkl\n",
      "Saving Extra Trees Model\n",
      "Saving Random Forest Model from rf_s3.pkl\n",
      "Saving Extra Trees Model\n",
      "\n"
     ]
    },
    {
     "name": "stderr",
     "output_type": "stream",
     "text": [
      "[Parallel(n_jobs=1)]: Done  20 out of  20 | elapsed:    0.0s finished\n",
      "[Parallel(n_jobs=1)]: Done  20 out of  20 | elapsed:    0.0s finished\n",
      "[Parallel(n_jobs=1)]: Done  20 out of  20 | elapsed:    0.0s finished\n",
      "[Parallel(n_jobs=1)]: Done  20 out of  20 | elapsed:    0.0s finished\n"
     ]
    },
    {
     "name": "stdout",
     "output_type": "stream",
     "text": [
      "[ 0.   0.   0.5  0.5]\n",
      "TESTDATA_Normal_FastRoll\n",
      "Saving Random Forest Model from rf_s0.pkl\n",
      "Saving Extra Trees Model\n",
      "Saving Random Forest Model from rf_s1.pkl\n",
      "Saving Extra Trees Model\n",
      "Saving Random Forest Model from rf_s2.pkl\n",
      "Saving Extra Trees Model\n",
      "Saving Random Forest Model from rf_s3.pkl\n",
      "Saving Extra Trees Model\n",
      "\n"
     ]
    },
    {
     "name": "stderr",
     "output_type": "stream",
     "text": [
      "[Parallel(n_jobs=1)]: Done  20 out of  20 | elapsed:    0.0s finished\n",
      "[Parallel(n_jobs=1)]: Done  20 out of  20 | elapsed:    0.0s finished\n",
      "[Parallel(n_jobs=1)]: Done  20 out of  20 | elapsed:    0.0s finished\n",
      "[Parallel(n_jobs=1)]: Done  20 out of  20 | elapsed:    0.0s finished\n"
     ]
    },
    {
     "name": "stdout",
     "output_type": "stream",
     "text": [
      "[ 1.  0.  0.  0.]\n",
      "TESTDATA_Normal_RampDown\n",
      "Saving Random Forest Model from rf_s0.pkl\n",
      "Saving Extra Trees Model\n",
      "Saving Random Forest Model from rf_s1.pkl\n",
      "Saving Extra Trees Model\n",
      "Saving Random Forest Model from rf_s2.pkl\n",
      "Saving Extra Trees Model\n",
      "Saving Random Forest Model from rf_s3.pkl\n",
      "Saving Extra Trees Model\n",
      "\n"
     ]
    },
    {
     "name": "stderr",
     "output_type": "stream",
     "text": [
      "[Parallel(n_jobs=1)]: Done  20 out of  20 | elapsed:    0.0s finished\n",
      "[Parallel(n_jobs=1)]: Done  20 out of  20 | elapsed:    0.0s finished\n",
      "[Parallel(n_jobs=1)]: Done  20 out of  20 | elapsed:    0.0s finished\n",
      "[Parallel(n_jobs=1)]: Done  20 out of  20 | elapsed:    0.0s finished\n"
     ]
    },
    {
     "name": "stdout",
     "output_type": "stream",
     "text": [
      "[ 0.    0.    0.45  0.55]\n",
      "TESTDATA_BearingRub_SlowRoll\n",
      "Saving Random Forest Model from rf_s0.pkl\n",
      "Saving Extra Trees Model\n",
      "Saving Random Forest Model from rf_s1.pkl\n",
      "Saving Extra Trees Model\n",
      "Saving Random Forest Model from rf_s2.pkl\n",
      "Saving Extra Trees Model\n",
      "Saving Random Forest Model from rf_s3.pkl\n",
      "Saving Extra Trees Model\n",
      "\n"
     ]
    },
    {
     "name": "stderr",
     "output_type": "stream",
     "text": [
      "[Parallel(n_jobs=1)]: Done  20 out of  20 | elapsed:    0.0s finished\n",
      "[Parallel(n_jobs=1)]: Done  20 out of  20 | elapsed:    0.0s finished\n",
      "[Parallel(n_jobs=1)]: Done  20 out of  20 | elapsed:    0.0s finished\n",
      "[Parallel(n_jobs=1)]: Done  20 out of  20 | elapsed:    0.0s finished\n"
     ]
    },
    {
     "name": "stdout",
     "output_type": "stream",
     "text": [
      "[ 0.    0.    0.45  0.55]\n",
      "TESTDATA_BearingRub_RampUp\n",
      "Saving Random Forest Model from rf_s0.pkl\n",
      "Saving Extra Trees Model\n",
      "Saving Random Forest Model from rf_s1.pkl\n",
      "Saving Extra Trees Model\n",
      "Saving Random Forest Model from rf_s2.pkl\n",
      "Saving Extra Trees Model\n",
      "Saving Random Forest Model from rf_s3.pkl\n",
      "Saving Extra Trees Model\n",
      "\n"
     ]
    },
    {
     "name": "stderr",
     "output_type": "stream",
     "text": [
      "[Parallel(n_jobs=1)]: Done  20 out of  20 | elapsed:    0.0s finished\n",
      "[Parallel(n_jobs=1)]: Done  20 out of  20 | elapsed:    0.0s finished\n",
      "[Parallel(n_jobs=1)]: Done  20 out of  20 | elapsed:    0.0s finished\n",
      "[Parallel(n_jobs=1)]: Done  20 out of  20 | elapsed:    0.0s finished\n"
     ]
    },
    {
     "name": "stdout",
     "output_type": "stream",
     "text": [
      "[ 0.   0.   0.5  0.5]\n",
      "TESTDATA_BearingRub_FastRoll\n",
      "Saving Random Forest Model from rf_s0.pkl\n",
      "Saving Extra Trees Model\n",
      "Saving Random Forest Model from rf_s1.pkl\n",
      "Saving Extra Trees Model\n",
      "Saving Random Forest Model from rf_s2.pkl\n",
      "Saving Extra Trees Model\n",
      "Saving Random Forest Model from rf_s3.pkl\n",
      "Saving Extra Trees Model\n",
      "\n"
     ]
    },
    {
     "name": "stderr",
     "output_type": "stream",
     "text": [
      "[Parallel(n_jobs=1)]: Done  20 out of  20 | elapsed:    0.0s finished\n",
      "[Parallel(n_jobs=1)]: Done  20 out of  20 | elapsed:    0.0s finished\n",
      "[Parallel(n_jobs=1)]: Done  20 out of  20 | elapsed:    0.0s finished\n",
      "[Parallel(n_jobs=1)]: Done  20 out of  20 | elapsed:    0.0s finished\n"
     ]
    },
    {
     "name": "stdout",
     "output_type": "stream",
     "text": [
      "[ 0.  0.  0.  1.]\n",
      "TESTDATA_BearingRub_RampDown\n",
      "Saving Random Forest Model from rf_s0.pkl\n",
      "Saving Extra Trees Model\n",
      "Saving Random Forest Model from rf_s1.pkl\n",
      "Saving Extra Trees Model\n",
      "Saving Random Forest Model from rf_s2.pkl\n",
      "Saving Extra Trees Model\n",
      "Saving Random Forest Model from rf_s3.pkl\n",
      "Saving Extra Trees Model\n",
      "\n",
      "[ 0.    0.05  0.35  0.6 ]\n"
     ]
    },
    {
     "name": "stderr",
     "output_type": "stream",
     "text": [
      "[Parallel(n_jobs=1)]: Done  20 out of  20 | elapsed:    0.0s finished\n",
      "[Parallel(n_jobs=1)]: Done  20 out of  20 | elapsed:    0.0s finished\n",
      "[Parallel(n_jobs=1)]: Done  20 out of  20 | elapsed:    0.0s finished\n",
      "[Parallel(n_jobs=1)]: Done  20 out of  20 | elapsed:    0.0s finished\n"
     ]
    },
    {
     "name": "stdout",
     "output_type": "stream",
     "text": [
      "TESTDATA_Preload_SlowRoll\n",
      "Saving Random Forest Model from rf_s0.pkl\n",
      "Saving Extra Trees Model\n",
      "Saving Random Forest Model from rf_s1.pkl\n",
      "Saving Extra Trees Model\n",
      "Saving Random Forest Model from rf_s2.pkl\n",
      "Saving Extra Trees Model\n",
      "Saving Random Forest Model from rf_s3.pkl\n",
      "Saving Extra Trees Model\n",
      "\n"
     ]
    },
    {
     "name": "stderr",
     "output_type": "stream",
     "text": [
      "[Parallel(n_jobs=1)]: Done  20 out of  20 | elapsed:    0.0s finished\n",
      "[Parallel(n_jobs=1)]: Done  20 out of  20 | elapsed:    0.0s finished\n",
      "[Parallel(n_jobs=1)]: Done  20 out of  20 | elapsed:    0.0s finished\n",
      "[Parallel(n_jobs=1)]: Done  20 out of  20 | elapsed:    0.0s finished\n"
     ]
    },
    {
     "name": "stdout",
     "output_type": "stream",
     "text": [
      "[ 0.   0.   0.9  0.1]\n",
      "TESTDATA_Preload_RampUp\n",
      "Saving Random Forest Model from rf_s0.pkl\n",
      "Saving Extra Trees Model\n",
      "Saving Random Forest Model from rf_s1.pkl\n",
      "Saving Extra Trees Model\n",
      "Saving Random Forest Model from rf_s2.pkl\n",
      "Saving Extra Trees Model\n",
      "Saving Random Forest Model from rf_s3.pkl\n",
      "Saving Extra Trees Model\n",
      "\n",
      "[ 0.   0.   0.7  0.3]\n"
     ]
    },
    {
     "name": "stderr",
     "output_type": "stream",
     "text": [
      "[Parallel(n_jobs=1)]: Done  20 out of  20 | elapsed:    0.0s finished\n",
      "[Parallel(n_jobs=1)]: Done  20 out of  20 | elapsed:    0.0s finished\n",
      "[Parallel(n_jobs=1)]: Done  20 out of  20 | elapsed:    0.0s finished\n",
      "[Parallel(n_jobs=1)]: Done  20 out of  20 | elapsed:    0.0s finished\n"
     ]
    },
    {
     "name": "stdout",
     "output_type": "stream",
     "text": [
      "TESTDATA_Preload_FastRoll\n",
      "Saving Random Forest Model from rf_s0.pkl\n",
      "Saving Extra Trees Model\n",
      "Saving Random Forest Model from rf_s1.pkl\n",
      "Saving Extra Trees Model\n",
      "Saving Random Forest Model from rf_s2.pkl\n",
      "Saving Extra Trees Model\n",
      "Saving Random Forest Model from rf_s3.pkl\n",
      "Saving Extra Trees Model\n",
      "\n",
      "[ 0.  0.  1.  0.]\n"
     ]
    },
    {
     "name": "stderr",
     "output_type": "stream",
     "text": [
      "[Parallel(n_jobs=1)]: Done  20 out of  20 | elapsed:    0.0s finished\n",
      "[Parallel(n_jobs=1)]: Done  20 out of  20 | elapsed:    0.0s finished\n",
      "[Parallel(n_jobs=1)]: Done  20 out of  20 | elapsed:    0.0s finished\n",
      "[Parallel(n_jobs=1)]: Done  20 out of  20 | elapsed:    0.0s finished\n"
     ]
    },
    {
     "name": "stdout",
     "output_type": "stream",
     "text": [
      "TESTDATA_Preload_RampDown\n",
      "Saving Random Forest Model from rf_s0.pkl\n",
      "Saving Extra Trees Model\n",
      "Saving Random Forest Model from rf_s1.pkl\n",
      "Saving Extra Trees Model\n",
      "Saving Random Forest Model from rf_s2.pkl\n",
      "Saving Extra Trees Model\n",
      "Saving Random Forest Model from rf_s3.pkl\n",
      "Saving Extra Trees Model\n",
      "\n"
     ]
    },
    {
     "name": "stderr",
     "output_type": "stream",
     "text": [
      "[Parallel(n_jobs=1)]: Done  20 out of  20 | elapsed:    0.0s finished\n",
      "[Parallel(n_jobs=1)]: Done  20 out of  20 | elapsed:    0.0s finished\n",
      "[Parallel(n_jobs=1)]: Done  20 out of  20 | elapsed:    0.0s finished\n",
      "[Parallel(n_jobs=1)]: Done  20 out of  20 | elapsed:    0.0s finished\n"
     ]
    },
    {
     "name": "stdout",
     "output_type": "stream",
     "text": [
      "[ 0.   0.   0.8  0.2]\n",
      "TESTDATA_Unbalance_SlowRoll\n",
      "Saving Random Forest Model from rf_s0.pkl\n",
      "Saving Extra Trees Model\n",
      "Saving Random Forest Model from rf_s1.pkl\n",
      "Saving Extra Trees Model\n",
      "Saving Random Forest Model from rf_s2.pkl\n",
      "Saving Extra Trees Model\n",
      "Saving Random Forest Model from rf_s3.pkl\n",
      "Saving Extra Trees Model\n",
      "\n",
      "[ 0.    0.15  0.6   0.25]\n"
     ]
    },
    {
     "name": "stderr",
     "output_type": "stream",
     "text": [
      "[Parallel(n_jobs=1)]: Done  20 out of  20 | elapsed:    0.0s finished\n",
      "[Parallel(n_jobs=1)]: Done  20 out of  20 | elapsed:    0.0s finished\n",
      "[Parallel(n_jobs=1)]: Done  20 out of  20 | elapsed:    0.0s finished\n",
      "[Parallel(n_jobs=1)]: Done  20 out of  20 | elapsed:    0.0s finished\n"
     ]
    },
    {
     "name": "stdout",
     "output_type": "stream",
     "text": [
      "TESTDATA_Unbalance_RampUp\n",
      "Saving Random Forest Model from rf_s0.pkl\n",
      "Saving Extra Trees Model\n",
      "Saving Random Forest Model from rf_s1.pkl\n",
      "Saving Extra Trees Model\n",
      "Saving Random Forest Model from rf_s2.pkl\n",
      "Saving Extra Trees Model\n",
      "Saving Random Forest Model from rf_s3.pkl\n",
      "Saving Extra Trees Model\n",
      "\n",
      "[ 0.    0.05  0.4   0.55]\n"
     ]
    },
    {
     "name": "stderr",
     "output_type": "stream",
     "text": [
      "[Parallel(n_jobs=1)]: Done  20 out of  20 | elapsed:    0.0s finished\n",
      "[Parallel(n_jobs=1)]: Done  20 out of  20 | elapsed:    0.0s finished\n",
      "[Parallel(n_jobs=1)]: Done  20 out of  20 | elapsed:    0.0s finished\n",
      "[Parallel(n_jobs=1)]: Done  20 out of  20 | elapsed:    0.0s finished\n"
     ]
    },
    {
     "name": "stdout",
     "output_type": "stream",
     "text": [
      "TESTDATA_Unbalance_FastRoll\n",
      "Saving Random Forest Model from rf_s0.pkl\n",
      "Saving Extra Trees Model\n",
      "Saving Random Forest Model from rf_s1.pkl\n",
      "Saving Extra Trees Model\n",
      "Saving Random Forest Model from rf_s2.pkl\n",
      "Saving Extra Trees Model\n",
      "Saving Random Forest Model from rf_s3.pkl\n",
      "Saving Extra Trees Model\n",
      "\n"
     ]
    },
    {
     "name": "stderr",
     "output_type": "stream",
     "text": [
      "[Parallel(n_jobs=1)]: Done  20 out of  20 | elapsed:    0.0s finished\n",
      "[Parallel(n_jobs=1)]: Done  20 out of  20 | elapsed:    0.0s finished\n",
      "[Parallel(n_jobs=1)]: Done  20 out of  20 | elapsed:    0.0s finished\n",
      "[Parallel(n_jobs=1)]: Done  20 out of  20 | elapsed:    0.0s finished\n"
     ]
    },
    {
     "name": "stdout",
     "output_type": "stream",
     "text": [
      "[ 0.    0.75  0.    0.25]\n",
      "TESTDATA_Unbalance_RampDown\n",
      "Saving Random Forest Model from rf_s0.pkl\n",
      "Saving Extra Trees Model\n",
      "Saving Random Forest Model from rf_s1.pkl\n",
      "Saving Extra Trees Model\n",
      "Saving Random Forest Model from rf_s2.pkl\n",
      "Saving Extra Trees Model\n",
      "Saving Random Forest Model from rf_s3.pkl\n",
      "Saving Extra Trees Model\n",
      "\n",
      "[ 0.   0.   0.5  0.5]\n"
     ]
    },
    {
     "name": "stderr",
     "output_type": "stream",
     "text": [
      "[Parallel(n_jobs=1)]: Done  20 out of  20 | elapsed:    0.0s finished\n",
      "[Parallel(n_jobs=1)]: Done  20 out of  20 | elapsed:    0.0s finished\n",
      "[Parallel(n_jobs=1)]: Done  20 out of  20 | elapsed:    0.0s finished\n",
      "[Parallel(n_jobs=1)]: Done  20 out of  20 | elapsed:    0.0s finished\n"
     ]
    },
    {
     "name": "stdout",
     "output_type": "stream",
     "text": [
      "TESTDATA_Normal_SlowRoll\n",
      "Saving Random Forest Model from rf_s0.pkl\n",
      "Saving Extra Trees Model\n",
      "Saving Random Forest Model from rf_s1.pkl\n",
      "Saving Extra Trees Model\n",
      "Saving Random Forest Model from rf_s2.pkl\n",
      "Saving Extra Trees Model\n",
      "Saving Random Forest Model from rf_s3.pkl\n",
      "Saving Extra Trees Model\n",
      "\n"
     ]
    },
    {
     "name": "stderr",
     "output_type": "stream",
     "text": [
      "[Parallel(n_jobs=1)]: Done  20 out of  20 | elapsed:    0.0s finished\n",
      "[Parallel(n_jobs=1)]: Done  20 out of  20 | elapsed:    0.0s finished\n",
      "[Parallel(n_jobs=1)]: Done  20 out of  20 | elapsed:    0.0s finished\n",
      "[Parallel(n_jobs=1)]: Done  20 out of  20 | elapsed:    0.0s finished\n"
     ]
    },
    {
     "name": "stdout",
     "output_type": "stream",
     "text": [
      "[ 0.    0.05  0.5   0.45]\n",
      "TESTDATA_Normal_RampUp\n",
      "Saving Random Forest Model from rf_s0.pkl\n",
      "Saving Extra Trees Model\n",
      "Saving Random Forest Model from rf_s1.pkl\n",
      "Saving Extra Trees Model\n",
      "Saving Random Forest Model from rf_s2.pkl\n",
      "Saving Extra Trees Model\n",
      "Saving Random Forest Model from rf_s3.pkl\n",
      "Saving Extra Trees Model\n",
      "\n"
     ]
    },
    {
     "name": "stderr",
     "output_type": "stream",
     "text": [
      "[Parallel(n_jobs=1)]: Done  20 out of  20 | elapsed:    0.0s finished\n",
      "[Parallel(n_jobs=1)]: Done  20 out of  20 | elapsed:    0.0s finished\n",
      "[Parallel(n_jobs=1)]: Done  20 out of  20 | elapsed:    0.0s finished\n",
      "[Parallel(n_jobs=1)]: Done  20 out of  20 | elapsed:    0.0s finished\n"
     ]
    },
    {
     "name": "stdout",
     "output_type": "stream",
     "text": [
      "[ 0.   0.   0.5  0.5]\n",
      "TESTDATA_Normal_FastRoll\n",
      "Saving Random Forest Model from rf_s0.pkl\n",
      "Saving Extra Trees Model\n",
      "Saving Random Forest Model from rf_s1.pkl\n",
      "Saving Extra Trees Model\n",
      "Saving Random Forest Model from rf_s2.pkl\n",
      "Saving Extra Trees Model\n",
      "Saving Random Forest Model from rf_s3.pkl\n",
      "Saving Extra Trees Model\n",
      "\n"
     ]
    },
    {
     "name": "stderr",
     "output_type": "stream",
     "text": [
      "[Parallel(n_jobs=1)]: Done  20 out of  20 | elapsed:    0.0s finished\n",
      "[Parallel(n_jobs=1)]: Done  20 out of  20 | elapsed:    0.0s finished\n",
      "[Parallel(n_jobs=1)]: Done  20 out of  20 | elapsed:    0.0s finished\n",
      "[Parallel(n_jobs=1)]: Done  20 out of  20 | elapsed:    0.0s finished\n"
     ]
    },
    {
     "name": "stdout",
     "output_type": "stream",
     "text": [
      "[ 1.  0.  0.  0.]\n",
      "TESTDATA_Normal_RampDown\n",
      "Saving Random Forest Model from rf_s0.pkl\n",
      "Saving Extra Trees Model\n",
      "Saving Random Forest Model from rf_s1.pkl\n",
      "Saving Extra Trees Model\n",
      "Saving Random Forest Model from rf_s2.pkl\n",
      "Saving Extra Trees Model\n",
      "Saving Random Forest Model from rf_s3.pkl\n",
      "Saving Extra Trees Model\n",
      "\n",
      "[ 0.    0.    0.45  0.55]\n"
     ]
    },
    {
     "name": "stderr",
     "output_type": "stream",
     "text": [
      "[Parallel(n_jobs=1)]: Done  20 out of  20 | elapsed:    0.0s finished\n",
      "[Parallel(n_jobs=1)]: Done  20 out of  20 | elapsed:    0.0s finished\n",
      "[Parallel(n_jobs=1)]: Done  20 out of  20 | elapsed:    0.0s finished\n",
      "[Parallel(n_jobs=1)]: Done  20 out of  20 | elapsed:    0.0s finished\n"
     ]
    },
    {
     "name": "stdout",
     "output_type": "stream",
     "text": [
      "TESTDATA_BearingRub_SlowRoll\n",
      "Saving Random Forest Model from rf_s0.pkl\n",
      "Saving Extra Trees Model\n",
      "Saving Random Forest Model from rf_s1.pkl\n",
      "Saving Extra Trees Model\n",
      "Saving Random Forest Model from rf_s2.pkl\n",
      "Saving Extra Trees Model\n",
      "Saving Random Forest Model from rf_s3.pkl\n",
      "Saving Extra Trees Model\n",
      "\n",
      "[ 0.    0.    0.45  0.55]\n"
     ]
    },
    {
     "name": "stderr",
     "output_type": "stream",
     "text": [
      "[Parallel(n_jobs=1)]: Done  20 out of  20 | elapsed:    0.0s finished\n",
      "[Parallel(n_jobs=1)]: Done  20 out of  20 | elapsed:    0.0s finished\n",
      "[Parallel(n_jobs=1)]: Done  20 out of  20 | elapsed:    0.0s finished\n",
      "[Parallel(n_jobs=1)]: Done  20 out of  20 | elapsed:    0.0s finished\n"
     ]
    },
    {
     "name": "stdout",
     "output_type": "stream",
     "text": [
      "TESTDATA_BearingRub_RampUp\n",
      "Saving Random Forest Model from rf_s0.pkl\n",
      "Saving Extra Trees Model\n",
      "Saving Random Forest Model from rf_s1.pkl\n",
      "Saving Extra Trees Model\n",
      "Saving Random Forest Model from rf_s2.pkl\n",
      "Saving Extra Trees Model\n",
      "Saving Random Forest Model from rf_s3.pkl\n",
      "Saving Extra Trees Model\n",
      "\n",
      "[ 0.   0.   0.5  0.5]\n"
     ]
    },
    {
     "name": "stderr",
     "output_type": "stream",
     "text": [
      "[Parallel(n_jobs=1)]: Done  20 out of  20 | elapsed:    0.0s finished\n",
      "[Parallel(n_jobs=1)]: Done  20 out of  20 | elapsed:    0.0s finished\n",
      "[Parallel(n_jobs=1)]: Done  20 out of  20 | elapsed:    0.0s finished\n",
      "[Parallel(n_jobs=1)]: Done  20 out of  20 | elapsed:    0.0s finished\n"
     ]
    },
    {
     "name": "stdout",
     "output_type": "stream",
     "text": [
      "TESTDATA_BearingRub_FastRoll\n",
      "Saving Random Forest Model from rf_s0.pkl\n",
      "Saving Extra Trees Model\n",
      "Saving Random Forest Model from rf_s1.pkl\n",
      "Saving Extra Trees Model\n",
      "Saving Random Forest Model from rf_s2.pkl\n",
      "Saving Extra Trees Model\n",
      "Saving Random Forest Model from rf_s3.pkl\n",
      "Saving Extra Trees Model\n",
      "\n"
     ]
    },
    {
     "name": "stderr",
     "output_type": "stream",
     "text": [
      "[Parallel(n_jobs=1)]: Done  20 out of  20 | elapsed:    0.0s finished\n",
      "[Parallel(n_jobs=1)]: Done  20 out of  20 | elapsed:    0.0s finished\n",
      "[Parallel(n_jobs=1)]: Done  20 out of  20 | elapsed:    0.0s finished\n",
      "[Parallel(n_jobs=1)]: Done  20 out of  20 | elapsed:    0.0s finished\n"
     ]
    },
    {
     "name": "stdout",
     "output_type": "stream",
     "text": [
      "[ 0.  0.  0.  1.]\n",
      "TESTDATA_BearingRub_RampDown\n",
      "Saving Random Forest Model from rf_s0.pkl\n",
      "Saving Extra Trees Model\n",
      "Saving Random Forest Model from rf_s1.pkl\n",
      "Saving Extra Trees Model\n",
      "Saving Random Forest Model from rf_s2.pkl\n",
      "Saving Extra Trees Model\n",
      "Saving Random Forest Model from rf_s3.pkl\n",
      "Saving Extra Trees Model\n",
      "\n",
      "[ 0.    0.05  0.35  0.6 ]\n"
     ]
    },
    {
     "name": "stderr",
     "output_type": "stream",
     "text": [
      "[Parallel(n_jobs=1)]: Done  20 out of  20 | elapsed:    0.0s finished\n",
      "[Parallel(n_jobs=1)]: Done  20 out of  20 | elapsed:    0.0s finished\n",
      "[Parallel(n_jobs=1)]: Done  20 out of  20 | elapsed:    0.0s finished\n",
      "[Parallel(n_jobs=1)]: Done  20 out of  20 | elapsed:    0.0s finished\n"
     ]
    },
    {
     "name": "stdout",
     "output_type": "stream",
     "text": [
      "TESTDATA_Preload_SlowRoll\n",
      "Saving Random Forest Model from rf_s0.pkl\n",
      "Saving Extra Trees Model\n",
      "Saving Random Forest Model from rf_s1.pkl\n",
      "Saving Extra Trees Model\n",
      "Saving Random Forest Model from rf_s2.pkl\n",
      "Saving Extra Trees Model\n",
      "Saving Random Forest Model from rf_s3.pkl\n",
      "Saving Extra Trees Model\n",
      "\n"
     ]
    },
    {
     "name": "stderr",
     "output_type": "stream",
     "text": [
      "[Parallel(n_jobs=1)]: Done  20 out of  20 | elapsed:    0.0s finished\n",
      "[Parallel(n_jobs=1)]: Done  20 out of  20 | elapsed:    0.0s finished\n",
      "[Parallel(n_jobs=1)]: Done  20 out of  20 | elapsed:    0.0s finished\n",
      "[Parallel(n_jobs=1)]: Done  20 out of  20 | elapsed:    0.0s finished\n"
     ]
    },
    {
     "name": "stdout",
     "output_type": "stream",
     "text": [
      "[ 0.   0.   0.9  0.1]\n",
      "TESTDATA_Preload_RampUp\n",
      "Saving Random Forest Model from rf_s0.pkl\n",
      "Saving Extra Trees Model\n",
      "Saving Random Forest Model from rf_s1.pkl\n",
      "Saving Extra Trees Model\n",
      "Saving Random Forest Model from rf_s2.pkl\n",
      "Saving Extra Trees Model\n",
      "Saving Random Forest Model from rf_s3.pkl\n",
      "Saving Extra Trees Model\n",
      "\n"
     ]
    },
    {
     "name": "stderr",
     "output_type": "stream",
     "text": [
      "[Parallel(n_jobs=1)]: Done  20 out of  20 | elapsed:    0.0s finished\n",
      "[Parallel(n_jobs=1)]: Done  20 out of  20 | elapsed:    0.0s finished\n",
      "[Parallel(n_jobs=1)]: Done  20 out of  20 | elapsed:    0.0s finished\n",
      "[Parallel(n_jobs=1)]: Done  20 out of  20 | elapsed:    0.0s finished\n"
     ]
    },
    {
     "name": "stdout",
     "output_type": "stream",
     "text": [
      "[ 0.   0.   0.7  0.3]\n",
      "TESTDATA_Preload_FastRoll\n",
      "Saving Random Forest Model from rf_s0.pkl\n",
      "Saving Extra Trees Model\n",
      "Saving Random Forest Model from rf_s1.pkl\n",
      "Saving Extra Trees Model\n",
      "Saving Random Forest Model from rf_s2.pkl\n",
      "Saving Extra Trees Model\n",
      "Saving Random Forest Model from rf_s3.pkl\n",
      "Saving Extra Trees Model\n",
      "\n",
      "[ 0.  0.  1.  0.]\n"
     ]
    },
    {
     "name": "stderr",
     "output_type": "stream",
     "text": [
      "[Parallel(n_jobs=1)]: Done  20 out of  20 | elapsed:    0.0s finished\n",
      "[Parallel(n_jobs=1)]: Done  20 out of  20 | elapsed:    0.0s finished\n",
      "[Parallel(n_jobs=1)]: Done  20 out of  20 | elapsed:    0.0s finished\n",
      "[Parallel(n_jobs=1)]: Done  20 out of  20 | elapsed:    0.0s finished\n"
     ]
    },
    {
     "name": "stdout",
     "output_type": "stream",
     "text": [
      "TESTDATA_Preload_RampDown\n",
      "Saving Random Forest Model from rf_s0.pkl\n",
      "Saving Extra Trees Model\n",
      "Saving Random Forest Model from rf_s1.pkl\n",
      "Saving Extra Trees Model\n",
      "Saving Random Forest Model from rf_s2.pkl\n",
      "Saving Extra Trees Model\n",
      "Saving Random Forest Model from rf_s3.pkl\n",
      "Saving Extra Trees Model\n",
      "\n",
      "[ 0.   0.   0.8  0.2]\n"
     ]
    },
    {
     "name": "stderr",
     "output_type": "stream",
     "text": [
      "[Parallel(n_jobs=1)]: Done  20 out of  20 | elapsed:    0.0s finished\n",
      "[Parallel(n_jobs=1)]: Done  20 out of  20 | elapsed:    0.0s finished\n",
      "[Parallel(n_jobs=1)]: Done  20 out of  20 | elapsed:    0.0s finished\n",
      "[Parallel(n_jobs=1)]: Done  20 out of  20 | elapsed:    0.0s finished\n"
     ]
    },
    {
     "name": "stdout",
     "output_type": "stream",
     "text": [
      "TESTDATA_Unbalance_SlowRoll\n",
      "Saving Random Forest Model from rf_s0.pkl\n",
      "Saving Extra Trees Model\n",
      "Saving Random Forest Model from rf_s1.pkl\n",
      "Saving Extra Trees Model\n",
      "Saving Random Forest Model from rf_s2.pkl\n",
      "Saving Extra Trees Model\n",
      "Saving Random Forest Model from rf_s3.pkl\n",
      "Saving Extra Trees Model\n",
      "\n",
      "[ 0.    0.15  0.6   0.25]\n"
     ]
    },
    {
     "name": "stderr",
     "output_type": "stream",
     "text": [
      "[Parallel(n_jobs=1)]: Done  20 out of  20 | elapsed:    0.0s finished\n",
      "[Parallel(n_jobs=1)]: Done  20 out of  20 | elapsed:    0.0s finished\n",
      "[Parallel(n_jobs=1)]: Done  20 out of  20 | elapsed:    0.0s finished\n",
      "[Parallel(n_jobs=1)]: Done  20 out of  20 | elapsed:    0.0s finished\n"
     ]
    },
    {
     "name": "stdout",
     "output_type": "stream",
     "text": [
      "TESTDATA_Unbalance_RampUp\n",
      "Saving Random Forest Model from rf_s0.pkl\n",
      "Saving Extra Trees Model\n",
      "Saving Random Forest Model from rf_s1.pkl\n",
      "Saving Extra Trees Model\n",
      "Saving Random Forest Model from rf_s2.pkl\n",
      "Saving Extra Trees Model\n",
      "Saving Random Forest Model from rf_s3.pkl\n",
      "Saving Extra Trees Model\n",
      "\n",
      "[ 0.    0.05  0.4   0.55]\n"
     ]
    },
    {
     "name": "stderr",
     "output_type": "stream",
     "text": [
      "[Parallel(n_jobs=1)]: Done  20 out of  20 | elapsed:    0.0s finished\n",
      "[Parallel(n_jobs=1)]: Done  20 out of  20 | elapsed:    0.0s finished\n",
      "[Parallel(n_jobs=1)]: Done  20 out of  20 | elapsed:    0.0s finished\n",
      "[Parallel(n_jobs=1)]: Done  20 out of  20 | elapsed:    0.0s finished\n"
     ]
    },
    {
     "name": "stdout",
     "output_type": "stream",
     "text": [
      "TESTDATA_Unbalance_FastRoll\n",
      "Saving Random Forest Model from rf_s0.pkl\n",
      "Saving Extra Trees Model\n",
      "Saving Random Forest Model from rf_s1.pkl\n",
      "Saving Extra Trees Model\n",
      "Saving Random Forest Model from rf_s2.pkl\n",
      "Saving Extra Trees Model\n",
      "Saving Random Forest Model from rf_s3.pkl\n",
      "Saving Extra Trees Model\n",
      "\n"
     ]
    },
    {
     "name": "stderr",
     "output_type": "stream",
     "text": [
      "[Parallel(n_jobs=1)]: Done  20 out of  20 | elapsed:    0.0s finished\n",
      "[Parallel(n_jobs=1)]: Done  20 out of  20 | elapsed:    0.0s finished\n",
      "[Parallel(n_jobs=1)]: Done  20 out of  20 | elapsed:    0.0s finished\n",
      "[Parallel(n_jobs=1)]: Done  20 out of  20 | elapsed:    0.0s finished\n"
     ]
    },
    {
     "name": "stdout",
     "output_type": "stream",
     "text": [
      "[ 0.    0.75  0.    0.25]\n",
      "TESTDATA_Unbalance_RampDown\n",
      "Saving Random Forest Model from rf_s0.pkl\n",
      "Saving Extra Trees Model\n",
      "Saving Random Forest Model from rf_s1.pkl\n",
      "Saving Extra Trees Model\n",
      "Saving Random Forest Model from rf_s2.pkl\n",
      "Saving Extra Trees Model\n",
      "Saving Random Forest Model from rf_s3.pkl\n",
      "Saving Extra Trees Model\n",
      "\n",
      "[ 0.   0.   0.5  0.5]\n"
     ]
    },
    {
     "name": "stderr",
     "output_type": "stream",
     "text": [
      "[Parallel(n_jobs=1)]: Done  20 out of  20 | elapsed:    0.0s finished\n",
      "[Parallel(n_jobs=1)]: Done  20 out of  20 | elapsed:    0.0s finished\n",
      "[Parallel(n_jobs=1)]: Done  20 out of  20 | elapsed:    0.0s finished\n",
      "[Parallel(n_jobs=1)]: Done  20 out of  20 | elapsed:    0.0s finished\n"
     ]
    },
    {
     "name": "stdout",
     "output_type": "stream",
     "text": [
      "TESTDATA_Normal_SlowRoll\n",
      "Saving Random Forest Model from rf_s0.pkl\n",
      "Saving Extra Trees Model\n",
      "Saving Random Forest Model from rf_s1.pkl\n",
      "Saving Extra Trees Model\n",
      "Saving Random Forest Model from rf_s2.pkl\n",
      "Saving Extra Trees Model\n",
      "Saving Random Forest Model from rf_s3.pkl\n",
      "Saving Extra Trees Model\n",
      "\n"
     ]
    },
    {
     "name": "stderr",
     "output_type": "stream",
     "text": [
      "[Parallel(n_jobs=1)]: Done  20 out of  20 | elapsed:    0.0s finished\n",
      "[Parallel(n_jobs=1)]: Done  20 out of  20 | elapsed:    0.0s finished\n",
      "[Parallel(n_jobs=1)]: Done  20 out of  20 | elapsed:    0.0s finished\n",
      "[Parallel(n_jobs=1)]: Done  20 out of  20 | elapsed:    0.0s finished\n"
     ]
    },
    {
     "name": "stdout",
     "output_type": "stream",
     "text": [
      "[ 0.    0.05  0.5   0.45]\n",
      "TESTDATA_Normal_RampUp\n",
      "Saving Random Forest Model from rf_s0.pkl\n",
      "Saving Extra Trees Model\n",
      "Saving Random Forest Model from rf_s1.pkl\n",
      "Saving Extra Trees Model\n",
      "Saving Random Forest Model from rf_s2.pkl\n",
      "Saving Extra Trees Model\n",
      "Saving Random Forest Model from rf_s3.pkl\n",
      "Saving Extra Trees Model\n",
      "\n"
     ]
    },
    {
     "name": "stderr",
     "output_type": "stream",
     "text": [
      "[Parallel(n_jobs=1)]: Done  20 out of  20 | elapsed:    0.0s finished\n",
      "[Parallel(n_jobs=1)]: Done  20 out of  20 | elapsed:    0.0s finished\n",
      "[Parallel(n_jobs=1)]: Done  20 out of  20 | elapsed:    0.0s finished\n",
      "[Parallel(n_jobs=1)]: Done  20 out of  20 | elapsed:    0.0s finished\n"
     ]
    },
    {
     "name": "stdout",
     "output_type": "stream",
     "text": [
      "[ 0.   0.   0.5  0.5]\n",
      "TESTDATA_Normal_FastRoll\n",
      "Saving Random Forest Model from rf_s0.pkl\n",
      "Saving Extra Trees Model\n",
      "Saving Random Forest Model from rf_s1.pkl\n",
      "Saving Extra Trees Model\n",
      "Saving Random Forest Model from rf_s2.pkl\n",
      "Saving Extra Trees Model\n",
      "Saving Random Forest Model from rf_s3.pkl\n",
      "Saving Extra Trees Model\n",
      "\n",
      "[ 1.  0.  0.  0.]\n"
     ]
    },
    {
     "name": "stderr",
     "output_type": "stream",
     "text": [
      "[Parallel(n_jobs=1)]: Done  20 out of  20 | elapsed:    0.0s finished\n",
      "[Parallel(n_jobs=1)]: Done  20 out of  20 | elapsed:    0.0s finished\n",
      "[Parallel(n_jobs=1)]: Done  20 out of  20 | elapsed:    0.0s finished\n",
      "[Parallel(n_jobs=1)]: Done  20 out of  20 | elapsed:    0.0s finished\n"
     ]
    },
    {
     "name": "stdout",
     "output_type": "stream",
     "text": [
      "TESTDATA_Normal_RampDown\n",
      "Saving Random Forest Model from rf_s0.pkl\n",
      "Saving Extra Trees Model\n",
      "Saving Random Forest Model from rf_s1.pkl\n",
      "Saving Extra Trees Model\n",
      "Saving Random Forest Model from rf_s2.pkl\n",
      "Saving Extra Trees Model\n",
      "Saving Random Forest Model from rf_s3.pkl\n",
      "Saving Extra Trees Model\n",
      "\n"
     ]
    },
    {
     "name": "stderr",
     "output_type": "stream",
     "text": [
      "[Parallel(n_jobs=1)]: Done  20 out of  20 | elapsed:    0.0s finished\n",
      "[Parallel(n_jobs=1)]: Done  20 out of  20 | elapsed:    0.0s finished\n",
      "[Parallel(n_jobs=1)]: Done  20 out of  20 | elapsed:    0.0s finished\n",
      "[Parallel(n_jobs=1)]: Done  20 out of  20 | elapsed:    0.0s finished\n"
     ]
    },
    {
     "name": "stdout",
     "output_type": "stream",
     "text": [
      "[ 0.    0.    0.45  0.55]\n",
      "TESTDATA_BearingRub_SlowRoll\n",
      "Saving Random Forest Model from rf_s0.pkl\n",
      "Saving Extra Trees Model\n",
      "Saving Random Forest Model from rf_s1.pkl\n",
      "Saving Extra Trees Model\n",
      "Saving Random Forest Model from rf_s2.pkl\n",
      "Saving Extra Trees Model\n",
      "Saving Random Forest Model from rf_s3.pkl\n",
      "Saving Extra Trees Model\n",
      "\n"
     ]
    },
    {
     "name": "stderr",
     "output_type": "stream",
     "text": [
      "[Parallel(n_jobs=1)]: Done  20 out of  20 | elapsed:    0.0s finished\n",
      "[Parallel(n_jobs=1)]: Done  20 out of  20 | elapsed:    0.0s finished\n",
      "[Parallel(n_jobs=1)]: Done  20 out of  20 | elapsed:    0.0s finished\n",
      "[Parallel(n_jobs=1)]: Done  20 out of  20 | elapsed:    0.0s finished\n"
     ]
    },
    {
     "name": "stdout",
     "output_type": "stream",
     "text": [
      "[ 0.    0.    0.45  0.55]\n",
      "TESTDATA_BearingRub_RampUp\n",
      "Saving Random Forest Model from rf_s0.pkl\n",
      "Saving Extra Trees Model\n",
      "Saving Random Forest Model from rf_s1.pkl\n",
      "Saving Extra Trees Model\n",
      "Saving Random Forest Model from rf_s2.pkl\n",
      "Saving Extra Trees Model\n",
      "Saving Random Forest Model from rf_s3.pkl\n",
      "Saving Extra Trees Model\n",
      "\n"
     ]
    },
    {
     "name": "stderr",
     "output_type": "stream",
     "text": [
      "[Parallel(n_jobs=1)]: Done  20 out of  20 | elapsed:    0.0s finished\n",
      "[Parallel(n_jobs=1)]: Done  20 out of  20 | elapsed:    0.0s finished\n",
      "[Parallel(n_jobs=1)]: Done  20 out of  20 | elapsed:    0.0s finished\n",
      "[Parallel(n_jobs=1)]: Done  20 out of  20 | elapsed:    0.0s finished\n"
     ]
    },
    {
     "name": "stdout",
     "output_type": "stream",
     "text": [
      "[ 0.   0.   0.5  0.5]\n",
      "TESTDATA_BearingRub_FastRoll\n",
      "Saving Random Forest Model from rf_s0.pkl\n",
      "Saving Extra Trees Model\n",
      "Saving Random Forest Model from rf_s1.pkl\n",
      "Saving Extra Trees Model\n",
      "Saving Random Forest Model from rf_s2.pkl\n",
      "Saving Extra Trees Model\n",
      "Saving Random Forest Model from rf_s3.pkl\n",
      "Saving Extra Trees Model\n",
      "\n"
     ]
    },
    {
     "name": "stderr",
     "output_type": "stream",
     "text": [
      "[Parallel(n_jobs=1)]: Done  20 out of  20 | elapsed:    0.0s finished\n",
      "[Parallel(n_jobs=1)]: Done  20 out of  20 | elapsed:    0.0s finished\n",
      "[Parallel(n_jobs=1)]: Done  20 out of  20 | elapsed:    0.0s finished\n",
      "[Parallel(n_jobs=1)]: Done  20 out of  20 | elapsed:    0.0s finished\n"
     ]
    },
    {
     "name": "stdout",
     "output_type": "stream",
     "text": [
      "[ 0.  0.  0.  1.]\n",
      "TESTDATA_BearingRub_RampDown\n",
      "Saving Random Forest Model from rf_s0.pkl\n",
      "Saving Extra Trees Model\n",
      "Saving Random Forest Model from rf_s1.pkl\n",
      "Saving Extra Trees Model\n",
      "Saving Random Forest Model from rf_s2.pkl\n",
      "Saving Extra Trees Model\n",
      "Saving Random Forest Model from rf_s3.pkl\n",
      "Saving Extra Trees Model\n",
      "\n",
      "[ 0.    0.05  0.35  0.6 ]\n"
     ]
    },
    {
     "name": "stderr",
     "output_type": "stream",
     "text": [
      "[Parallel(n_jobs=1)]: Done  20 out of  20 | elapsed:    0.0s finished\n",
      "[Parallel(n_jobs=1)]: Done  20 out of  20 | elapsed:    0.0s finished\n",
      "[Parallel(n_jobs=1)]: Done  20 out of  20 | elapsed:    0.0s finished\n",
      "[Parallel(n_jobs=1)]: Done  20 out of  20 | elapsed:    0.0s finished\n"
     ]
    },
    {
     "name": "stdout",
     "output_type": "stream",
     "text": [
      "TESTDATA_Preload_SlowRoll\n",
      "Saving Random Forest Model from rf_s0.pkl\n",
      "Saving Extra Trees Model\n",
      "Saving Random Forest Model from rf_s1.pkl\n",
      "Saving Extra Trees Model\n",
      "Saving Random Forest Model from rf_s2.pkl\n",
      "Saving Extra Trees Model\n",
      "Saving Random Forest Model from rf_s3.pkl\n",
      "Saving Extra Trees Model\n",
      "\n",
      "[ 0.   0.   0.9  0.1]\n"
     ]
    },
    {
     "name": "stderr",
     "output_type": "stream",
     "text": [
      "[Parallel(n_jobs=1)]: Done  20 out of  20 | elapsed:    0.0s finished\n",
      "[Parallel(n_jobs=1)]: Done  20 out of  20 | elapsed:    0.0s finished\n",
      "[Parallel(n_jobs=1)]: Done  20 out of  20 | elapsed:    0.0s finished\n",
      "[Parallel(n_jobs=1)]: Done  20 out of  20 | elapsed:    0.0s finished\n"
     ]
    },
    {
     "name": "stdout",
     "output_type": "stream",
     "text": [
      "TESTDATA_Preload_RampUp\n",
      "Saving Random Forest Model from rf_s0.pkl\n",
      "Saving Extra Trees Model\n",
      "Saving Random Forest Model from rf_s1.pkl\n",
      "Saving Extra Trees Model\n",
      "Saving Random Forest Model from rf_s2.pkl\n",
      "Saving Extra Trees Model\n",
      "Saving Random Forest Model from rf_s3.pkl\n",
      "Saving Extra Trees Model\n"
     ]
    },
    {
     "name": "stderr",
     "output_type": "stream",
     "text": [
      "[Parallel(n_jobs=1)]: Done  20 out of  20 | elapsed:    0.0s finished\n",
      "[Parallel(n_jobs=1)]: Done  20 out of  20 | elapsed:    0.0s finished\n",
      "[Parallel(n_jobs=1)]: Done  20 out of  20 | elapsed:    0.0s finished\n",
      "[Parallel(n_jobs=1)]: Done  20 out of  20 | elapsed:    0.0s finished\n"
     ]
    },
    {
     "name": "stdout",
     "output_type": "stream",
     "text": [
      "\n",
      "[ 0.   0.   0.7  0.3]\n",
      "TESTDATA_Preload_FastRoll\n",
      "Saving Random Forest Model from rf_s0.pkl\n",
      "Saving Extra Trees Model\n",
      "Saving Random Forest Model from rf_s1.pkl\n",
      "Saving Extra Trees Model\n",
      "Saving Random Forest Model from rf_s2.pkl\n",
      "Saving Extra Trees Model\n",
      "Saving Random Forest Model from rf_s3.pkl\n",
      "Saving Extra Trees Model\n",
      "\n",
      "[ 0.  0.  1.  0.]\n"
     ]
    },
    {
     "name": "stderr",
     "output_type": "stream",
     "text": [
      "[Parallel(n_jobs=1)]: Done  20 out of  20 | elapsed:    0.0s finished\n",
      "[Parallel(n_jobs=1)]: Done  20 out of  20 | elapsed:    0.0s finished\n",
      "[Parallel(n_jobs=1)]: Done  20 out of  20 | elapsed:    0.0s finished\n",
      "[Parallel(n_jobs=1)]: Done  20 out of  20 | elapsed:    0.0s finished\n"
     ]
    },
    {
     "name": "stdout",
     "output_type": "stream",
     "text": [
      "TESTDATA_Preload_RampDown\n",
      "Saving Random Forest Model from rf_s0.pkl\n",
      "Saving Extra Trees Model\n",
      "Saving Random Forest Model from rf_s1.pkl\n",
      "Saving Extra Trees Model\n",
      "Saving Random Forest Model from rf_s2.pkl\n",
      "Saving Extra Trees Model\n",
      "Saving Random Forest Model from rf_s3.pkl\n",
      "Saving Extra Trees Model\n",
      "\n"
     ]
    },
    {
     "name": "stderr",
     "output_type": "stream",
     "text": [
      "[Parallel(n_jobs=1)]: Done  20 out of  20 | elapsed:    0.0s finished\n",
      "[Parallel(n_jobs=1)]: Done  20 out of  20 | elapsed:    0.0s finished\n",
      "[Parallel(n_jobs=1)]: Done  20 out of  20 | elapsed:    0.0s finished\n",
      "[Parallel(n_jobs=1)]: Done  20 out of  20 | elapsed:    0.0s finished\n"
     ]
    },
    {
     "name": "stdout",
     "output_type": "stream",
     "text": [
      "[ 0.   0.   0.8  0.2]\n",
      "TESTDATA_Unbalance_SlowRoll\n",
      "Saving Random Forest Model from rf_s0.pkl\n",
      "Saving Extra Trees Model\n",
      "Saving Random Forest Model from rf_s1.pkl\n",
      "Saving Extra Trees Model\n",
      "Saving Random Forest Model from rf_s2.pkl\n",
      "Saving Extra Trees Model\n",
      "Saving Random Forest Model from rf_s3.pkl\n",
      "Saving Extra Trees Model\n",
      "\n"
     ]
    },
    {
     "name": "stderr",
     "output_type": "stream",
     "text": [
      "[Parallel(n_jobs=1)]: Done  20 out of  20 | elapsed:    0.0s finished\n",
      "[Parallel(n_jobs=1)]: Done  20 out of  20 | elapsed:    0.0s finished\n",
      "[Parallel(n_jobs=1)]: Done  20 out of  20 | elapsed:    0.0s finished\n",
      "[Parallel(n_jobs=1)]: Done  20 out of  20 | elapsed:    0.0s finished\n"
     ]
    },
    {
     "name": "stdout",
     "output_type": "stream",
     "text": [
      "[ 0.    0.15  0.6   0.25]\n",
      "TESTDATA_Unbalance_RampUp\n",
      "Saving Random Forest Model from rf_s0.pkl\n",
      "Saving Extra Trees Model\n",
      "Saving Random Forest Model from rf_s1.pkl\n",
      "Saving Extra Trees Model\n",
      "Saving Random Forest Model from rf_s2.pkl\n",
      "Saving Extra Trees Model\n",
      "Saving Random Forest Model from rf_s3.pkl\n",
      "Saving Extra Trees Model\n",
      "\n",
      "[ 0.    0.05  0.4   0.55]\n"
     ]
    },
    {
     "name": "stderr",
     "output_type": "stream",
     "text": [
      "[Parallel(n_jobs=1)]: Done  20 out of  20 | elapsed:    0.0s finished\n",
      "[Parallel(n_jobs=1)]: Done  20 out of  20 | elapsed:    0.0s finished\n",
      "[Parallel(n_jobs=1)]: Done  20 out of  20 | elapsed:    0.0s finished\n",
      "[Parallel(n_jobs=1)]: Done  20 out of  20 | elapsed:    0.0s finished\n"
     ]
    },
    {
     "name": "stdout",
     "output_type": "stream",
     "text": [
      "TESTDATA_Unbalance_FastRoll\n",
      "Saving Random Forest Model from rf_s0.pkl\n",
      "Saving Extra Trees Model\n",
      "Saving Random Forest Model from rf_s1.pkl\n",
      "Saving Extra Trees Model\n",
      "Saving Random Forest Model from rf_s2.pkl\n",
      "Saving Extra Trees Model\n",
      "Saving Random Forest Model from rf_s3.pkl\n",
      "Saving Extra Trees Model\n",
      "\n"
     ]
    },
    {
     "name": "stderr",
     "output_type": "stream",
     "text": [
      "[Parallel(n_jobs=1)]: Done  20 out of  20 | elapsed:    0.0s finished\n",
      "[Parallel(n_jobs=1)]: Done  20 out of  20 | elapsed:    0.0s finished\n",
      "[Parallel(n_jobs=1)]: Done  20 out of  20 | elapsed:    0.0s finished\n",
      "[Parallel(n_jobs=1)]: Done  20 out of  20 | elapsed:    0.0s finished\n"
     ]
    },
    {
     "name": "stdout",
     "output_type": "stream",
     "text": [
      "[ 0.    0.75  0.    0.25]\n",
      "TESTDATA_Unbalance_RampDown\n",
      "Saving Random Forest Model from rf_s0.pkl\n",
      "Saving Extra Trees Model\n",
      "Saving Random Forest Model from rf_s1.pkl\n",
      "Saving Extra Trees Model\n",
      "Saving Random Forest Model from rf_s2.pkl\n",
      "Saving Extra Trees Model\n",
      "Saving Random Forest Model from rf_s3.pkl\n",
      "Saving Extra Trees Model\n"
     ]
    },
    {
     "name": "stderr",
     "output_type": "stream",
     "text": [
      "[Parallel(n_jobs=1)]: Done  20 out of  20 | elapsed:    0.0s finished\n",
      "[Parallel(n_jobs=1)]: Done  20 out of  20 | elapsed:    0.0s finished\n",
      "[Parallel(n_jobs=1)]: Done  20 out of  20 | elapsed:    0.0s finished\n",
      "[Parallel(n_jobs=1)]: Done  20 out of  20 | elapsed:    0.0s finished\n"
     ]
    },
    {
     "name": "stdout",
     "output_type": "stream",
     "text": [
      "\n",
      "[ 0.   0.   0.5  0.5]\n",
      "TESTDATA_Normal_SlowRoll\n",
      "Saving Random Forest Model from rf_s0.pkl\n",
      "Saving Extra Trees Model\n",
      "Saving Random Forest Model from rf_s1.pkl\n",
      "Saving Extra Trees Model\n",
      "Saving Random Forest Model from rf_s2.pkl\n",
      "Saving Extra Trees Model\n",
      "Saving Random Forest Model from rf_s3.pkl\n",
      "Saving Extra Trees Model\n",
      "\n"
     ]
    },
    {
     "name": "stderr",
     "output_type": "stream",
     "text": [
      "[Parallel(n_jobs=1)]: Done  20 out of  20 | elapsed:    0.0s finished\n",
      "[Parallel(n_jobs=1)]: Done  20 out of  20 | elapsed:    0.0s finished\n",
      "[Parallel(n_jobs=1)]: Done  20 out of  20 | elapsed:    0.0s finished\n",
      "[Parallel(n_jobs=1)]: Done  20 out of  20 | elapsed:    0.0s finished\n"
     ]
    },
    {
     "name": "stdout",
     "output_type": "stream",
     "text": [
      "[ 0.    0.05  0.5   0.45]\n",
      "TESTDATA_Normal_RampUp\n",
      "Saving Random Forest Model from rf_s0.pkl\n",
      "Saving Extra Trees Model\n",
      "Saving Random Forest Model from rf_s1.pkl\n",
      "Saving Extra Trees Model\n",
      "Saving Random Forest Model from rf_s2.pkl\n",
      "Saving Extra Trees Model\n",
      "Saving Random Forest Model from rf_s3.pkl\n",
      "Saving Extra Trees Model\n",
      "\n",
      "[ 0.   0.   0.5  0.5]\n"
     ]
    },
    {
     "name": "stderr",
     "output_type": "stream",
     "text": [
      "[Parallel(n_jobs=1)]: Done  20 out of  20 | elapsed:    0.0s finished\n",
      "[Parallel(n_jobs=1)]: Done  20 out of  20 | elapsed:    0.0s finished\n",
      "[Parallel(n_jobs=1)]: Done  20 out of  20 | elapsed:    0.0s finished\n",
      "[Parallel(n_jobs=1)]: Done  20 out of  20 | elapsed:    0.0s finished\n"
     ]
    },
    {
     "name": "stdout",
     "output_type": "stream",
     "text": [
      "TESTDATA_Normal_FastRoll\n",
      "Saving Random Forest Model from rf_s0.pkl\n",
      "Saving Extra Trees Model\n",
      "Saving Random Forest Model from rf_s1.pkl\n",
      "Saving Extra Trees Model\n",
      "Saving Random Forest Model from rf_s2.pkl\n",
      "Saving Extra Trees Model\n",
      "Saving Random Forest Model from rf_s3.pkl\n",
      "Saving Extra Trees Model\n",
      "\n",
      "[ 1.  0.  0.  0.]\n"
     ]
    },
    {
     "name": "stderr",
     "output_type": "stream",
     "text": [
      "[Parallel(n_jobs=1)]: Done  20 out of  20 | elapsed:    0.0s finished\n",
      "[Parallel(n_jobs=1)]: Done  20 out of  20 | elapsed:    0.0s finished\n",
      "[Parallel(n_jobs=1)]: Done  20 out of  20 | elapsed:    0.0s finished\n",
      "[Parallel(n_jobs=1)]: Done  20 out of  20 | elapsed:    0.0s finished\n"
     ]
    },
    {
     "name": "stdout",
     "output_type": "stream",
     "text": [
      "TESTDATA_Normal_RampDown\n",
      "Saving Random Forest Model from rf_s0.pkl\n",
      "Saving Extra Trees Model\n",
      "Saving Random Forest Model from rf_s1.pkl\n",
      "Saving Extra Trees Model\n",
      "Saving Random Forest Model from rf_s2.pkl\n",
      "Saving Extra Trees Model\n",
      "Saving Random Forest Model from rf_s3.pkl\n",
      "Saving Extra Trees Model\n",
      "\n",
      "[ 0.    0.    0.45  0.55]\n"
     ]
    },
    {
     "name": "stderr",
     "output_type": "stream",
     "text": [
      "[Parallel(n_jobs=1)]: Done  20 out of  20 | elapsed:    0.0s finished\n",
      "[Parallel(n_jobs=1)]: Done  20 out of  20 | elapsed:    0.0s finished\n",
      "[Parallel(n_jobs=1)]: Done  20 out of  20 | elapsed:    0.0s finished\n",
      "[Parallel(n_jobs=1)]: Done  20 out of  20 | elapsed:    0.0s finished\n"
     ]
    },
    {
     "name": "stdout",
     "output_type": "stream",
     "text": [
      "TESTDATA_BearingRub_SlowRoll\n",
      "Saving Random Forest Model from rf_s0.pkl\n",
      "Saving Extra Trees Model\n",
      "Saving Random Forest Model from rf_s1.pkl\n",
      "Saving Extra Trees Model\n",
      "Saving Random Forest Model from rf_s2.pkl\n",
      "Saving Extra Trees Model\n",
      "Saving Random Forest Model from rf_s3.pkl\n",
      "Saving Extra Trees Model\n",
      "\n"
     ]
    },
    {
     "name": "stderr",
     "output_type": "stream",
     "text": [
      "[Parallel(n_jobs=1)]: Done  20 out of  20 | elapsed:    0.0s finished\n",
      "[Parallel(n_jobs=1)]: Done  20 out of  20 | elapsed:    0.0s finished\n",
      "[Parallel(n_jobs=1)]: Done  20 out of  20 | elapsed:    0.0s finished\n",
      "[Parallel(n_jobs=1)]: Done  20 out of  20 | elapsed:    0.0s finished\n"
     ]
    },
    {
     "name": "stdout",
     "output_type": "stream",
     "text": [
      "[ 0.    0.    0.45  0.55]\n",
      "TESTDATA_BearingRub_RampUp\n",
      "Saving Random Forest Model from rf_s0.pkl\n",
      "Saving Extra Trees Model\n",
      "Saving Random Forest Model from rf_s1.pkl\n",
      "Saving Extra Trees Model\n",
      "Saving Random Forest Model from rf_s2.pkl\n",
      "Saving Extra Trees Model\n",
      "Saving Random Forest Model from rf_s3.pkl\n",
      "Saving Extra Trees Model\n",
      "\n"
     ]
    },
    {
     "name": "stderr",
     "output_type": "stream",
     "text": [
      "[Parallel(n_jobs=1)]: Done  20 out of  20 | elapsed:    0.0s finished\n",
      "[Parallel(n_jobs=1)]: Done  20 out of  20 | elapsed:    0.0s finished\n",
      "[Parallel(n_jobs=1)]: Done  20 out of  20 | elapsed:    0.0s finished\n",
      "[Parallel(n_jobs=1)]: Done  20 out of  20 | elapsed:    0.0s finished\n"
     ]
    },
    {
     "name": "stdout",
     "output_type": "stream",
     "text": [
      "[ 0.   0.   0.5  0.5]\n",
      "TESTDATA_BearingRub_FastRoll\n",
      "Saving Random Forest Model from rf_s0.pkl\n",
      "Saving Extra Trees Model\n",
      "Saving Random Forest Model from rf_s1.pkl\n",
      "Saving Extra Trees Model\n",
      "Saving Random Forest Model from rf_s2.pkl\n",
      "Saving Extra Trees Model\n",
      "Saving Random Forest Model from rf_s3.pkl\n",
      "Saving Extra Trees Model\n",
      "\n",
      "[ 0.  0.  0.  1.]\n"
     ]
    },
    {
     "name": "stderr",
     "output_type": "stream",
     "text": [
      "[Parallel(n_jobs=1)]: Done  20 out of  20 | elapsed:    0.0s finished\n",
      "[Parallel(n_jobs=1)]: Done  20 out of  20 | elapsed:    0.0s finished\n",
      "[Parallel(n_jobs=1)]: Done  20 out of  20 | elapsed:    0.0s finished\n",
      "[Parallel(n_jobs=1)]: Done  20 out of  20 | elapsed:    0.0s finished\n"
     ]
    },
    {
     "name": "stdout",
     "output_type": "stream",
     "text": [
      "TESTDATA_BearingRub_RampDown\n",
      "Saving Random Forest Model from rf_s0.pkl\n",
      "Saving Extra Trees Model\n",
      "Saving Random Forest Model from rf_s1.pkl\n",
      "Saving Extra Trees Model\n",
      "Saving Random Forest Model from rf_s2.pkl\n",
      "Saving Extra Trees Model\n",
      "Saving Random Forest Model from rf_s3.pkl\n",
      "Saving Extra Trees Model\n",
      "\n",
      "[ 0.    0.05  0.35  0.6 ]\n"
     ]
    },
    {
     "name": "stderr",
     "output_type": "stream",
     "text": [
      "[Parallel(n_jobs=1)]: Done  20 out of  20 | elapsed:    0.0s finished\n",
      "[Parallel(n_jobs=1)]: Done  20 out of  20 | elapsed:    0.0s finished\n",
      "[Parallel(n_jobs=1)]: Done  20 out of  20 | elapsed:    0.0s finished\n",
      "[Parallel(n_jobs=1)]: Done  20 out of  20 | elapsed:    0.0s finished\n"
     ]
    },
    {
     "name": "stdout",
     "output_type": "stream",
     "text": [
      "TESTDATA_Preload_SlowRoll\n",
      "Saving Random Forest Model from rf_s0.pkl\n",
      "Saving Extra Trees Model\n",
      "Saving Random Forest Model from rf_s1.pkl\n",
      "Saving Extra Trees Model\n",
      "Saving Random Forest Model from rf_s2.pkl\n",
      "Saving Extra Trees Model\n",
      "Saving Random Forest Model from rf_s3.pkl\n",
      "Saving Extra Trees Model\n",
      "\n"
     ]
    },
    {
     "name": "stderr",
     "output_type": "stream",
     "text": [
      "[Parallel(n_jobs=1)]: Done  20 out of  20 | elapsed:    0.0s finished\n",
      "[Parallel(n_jobs=1)]: Done  20 out of  20 | elapsed:    0.0s finished\n",
      "[Parallel(n_jobs=1)]: Done  20 out of  20 | elapsed:    0.0s finished\n",
      "[Parallel(n_jobs=1)]: Done  20 out of  20 | elapsed:    0.0s finished\n"
     ]
    },
    {
     "name": "stdout",
     "output_type": "stream",
     "text": [
      "[ 0.   0.   0.9  0.1]\n",
      "TESTDATA_Preload_RampUp\n",
      "Saving Random Forest Model from rf_s0.pkl\n",
      "Saving Extra Trees Model\n",
      "Saving Random Forest Model from rf_s1.pkl\n",
      "Saving Extra Trees Model\n",
      "Saving Random Forest Model from rf_s2.pkl\n",
      "Saving Extra Trees Model\n",
      "Saving Random Forest Model from rf_s3.pkl\n",
      "Saving Extra Trees Model\n",
      "\n"
     ]
    },
    {
     "name": "stderr",
     "output_type": "stream",
     "text": [
      "[Parallel(n_jobs=1)]: Done  20 out of  20 | elapsed:    0.0s finished\n",
      "[Parallel(n_jobs=1)]: Done  20 out of  20 | elapsed:    0.0s finished\n",
      "[Parallel(n_jobs=1)]: Done  20 out of  20 | elapsed:    0.0s finished\n",
      "[Parallel(n_jobs=1)]: Done  20 out of  20 | elapsed:    0.0s finished\n"
     ]
    },
    {
     "name": "stdout",
     "output_type": "stream",
     "text": [
      "[ 0.   0.   0.7  0.3]\n",
      "TESTDATA_Preload_FastRoll\n",
      "Saving Random Forest Model from rf_s0.pkl\n",
      "Saving Extra Trees Model\n",
      "Saving Random Forest Model from rf_s1.pkl\n",
      "Saving Extra Trees Model\n",
      "Saving Random Forest Model from rf_s2.pkl\n",
      "Saving Extra Trees Model\n",
      "Saving Random Forest Model from rf_s3.pkl\n",
      "Saving Extra Trees Model\n",
      "\n",
      "[ 0.  0.  1.  0.]\n"
     ]
    },
    {
     "name": "stderr",
     "output_type": "stream",
     "text": [
      "[Parallel(n_jobs=1)]: Done  20 out of  20 | elapsed:    0.0s finished\n",
      "[Parallel(n_jobs=1)]: Done  20 out of  20 | elapsed:    0.0s finished\n",
      "[Parallel(n_jobs=1)]: Done  20 out of  20 | elapsed:    0.0s finished\n",
      "[Parallel(n_jobs=1)]: Done  20 out of  20 | elapsed:    0.0s finished\n"
     ]
    },
    {
     "name": "stdout",
     "output_type": "stream",
     "text": [
      "TESTDATA_Preload_RampDown\n",
      "Saving Random Forest Model from rf_s0.pkl\n",
      "Saving Extra Trees Model\n",
      "Saving Random Forest Model from rf_s1.pkl\n",
      "Saving Extra Trees Model\n",
      "Saving Random Forest Model from rf_s2.pkl\n",
      "Saving Extra Trees Model\n",
      "Saving Random Forest Model from rf_s3.pkl\n",
      "Saving Extra Trees Model\n",
      "\n"
     ]
    },
    {
     "name": "stderr",
     "output_type": "stream",
     "text": [
      "[Parallel(n_jobs=1)]: Done  20 out of  20 | elapsed:    0.0s finished\n",
      "[Parallel(n_jobs=1)]: Done  20 out of  20 | elapsed:    0.0s finished\n",
      "[Parallel(n_jobs=1)]: Done  20 out of  20 | elapsed:    0.0s finished\n",
      "[Parallel(n_jobs=1)]: Done  20 out of  20 | elapsed:    0.0s finished\n"
     ]
    },
    {
     "name": "stdout",
     "output_type": "stream",
     "text": [
      "[ 0.   0.   0.8  0.2]\n",
      "TESTDATA_Unbalance_SlowRoll\n",
      "Saving Random Forest Model from rf_s0.pkl\n",
      "Saving Extra Trees Model\n",
      "Saving Random Forest Model from rf_s1.pkl\n",
      "Saving Extra Trees Model\n",
      "Saving Random Forest Model from rf_s2.pkl\n",
      "Saving Extra Trees Model\n",
      "Saving Random Forest Model from rf_s3.pkl\n",
      "Saving Extra Trees Model\n",
      "\n",
      "[ 0.    0.15  0.6   0.25]\n"
     ]
    },
    {
     "name": "stderr",
     "output_type": "stream",
     "text": [
      "[Parallel(n_jobs=1)]: Done  20 out of  20 | elapsed:    0.0s finished\n",
      "[Parallel(n_jobs=1)]: Done  20 out of  20 | elapsed:    0.0s finished\n",
      "[Parallel(n_jobs=1)]: Done  20 out of  20 | elapsed:    0.0s finished\n",
      "[Parallel(n_jobs=1)]: Done  20 out of  20 | elapsed:    0.0s finished\n"
     ]
    },
    {
     "name": "stdout",
     "output_type": "stream",
     "text": [
      "TESTDATA_Unbalance_RampUp\n",
      "Saving Random Forest Model from rf_s0.pkl\n",
      "Saving Extra Trees Model\n",
      "Saving Random Forest Model from rf_s1.pkl\n",
      "Saving Extra Trees Model\n",
      "Saving Random Forest Model from rf_s2.pkl\n",
      "Saving Extra Trees Model\n",
      "Saving Random Forest Model from rf_s3.pkl\n",
      "Saving Extra Trees Model\n"
     ]
    },
    {
     "name": "stderr",
     "output_type": "stream",
     "text": [
      "[Parallel(n_jobs=1)]: Done  20 out of  20 | elapsed:    0.0s finished\n",
      "[Parallel(n_jobs=1)]: Done  20 out of  20 | elapsed:    0.0s finished\n",
      "[Parallel(n_jobs=1)]: Done  20 out of  20 | elapsed:    0.0s finished\n",
      "[Parallel(n_jobs=1)]: Done  20 out of  20 | elapsed:    0.0s finished\n"
     ]
    },
    {
     "name": "stdout",
     "output_type": "stream",
     "text": [
      "\n",
      "[ 0.    0.05  0.4   0.55]\n",
      "TESTDATA_Unbalance_FastRoll\n",
      "Saving Random Forest Model from rf_s0.pkl\n",
      "Saving Extra Trees Model\n",
      "Saving Random Forest Model from rf_s1.pkl\n",
      "Saving Extra Trees Model\n",
      "Saving Random Forest Model from rf_s2.pkl\n",
      "Saving Extra Trees Model\n",
      "Saving Random Forest Model from rf_s3.pkl\n",
      "Saving Extra Trees Model\n",
      "\n",
      "[ 0.    0.75  0.    0.25]\n"
     ]
    },
    {
     "name": "stderr",
     "output_type": "stream",
     "text": [
      "[Parallel(n_jobs=1)]: Done  20 out of  20 | elapsed:    0.0s finished\n",
      "[Parallel(n_jobs=1)]: Done  20 out of  20 | elapsed:    0.0s finished\n",
      "[Parallel(n_jobs=1)]: Done  20 out of  20 | elapsed:    0.0s finished\n",
      "[Parallel(n_jobs=1)]: Done  20 out of  20 | elapsed:    0.0s finished\n"
     ]
    },
    {
     "name": "stdout",
     "output_type": "stream",
     "text": [
      "TESTDATA_Unbalance_RampDown\n",
      "Saving Random Forest Model from rf_s0.pkl\n",
      "Saving Extra Trees Model\n",
      "Saving Random Forest Model from rf_s1.pkl\n",
      "Saving Extra Trees Model\n",
      "Saving Random Forest Model from rf_s2.pkl\n",
      "Saving Extra Trees Model\n",
      "Saving Random Forest Model from rf_s3.pkl\n",
      "Saving Extra Trees Model\n"
     ]
    },
    {
     "name": "stderr",
     "output_type": "stream",
     "text": [
      "[Parallel(n_jobs=1)]: Done  20 out of  20 | elapsed:    0.0s finished\n",
      "[Parallel(n_jobs=1)]: Done  20 out of  20 | elapsed:    0.0s finished\n",
      "[Parallel(n_jobs=1)]: Done  20 out of  20 | elapsed:    0.0s finished\n",
      "[Parallel(n_jobs=1)]: Done  20 out of  20 | elapsed:    0.0s finished\n"
     ]
    },
    {
     "name": "stdout",
     "output_type": "stream",
     "text": [
      "\n",
      "[ 0.   0.   0.5  0.5]\n",
      "TESTDATA_Normal_SlowRoll\n",
      "Saving Random Forest Model from rf_s0.pkl\n",
      "Saving Extra Trees Model\n",
      "Saving Random Forest Model from rf_s1.pkl\n",
      "Saving Extra Trees Model\n",
      "Saving Random Forest Model from rf_s2.pkl\n",
      "Saving Extra Trees Model\n",
      "Saving Random Forest Model from rf_s3.pkl\n",
      "Saving Extra Trees Model\n",
      "\n"
     ]
    },
    {
     "name": "stderr",
     "output_type": "stream",
     "text": [
      "[Parallel(n_jobs=1)]: Done  20 out of  20 | elapsed:    0.0s finished\n",
      "[Parallel(n_jobs=1)]: Done  20 out of  20 | elapsed:    0.0s finished\n",
      "[Parallel(n_jobs=1)]: Done  20 out of  20 | elapsed:    0.0s finished\n",
      "[Parallel(n_jobs=1)]: Done  20 out of  20 | elapsed:    0.0s finished\n"
     ]
    },
    {
     "name": "stdout",
     "output_type": "stream",
     "text": [
      "[ 0.    0.05  0.5   0.45]\n",
      "TESTDATA_Normal_RampUp\n",
      "Saving Random Forest Model from rf_s0.pkl\n",
      "Saving Extra Trees Model\n",
      "Saving Random Forest Model from rf_s1.pkl\n",
      "Saving Extra Trees Model\n",
      "Saving Random Forest Model from rf_s2.pkl\n",
      "Saving Extra Trees Model\n",
      "Saving Random Forest Model from rf_s3.pkl\n",
      "Saving Extra Trees Model\n",
      "\n"
     ]
    },
    {
     "name": "stderr",
     "output_type": "stream",
     "text": [
      "[Parallel(n_jobs=1)]: Done  20 out of  20 | elapsed:    0.0s finished\n",
      "[Parallel(n_jobs=1)]: Done  20 out of  20 | elapsed:    0.0s finished\n",
      "[Parallel(n_jobs=1)]: Done  20 out of  20 | elapsed:    0.0s finished\n",
      "[Parallel(n_jobs=1)]: Done  20 out of  20 | elapsed:    0.0s finished\n"
     ]
    },
    {
     "name": "stdout",
     "output_type": "stream",
     "text": [
      "[ 0.   0.   0.5  0.5]\n",
      "TESTDATA_Normal_FastRoll\n",
      "Saving Random Forest Model from rf_s0.pkl\n",
      "Saving Extra Trees Model\n",
      "Saving Random Forest Model from rf_s1.pkl\n",
      "Saving Extra Trees Model\n",
      "Saving Random Forest Model from rf_s2.pkl\n",
      "Saving Extra Trees Model\n",
      "Saving Random Forest Model from rf_s3.pkl\n",
      "Saving Extra Trees Model\n",
      "\n"
     ]
    },
    {
     "name": "stderr",
     "output_type": "stream",
     "text": [
      "[Parallel(n_jobs=1)]: Done  20 out of  20 | elapsed:    0.0s finished\n",
      "[Parallel(n_jobs=1)]: Done  20 out of  20 | elapsed:    0.0s finished\n",
      "[Parallel(n_jobs=1)]: Done  20 out of  20 | elapsed:    0.0s finished\n",
      "[Parallel(n_jobs=1)]: Done  20 out of  20 | elapsed:    0.0s finished\n"
     ]
    },
    {
     "name": "stdout",
     "output_type": "stream",
     "text": [
      "[ 1.  0.  0.  0.]\n",
      "TESTDATA_Normal_RampDown\n",
      "Saving Random Forest Model from rf_s0.pkl\n",
      "Saving Extra Trees Model\n",
      "Saving Random Forest Model from rf_s1.pkl\n",
      "Saving Extra Trees Model\n",
      "Saving Random Forest Model from rf_s2.pkl\n",
      "Saving Extra Trees Model\n",
      "Saving Random Forest Model from rf_s3.pkl\n",
      "Saving Extra Trees Model\n",
      "\n",
      "[ 0.    0.    0.45  0.55]\n"
     ]
    },
    {
     "name": "stderr",
     "output_type": "stream",
     "text": [
      "[Parallel(n_jobs=1)]: Done  20 out of  20 | elapsed:    0.0s finished\n",
      "[Parallel(n_jobs=1)]: Done  20 out of  20 | elapsed:    0.0s finished\n",
      "[Parallel(n_jobs=1)]: Done  20 out of  20 | elapsed:    0.0s finished\n",
      "[Parallel(n_jobs=1)]: Done  20 out of  20 | elapsed:    0.0s finished\n"
     ]
    },
    {
     "name": "stdout",
     "output_type": "stream",
     "text": [
      "TESTDATA_BearingRub_SlowRoll\n",
      "Saving Random Forest Model from rf_s0.pkl\n",
      "Saving Extra Trees Model\n",
      "Saving Random Forest Model from rf_s1.pkl\n",
      "Saving Extra Trees Model\n",
      "Saving Random Forest Model from rf_s2.pkl\n",
      "Saving Extra Trees Model\n",
      "Saving Random Forest Model from rf_s3.pkl\n",
      "Saving Extra Trees Model\n",
      "\n",
      "[ 0.    0.    0.45  0.55]\n"
     ]
    },
    {
     "name": "stderr",
     "output_type": "stream",
     "text": [
      "[Parallel(n_jobs=1)]: Done  20 out of  20 | elapsed:    0.0s finished\n",
      "[Parallel(n_jobs=1)]: Done  20 out of  20 | elapsed:    0.0s finished\n",
      "[Parallel(n_jobs=1)]: Done  20 out of  20 | elapsed:    0.0s finished\n",
      "[Parallel(n_jobs=1)]: Done  20 out of  20 | elapsed:    0.0s finished\n"
     ]
    },
    {
     "name": "stdout",
     "output_type": "stream",
     "text": [
      "TESTDATA_BearingRub_RampUp\n",
      "Saving Random Forest Model from rf_s0.pkl\n",
      "Saving Extra Trees Model\n",
      "Saving Random Forest Model from rf_s1.pkl\n",
      "Saving Extra Trees Model\n",
      "Saving Random Forest Model from rf_s2.pkl\n",
      "Saving Extra Trees Model\n",
      "Saving Random Forest Model from rf_s3.pkl\n",
      "Saving Extra Trees Model\n",
      "\n"
     ]
    },
    {
     "name": "stderr",
     "output_type": "stream",
     "text": [
      "[Parallel(n_jobs=1)]: Done  20 out of  20 | elapsed:    0.0s finished\n",
      "[Parallel(n_jobs=1)]: Done  20 out of  20 | elapsed:    0.0s finished\n",
      "[Parallel(n_jobs=1)]: Done  20 out of  20 | elapsed:    0.0s finished\n",
      "[Parallel(n_jobs=1)]: Done  20 out of  20 | elapsed:    0.0s finished\n"
     ]
    },
    {
     "name": "stdout",
     "output_type": "stream",
     "text": [
      "[ 0.   0.   0.5  0.5]\n",
      "TESTDATA_BearingRub_FastRoll\n",
      "Saving Random Forest Model from rf_s0.pkl\n",
      "Saving Extra Trees Model\n",
      "Saving Random Forest Model from rf_s1.pkl\n",
      "Saving Extra Trees Model\n",
      "Saving Random Forest Model from rf_s2.pkl\n",
      "Saving Extra Trees Model\n",
      "Saving Random Forest Model from rf_s3.pkl\n",
      "Saving Extra Trees Model\n"
     ]
    },
    {
     "name": "stderr",
     "output_type": "stream",
     "text": [
      "[Parallel(n_jobs=1)]: Done  20 out of  20 | elapsed:    0.0s finished\n",
      "[Parallel(n_jobs=1)]: Done  20 out of  20 | elapsed:    0.0s finished\n",
      "[Parallel(n_jobs=1)]: Done  20 out of  20 | elapsed:    0.0s finished\n",
      "[Parallel(n_jobs=1)]: Done  20 out of  20 | elapsed:    0.0s finished\n"
     ]
    },
    {
     "name": "stdout",
     "output_type": "stream",
     "text": [
      "\n",
      "[ 0.  0.  0.  1.]\n",
      "TESTDATA_BearingRub_RampDown\n",
      "Saving Random Forest Model from rf_s0.pkl\n",
      "Saving Extra Trees Model\n",
      "Saving Random Forest Model from rf_s1.pkl\n",
      "Saving Extra Trees Model\n",
      "Saving Random Forest Model from rf_s2.pkl\n",
      "Saving Extra Trees Model\n",
      "Saving Random Forest Model from rf_s3.pkl\n",
      "Saving Extra Trees Model\n",
      "\n",
      "[ 0.    0.05  0.35  0.6 ]\n"
     ]
    },
    {
     "name": "stderr",
     "output_type": "stream",
     "text": [
      "[Parallel(n_jobs=1)]: Done  20 out of  20 | elapsed:    0.0s finished\n",
      "[Parallel(n_jobs=1)]: Done  20 out of  20 | elapsed:    0.0s finished\n",
      "[Parallel(n_jobs=1)]: Done  20 out of  20 | elapsed:    0.0s finished\n",
      "[Parallel(n_jobs=1)]: Done  20 out of  20 | elapsed:    0.0s finished\n"
     ]
    },
    {
     "name": "stdout",
     "output_type": "stream",
     "text": [
      "TESTDATA_Preload_SlowRoll\n",
      "Saving Random Forest Model from rf_s0.pkl\n",
      "Saving Extra Trees Model\n",
      "Saving Random Forest Model from rf_s1.pkl\n",
      "Saving Extra Trees Model\n",
      "Saving Random Forest Model from rf_s2.pkl\n",
      "Saving Extra Trees Model\n",
      "Saving Random Forest Model from rf_s3.pkl\n",
      "Saving Extra Trees Model\n",
      "\n",
      "[ 0.   0.   0.9  0.1]\n"
     ]
    },
    {
     "name": "stderr",
     "output_type": "stream",
     "text": [
      "[Parallel(n_jobs=1)]: Done  20 out of  20 | elapsed:    0.0s finished\n",
      "[Parallel(n_jobs=1)]: Done  20 out of  20 | elapsed:    0.0s finished\n",
      "[Parallel(n_jobs=1)]: Done  20 out of  20 | elapsed:    0.0s finished\n",
      "[Parallel(n_jobs=1)]: Done  20 out of  20 | elapsed:    0.0s finished\n"
     ]
    },
    {
     "name": "stdout",
     "output_type": "stream",
     "text": [
      "TESTDATA_Preload_RampUp\n",
      "Saving Random Forest Model from rf_s0.pkl\n",
      "Saving Extra Trees Model\n",
      "Saving Random Forest Model from rf_s1.pkl\n",
      "Saving Extra Trees Model\n",
      "Saving Random Forest Model from rf_s2.pkl\n",
      "Saving Extra Trees Model\n",
      "Saving Random Forest Model from rf_s3.pkl\n",
      "Saving Extra Trees Model\n",
      "\n",
      "[ 0.   0.   0.7  0.3]\n"
     ]
    },
    {
     "name": "stderr",
     "output_type": "stream",
     "text": [
      "[Parallel(n_jobs=1)]: Done  20 out of  20 | elapsed:    0.0s finished\n",
      "[Parallel(n_jobs=1)]: Done  20 out of  20 | elapsed:    0.0s finished\n",
      "[Parallel(n_jobs=1)]: Done  20 out of  20 | elapsed:    0.0s finished\n",
      "[Parallel(n_jobs=1)]: Done  20 out of  20 | elapsed:    0.0s finished\n"
     ]
    },
    {
     "name": "stdout",
     "output_type": "stream",
     "text": [
      "TESTDATA_Preload_FastRoll\n",
      "Saving Random Forest Model from rf_s0.pkl\n",
      "Saving Extra Trees Model\n",
      "Saving Random Forest Model from rf_s1.pkl\n",
      "Saving Extra Trees Model\n",
      "Saving Random Forest Model from rf_s2.pkl\n",
      "Saving Extra Trees Model\n",
      "Saving Random Forest Model from rf_s3.pkl\n",
      "Saving Extra Trees Model\n",
      "\n"
     ]
    },
    {
     "name": "stderr",
     "output_type": "stream",
     "text": [
      "[Parallel(n_jobs=1)]: Done  20 out of  20 | elapsed:    0.0s finished\n",
      "[Parallel(n_jobs=1)]: Done  20 out of  20 | elapsed:    0.0s finished\n",
      "[Parallel(n_jobs=1)]: Done  20 out of  20 | elapsed:    0.0s finished\n",
      "[Parallel(n_jobs=1)]: Done  20 out of  20 | elapsed:    0.0s finished\n"
     ]
    },
    {
     "name": "stdout",
     "output_type": "stream",
     "text": [
      "[ 0.  0.  1.  0.]\n",
      "TESTDATA_Preload_RampDown\n",
      "Saving Random Forest Model from rf_s0.pkl\n",
      "Saving Extra Trees Model\n",
      "Saving Random Forest Model from rf_s1.pkl\n",
      "Saving Extra Trees Model\n",
      "Saving Random Forest Model from rf_s2.pkl\n",
      "Saving Extra Trees Model\n",
      "Saving Random Forest Model from rf_s3.pkl\n",
      "Saving Extra Trees Model\n",
      "\n",
      "[ 0.   0.   0.8  0.2]\n"
     ]
    },
    {
     "name": "stderr",
     "output_type": "stream",
     "text": [
      "[Parallel(n_jobs=1)]: Done  20 out of  20 | elapsed:    0.0s finished\n",
      "[Parallel(n_jobs=1)]: Done  20 out of  20 | elapsed:    0.0s finished\n",
      "[Parallel(n_jobs=1)]: Done  20 out of  20 | elapsed:    0.0s finished\n",
      "[Parallel(n_jobs=1)]: Done  20 out of  20 | elapsed:    0.0s finished\n"
     ]
    },
    {
     "name": "stdout",
     "output_type": "stream",
     "text": [
      "TESTDATA_Unbalance_SlowRoll\n",
      "Saving Random Forest Model from rf_s0.pkl\n",
      "Saving Extra Trees Model\n",
      "Saving Random Forest Model from rf_s1.pkl\n",
      "Saving Extra Trees Model\n",
      "Saving Random Forest Model from rf_s2.pkl\n",
      "Saving Extra Trees Model\n",
      "Saving Random Forest Model from rf_s3.pkl\n",
      "Saving Extra Trees Model\n",
      "\n"
     ]
    },
    {
     "name": "stderr",
     "output_type": "stream",
     "text": [
      "[Parallel(n_jobs=1)]: Done  20 out of  20 | elapsed:    0.0s finished\n",
      "[Parallel(n_jobs=1)]: Done  20 out of  20 | elapsed:    0.0s finished\n",
      "[Parallel(n_jobs=1)]: Done  20 out of  20 | elapsed:    0.0s finished\n",
      "[Parallel(n_jobs=1)]: Done  20 out of  20 | elapsed:    0.0s finished\n"
     ]
    },
    {
     "name": "stdout",
     "output_type": "stream",
     "text": [
      "[ 0.    0.15  0.6   0.25]\n",
      "TESTDATA_Unbalance_RampUp\n",
      "Saving Random Forest Model from rf_s0.pkl\n",
      "Saving Extra Trees Model\n",
      "Saving Random Forest Model from rf_s1.pkl\n",
      "Saving Extra Trees Model\n",
      "Saving Random Forest Model from rf_s2.pkl\n",
      "Saving Extra Trees Model\n",
      "Saving Random Forest Model from rf_s3.pkl\n",
      "Saving Extra Trees Model\n",
      "\n"
     ]
    },
    {
     "name": "stderr",
     "output_type": "stream",
     "text": [
      "[Parallel(n_jobs=1)]: Done  20 out of  20 | elapsed:    0.0s finished\n",
      "[Parallel(n_jobs=1)]: Done  20 out of  20 | elapsed:    0.0s finished\n",
      "[Parallel(n_jobs=1)]: Done  20 out of  20 | elapsed:    0.0s finished\n",
      "[Parallel(n_jobs=1)]: Done  20 out of  20 | elapsed:    0.0s finished\n"
     ]
    },
    {
     "name": "stdout",
     "output_type": "stream",
     "text": [
      "[ 0.    0.05  0.4   0.55]\n",
      "TESTDATA_Unbalance_FastRoll\n",
      "Saving Random Forest Model from rf_s0.pkl\n",
      "Saving Extra Trees Model\n",
      "Saving Random Forest Model from rf_s1.pkl\n",
      "Saving Extra Trees Model\n",
      "Saving Random Forest Model from rf_s2.pkl\n",
      "Saving Extra Trees Model\n",
      "Saving Random Forest Model from rf_s3.pkl\n",
      "Saving Extra Trees Model\n"
     ]
    },
    {
     "name": "stderr",
     "output_type": "stream",
     "text": [
      "[Parallel(n_jobs=1)]: Done  20 out of  20 | elapsed:    0.0s finished\n",
      "[Parallel(n_jobs=1)]: Done  20 out of  20 | elapsed:    0.0s finished\n",
      "[Parallel(n_jobs=1)]: Done  20 out of  20 | elapsed:    0.0s finished\n",
      "[Parallel(n_jobs=1)]: Done  20 out of  20 | elapsed:    0.0s finished\n"
     ]
    },
    {
     "name": "stdout",
     "output_type": "stream",
     "text": [
      "\n",
      "[ 0.    0.75  0.    0.25]\n",
      "TESTDATA_Unbalance_RampDown\n",
      "Saving Random Forest Model from rf_s0.pkl\n",
      "Saving Extra Trees Model\n",
      "Saving Random Forest Model from rf_s1.pkl\n",
      "Saving Extra Trees Model\n",
      "Saving Random Forest Model from rf_s2.pkl\n",
      "Saving Extra Trees Model\n",
      "Saving Random Forest Model from rf_s3.pkl\n",
      "Saving Extra Trees Model\n",
      "\n",
      "[ 0.   0.   0.5  0.5]\n"
     ]
    },
    {
     "name": "stderr",
     "output_type": "stream",
     "text": [
      "[Parallel(n_jobs=1)]: Done  20 out of  20 | elapsed:    0.0s finished\n",
      "[Parallel(n_jobs=1)]: Done  20 out of  20 | elapsed:    0.0s finished\n",
      "[Parallel(n_jobs=1)]: Done  20 out of  20 | elapsed:    0.0s finished\n",
      "[Parallel(n_jobs=1)]: Done  20 out of  20 | elapsed:    0.0s finished\n"
     ]
    },
    {
     "name": "stdout",
     "output_type": "stream",
     "text": [
      "TESTDATA_Normal_SlowRoll\n",
      "Saving Random Forest Model from rf_s0.pkl\n",
      "Saving Extra Trees Model\n",
      "Saving Random Forest Model from rf_s1.pkl\n",
      "Saving Extra Trees Model\n",
      "Saving Random Forest Model from rf_s2.pkl\n",
      "Saving Extra Trees Model\n",
      "Saving Random Forest Model from rf_s3.pkl\n",
      "Saving Extra Trees Model\n",
      "\n"
     ]
    },
    {
     "name": "stderr",
     "output_type": "stream",
     "text": [
      "[Parallel(n_jobs=1)]: Done  20 out of  20 | elapsed:    0.0s finished\n",
      "[Parallel(n_jobs=1)]: Done  20 out of  20 | elapsed:    0.0s finished\n",
      "[Parallel(n_jobs=1)]: Done  20 out of  20 | elapsed:    0.0s finished\n",
      "[Parallel(n_jobs=1)]: Done  20 out of  20 | elapsed:    0.0s finished\n"
     ]
    },
    {
     "name": "stdout",
     "output_type": "stream",
     "text": [
      "[ 0.    0.05  0.5   0.45]\n",
      "TESTDATA_Normal_RampUp\n",
      "Saving Random Forest Model from rf_s0.pkl\n",
      "Saving Extra Trees Model\n",
      "Saving Random Forest Model from rf_s1.pkl\n",
      "Saving Extra Trees Model\n",
      "Saving Random Forest Model from rf_s2.pkl\n",
      "Saving Extra Trees Model\n",
      "Saving Random Forest Model from rf_s3.pkl\n",
      "Saving Extra Trees Model\n",
      "\n"
     ]
    },
    {
     "name": "stderr",
     "output_type": "stream",
     "text": [
      "[Parallel(n_jobs=1)]: Done  20 out of  20 | elapsed:    0.0s finished\n",
      "[Parallel(n_jobs=1)]: Done  20 out of  20 | elapsed:    0.0s finished\n",
      "[Parallel(n_jobs=1)]: Done  20 out of  20 | elapsed:    0.0s finished\n",
      "[Parallel(n_jobs=1)]: Done  20 out of  20 | elapsed:    0.0s finished\n"
     ]
    },
    {
     "name": "stdout",
     "output_type": "stream",
     "text": [
      "[ 0.   0.   0.5  0.5]\n",
      "TESTDATA_Normal_FastRoll\n",
      "Saving Random Forest Model from rf_s0.pkl\n",
      "Saving Extra Trees Model\n",
      "Saving Random Forest Model from rf_s1.pkl\n",
      "Saving Extra Trees Model\n",
      "Saving Random Forest Model from rf_s2.pkl\n",
      "Saving Extra Trees Model\n",
      "Saving Random Forest Model from rf_s3.pkl\n",
      "Saving Extra Trees Model\n",
      "\n"
     ]
    },
    {
     "name": "stderr",
     "output_type": "stream",
     "text": [
      "[Parallel(n_jobs=1)]: Done  20 out of  20 | elapsed:    0.0s finished\n",
      "[Parallel(n_jobs=1)]: Done  20 out of  20 | elapsed:    0.0s finished\n",
      "[Parallel(n_jobs=1)]: Done  20 out of  20 | elapsed:    0.0s finished\n",
      "[Parallel(n_jobs=1)]: Done  20 out of  20 | elapsed:    0.0s finished\n"
     ]
    },
    {
     "name": "stdout",
     "output_type": "stream",
     "text": [
      "[ 1.  0.  0.  0.]\n",
      "TESTDATA_Normal_RampDown\n",
      "Saving Random Forest Model from rf_s0.pkl\n",
      "Saving Extra Trees Model\n",
      "Saving Random Forest Model from rf_s1.pkl\n",
      "Saving Extra Trees Model\n",
      "Saving Random Forest Model from rf_s2.pkl\n",
      "Saving Extra Trees Model\n",
      "Saving Random Forest Model from rf_s3.pkl\n",
      "Saving Extra Trees Model\n",
      "\n",
      "[ 0.    0.    0.45  0.55]\n"
     ]
    },
    {
     "name": "stderr",
     "output_type": "stream",
     "text": [
      "[Parallel(n_jobs=1)]: Done  20 out of  20 | elapsed:    0.0s finished\n",
      "[Parallel(n_jobs=1)]: Done  20 out of  20 | elapsed:    0.0s finished\n",
      "[Parallel(n_jobs=1)]: Done  20 out of  20 | elapsed:    0.0s finished\n",
      "[Parallel(n_jobs=1)]: Done  20 out of  20 | elapsed:    0.0s finished\n"
     ]
    },
    {
     "name": "stdout",
     "output_type": "stream",
     "text": [
      "TESTDATA_BearingRub_SlowRoll\n",
      "Saving Random Forest Model from rf_s0.pkl\n",
      "Saving Extra Trees Model\n",
      "Saving Random Forest Model from rf_s1.pkl\n",
      "Saving Extra Trees Model\n",
      "Saving Random Forest Model from rf_s2.pkl\n",
      "Saving Extra Trees Model\n",
      "Saving Random Forest Model from rf_s3.pkl\n",
      "Saving Extra Trees Model\n",
      "\n",
      "[ 0.    0.    0.45  0.55]\n"
     ]
    },
    {
     "name": "stderr",
     "output_type": "stream",
     "text": [
      "[Parallel(n_jobs=1)]: Done  20 out of  20 | elapsed:    0.0s finished\n",
      "[Parallel(n_jobs=1)]: Done  20 out of  20 | elapsed:    0.0s finished\n",
      "[Parallel(n_jobs=1)]: Done  20 out of  20 | elapsed:    0.0s finished\n",
      "[Parallel(n_jobs=1)]: Done  20 out of  20 | elapsed:    0.0s finished\n"
     ]
    },
    {
     "name": "stdout",
     "output_type": "stream",
     "text": [
      "TESTDATA_BearingRub_RampUp\n",
      "Saving Random Forest Model from rf_s0.pkl\n",
      "Saving Extra Trees Model\n",
      "Saving Random Forest Model from rf_s1.pkl\n",
      "Saving Extra Trees Model\n",
      "Saving Random Forest Model from rf_s2.pkl\n",
      "Saving Extra Trees Model\n",
      "Saving Random Forest Model from rf_s3.pkl\n",
      "Saving Extra Trees Model\n",
      "\n",
      "[ 0.   0.   0.5  0.5]\n"
     ]
    },
    {
     "name": "stderr",
     "output_type": "stream",
     "text": [
      "[Parallel(n_jobs=1)]: Done  20 out of  20 | elapsed:    0.0s finished\n",
      "[Parallel(n_jobs=1)]: Done  20 out of  20 | elapsed:    0.0s finished\n",
      "[Parallel(n_jobs=1)]: Done  20 out of  20 | elapsed:    0.0s finished\n",
      "[Parallel(n_jobs=1)]: Done  20 out of  20 | elapsed:    0.0s finished\n"
     ]
    },
    {
     "name": "stdout",
     "output_type": "stream",
     "text": [
      "TESTDATA_BearingRub_FastRoll\n",
      "Saving Random Forest Model from rf_s0.pkl\n",
      "Saving Extra Trees Model\n",
      "Saving Random Forest Model from rf_s1.pkl\n",
      "Saving Extra Trees Model\n",
      "Saving Random Forest Model from rf_s2.pkl\n",
      "Saving Extra Trees Model\n",
      "Saving Random Forest Model from rf_s3.pkl\n",
      "Saving Extra Trees Model\n",
      "\n",
      "[ 0.  0.  0.  1.]\n"
     ]
    },
    {
     "name": "stderr",
     "output_type": "stream",
     "text": [
      "[Parallel(n_jobs=1)]: Done  20 out of  20 | elapsed:    0.0s finished\n",
      "[Parallel(n_jobs=1)]: Done  20 out of  20 | elapsed:    0.0s finished\n",
      "[Parallel(n_jobs=1)]: Done  20 out of  20 | elapsed:    0.0s finished\n",
      "[Parallel(n_jobs=1)]: Done  20 out of  20 | elapsed:    0.0s finished\n"
     ]
    },
    {
     "name": "stdout",
     "output_type": "stream",
     "text": [
      "TESTDATA_BearingRub_RampDown\n",
      "Saving Random Forest Model from rf_s0.pkl\n",
      "Saving Extra Trees Model\n",
      "Saving Random Forest Model from rf_s1.pkl\n",
      "Saving Extra Trees Model\n",
      "Saving Random Forest Model from rf_s2.pkl\n",
      "Saving Extra Trees Model\n",
      "Saving Random Forest Model from rf_s3.pkl\n",
      "Saving Extra Trees Model\n",
      "\n"
     ]
    },
    {
     "name": "stderr",
     "output_type": "stream",
     "text": [
      "[Parallel(n_jobs=1)]: Done  20 out of  20 | elapsed:    0.0s finished\n",
      "[Parallel(n_jobs=1)]: Done  20 out of  20 | elapsed:    0.0s finished\n",
      "[Parallel(n_jobs=1)]: Done  20 out of  20 | elapsed:    0.0s finished\n",
      "[Parallel(n_jobs=1)]: Done  20 out of  20 | elapsed:    0.0s finished\n"
     ]
    },
    {
     "name": "stdout",
     "output_type": "stream",
     "text": [
      "[ 0.    0.05  0.35  0.6 ]\n",
      "TESTDATA_Preload_SlowRoll\n",
      "Saving Random Forest Model from rf_s0.pkl\n",
      "Saving Extra Trees Model\n",
      "Saving Random Forest Model from rf_s1.pkl\n",
      "Saving Extra Trees Model\n",
      "Saving Random Forest Model from rf_s2.pkl\n",
      "Saving Extra Trees Model\n",
      "Saving Random Forest Model from rf_s3.pkl\n",
      "Saving Extra Trees Model\n",
      "\n",
      "[ 0.   0.   0.9  0.1]\n"
     ]
    },
    {
     "name": "stderr",
     "output_type": "stream",
     "text": [
      "[Parallel(n_jobs=1)]: Done  20 out of  20 | elapsed:    0.0s finished\n",
      "[Parallel(n_jobs=1)]: Done  20 out of  20 | elapsed:    0.0s finished\n",
      "[Parallel(n_jobs=1)]: Done  20 out of  20 | elapsed:    0.0s finished\n",
      "[Parallel(n_jobs=1)]: Done  20 out of  20 | elapsed:    0.0s finished\n"
     ]
    },
    {
     "name": "stdout",
     "output_type": "stream",
     "text": [
      "TESTDATA_Preload_RampUp\n",
      "Saving Random Forest Model from rf_s0.pkl\n",
      "Saving Extra Trees Model\n",
      "Saving Random Forest Model from rf_s1.pkl\n",
      "Saving Extra Trees Model\n",
      "Saving Random Forest Model from rf_s2.pkl\n",
      "Saving Extra Trees Model\n",
      "Saving Random Forest Model from rf_s3.pkl\n",
      "Saving Extra Trees Model\n",
      "\n",
      "[ 0.   0.   0.7  0.3]\n"
     ]
    },
    {
     "name": "stderr",
     "output_type": "stream",
     "text": [
      "[Parallel(n_jobs=1)]: Done  20 out of  20 | elapsed:    0.0s finished\n",
      "[Parallel(n_jobs=1)]: Done  20 out of  20 | elapsed:    0.0s finished\n",
      "[Parallel(n_jobs=1)]: Done  20 out of  20 | elapsed:    0.0s finished\n",
      "[Parallel(n_jobs=1)]: Done  20 out of  20 | elapsed:    0.0s finished\n"
     ]
    },
    {
     "name": "stdout",
     "output_type": "stream",
     "text": [
      "TESTDATA_Preload_FastRoll\n",
      "Saving Random Forest Model from rf_s0.pkl\n",
      "Saving Extra Trees Model\n",
      "Saving Random Forest Model from rf_s1.pkl\n",
      "Saving Extra Trees Model\n",
      "Saving Random Forest Model from rf_s2.pkl\n",
      "Saving Extra Trees Model\n",
      "Saving Random Forest Model from rf_s3.pkl\n",
      "Saving Extra Trees Model\n",
      "\n",
      "[ 0.  0.  1.  0.]\n"
     ]
    },
    {
     "name": "stderr",
     "output_type": "stream",
     "text": [
      "[Parallel(n_jobs=1)]: Done  20 out of  20 | elapsed:    0.0s finished\n",
      "[Parallel(n_jobs=1)]: Done  20 out of  20 | elapsed:    0.0s finished\n",
      "[Parallel(n_jobs=1)]: Done  20 out of  20 | elapsed:    0.0s finished\n",
      "[Parallel(n_jobs=1)]: Done  20 out of  20 | elapsed:    0.0s finished\n"
     ]
    },
    {
     "name": "stdout",
     "output_type": "stream",
     "text": [
      "TESTDATA_Preload_RampDown\n",
      "Saving Random Forest Model from rf_s0.pkl\n",
      "Saving Extra Trees Model\n",
      "Saving Random Forest Model from rf_s1.pkl\n",
      "Saving Extra Trees Model\n",
      "Saving Random Forest Model from rf_s2.pkl\n",
      "Saving Extra Trees Model\n",
      "Saving Random Forest Model from rf_s3.pkl\n",
      "Saving Extra Trees Model\n"
     ]
    },
    {
     "name": "stderr",
     "output_type": "stream",
     "text": [
      "[Parallel(n_jobs=1)]: Done  20 out of  20 | elapsed:    0.0s finished\n",
      "[Parallel(n_jobs=1)]: Done  20 out of  20 | elapsed:    0.0s finished\n",
      "[Parallel(n_jobs=1)]: Done  20 out of  20 | elapsed:    0.0s finished\n",
      "[Parallel(n_jobs=1)]: Done  20 out of  20 | elapsed:    0.0s finished\n"
     ]
    },
    {
     "name": "stdout",
     "output_type": "stream",
     "text": [
      "\n",
      "[ 0.   0.   0.8  0.2]\n",
      "TESTDATA_Unbalance_SlowRoll\n",
      "Saving Random Forest Model from rf_s0.pkl\n",
      "Saving Extra Trees Model\n",
      "Saving Random Forest Model from rf_s1.pkl\n",
      "Saving Extra Trees Model\n",
      "Saving Random Forest Model from rf_s2.pkl\n",
      "Saving Extra Trees Model\n",
      "Saving Random Forest Model from rf_s3.pkl\n",
      "Saving Extra Trees Model\n",
      "\n"
     ]
    },
    {
     "name": "stderr",
     "output_type": "stream",
     "text": [
      "[Parallel(n_jobs=1)]: Done  20 out of  20 | elapsed:    0.0s finished\n",
      "[Parallel(n_jobs=1)]: Done  20 out of  20 | elapsed:    0.0s finished\n",
      "[Parallel(n_jobs=1)]: Done  20 out of  20 | elapsed:    0.0s finished\n",
      "[Parallel(n_jobs=1)]: Done  20 out of  20 | elapsed:    0.0s finished\n"
     ]
    },
    {
     "name": "stdout",
     "output_type": "stream",
     "text": [
      "[ 0.    0.15  0.6   0.25]\n",
      "TESTDATA_Unbalance_RampUp\n",
      "Saving Random Forest Model from rf_s0.pkl\n",
      "Saving Extra Trees Model\n",
      "Saving Random Forest Model from rf_s1.pkl\n",
      "Saving Extra Trees Model\n",
      "Saving Random Forest Model from rf_s2.pkl\n",
      "Saving Extra Trees Model\n",
      "Saving Random Forest Model from rf_s3.pkl\n",
      "Saving Extra Trees Model\n",
      "\n"
     ]
    },
    {
     "name": "stderr",
     "output_type": "stream",
     "text": [
      "[Parallel(n_jobs=1)]: Done  20 out of  20 | elapsed:    0.0s finished\n",
      "[Parallel(n_jobs=1)]: Done  20 out of  20 | elapsed:    0.0s finished\n",
      "[Parallel(n_jobs=1)]: Done  20 out of  20 | elapsed:    0.0s finished\n",
      "[Parallel(n_jobs=1)]: Done  20 out of  20 | elapsed:    0.0s finished\n"
     ]
    },
    {
     "name": "stdout",
     "output_type": "stream",
     "text": [
      "[ 0.    0.05  0.4   0.55]\n",
      "TESTDATA_Unbalance_FastRoll\n",
      "Saving Random Forest Model from rf_s0.pkl\n",
      "Saving Extra Trees Model\n",
      "Saving Random Forest Model from rf_s1.pkl\n",
      "Saving Extra Trees Model\n",
      "Saving Random Forest Model from rf_s2.pkl\n",
      "Saving Extra Trees Model\n",
      "Saving Random Forest Model from rf_s3.pkl\n",
      "Saving Extra Trees Model\n",
      "\n"
     ]
    },
    {
     "name": "stderr",
     "output_type": "stream",
     "text": [
      "[Parallel(n_jobs=1)]: Done  20 out of  20 | elapsed:    0.0s finished\n",
      "[Parallel(n_jobs=1)]: Done  20 out of  20 | elapsed:    0.0s finished\n",
      "[Parallel(n_jobs=1)]: Done  20 out of  20 | elapsed:    0.0s finished\n",
      "[Parallel(n_jobs=1)]: Done  20 out of  20 | elapsed:    0.0s finished\n"
     ]
    },
    {
     "name": "stdout",
     "output_type": "stream",
     "text": [
      "[ 0.    0.75  0.    0.25]\n",
      "TESTDATA_Unbalance_RampDown\n",
      "Saving Random Forest Model from rf_s0.pkl\n",
      "Saving Extra Trees Model\n",
      "Saving Random Forest Model from rf_s1.pkl\n",
      "Saving Extra Trees Model\n",
      "Saving Random Forest Model from rf_s2.pkl\n",
      "Saving Extra Trees Model\n",
      "Saving Random Forest Model from rf_s3.pkl\n",
      "Saving Extra Trees Model\n",
      "\n"
     ]
    },
    {
     "name": "stderr",
     "output_type": "stream",
     "text": [
      "[Parallel(n_jobs=1)]: Done  20 out of  20 | elapsed:    0.0s finished\n",
      "[Parallel(n_jobs=1)]: Done  20 out of  20 | elapsed:    0.0s finished\n",
      "[Parallel(n_jobs=1)]: Done  20 out of  20 | elapsed:    0.0s finished\n",
      "[Parallel(n_jobs=1)]: Done  20 out of  20 | elapsed:    0.0s finished\n"
     ]
    },
    {
     "name": "stdout",
     "output_type": "stream",
     "text": [
      "[ 0.   0.   0.5  0.5]\n",
      "TESTDATA_Normal_SlowRoll\n",
      "Saving Random Forest Model from rf_s0.pkl\n",
      "Saving Extra Trees Model\n",
      "Saving Random Forest Model from rf_s1.pkl\n",
      "Saving Extra Trees Model\n",
      "Saving Random Forest Model from rf_s2.pkl\n",
      "Saving Extra Trees Model\n",
      "Saving Random Forest Model from rf_s3.pkl\n",
      "Saving Extra Trees Model\n",
      "\n",
      "[ 0.    0.05  0.5   0.45]\n"
     ]
    },
    {
     "name": "stderr",
     "output_type": "stream",
     "text": [
      "[Parallel(n_jobs=1)]: Done  20 out of  20 | elapsed:    0.0s finished\n",
      "[Parallel(n_jobs=1)]: Done  20 out of  20 | elapsed:    0.0s finished\n",
      "[Parallel(n_jobs=1)]: Done  20 out of  20 | elapsed:    0.0s finished\n",
      "[Parallel(n_jobs=1)]: Done  20 out of  20 | elapsed:    0.0s finished\n"
     ]
    },
    {
     "name": "stdout",
     "output_type": "stream",
     "text": [
      "TESTDATA_Normal_RampUp\n",
      "Saving Random Forest Model from rf_s0.pkl\n",
      "Saving Extra Trees Model\n",
      "Saving Random Forest Model from rf_s1.pkl\n",
      "Saving Extra Trees Model\n",
      "Saving Random Forest Model from rf_s2.pkl\n",
      "Saving Extra Trees Model\n",
      "Saving Random Forest Model from rf_s3.pkl\n",
      "Saving Extra Trees Model\n",
      "\n"
     ]
    },
    {
     "name": "stderr",
     "output_type": "stream",
     "text": [
      "[Parallel(n_jobs=1)]: Done  20 out of  20 | elapsed:    0.0s finished\n",
      "[Parallel(n_jobs=1)]: Done  20 out of  20 | elapsed:    0.0s finished\n",
      "[Parallel(n_jobs=1)]: Done  20 out of  20 | elapsed:    0.0s finished\n",
      "[Parallel(n_jobs=1)]: Done  20 out of  20 | elapsed:    0.0s finished\n"
     ]
    },
    {
     "name": "stdout",
     "output_type": "stream",
     "text": [
      "[ 0.   0.   0.5  0.5]\n",
      "TESTDATA_Normal_FastRoll\n",
      "Saving Random Forest Model from rf_s0.pkl\n",
      "Saving Extra Trees Model\n",
      "Saving Random Forest Model from rf_s1.pkl\n",
      "Saving Extra Trees Model\n",
      "Saving Random Forest Model from rf_s2.pkl\n",
      "Saving Extra Trees Model\n",
      "Saving Random Forest Model from rf_s3.pkl\n",
      "Saving Extra Trees Model\n",
      "\n"
     ]
    },
    {
     "name": "stderr",
     "output_type": "stream",
     "text": [
      "[Parallel(n_jobs=1)]: Done  20 out of  20 | elapsed:    0.0s finished\n",
      "[Parallel(n_jobs=1)]: Done  20 out of  20 | elapsed:    0.0s finished\n",
      "[Parallel(n_jobs=1)]: Done  20 out of  20 | elapsed:    0.0s finished\n",
      "[Parallel(n_jobs=1)]: Done  20 out of  20 | elapsed:    0.0s finished\n"
     ]
    },
    {
     "name": "stdout",
     "output_type": "stream",
     "text": [
      "[ 1.  0.  0.  0.]\n",
      "TESTDATA_Normal_RampDown\n",
      "Saving Random Forest Model from rf_s0.pkl\n",
      "Saving Extra Trees Model\n",
      "Saving Random Forest Model from rf_s1.pkl\n",
      "Saving Extra Trees Model\n",
      "Saving Random Forest Model from rf_s2.pkl\n",
      "Saving Extra Trees Model\n",
      "Saving Random Forest Model from rf_s3.pkl\n",
      "Saving Extra Trees Model\n",
      "\n",
      "[ 0.    0.    0.45  0.55]\n"
     ]
    },
    {
     "name": "stderr",
     "output_type": "stream",
     "text": [
      "[Parallel(n_jobs=1)]: Done  20 out of  20 | elapsed:    0.0s finished\n",
      "[Parallel(n_jobs=1)]: Done  20 out of  20 | elapsed:    0.0s finished\n",
      "[Parallel(n_jobs=1)]: Done  20 out of  20 | elapsed:    0.0s finished\n",
      "[Parallel(n_jobs=1)]: Done  20 out of  20 | elapsed:    0.0s finished\n"
     ]
    },
    {
     "name": "stdout",
     "output_type": "stream",
     "text": [
      "TESTDATA_BearingRub_SlowRoll\n",
      "Saving Random Forest Model from rf_s0.pkl\n",
      "Saving Extra Trees Model\n",
      "Saving Random Forest Model from rf_s1.pkl\n",
      "Saving Extra Trees Model\n",
      "Saving Random Forest Model from rf_s2.pkl\n",
      "Saving Extra Trees Model\n",
      "Saving Random Forest Model from rf_s3.pkl\n",
      "Saving Extra Trees Model\n",
      "\n",
      "[ 0.    0.    0.45  0.55]\n"
     ]
    },
    {
     "name": "stderr",
     "output_type": "stream",
     "text": [
      "[Parallel(n_jobs=1)]: Done  20 out of  20 | elapsed:    0.0s finished\n",
      "[Parallel(n_jobs=1)]: Done  20 out of  20 | elapsed:    0.0s finished\n",
      "[Parallel(n_jobs=1)]: Done  20 out of  20 | elapsed:    0.0s finished\n",
      "[Parallel(n_jobs=1)]: Done  20 out of  20 | elapsed:    0.0s finished\n"
     ]
    },
    {
     "name": "stdout",
     "output_type": "stream",
     "text": [
      "TESTDATA_BearingRub_RampUp\n",
      "Saving Random Forest Model from rf_s0.pkl\n",
      "Saving Extra Trees Model\n",
      "Saving Random Forest Model from rf_s1.pkl\n",
      "Saving Extra Trees Model\n",
      "Saving Random Forest Model from rf_s2.pkl\n",
      "Saving Extra Trees Model\n",
      "Saving Random Forest Model from rf_s3.pkl\n",
      "Saving Extra Trees Model\n"
     ]
    },
    {
     "name": "stderr",
     "output_type": "stream",
     "text": [
      "[Parallel(n_jobs=1)]: Done  20 out of  20 | elapsed:    0.0s finished\n",
      "[Parallel(n_jobs=1)]: Done  20 out of  20 | elapsed:    0.0s finished\n",
      "[Parallel(n_jobs=1)]: Done  20 out of  20 | elapsed:    0.0s finished\n",
      "[Parallel(n_jobs=1)]: Done  20 out of  20 | elapsed:    0.0s finished\n"
     ]
    },
    {
     "name": "stdout",
     "output_type": "stream",
     "text": [
      "\n",
      "[ 0.   0.   0.5  0.5]\n",
      "TESTDATA_BearingRub_FastRoll\n",
      "Saving Random Forest Model from rf_s0.pkl\n",
      "Saving Extra Trees Model\n",
      "Saving Random Forest Model from rf_s1.pkl\n",
      "Saving Extra Trees Model\n",
      "Saving Random Forest Model from rf_s2.pkl\n",
      "Saving Extra Trees Model\n",
      "Saving Random Forest Model from rf_s3.pkl\n",
      "Saving Extra Trees Model\n",
      "\n",
      "[ 0.  0.  0.  1.]\n"
     ]
    },
    {
     "name": "stderr",
     "output_type": "stream",
     "text": [
      "[Parallel(n_jobs=1)]: Done  20 out of  20 | elapsed:    0.0s finished\n",
      "[Parallel(n_jobs=1)]: Done  20 out of  20 | elapsed:    0.0s finished\n",
      "[Parallel(n_jobs=1)]: Done  20 out of  20 | elapsed:    0.0s finished\n",
      "[Parallel(n_jobs=1)]: Done  20 out of  20 | elapsed:    0.0s finished\n"
     ]
    },
    {
     "name": "stdout",
     "output_type": "stream",
     "text": [
      "TESTDATA_BearingRub_RampDown\n",
      "Saving Random Forest Model from rf_s0.pkl\n",
      "Saving Extra Trees Model\n",
      "Saving Random Forest Model from rf_s1.pkl\n",
      "Saving Extra Trees Model\n",
      "Saving Random Forest Model from rf_s2.pkl\n",
      "Saving Extra Trees Model\n",
      "Saving Random Forest Model from rf_s3.pkl\n",
      "Saving Extra Trees Model\n",
      "\n",
      "[ 0.    0.05  0.35  0.6 ]\n"
     ]
    },
    {
     "name": "stderr",
     "output_type": "stream",
     "text": [
      "[Parallel(n_jobs=1)]: Done  20 out of  20 | elapsed:    0.0s finished\n",
      "[Parallel(n_jobs=1)]: Done  20 out of  20 | elapsed:    0.0s finished\n",
      "[Parallel(n_jobs=1)]: Done  20 out of  20 | elapsed:    0.0s finished\n",
      "[Parallel(n_jobs=1)]: Done  20 out of  20 | elapsed:    0.0s finished\n"
     ]
    },
    {
     "name": "stdout",
     "output_type": "stream",
     "text": [
      "TESTDATA_Preload_SlowRoll\n",
      "Saving Random Forest Model from rf_s0.pkl\n",
      "Saving Extra Trees Model\n",
      "Saving Random Forest Model from rf_s1.pkl\n",
      "Saving Extra Trees Model\n",
      "Saving Random Forest Model from rf_s2.pkl\n",
      "Saving Extra Trees Model\n",
      "Saving Random Forest Model from rf_s3.pkl\n",
      "Saving Extra Trees Model\n",
      "\n",
      "[ 0.   0.   0.9  0.1]\n"
     ]
    },
    {
     "name": "stderr",
     "output_type": "stream",
     "text": [
      "[Parallel(n_jobs=1)]: Done  20 out of  20 | elapsed:    0.0s finished\n",
      "[Parallel(n_jobs=1)]: Done  20 out of  20 | elapsed:    0.0s finished\n",
      "[Parallel(n_jobs=1)]: Done  20 out of  20 | elapsed:    0.0s finished\n",
      "[Parallel(n_jobs=1)]: Done  20 out of  20 | elapsed:    0.0s finished\n"
     ]
    },
    {
     "name": "stdout",
     "output_type": "stream",
     "text": [
      "TESTDATA_Preload_RampUp\n",
      "Saving Random Forest Model from rf_s0.pkl\n",
      "Saving Extra Trees Model\n",
      "Saving Random Forest Model from rf_s1.pkl\n",
      "Saving Extra Trees Model\n",
      "Saving Random Forest Model from rf_s2.pkl\n",
      "Saving Extra Trees Model\n",
      "Saving Random Forest Model from rf_s3.pkl\n",
      "Saving Extra Trees Model\n",
      "\n",
      "[ 0.   0.   0.7  0.3]\n"
     ]
    },
    {
     "name": "stderr",
     "output_type": "stream",
     "text": [
      "[Parallel(n_jobs=1)]: Done  20 out of  20 | elapsed:    0.0s finished\n",
      "[Parallel(n_jobs=1)]: Done  20 out of  20 | elapsed:    0.0s finished\n",
      "[Parallel(n_jobs=1)]: Done  20 out of  20 | elapsed:    0.0s finished\n",
      "[Parallel(n_jobs=1)]: Done  20 out of  20 | elapsed:    0.0s finished\n"
     ]
    },
    {
     "name": "stdout",
     "output_type": "stream",
     "text": [
      "TESTDATA_Preload_FastRoll\n",
      "Saving Random Forest Model from rf_s0.pkl\n",
      "Saving Extra Trees Model\n",
      "Saving Random Forest Model from rf_s1.pkl\n",
      "Saving Extra Trees Model\n",
      "Saving Random Forest Model from rf_s2.pkl\n",
      "Saving Extra Trees Model\n",
      "Saving Random Forest Model from rf_s3.pkl\n",
      "Saving Extra Trees Model\n",
      "\n",
      "[ 0.  0.  1.  0.]\n"
     ]
    },
    {
     "name": "stderr",
     "output_type": "stream",
     "text": [
      "[Parallel(n_jobs=1)]: Done  20 out of  20 | elapsed:    0.0s finished\n",
      "[Parallel(n_jobs=1)]: Done  20 out of  20 | elapsed:    0.0s finished\n",
      "[Parallel(n_jobs=1)]: Done  20 out of  20 | elapsed:    0.0s finished\n",
      "[Parallel(n_jobs=1)]: Done  20 out of  20 | elapsed:    0.0s finished\n"
     ]
    },
    {
     "name": "stdout",
     "output_type": "stream",
     "text": [
      "TESTDATA_Preload_RampDown\n",
      "Saving Random Forest Model from rf_s0.pkl\n",
      "Saving Extra Trees Model\n",
      "Saving Random Forest Model from rf_s1.pkl\n",
      "Saving Extra Trees Model\n",
      "Saving Random Forest Model from rf_s2.pkl\n",
      "Saving Extra Trees Model\n",
      "Saving Random Forest Model from rf_s3.pkl\n",
      "Saving Extra Trees Model\n",
      "\n",
      "[ 0.   0.   0.8  0.2]\n"
     ]
    },
    {
     "name": "stderr",
     "output_type": "stream",
     "text": [
      "[Parallel(n_jobs=1)]: Done  20 out of  20 | elapsed:    0.0s finished\n",
      "[Parallel(n_jobs=1)]: Done  20 out of  20 | elapsed:    0.0s finished\n",
      "[Parallel(n_jobs=1)]: Done  20 out of  20 | elapsed:    0.0s finished\n",
      "[Parallel(n_jobs=1)]: Done  20 out of  20 | elapsed:    0.0s finished\n"
     ]
    },
    {
     "name": "stdout",
     "output_type": "stream",
     "text": [
      "TESTDATA_Unbalance_SlowRoll\n",
      "Saving Random Forest Model from rf_s0.pkl\n",
      "Saving Extra Trees Model\n",
      "Saving Random Forest Model from rf_s1.pkl\n",
      "Saving Extra Trees Model\n",
      "Saving Random Forest Model from rf_s2.pkl\n",
      "Saving Extra Trees Model\n",
      "Saving Random Forest Model from rf_s3.pkl\n",
      "Saving Extra Trees Model\n",
      "\n"
     ]
    },
    {
     "name": "stderr",
     "output_type": "stream",
     "text": [
      "[Parallel(n_jobs=1)]: Done  20 out of  20 | elapsed:    0.0s finished\n",
      "[Parallel(n_jobs=1)]: Done  20 out of  20 | elapsed:    0.0s finished\n",
      "[Parallel(n_jobs=1)]: Done  20 out of  20 | elapsed:    0.0s finished\n",
      "[Parallel(n_jobs=1)]: Done  20 out of  20 | elapsed:    0.0s finished\n"
     ]
    },
    {
     "name": "stdout",
     "output_type": "stream",
     "text": [
      "[ 0.    0.15  0.6   0.25]\n",
      "TESTDATA_Unbalance_RampUp\n",
      "Saving Random Forest Model from rf_s0.pkl\n",
      "Saving Extra Trees Model\n",
      "Saving Random Forest Model from rf_s1.pkl\n",
      "Saving Extra Trees Model\n",
      "Saving Random Forest Model from rf_s2.pkl\n",
      "Saving Extra Trees Model\n",
      "Saving Random Forest Model from rf_s3.pkl\n",
      "Saving Extra Trees Model\n",
      "\n"
     ]
    },
    {
     "name": "stderr",
     "output_type": "stream",
     "text": [
      "[Parallel(n_jobs=1)]: Done  20 out of  20 | elapsed:    0.0s finished\n",
      "[Parallel(n_jobs=1)]: Done  20 out of  20 | elapsed:    0.0s finished\n",
      "[Parallel(n_jobs=1)]: Done  20 out of  20 | elapsed:    0.0s finished\n",
      "[Parallel(n_jobs=1)]: Done  20 out of  20 | elapsed:    0.0s finished\n"
     ]
    },
    {
     "name": "stdout",
     "output_type": "stream",
     "text": [
      "[ 0.    0.05  0.4   0.55]\n",
      "TESTDATA_Unbalance_FastRoll\n",
      "Saving Random Forest Model from rf_s0.pkl\n",
      "Saving Extra Trees Model\n",
      "Saving Random Forest Model from rf_s1.pkl\n",
      "Saving Extra Trees Model\n",
      "Saving Random Forest Model from rf_s2.pkl\n",
      "Saving Extra Trees Model\n",
      "Saving Random Forest Model from rf_s3.pkl\n",
      "Saving Extra Trees Model\n",
      "\n"
     ]
    },
    {
     "name": "stderr",
     "output_type": "stream",
     "text": [
      "[Parallel(n_jobs=1)]: Done  20 out of  20 | elapsed:    0.0s finished\n",
      "[Parallel(n_jobs=1)]: Done  20 out of  20 | elapsed:    0.0s finished\n",
      "[Parallel(n_jobs=1)]: Done  20 out of  20 | elapsed:    0.0s finished\n",
      "[Parallel(n_jobs=1)]: Done  20 out of  20 | elapsed:    0.0s finished\n"
     ]
    },
    {
     "name": "stdout",
     "output_type": "stream",
     "text": [
      "[ 0.    0.75  0.    0.25]\n",
      "TESTDATA_Unbalance_RampDown\n",
      "Saving Random Forest Model from rf_s0.pkl\n",
      "Saving Extra Trees Model\n",
      "Saving Random Forest Model from rf_s1.pkl\n",
      "Saving Extra Trees Model\n",
      "Saving Random Forest Model from rf_s2.pkl\n",
      "Saving Extra Trees Model\n",
      "Saving Random Forest Model from rf_s3.pkl\n",
      "Saving Extra Trees Model\n",
      "\n"
     ]
    },
    {
     "name": "stderr",
     "output_type": "stream",
     "text": [
      "[Parallel(n_jobs=1)]: Done  20 out of  20 | elapsed:    0.0s finished\n",
      "[Parallel(n_jobs=1)]: Done  20 out of  20 | elapsed:    0.0s finished\n",
      "[Parallel(n_jobs=1)]: Done  20 out of  20 | elapsed:    0.0s finished\n",
      "[Parallel(n_jobs=1)]: Done  20 out of  20 | elapsed:    0.0s finished\n"
     ]
    },
    {
     "name": "stdout",
     "output_type": "stream",
     "text": [
      "[ 0.   0.   0.5  0.5]\n",
      "TESTDATA_Normal_SlowRoll\n",
      "Saving Random Forest Model from rf_s0.pkl\n",
      "Saving Extra Trees Model\n",
      "Saving Random Forest Model from rf_s1.pkl\n",
      "Saving Extra Trees Model\n",
      "Saving Random Forest Model from rf_s2.pkl\n",
      "Saving Extra Trees Model\n",
      "Saving Random Forest Model from rf_s3.pkl\n",
      "Saving Extra Trees Model\n",
      "\n"
     ]
    },
    {
     "name": "stderr",
     "output_type": "stream",
     "text": [
      "[Parallel(n_jobs=1)]: Done  20 out of  20 | elapsed:    0.0s finished\n",
      "[Parallel(n_jobs=1)]: Done  20 out of  20 | elapsed:    0.0s finished\n",
      "[Parallel(n_jobs=1)]: Done  20 out of  20 | elapsed:    0.0s finished\n",
      "[Parallel(n_jobs=1)]: Done  20 out of  20 | elapsed:    0.0s finished\n"
     ]
    },
    {
     "name": "stdout",
     "output_type": "stream",
     "text": [
      "[ 0.    0.05  0.5   0.45]\n",
      "TESTDATA_Normal_RampUp\n",
      "Saving Random Forest Model from rf_s0.pkl\n",
      "Saving Extra Trees Model\n",
      "Saving Random Forest Model from rf_s1.pkl\n",
      "Saving Extra Trees Model\n",
      "Saving Random Forest Model from rf_s2.pkl\n",
      "Saving Extra Trees Model\n",
      "Saving Random Forest Model from rf_s3.pkl\n",
      "Saving Extra Trees Model\n",
      "\n",
      "[ 0.   0.   0.5  0.5]\n"
     ]
    },
    {
     "name": "stderr",
     "output_type": "stream",
     "text": [
      "[Parallel(n_jobs=1)]: Done  20 out of  20 | elapsed:    0.0s finished\n",
      "[Parallel(n_jobs=1)]: Done  20 out of  20 | elapsed:    0.0s finished\n",
      "[Parallel(n_jobs=1)]: Done  20 out of  20 | elapsed:    0.0s finished\n",
      "[Parallel(n_jobs=1)]: Done  20 out of  20 | elapsed:    0.0s finished\n"
     ]
    },
    {
     "name": "stdout",
     "output_type": "stream",
     "text": [
      "TESTDATA_Normal_FastRoll\n",
      "Saving Random Forest Model from rf_s0.pkl\n",
      "Saving Extra Trees Model\n",
      "Saving Random Forest Model from rf_s1.pkl\n",
      "Saving Extra Trees Model\n",
      "Saving Random Forest Model from rf_s2.pkl\n",
      "Saving Extra Trees Model\n",
      "Saving Random Forest Model from rf_s3.pkl\n",
      "Saving Extra Trees Model\n",
      "\n",
      "[ 1.  0.  0.  0.]\n"
     ]
    },
    {
     "name": "stderr",
     "output_type": "stream",
     "text": [
      "[Parallel(n_jobs=1)]: Done  20 out of  20 | elapsed:    0.0s finished\n",
      "[Parallel(n_jobs=1)]: Done  20 out of  20 | elapsed:    0.0s finished\n",
      "[Parallel(n_jobs=1)]: Done  20 out of  20 | elapsed:    0.0s finished\n",
      "[Parallel(n_jobs=1)]: Done  20 out of  20 | elapsed:    0.0s finished\n"
     ]
    },
    {
     "name": "stdout",
     "output_type": "stream",
     "text": [
      "TESTDATA_Normal_RampDown\n",
      "Saving Random Forest Model from rf_s0.pkl\n",
      "Saving Extra Trees Model\n",
      "Saving Random Forest Model from rf_s1.pkl\n",
      "Saving Extra Trees Model\n",
      "Saving Random Forest Model from rf_s2.pkl\n",
      "Saving Extra Trees Model\n",
      "Saving Random Forest Model from rf_s3.pkl\n",
      "Saving Extra Trees Model\n",
      "\n",
      "[ 0.    0.    0.45  0.55]\n"
     ]
    },
    {
     "name": "stderr",
     "output_type": "stream",
     "text": [
      "[Parallel(n_jobs=1)]: Done  20 out of  20 | elapsed:    0.0s finished\n",
      "[Parallel(n_jobs=1)]: Done  20 out of  20 | elapsed:    0.0s finished\n",
      "[Parallel(n_jobs=1)]: Done  20 out of  20 | elapsed:    0.0s finished\n",
      "[Parallel(n_jobs=1)]: Done  20 out of  20 | elapsed:    0.0s finished\n"
     ]
    },
    {
     "name": "stdout",
     "output_type": "stream",
     "text": [
      "TESTDATA_BearingRub_SlowRoll\n",
      "Saving Random Forest Model from rf_s0.pkl\n",
      "Saving Extra Trees Model\n",
      "Saving Random Forest Model from rf_s1.pkl\n",
      "Saving Extra Trees Model\n",
      "Saving Random Forest Model from rf_s2.pkl\n",
      "Saving Extra Trees Model\n",
      "Saving Random Forest Model from rf_s3.pkl\n",
      "Saving Extra Trees Model\n",
      "\n"
     ]
    },
    {
     "name": "stderr",
     "output_type": "stream",
     "text": [
      "[Parallel(n_jobs=1)]: Done  20 out of  20 | elapsed:    0.0s finished\n",
      "[Parallel(n_jobs=1)]: Done  20 out of  20 | elapsed:    0.0s finished\n",
      "[Parallel(n_jobs=1)]: Done  20 out of  20 | elapsed:    0.0s finished\n",
      "[Parallel(n_jobs=1)]: Done  20 out of  20 | elapsed:    0.0s finished\n"
     ]
    },
    {
     "name": "stdout",
     "output_type": "stream",
     "text": [
      "[ 0.    0.    0.45  0.55]\n",
      "TESTDATA_BearingRub_RampUp\n",
      "Saving Random Forest Model from rf_s0.pkl\n",
      "Saving Extra Trees Model\n",
      "Saving Random Forest Model from rf_s1.pkl\n",
      "Saving Extra Trees Model\n",
      "Saving Random Forest Model from rf_s2.pkl\n",
      "Saving Extra Trees Model\n",
      "Saving Random Forest Model from rf_s3.pkl\n",
      "Saving Extra Trees Model\n",
      "\n",
      "[ 0.   0.   0.5  0.5]\n"
     ]
    },
    {
     "name": "stderr",
     "output_type": "stream",
     "text": [
      "[Parallel(n_jobs=1)]: Done  20 out of  20 | elapsed:    0.0s finished\n",
      "[Parallel(n_jobs=1)]: Done  20 out of  20 | elapsed:    0.0s finished\n",
      "[Parallel(n_jobs=1)]: Done  20 out of  20 | elapsed:    0.0s finished\n",
      "[Parallel(n_jobs=1)]: Done  20 out of  20 | elapsed:    0.0s finished\n"
     ]
    },
    {
     "name": "stdout",
     "output_type": "stream",
     "text": [
      "TESTDATA_BearingRub_FastRoll\n",
      "Saving Random Forest Model from rf_s0.pkl\n",
      "Saving Extra Trees Model\n",
      "Saving Random Forest Model from rf_s1.pkl\n",
      "Saving Extra Trees Model\n",
      "Saving Random Forest Model from rf_s2.pkl\n",
      "Saving Extra Trees Model\n",
      "Saving Random Forest Model from rf_s3.pkl\n",
      "Saving Extra Trees Model\n",
      "\n"
     ]
    },
    {
     "name": "stderr",
     "output_type": "stream",
     "text": [
      "[Parallel(n_jobs=1)]: Done  20 out of  20 | elapsed:    0.0s finished\n",
      "[Parallel(n_jobs=1)]: Done  20 out of  20 | elapsed:    0.0s finished\n",
      "[Parallel(n_jobs=1)]: Done  20 out of  20 | elapsed:    0.0s finished\n",
      "[Parallel(n_jobs=1)]: Done  20 out of  20 | elapsed:    0.0s finished\n"
     ]
    },
    {
     "name": "stdout",
     "output_type": "stream",
     "text": [
      "[ 0.  0.  0.  1.]\n",
      "TESTDATA_BearingRub_RampDown\n",
      "Saving Random Forest Model from rf_s0.pkl\n",
      "Saving Extra Trees Model\n",
      "Saving Random Forest Model from rf_s1.pkl\n",
      "Saving Extra Trees Model\n",
      "Saving Random Forest Model from rf_s2.pkl\n",
      "Saving Extra Trees Model\n",
      "Saving Random Forest Model from rf_s3.pkl\n",
      "Saving Extra Trees Model\n",
      "\n",
      "[ 0.    0.05  0.35  0.6 ]\n"
     ]
    },
    {
     "name": "stderr",
     "output_type": "stream",
     "text": [
      "[Parallel(n_jobs=1)]: Done  20 out of  20 | elapsed:    0.0s finished\n",
      "[Parallel(n_jobs=1)]: Done  20 out of  20 | elapsed:    0.0s finished\n",
      "[Parallel(n_jobs=1)]: Done  20 out of  20 | elapsed:    0.0s finished\n",
      "[Parallel(n_jobs=1)]: Done  20 out of  20 | elapsed:    0.0s finished\n"
     ]
    },
    {
     "name": "stdout",
     "output_type": "stream",
     "text": [
      "TESTDATA_Preload_SlowRoll\n",
      "Saving Random Forest Model from rf_s0.pkl\n",
      "Saving Extra Trees Model\n",
      "Saving Random Forest Model from rf_s1.pkl\n",
      "Saving Extra Trees Model\n",
      "Saving Random Forest Model from rf_s2.pkl\n",
      "Saving Extra Trees Model\n",
      "Saving Random Forest Model from rf_s3.pkl\n",
      "Saving Extra Trees Model\n",
      "\n",
      "[ 0.   0.   0.9  0.1]\n"
     ]
    },
    {
     "name": "stderr",
     "output_type": "stream",
     "text": [
      "[Parallel(n_jobs=1)]: Done  20 out of  20 | elapsed:    0.0s finished\n",
      "[Parallel(n_jobs=1)]: Done  20 out of  20 | elapsed:    0.0s finished\n",
      "[Parallel(n_jobs=1)]: Done  20 out of  20 | elapsed:    0.0s finished\n",
      "[Parallel(n_jobs=1)]: Done  20 out of  20 | elapsed:    0.0s finished\n"
     ]
    },
    {
     "name": "stdout",
     "output_type": "stream",
     "text": [
      "TESTDATA_Preload_RampUp\n",
      "Saving Random Forest Model from rf_s0.pkl\n",
      "Saving Extra Trees Model\n",
      "Saving Random Forest Model from rf_s1.pkl\n",
      "Saving Extra Trees Model\n",
      "Saving Random Forest Model from rf_s2.pkl\n",
      "Saving Extra Trees Model\n",
      "Saving Random Forest Model from rf_s3.pkl\n",
      "Saving Extra Trees Model\n"
     ]
    },
    {
     "name": "stderr",
     "output_type": "stream",
     "text": [
      "[Parallel(n_jobs=1)]: Done  20 out of  20 | elapsed:    0.0s finished\n",
      "[Parallel(n_jobs=1)]: Done  20 out of  20 | elapsed:    0.0s finished\n",
      "[Parallel(n_jobs=1)]: Done  20 out of  20 | elapsed:    0.0s finished\n",
      "[Parallel(n_jobs=1)]: Done  20 out of  20 | elapsed:    0.0s finished\n"
     ]
    },
    {
     "name": "stdout",
     "output_type": "stream",
     "text": [
      "\n",
      "[ 0.   0.   0.7  0.3]\n",
      "TESTDATA_Preload_FastRoll\n",
      "Saving Random Forest Model from rf_s0.pkl\n",
      "Saving Extra Trees Model\n",
      "Saving Random Forest Model from rf_s1.pkl\n",
      "Saving Extra Trees Model\n",
      "Saving Random Forest Model from rf_s2.pkl\n",
      "Saving Extra Trees Model\n",
      "Saving Random Forest Model from rf_s3.pkl\n",
      "Saving Extra Trees Model\n",
      "\n"
     ]
    },
    {
     "name": "stderr",
     "output_type": "stream",
     "text": [
      "[Parallel(n_jobs=1)]: Done  20 out of  20 | elapsed:    0.0s finished\n",
      "[Parallel(n_jobs=1)]: Done  20 out of  20 | elapsed:    0.0s finished\n",
      "[Parallel(n_jobs=1)]: Done  20 out of  20 | elapsed:    0.0s finished\n",
      "[Parallel(n_jobs=1)]: Done  20 out of  20 | elapsed:    0.0s finished\n"
     ]
    },
    {
     "name": "stdout",
     "output_type": "stream",
     "text": [
      "[ 0.  0.  1.  0.]\n",
      "TESTDATA_Preload_RampDown\n",
      "Saving Random Forest Model from rf_s0.pkl\n",
      "Saving Extra Trees Model\n",
      "Saving Random Forest Model from rf_s1.pkl\n",
      "Saving Extra Trees Model\n",
      "Saving Random Forest Model from rf_s2.pkl\n",
      "Saving Extra Trees Model\n",
      "Saving Random Forest Model from rf_s3.pkl\n",
      "Saving Extra Trees Model\n",
      "\n"
     ]
    },
    {
     "name": "stderr",
     "output_type": "stream",
     "text": [
      "[Parallel(n_jobs=1)]: Done  20 out of  20 | elapsed:    0.0s finished\n",
      "[Parallel(n_jobs=1)]: Done  20 out of  20 | elapsed:    0.0s finished\n",
      "[Parallel(n_jobs=1)]: Done  20 out of  20 | elapsed:    0.0s finished\n",
      "[Parallel(n_jobs=1)]: Done  20 out of  20 | elapsed:    0.0s finished\n"
     ]
    },
    {
     "name": "stdout",
     "output_type": "stream",
     "text": [
      "[ 0.   0.   0.8  0.2]\n",
      "TESTDATA_Unbalance_SlowRoll\n",
      "Saving Random Forest Model from rf_s0.pkl\n",
      "Saving Extra Trees Model\n",
      "Saving Random Forest Model from rf_s1.pkl\n",
      "Saving Extra Trees Model\n",
      "Saving Random Forest Model from rf_s2.pkl\n",
      "Saving Extra Trees Model\n",
      "Saving Random Forest Model from rf_s3.pkl\n",
      "Saving Extra Trees Model\n"
     ]
    },
    {
     "name": "stderr",
     "output_type": "stream",
     "text": [
      "[Parallel(n_jobs=1)]: Done  20 out of  20 | elapsed:    0.0s finished\n",
      "[Parallel(n_jobs=1)]: Done  20 out of  20 | elapsed:    0.0s finished\n",
      "[Parallel(n_jobs=1)]: Done  20 out of  20 | elapsed:    0.0s finished\n",
      "[Parallel(n_jobs=1)]: Done  20 out of  20 | elapsed:    0.0s finished\n"
     ]
    },
    {
     "name": "stdout",
     "output_type": "stream",
     "text": [
      "\n",
      "[ 0.    0.15  0.6   0.25]\n",
      "TESTDATA_Unbalance_RampUp\n",
      "Saving Random Forest Model from rf_s0.pkl\n",
      "Saving Extra Trees Model\n",
      "Saving Random Forest Model from rf_s1.pkl\n",
      "Saving Extra Trees Model\n",
      "Saving Random Forest Model from rf_s2.pkl\n",
      "Saving Extra Trees Model\n",
      "Saving Random Forest Model from rf_s3.pkl\n",
      "Saving Extra Trees Model\n",
      "\n",
      "[ 0.    0.05  0.4   0.55]\n"
     ]
    },
    {
     "name": "stderr",
     "output_type": "stream",
     "text": [
      "[Parallel(n_jobs=1)]: Done  20 out of  20 | elapsed:    0.0s finished\n",
      "[Parallel(n_jobs=1)]: Done  20 out of  20 | elapsed:    0.0s finished\n",
      "[Parallel(n_jobs=1)]: Done  20 out of  20 | elapsed:    0.0s finished\n",
      "[Parallel(n_jobs=1)]: Done  20 out of  20 | elapsed:    0.0s finished\n"
     ]
    },
    {
     "name": "stdout",
     "output_type": "stream",
     "text": [
      "TESTDATA_Unbalance_FastRoll\n",
      "Saving Random Forest Model from rf_s0.pkl\n",
      "Saving Extra Trees Model\n",
      "Saving Random Forest Model from rf_s1.pkl\n",
      "Saving Extra Trees Model\n",
      "Saving Random Forest Model from rf_s2.pkl\n",
      "Saving Extra Trees Model\n",
      "Saving Random Forest Model from rf_s3.pkl\n",
      "Saving Extra Trees Model\n",
      "\n"
     ]
    },
    {
     "name": "stderr",
     "output_type": "stream",
     "text": [
      "[Parallel(n_jobs=1)]: Done  20 out of  20 | elapsed:    0.0s finished\n",
      "[Parallel(n_jobs=1)]: Done  20 out of  20 | elapsed:    0.0s finished\n",
      "[Parallel(n_jobs=1)]: Done  20 out of  20 | elapsed:    0.0s finished\n",
      "[Parallel(n_jobs=1)]: Done  20 out of  20 | elapsed:    0.0s finished\n"
     ]
    },
    {
     "name": "stdout",
     "output_type": "stream",
     "text": [
      "[ 0.    0.75  0.    0.25]\n",
      "TESTDATA_Unbalance_RampDown\n",
      "Saving Random Forest Model from rf_s0.pkl\n",
      "Saving Extra Trees Model\n",
      "Saving Random Forest Model from rf_s1.pkl\n",
      "Saving Extra Trees Model\n",
      "Saving Random Forest Model from rf_s2.pkl\n",
      "Saving Extra Trees Model\n",
      "Saving Random Forest Model from rf_s3.pkl\n",
      "Saving Extra Trees Model\n",
      "\n"
     ]
    },
    {
     "name": "stderr",
     "output_type": "stream",
     "text": [
      "[Parallel(n_jobs=1)]: Done  20 out of  20 | elapsed:    0.0s finished\n",
      "[Parallel(n_jobs=1)]: Done  20 out of  20 | elapsed:    0.0s finished\n",
      "[Parallel(n_jobs=1)]: Done  20 out of  20 | elapsed:    0.0s finished\n",
      "[Parallel(n_jobs=1)]: Done  20 out of  20 | elapsed:    0.0s finished\n"
     ]
    },
    {
     "name": "stdout",
     "output_type": "stream",
     "text": [
      "[ 0.   0.   0.5  0.5]\n",
      "TESTDATA_Normal_SlowRoll\n",
      "Saving Random Forest Model from rf_s0.pkl\n",
      "Saving Extra Trees Model\n",
      "Saving Random Forest Model from rf_s1.pkl\n",
      "Saving Extra Trees Model\n",
      "Saving Random Forest Model from rf_s2.pkl\n",
      "Saving Extra Trees Model\n",
      "Saving Random Forest Model from rf_s3.pkl\n",
      "Saving Extra Trees Model\n",
      "\n"
     ]
    },
    {
     "name": "stderr",
     "output_type": "stream",
     "text": [
      "[Parallel(n_jobs=1)]: Done  20 out of  20 | elapsed:    0.0s finished\n",
      "[Parallel(n_jobs=1)]: Done  20 out of  20 | elapsed:    0.0s finished\n",
      "[Parallel(n_jobs=1)]: Done  20 out of  20 | elapsed:    0.0s finished\n",
      "[Parallel(n_jobs=1)]: Done  20 out of  20 | elapsed:    0.0s finished\n"
     ]
    },
    {
     "name": "stdout",
     "output_type": "stream",
     "text": [
      "[ 0.    0.05  0.5   0.45]\n",
      "TESTDATA_Normal_RampUp\n",
      "Saving Random Forest Model from rf_s0.pkl\n",
      "Saving Extra Trees Model\n",
      "Saving Random Forest Model from rf_s1.pkl\n",
      "Saving Extra Trees Model\n",
      "Saving Random Forest Model from rf_s2.pkl\n",
      "Saving Extra Trees Model\n",
      "Saving Random Forest Model from rf_s3.pkl\n",
      "Saving Extra Trees Model\n",
      "\n",
      "[ 0.   0.   0.5  0.5]\n"
     ]
    },
    {
     "name": "stderr",
     "output_type": "stream",
     "text": [
      "[Parallel(n_jobs=1)]: Done  20 out of  20 | elapsed:    0.0s finished\n",
      "[Parallel(n_jobs=1)]: Done  20 out of  20 | elapsed:    0.0s finished\n",
      "[Parallel(n_jobs=1)]: Done  20 out of  20 | elapsed:    0.0s finished\n",
      "[Parallel(n_jobs=1)]: Done  20 out of  20 | elapsed:    0.0s finished\n"
     ]
    },
    {
     "name": "stdout",
     "output_type": "stream",
     "text": [
      "TESTDATA_Normal_FastRoll\n",
      "Saving Random Forest Model from rf_s0.pkl\n",
      "Saving Extra Trees Model\n",
      "Saving Random Forest Model from rf_s1.pkl\n",
      "Saving Extra Trees Model\n",
      "Saving Random Forest Model from rf_s2.pkl\n",
      "Saving Extra Trees Model\n",
      "Saving Random Forest Model from rf_s3.pkl\n",
      "Saving Extra Trees Model\n",
      "\n"
     ]
    },
    {
     "name": "stderr",
     "output_type": "stream",
     "text": [
      "[Parallel(n_jobs=1)]: Done  20 out of  20 | elapsed:    0.0s finished\n",
      "[Parallel(n_jobs=1)]: Done  20 out of  20 | elapsed:    0.0s finished\n",
      "[Parallel(n_jobs=1)]: Done  20 out of  20 | elapsed:    0.0s finished\n",
      "[Parallel(n_jobs=1)]: Done  20 out of  20 | elapsed:    0.0s finished\n"
     ]
    },
    {
     "name": "stdout",
     "output_type": "stream",
     "text": [
      "[ 1.  0.  0.  0.]\n",
      "TESTDATA_Normal_RampDown\n",
      "Saving Random Forest Model from rf_s0.pkl\n",
      "Saving Extra Trees Model\n",
      "Saving Random Forest Model from rf_s1.pkl\n",
      "Saving Extra Trees Model\n",
      "Saving Random Forest Model from rf_s2.pkl\n",
      "Saving Extra Trees Model\n",
      "Saving Random Forest Model from rf_s3.pkl\n",
      "Saving Extra Trees Model\n",
      "\n"
     ]
    },
    {
     "name": "stderr",
     "output_type": "stream",
     "text": [
      "[Parallel(n_jobs=1)]: Done  20 out of  20 | elapsed:    0.0s finished\n",
      "[Parallel(n_jobs=1)]: Done  20 out of  20 | elapsed:    0.0s finished\n",
      "[Parallel(n_jobs=1)]: Done  20 out of  20 | elapsed:    0.0s finished\n",
      "[Parallel(n_jobs=1)]: Done  20 out of  20 | elapsed:    0.0s finished\n"
     ]
    },
    {
     "name": "stdout",
     "output_type": "stream",
     "text": [
      "[ 0.    0.    0.45  0.55]\n",
      "TESTDATA_BearingRub_SlowRoll\n",
      "Saving Random Forest Model from rf_s0.pkl\n",
      "Saving Extra Trees Model\n",
      "Saving Random Forest Model from rf_s1.pkl\n",
      "Saving Extra Trees Model\n",
      "Saving Random Forest Model from rf_s2.pkl\n",
      "Saving Extra Trees Model\n",
      "Saving Random Forest Model from rf_s3.pkl\n",
      "Saving Extra Trees Model\n",
      "\n",
      "[ 0.    0.    0.45  0.55]\n"
     ]
    },
    {
     "name": "stderr",
     "output_type": "stream",
     "text": [
      "[Parallel(n_jobs=1)]: Done  20 out of  20 | elapsed:    0.0s finished\n",
      "[Parallel(n_jobs=1)]: Done  20 out of  20 | elapsed:    0.0s finished\n",
      "[Parallel(n_jobs=1)]: Done  20 out of  20 | elapsed:    0.0s finished\n",
      "[Parallel(n_jobs=1)]: Done  20 out of  20 | elapsed:    0.0s finished\n"
     ]
    },
    {
     "name": "stdout",
     "output_type": "stream",
     "text": [
      "TESTDATA_BearingRub_RampUp\n",
      "Saving Random Forest Model from rf_s0.pkl\n",
      "Saving Extra Trees Model\n",
      "Saving Random Forest Model from rf_s1.pkl\n",
      "Saving Extra Trees Model\n",
      "Saving Random Forest Model from rf_s2.pkl\n",
      "Saving Extra Trees Model\n",
      "Saving Random Forest Model from rf_s3.pkl\n",
      "Saving Extra Trees Model\n",
      "\n"
     ]
    },
    {
     "name": "stderr",
     "output_type": "stream",
     "text": [
      "[Parallel(n_jobs=1)]: Done  20 out of  20 | elapsed:    0.0s finished\n",
      "[Parallel(n_jobs=1)]: Done  20 out of  20 | elapsed:    0.0s finished\n",
      "[Parallel(n_jobs=1)]: Done  20 out of  20 | elapsed:    0.0s finished\n",
      "[Parallel(n_jobs=1)]: Done  20 out of  20 | elapsed:    0.0s finished\n"
     ]
    },
    {
     "name": "stdout",
     "output_type": "stream",
     "text": [
      "[ 0.   0.   0.5  0.5]\n",
      "TESTDATA_BearingRub_FastRoll\n",
      "Saving Random Forest Model from rf_s0.pkl\n",
      "Saving Extra Trees Model\n",
      "Saving Random Forest Model from rf_s1.pkl\n",
      "Saving Extra Trees Model\n",
      "Saving Random Forest Model from rf_s2.pkl\n",
      "Saving Extra Trees Model\n",
      "Saving Random Forest Model from rf_s3.pkl\n",
      "Saving Extra Trees Model\n",
      "\n",
      "[ 0.  0.  0.  1.]\n"
     ]
    },
    {
     "name": "stderr",
     "output_type": "stream",
     "text": [
      "[Parallel(n_jobs=1)]: Done  20 out of  20 | elapsed:    0.0s finished\n",
      "[Parallel(n_jobs=1)]: Done  20 out of  20 | elapsed:    0.0s finished\n",
      "[Parallel(n_jobs=1)]: Done  20 out of  20 | elapsed:    0.0s finished\n",
      "[Parallel(n_jobs=1)]: Done  20 out of  20 | elapsed:    0.0s finished\n"
     ]
    },
    {
     "name": "stdout",
     "output_type": "stream",
     "text": [
      "TESTDATA_BearingRub_RampDown\n",
      "Saving Random Forest Model from rf_s0.pkl\n",
      "Saving Extra Trees Model\n",
      "Saving Random Forest Model from rf_s1.pkl\n",
      "Saving Extra Trees Model\n",
      "Saving Random Forest Model from rf_s2.pkl\n",
      "Saving Extra Trees Model\n",
      "Saving Random Forest Model from rf_s3.pkl\n",
      "Saving Extra Trees Model\n",
      "\n",
      "[ 0.    0.05  0.35  0.6 ]\n"
     ]
    },
    {
     "name": "stderr",
     "output_type": "stream",
     "text": [
      "[Parallel(n_jobs=1)]: Done  20 out of  20 | elapsed:    0.0s finished\n",
      "[Parallel(n_jobs=1)]: Done  20 out of  20 | elapsed:    0.0s finished\n",
      "[Parallel(n_jobs=1)]: Done  20 out of  20 | elapsed:    0.0s finished\n",
      "[Parallel(n_jobs=1)]: Done  20 out of  20 | elapsed:    0.0s finished\n"
     ]
    },
    {
     "name": "stdout",
     "output_type": "stream",
     "text": [
      "TESTDATA_Preload_SlowRoll\n",
      "Saving Random Forest Model from rf_s0.pkl\n",
      "Saving Extra Trees Model\n",
      "Saving Random Forest Model from rf_s1.pkl\n",
      "Saving Extra Trees Model\n",
      "Saving Random Forest Model from rf_s2.pkl\n",
      "Saving Extra Trees Model\n",
      "Saving Random Forest Model from rf_s3.pkl\n",
      "Saving Extra Trees Model\n",
      "\n"
     ]
    },
    {
     "name": "stderr",
     "output_type": "stream",
     "text": [
      "[Parallel(n_jobs=1)]: Done  20 out of  20 | elapsed:    0.0s finished\n",
      "[Parallel(n_jobs=1)]: Done  20 out of  20 | elapsed:    0.0s finished\n",
      "[Parallel(n_jobs=1)]: Done  20 out of  20 | elapsed:    0.0s finished\n",
      "[Parallel(n_jobs=1)]: Done  20 out of  20 | elapsed:    0.0s finished\n"
     ]
    },
    {
     "name": "stdout",
     "output_type": "stream",
     "text": [
      "[ 0.   0.   0.9  0.1]\n",
      "TESTDATA_Preload_RampUp\n",
      "Saving Random Forest Model from rf_s0.pkl\n",
      "Saving Extra Trees Model\n",
      "Saving Random Forest Model from rf_s1.pkl\n",
      "Saving Extra Trees Model\n",
      "Saving Random Forest Model from rf_s2.pkl\n",
      "Saving Extra Trees Model\n",
      "Saving Random Forest Model from rf_s3.pkl\n",
      "Saving Extra Trees Model\n",
      "\n",
      "[ 0.   0.   0.7  0.3]\n"
     ]
    },
    {
     "name": "stderr",
     "output_type": "stream",
     "text": [
      "[Parallel(n_jobs=1)]: Done  20 out of  20 | elapsed:    0.0s finished\n",
      "[Parallel(n_jobs=1)]: Done  20 out of  20 | elapsed:    0.0s finished\n",
      "[Parallel(n_jobs=1)]: Done  20 out of  20 | elapsed:    0.0s finished\n",
      "[Parallel(n_jobs=1)]: Done  20 out of  20 | elapsed:    0.0s finished\n"
     ]
    },
    {
     "name": "stdout",
     "output_type": "stream",
     "text": [
      "TESTDATA_Preload_FastRoll\n",
      "Saving Random Forest Model from rf_s0.pkl\n",
      "Saving Extra Trees Model\n",
      "Saving Random Forest Model from rf_s1.pkl\n",
      "Saving Extra Trees Model\n",
      "Saving Random Forest Model from rf_s2.pkl\n",
      "Saving Extra Trees Model\n",
      "Saving Random Forest Model from rf_s3.pkl\n",
      "Saving Extra Trees Model\n",
      "\n"
     ]
    },
    {
     "name": "stderr",
     "output_type": "stream",
     "text": [
      "[Parallel(n_jobs=1)]: Done  20 out of  20 | elapsed:    0.0s finished\n",
      "[Parallel(n_jobs=1)]: Done  20 out of  20 | elapsed:    0.0s finished\n",
      "[Parallel(n_jobs=1)]: Done  20 out of  20 | elapsed:    0.0s finished\n",
      "[Parallel(n_jobs=1)]: Done  20 out of  20 | elapsed:    0.0s finished\n"
     ]
    },
    {
     "name": "stdout",
     "output_type": "stream",
     "text": [
      "[ 0.  0.  1.  0.]\n",
      "TESTDATA_Preload_RampDown\n",
      "Saving Random Forest Model from rf_s0.pkl\n",
      "Saving Extra Trees Model\n",
      "Saving Random Forest Model from rf_s1.pkl\n",
      "Saving Extra Trees Model\n",
      "Saving Random Forest Model from rf_s2.pkl\n",
      "Saving Extra Trees Model\n",
      "Saving Random Forest Model from rf_s3.pkl\n",
      "Saving Extra Trees Model\n",
      "\n"
     ]
    },
    {
     "name": "stderr",
     "output_type": "stream",
     "text": [
      "[Parallel(n_jobs=1)]: Done  20 out of  20 | elapsed:    0.0s finished\n",
      "[Parallel(n_jobs=1)]: Done  20 out of  20 | elapsed:    0.0s finished\n",
      "[Parallel(n_jobs=1)]: Done  20 out of  20 | elapsed:    0.0s finished\n",
      "[Parallel(n_jobs=1)]: Done  20 out of  20 | elapsed:    0.0s finished\n"
     ]
    },
    {
     "name": "stdout",
     "output_type": "stream",
     "text": [
      "[ 0.   0.   0.8  0.2]\n",
      "TESTDATA_Unbalance_SlowRoll\n",
      "Saving Random Forest Model from rf_s0.pkl\n",
      "Saving Extra Trees Model\n",
      "Saving Random Forest Model from rf_s1.pkl\n",
      "Saving Extra Trees Model\n",
      "Saving Random Forest Model from rf_s2.pkl\n",
      "Saving Extra Trees Model\n",
      "Saving Random Forest Model from rf_s3.pkl\n",
      "Saving Extra Trees Model\n",
      "\n"
     ]
    },
    {
     "name": "stderr",
     "output_type": "stream",
     "text": [
      "[Parallel(n_jobs=1)]: Done  20 out of  20 | elapsed:    0.0s finished\n",
      "[Parallel(n_jobs=1)]: Done  20 out of  20 | elapsed:    0.0s finished\n",
      "[Parallel(n_jobs=1)]: Done  20 out of  20 | elapsed:    0.0s finished\n",
      "[Parallel(n_jobs=1)]: Done  20 out of  20 | elapsed:    0.0s finished\n"
     ]
    },
    {
     "name": "stdout",
     "output_type": "stream",
     "text": [
      "[ 0.    0.15  0.6   0.25]\n",
      "TESTDATA_Unbalance_RampUp\n",
      "Saving Random Forest Model from rf_s0.pkl\n",
      "Saving Extra Trees Model\n",
      "Saving Random Forest Model from rf_s1.pkl\n",
      "Saving Extra Trees Model\n",
      "Saving Random Forest Model from rf_s2.pkl\n",
      "Saving Extra Trees Model\n",
      "Saving Random Forest Model from rf_s3.pkl\n",
      "Saving Extra Trees Model\n",
      "\n"
     ]
    },
    {
     "name": "stderr",
     "output_type": "stream",
     "text": [
      "[Parallel(n_jobs=1)]: Done  20 out of  20 | elapsed:    0.0s finished\n",
      "[Parallel(n_jobs=1)]: Done  20 out of  20 | elapsed:    0.0s finished\n",
      "[Parallel(n_jobs=1)]: Done  20 out of  20 | elapsed:    0.0s finished\n",
      "[Parallel(n_jobs=1)]: Done  20 out of  20 | elapsed:    0.0s finished\n"
     ]
    },
    {
     "name": "stdout",
     "output_type": "stream",
     "text": [
      "[ 0.    0.05  0.4   0.55]\n",
      "TESTDATA_Unbalance_FastRoll\n",
      "Saving Random Forest Model from rf_s0.pkl\n",
      "Saving Extra Trees Model\n",
      "Saving Random Forest Model from rf_s1.pkl\n",
      "Saving Extra Trees Model\n",
      "Saving Random Forest Model from rf_s2.pkl\n",
      "Saving Extra Trees Model\n",
      "Saving Random Forest Model from rf_s3.pkl\n",
      "Saving Extra Trees Model\n",
      "\n"
     ]
    },
    {
     "name": "stderr",
     "output_type": "stream",
     "text": [
      "[Parallel(n_jobs=1)]: Done  20 out of  20 | elapsed:    0.0s finished\n",
      "[Parallel(n_jobs=1)]: Done  20 out of  20 | elapsed:    0.0s finished\n",
      "[Parallel(n_jobs=1)]: Done  20 out of  20 | elapsed:    0.0s finished\n",
      "[Parallel(n_jobs=1)]: Done  20 out of  20 | elapsed:    0.0s finished\n"
     ]
    },
    {
     "name": "stdout",
     "output_type": "stream",
     "text": [
      "[ 0.    0.75  0.    0.25]\n",
      "TESTDATA_Unbalance_RampDown\n",
      "Saving Random Forest Model from rf_s0.pkl\n",
      "Saving Extra Trees Model\n",
      "Saving Random Forest Model from rf_s1.pkl\n",
      "Saving Extra Trees Model\n",
      "Saving Random Forest Model from rf_s2.pkl\n",
      "Saving Extra Trees Model\n",
      "Saving Random Forest Model from rf_s3.pkl\n",
      "Saving Extra Trees Model\n",
      "\n",
      "[ 0.   0.   0.5  0.5]\n"
     ]
    },
    {
     "name": "stderr",
     "output_type": "stream",
     "text": [
      "[Parallel(n_jobs=1)]: Done  20 out of  20 | elapsed:    0.0s finished\n",
      "[Parallel(n_jobs=1)]: Done  20 out of  20 | elapsed:    0.0s finished\n",
      "[Parallel(n_jobs=1)]: Done  20 out of  20 | elapsed:    0.0s finished\n",
      "[Parallel(n_jobs=1)]: Done  20 out of  20 | elapsed:    0.0s finished\n"
     ]
    },
    {
     "name": "stdout",
     "output_type": "stream",
     "text": [
      "TESTDATA_Normal_SlowRoll\n",
      "Saving Random Forest Model from rf_s0.pkl\n",
      "Saving Extra Trees Model\n",
      "Saving Random Forest Model from rf_s1.pkl\n",
      "Saving Extra Trees Model\n",
      "Saving Random Forest Model from rf_s2.pkl\n",
      "Saving Extra Trees Model\n",
      "Saving Random Forest Model from rf_s3.pkl\n",
      "Saving Extra Trees Model\n",
      "\n",
      "[ 0.    0.05  0.5   0.45]\n"
     ]
    },
    {
     "name": "stderr",
     "output_type": "stream",
     "text": [
      "[Parallel(n_jobs=1)]: Done  20 out of  20 | elapsed:    0.0s finished\n",
      "[Parallel(n_jobs=1)]: Done  20 out of  20 | elapsed:    0.0s finished\n",
      "[Parallel(n_jobs=1)]: Done  20 out of  20 | elapsed:    0.0s finished\n",
      "[Parallel(n_jobs=1)]: Done  20 out of  20 | elapsed:    0.0s finished\n"
     ]
    },
    {
     "name": "stdout",
     "output_type": "stream",
     "text": [
      "TESTDATA_Normal_RampUp\n",
      "Saving Random Forest Model from rf_s0.pkl\n",
      "Saving Extra Trees Model\n",
      "Saving Random Forest Model from rf_s1.pkl\n",
      "Saving Extra Trees Model\n",
      "Saving Random Forest Model from rf_s2.pkl\n",
      "Saving Extra Trees Model\n",
      "Saving Random Forest Model from rf_s3.pkl\n",
      "Saving Extra Trees Model\n",
      "\n"
     ]
    },
    {
     "name": "stderr",
     "output_type": "stream",
     "text": [
      "[Parallel(n_jobs=1)]: Done  20 out of  20 | elapsed:    0.0s finished\n",
      "[Parallel(n_jobs=1)]: Done  20 out of  20 | elapsed:    0.0s finished\n",
      "[Parallel(n_jobs=1)]: Done  20 out of  20 | elapsed:    0.0s finished\n",
      "[Parallel(n_jobs=1)]: Done  20 out of  20 | elapsed:    0.0s finished\n"
     ]
    },
    {
     "name": "stdout",
     "output_type": "stream",
     "text": [
      "[ 0.   0.   0.5  0.5]\n",
      "TESTDATA_Normal_FastRoll\n",
      "Saving Random Forest Model from rf_s0.pkl\n",
      "Saving Extra Trees Model\n",
      "Saving Random Forest Model from rf_s1.pkl\n",
      "Saving Extra Trees Model\n",
      "Saving Random Forest Model from rf_s2.pkl\n",
      "Saving Extra Trees Model\n",
      "Saving Random Forest Model from rf_s3.pkl\n",
      "Saving Extra Trees Model\n",
      "\n",
      "[ 1.  0.  0.  0.]\n"
     ]
    },
    {
     "name": "stderr",
     "output_type": "stream",
     "text": [
      "[Parallel(n_jobs=1)]: Done  20 out of  20 | elapsed:    0.0s finished\n",
      "[Parallel(n_jobs=1)]: Done  20 out of  20 | elapsed:    0.0s finished\n",
      "[Parallel(n_jobs=1)]: Done  20 out of  20 | elapsed:    0.0s finished\n",
      "[Parallel(n_jobs=1)]: Done  20 out of  20 | elapsed:    0.0s finished\n"
     ]
    },
    {
     "name": "stdout",
     "output_type": "stream",
     "text": [
      "TESTDATA_Normal_RampDown\n",
      "Saving Random Forest Model from rf_s0.pkl\n",
      "Saving Extra Trees Model\n",
      "Saving Random Forest Model from rf_s1.pkl\n",
      "Saving Extra Trees Model\n",
      "Saving Random Forest Model from rf_s2.pkl\n",
      "Saving Extra Trees Model\n",
      "Saving Random Forest Model from rf_s3.pkl\n",
      "Saving Extra Trees Model\n",
      "\n",
      "[ 0.    0.    0.45  0.55]\n"
     ]
    },
    {
     "name": "stderr",
     "output_type": "stream",
     "text": [
      "[Parallel(n_jobs=1)]: Done  20 out of  20 | elapsed:    0.0s finished\n",
      "[Parallel(n_jobs=1)]: Done  20 out of  20 | elapsed:    0.0s finished\n",
      "[Parallel(n_jobs=1)]: Done  20 out of  20 | elapsed:    0.0s finished\n",
      "[Parallel(n_jobs=1)]: Done  20 out of  20 | elapsed:    0.0s finished\n"
     ]
    },
    {
     "name": "stdout",
     "output_type": "stream",
     "text": [
      "TESTDATA_BearingRub_SlowRoll\n",
      "Saving Random Forest Model from rf_s0.pkl\n",
      "Saving Extra Trees Model\n",
      "Saving Random Forest Model from rf_s1.pkl\n",
      "Saving Extra Trees Model\n",
      "Saving Random Forest Model from rf_s2.pkl\n",
      "Saving Extra Trees Model\n",
      "Saving Random Forest Model from rf_s3.pkl\n",
      "Saving Extra Trees Model\n",
      "\n"
     ]
    },
    {
     "name": "stderr",
     "output_type": "stream",
     "text": [
      "[Parallel(n_jobs=1)]: Done  20 out of  20 | elapsed:    0.0s finished\n",
      "[Parallel(n_jobs=1)]: Done  20 out of  20 | elapsed:    0.0s finished\n",
      "[Parallel(n_jobs=1)]: Done  20 out of  20 | elapsed:    0.0s finished\n",
      "[Parallel(n_jobs=1)]: Done  20 out of  20 | elapsed:    0.0s finished\n"
     ]
    },
    {
     "name": "stdout",
     "output_type": "stream",
     "text": [
      "[ 0.    0.    0.45  0.55]\n",
      "TESTDATA_BearingRub_RampUp\n",
      "Saving Random Forest Model from rf_s0.pkl\n",
      "Saving Extra Trees Model\n",
      "Saving Random Forest Model from rf_s1.pkl\n",
      "Saving Extra Trees Model\n",
      "Saving Random Forest Model from rf_s2.pkl\n",
      "Saving Extra Trees Model\n",
      "Saving Random Forest Model from rf_s3.pkl\n",
      "Saving Extra Trees Model\n",
      "\n",
      "[ 0.   0.   0.5  0.5]\n"
     ]
    },
    {
     "name": "stderr",
     "output_type": "stream",
     "text": [
      "[Parallel(n_jobs=1)]: Done  20 out of  20 | elapsed:    0.0s finished\n",
      "[Parallel(n_jobs=1)]: Done  20 out of  20 | elapsed:    0.0s finished\n",
      "[Parallel(n_jobs=1)]: Done  20 out of  20 | elapsed:    0.0s finished\n",
      "[Parallel(n_jobs=1)]: Done  20 out of  20 | elapsed:    0.0s finished\n"
     ]
    },
    {
     "name": "stdout",
     "output_type": "stream",
     "text": [
      "TESTDATA_BearingRub_FastRoll\n",
      "Saving Random Forest Model from rf_s0.pkl\n",
      "Saving Extra Trees Model\n",
      "Saving Random Forest Model from rf_s1.pkl\n",
      "Saving Extra Trees Model\n",
      "Saving Random Forest Model from rf_s2.pkl\n",
      "Saving Extra Trees Model\n",
      "Saving Random Forest Model from rf_s3.pkl\n",
      "Saving Extra Trees Model\n",
      "\n",
      "[ 0.  0.  0.  1.]\n"
     ]
    },
    {
     "name": "stderr",
     "output_type": "stream",
     "text": [
      "[Parallel(n_jobs=1)]: Done  20 out of  20 | elapsed:    0.0s finished\n",
      "[Parallel(n_jobs=1)]: Done  20 out of  20 | elapsed:    0.0s finished\n",
      "[Parallel(n_jobs=1)]: Done  20 out of  20 | elapsed:    0.0s finished\n",
      "[Parallel(n_jobs=1)]: Done  20 out of  20 | elapsed:    0.0s finished\n"
     ]
    },
    {
     "name": "stdout",
     "output_type": "stream",
     "text": [
      "TESTDATA_BearingRub_RampDown\n",
      "Saving Random Forest Model from rf_s0.pkl\n",
      "Saving Extra Trees Model\n",
      "Saving Random Forest Model from rf_s1.pkl\n",
      "Saving Extra Trees Model\n",
      "Saving Random Forest Model from rf_s2.pkl\n",
      "Saving Extra Trees Model\n",
      "Saving Random Forest Model from rf_s3.pkl\n",
      "Saving Extra Trees Model\n",
      "\n"
     ]
    },
    {
     "name": "stderr",
     "output_type": "stream",
     "text": [
      "[Parallel(n_jobs=1)]: Done  20 out of  20 | elapsed:    0.0s finished\n",
      "[Parallel(n_jobs=1)]: Done  20 out of  20 | elapsed:    0.0s finished\n",
      "[Parallel(n_jobs=1)]: Done  20 out of  20 | elapsed:    0.0s finished\n",
      "[Parallel(n_jobs=1)]: Done  20 out of  20 | elapsed:    0.0s finished\n"
     ]
    },
    {
     "name": "stdout",
     "output_type": "stream",
     "text": [
      "[ 0.    0.05  0.35  0.6 ]\n",
      "TESTDATA_Preload_SlowRoll\n",
      "Saving Random Forest Model from rf_s0.pkl\n",
      "Saving Extra Trees Model\n",
      "Saving Random Forest Model from rf_s1.pkl\n",
      "Saving Extra Trees Model\n",
      "Saving Random Forest Model from rf_s2.pkl\n",
      "Saving Extra Trees Model\n",
      "Saving Random Forest Model from rf_s3.pkl\n",
      "Saving Extra Trees Model\n",
      "\n",
      "[ 0.   0.   0.9  0.1]\n"
     ]
    },
    {
     "name": "stderr",
     "output_type": "stream",
     "text": [
      "[Parallel(n_jobs=1)]: Done  20 out of  20 | elapsed:    0.0s finished\n",
      "[Parallel(n_jobs=1)]: Done  20 out of  20 | elapsed:    0.0s finished\n",
      "[Parallel(n_jobs=1)]: Done  20 out of  20 | elapsed:    0.0s finished\n",
      "[Parallel(n_jobs=1)]: Done  20 out of  20 | elapsed:    0.0s finished\n"
     ]
    },
    {
     "name": "stdout",
     "output_type": "stream",
     "text": [
      "TESTDATA_Preload_RampUp\n",
      "Saving Random Forest Model from rf_s0.pkl\n",
      "Saving Extra Trees Model\n",
      "Saving Random Forest Model from rf_s1.pkl\n",
      "Saving Extra Trees Model\n",
      "Saving Random Forest Model from rf_s2.pkl\n",
      "Saving Extra Trees Model\n",
      "Saving Random Forest Model from rf_s3.pkl\n",
      "Saving Extra Trees Model\n",
      "\n",
      "[ 0.   0.   0.7  0.3]\n"
     ]
    },
    {
     "name": "stderr",
     "output_type": "stream",
     "text": [
      "[Parallel(n_jobs=1)]: Done  20 out of  20 | elapsed:    0.0s finished\n",
      "[Parallel(n_jobs=1)]: Done  20 out of  20 | elapsed:    0.0s finished\n",
      "[Parallel(n_jobs=1)]: Done  20 out of  20 | elapsed:    0.0s finished\n",
      "[Parallel(n_jobs=1)]: Done  20 out of  20 | elapsed:    0.0s finished\n"
     ]
    },
    {
     "name": "stdout",
     "output_type": "stream",
     "text": [
      "TESTDATA_Preload_FastRoll\n",
      "Saving Random Forest Model from rf_s0.pkl\n",
      "Saving Extra Trees Model\n",
      "Saving Random Forest Model from rf_s1.pkl\n",
      "Saving Extra Trees Model\n",
      "Saving Random Forest Model from rf_s2.pkl\n",
      "Saving Extra Trees Model\n",
      "Saving Random Forest Model from rf_s3.pkl\n",
      "Saving Extra Trees Model\n",
      "\n"
     ]
    },
    {
     "name": "stderr",
     "output_type": "stream",
     "text": [
      "[Parallel(n_jobs=1)]: Done  20 out of  20 | elapsed:    0.0s finished\n",
      "[Parallel(n_jobs=1)]: Done  20 out of  20 | elapsed:    0.0s finished\n",
      "[Parallel(n_jobs=1)]: Done  20 out of  20 | elapsed:    0.0s finished\n",
      "[Parallel(n_jobs=1)]: Done  20 out of  20 | elapsed:    0.0s finished\n"
     ]
    },
    {
     "name": "stdout",
     "output_type": "stream",
     "text": [
      "[ 0.  0.  1.  0.]\n",
      "TESTDATA_Preload_RampDown\n",
      "Saving Random Forest Model from rf_s0.pkl\n",
      "Saving Extra Trees Model\n",
      "Saving Random Forest Model from rf_s1.pkl\n",
      "Saving Extra Trees Model\n",
      "Saving Random Forest Model from rf_s2.pkl\n",
      "Saving Extra Trees Model\n",
      "Saving Random Forest Model from rf_s3.pkl\n",
      "Saving Extra Trees Model\n"
     ]
    },
    {
     "name": "stderr",
     "output_type": "stream",
     "text": [
      "[Parallel(n_jobs=1)]: Done  20 out of  20 | elapsed:    0.0s finished\n",
      "[Parallel(n_jobs=1)]: Done  20 out of  20 | elapsed:    0.0s finished\n",
      "[Parallel(n_jobs=1)]: Done  20 out of  20 | elapsed:    0.0s finished\n",
      "[Parallel(n_jobs=1)]: Done  20 out of  20 | elapsed:    0.0s finished\n"
     ]
    },
    {
     "name": "stdout",
     "output_type": "stream",
     "text": [
      "\n",
      "[ 0.   0.   0.8  0.2]\n",
      "TESTDATA_Unbalance_SlowRoll\n",
      "Saving Random Forest Model from rf_s0.pkl\n",
      "Saving Extra Trees Model\n",
      "Saving Random Forest Model from rf_s1.pkl\n",
      "Saving Extra Trees Model\n",
      "Saving Random Forest Model from rf_s2.pkl\n",
      "Saving Extra Trees Model\n",
      "Saving Random Forest Model from rf_s3.pkl\n",
      "Saving Extra Trees Model\n",
      "\n",
      "[ 0.    0.15  0.6   0.25]\n"
     ]
    },
    {
     "name": "stderr",
     "output_type": "stream",
     "text": [
      "[Parallel(n_jobs=1)]: Done  20 out of  20 | elapsed:    0.0s finished\n",
      "[Parallel(n_jobs=1)]: Done  20 out of  20 | elapsed:    0.0s finished\n",
      "[Parallel(n_jobs=1)]: Done  20 out of  20 | elapsed:    0.0s finished\n",
      "[Parallel(n_jobs=1)]: Done  20 out of  20 | elapsed:    0.0s finished\n"
     ]
    },
    {
     "name": "stdout",
     "output_type": "stream",
     "text": [
      "TESTDATA_Unbalance_RampUp\n",
      "Saving Random Forest Model from rf_s0.pkl\n",
      "Saving Extra Trees Model\n",
      "Saving Random Forest Model from rf_s1.pkl\n",
      "Saving Extra Trees Model\n",
      "Saving Random Forest Model from rf_s2.pkl\n",
      "Saving Extra Trees Model\n",
      "Saving Random Forest Model from rf_s3.pkl\n",
      "Saving Extra Trees Model\n",
      "\n",
      "[ 0.    0.05  0.4   0.55]\n"
     ]
    },
    {
     "name": "stderr",
     "output_type": "stream",
     "text": [
      "[Parallel(n_jobs=1)]: Done  20 out of  20 | elapsed:    0.0s finished\n",
      "[Parallel(n_jobs=1)]: Done  20 out of  20 | elapsed:    0.0s finished\n",
      "[Parallel(n_jobs=1)]: Done  20 out of  20 | elapsed:    0.0s finished\n",
      "[Parallel(n_jobs=1)]: Done  20 out of  20 | elapsed:    0.0s finished\n"
     ]
    },
    {
     "name": "stdout",
     "output_type": "stream",
     "text": [
      "TESTDATA_Unbalance_FastRoll\n",
      "Saving Random Forest Model from rf_s0.pkl\n",
      "Saving Extra Trees Model\n",
      "Saving Random Forest Model from rf_s1.pkl\n",
      "Saving Extra Trees Model\n",
      "Saving Random Forest Model from rf_s2.pkl\n",
      "Saving Extra Trees Model\n",
      "Saving Random Forest Model from rf_s3.pkl\n",
      "Saving Extra Trees Model\n",
      "\n"
     ]
    },
    {
     "name": "stderr",
     "output_type": "stream",
     "text": [
      "[Parallel(n_jobs=1)]: Done  20 out of  20 | elapsed:    0.0s finished\n",
      "[Parallel(n_jobs=1)]: Done  20 out of  20 | elapsed:    0.0s finished\n",
      "[Parallel(n_jobs=1)]: Done  20 out of  20 | elapsed:    0.0s finished\n",
      "[Parallel(n_jobs=1)]: Done  20 out of  20 | elapsed:    0.0s finished\n"
     ]
    },
    {
     "name": "stdout",
     "output_type": "stream",
     "text": [
      "[ 0.    0.75  0.    0.25]\n",
      "TESTDATA_Unbalance_RampDown\n",
      "Saving Random Forest Model from rf_s0.pkl\n",
      "Saving Extra Trees Model\n",
      "Saving Random Forest Model from rf_s1.pkl\n",
      "Saving Extra Trees Model\n",
      "Saving Random Forest Model from rf_s2.pkl\n",
      "Saving Extra Trees Model\n",
      "Saving Random Forest Model from rf_s3.pkl\n",
      "Saving Extra Trees Model\n"
     ]
    },
    {
     "name": "stderr",
     "output_type": "stream",
     "text": [
      "[Parallel(n_jobs=1)]: Done  20 out of  20 | elapsed:    0.0s finished\n",
      "[Parallel(n_jobs=1)]: Done  20 out of  20 | elapsed:    0.0s finished\n",
      "[Parallel(n_jobs=1)]: Done  20 out of  20 | elapsed:    0.0s finished\n",
      "[Parallel(n_jobs=1)]: Done  20 out of  20 | elapsed:    0.0s finished\n"
     ]
    },
    {
     "name": "stdout",
     "output_type": "stream",
     "text": [
      "\n",
      "[ 0.   0.   0.5  0.5]\n",
      "TESTDATA_Normal_SlowRoll\n",
      "Saving Random Forest Model from rf_s0.pkl\n",
      "Saving Extra Trees Model\n",
      "Saving Random Forest Model from rf_s1.pkl\n",
      "Saving Extra Trees Model\n",
      "Saving Random Forest Model from rf_s2.pkl\n",
      "Saving Extra Trees Model\n",
      "Saving Random Forest Model from rf_s3.pkl\n",
      "Saving Extra Trees Model\n",
      "\n",
      "[ 0.    0.05  0.5   0.45]\n"
     ]
    },
    {
     "name": "stderr",
     "output_type": "stream",
     "text": [
      "[Parallel(n_jobs=1)]: Done  20 out of  20 | elapsed:    0.0s finished\n",
      "[Parallel(n_jobs=1)]: Done  20 out of  20 | elapsed:    0.0s finished\n",
      "[Parallel(n_jobs=1)]: Done  20 out of  20 | elapsed:    0.0s finished\n",
      "[Parallel(n_jobs=1)]: Done  20 out of  20 | elapsed:    0.0s finished\n"
     ]
    },
    {
     "name": "stdout",
     "output_type": "stream",
     "text": [
      "TESTDATA_Normal_RampUp\n",
      "Saving Random Forest Model from rf_s0.pkl\n",
      "Saving Extra Trees Model\n",
      "Saving Random Forest Model from rf_s1.pkl\n",
      "Saving Extra Trees Model\n",
      "Saving Random Forest Model from rf_s2.pkl\n",
      "Saving Extra Trees Model\n",
      "Saving Random Forest Model from rf_s3.pkl\n",
      "Saving Extra Trees Model\n",
      "\n",
      "[ 0.   0.   0.5  0.5]"
     ]
    },
    {
     "name": "stderr",
     "output_type": "stream",
     "text": [
      "[Parallel(n_jobs=1)]: Done  20 out of  20 | elapsed:    0.0s finished\n",
      "[Parallel(n_jobs=1)]: Done  20 out of  20 | elapsed:    0.0s finished\n",
      "[Parallel(n_jobs=1)]: Done  20 out of  20 | elapsed:    0.0s finished\n",
      "[Parallel(n_jobs=1)]: Done  20 out of  20 | elapsed:    0.0s finished\n"
     ]
    },
    {
     "name": "stdout",
     "output_type": "stream",
     "text": [
      "\n",
      "TESTDATA_Normal_FastRoll\n",
      "Saving Random Forest Model from rf_s0.pkl\n",
      "Saving Extra Trees Model\n",
      "Saving Random Forest Model from rf_s1.pkl\n",
      "Saving Extra Trees Model\n",
      "Saving Random Forest Model from rf_s2.pkl\n",
      "Saving Extra Trees Model\n",
      "Saving Random Forest Model from rf_s3.pkl\n",
      "Saving Extra Trees Model\n",
      "\n",
      "[ 1.  0.  0.  0.]\n"
     ]
    },
    {
     "name": "stderr",
     "output_type": "stream",
     "text": [
      "[Parallel(n_jobs=1)]: Done  20 out of  20 | elapsed:    0.0s finished\n",
      "[Parallel(n_jobs=1)]: Done  20 out of  20 | elapsed:    0.0s finished\n",
      "[Parallel(n_jobs=1)]: Done  20 out of  20 | elapsed:    0.0s finished\n",
      "[Parallel(n_jobs=1)]: Done  20 out of  20 | elapsed:    0.0s finished\n"
     ]
    },
    {
     "name": "stdout",
     "output_type": "stream",
     "text": [
      "TESTDATA_Normal_RampDown\n",
      "Saving Random Forest Model from rf_s0.pkl\n",
      "Saving Extra Trees Model\n",
      "Saving Random Forest Model from rf_s1.pkl\n",
      "Saving Extra Trees Model\n",
      "Saving Random Forest Model from rf_s2.pkl\n",
      "Saving Extra Trees Model\n",
      "Saving Random Forest Model from rf_s3.pkl\n",
      "Saving Extra Trees Model\n",
      "\n"
     ]
    },
    {
     "name": "stderr",
     "output_type": "stream",
     "text": [
      "[Parallel(n_jobs=1)]: Done  20 out of  20 | elapsed:    0.0s finished\n",
      "[Parallel(n_jobs=1)]: Done  20 out of  20 | elapsed:    0.0s finished\n",
      "[Parallel(n_jobs=1)]: Done  20 out of  20 | elapsed:    0.0s finished\n",
      "[Parallel(n_jobs=1)]: Done  20 out of  20 | elapsed:    0.0s finished\n"
     ]
    },
    {
     "name": "stdout",
     "output_type": "stream",
     "text": [
      "[ 0.    0.    0.45  0.55]\n",
      "TESTDATA_BearingRub_SlowRoll\n",
      "Saving Random Forest Model from rf_s0.pkl\n",
      "Saving Extra Trees Model\n",
      "Saving Random Forest Model from rf_s1.pkl\n",
      "Saving Extra Trees Model\n",
      "Saving Random Forest Model from rf_s2.pkl\n",
      "Saving Extra Trees Model\n",
      "Saving Random Forest Model from rf_s3.pkl\n",
      "Saving Extra Trees Model\n"
     ]
    },
    {
     "name": "stderr",
     "output_type": "stream",
     "text": [
      "[Parallel(n_jobs=1)]: Done  20 out of  20 | elapsed:    0.0s finished\n",
      "[Parallel(n_jobs=1)]: Done  20 out of  20 | elapsed:    0.0s finished\n",
      "[Parallel(n_jobs=1)]: Done  20 out of  20 | elapsed:    0.0s finished\n",
      "[Parallel(n_jobs=1)]: Done  20 out of  20 | elapsed:    0.0s finished\n"
     ]
    },
    {
     "name": "stdout",
     "output_type": "stream",
     "text": [
      "\n",
      "[ 0.    0.    0.45  0.55]\n",
      "TESTDATA_BearingRub_RampUp\n",
      "Saving Random Forest Model from rf_s0.pkl\n",
      "Saving Extra Trees Model\n",
      "Saving Random Forest Model from rf_s1.pkl\n",
      "Saving Extra Trees Model\n",
      "Saving Random Forest Model from rf_s2.pkl\n",
      "Saving Extra Trees Model\n",
      "Saving Random Forest Model from rf_s3.pkl\n",
      "Saving Extra Trees Model\n",
      "\n"
     ]
    },
    {
     "name": "stderr",
     "output_type": "stream",
     "text": [
      "[Parallel(n_jobs=1)]: Done  20 out of  20 | elapsed:    0.0s finished\n",
      "[Parallel(n_jobs=1)]: Done  20 out of  20 | elapsed:    0.0s finished\n",
      "[Parallel(n_jobs=1)]: Done  20 out of  20 | elapsed:    0.0s finished\n",
      "[Parallel(n_jobs=1)]: Done  20 out of  20 | elapsed:    0.0s finished\n"
     ]
    },
    {
     "name": "stdout",
     "output_type": "stream",
     "text": [
      "[ 0.   0.   0.5  0.5]\n",
      "TESTDATA_BearingRub_FastRoll\n",
      "Saving Random Forest Model from rf_s0.pkl\n",
      "Saving Extra Trees Model\n",
      "Saving Random Forest Model from rf_s1.pkl\n",
      "Saving Extra Trees Model\n",
      "Saving Random Forest Model from rf_s2.pkl\n",
      "Saving Extra Trees Model\n",
      "Saving Random Forest Model from rf_s3.pkl\n",
      "Saving Extra Trees Model\n",
      "\n"
     ]
    },
    {
     "name": "stderr",
     "output_type": "stream",
     "text": [
      "[Parallel(n_jobs=1)]: Done  20 out of  20 | elapsed:    0.0s finished\n",
      "[Parallel(n_jobs=1)]: Done  20 out of  20 | elapsed:    0.0s finished\n",
      "[Parallel(n_jobs=1)]: Done  20 out of  20 | elapsed:    0.0s finished\n",
      "[Parallel(n_jobs=1)]: Done  20 out of  20 | elapsed:    0.0s finished\n"
     ]
    },
    {
     "name": "stdout",
     "output_type": "stream",
     "text": [
      "[ 0.  0.  0.  1.]\n",
      "TESTDATA_BearingRub_RampDown\n",
      "Saving Random Forest Model from rf_s0.pkl\n",
      "Saving Extra Trees Model\n",
      "Saving Random Forest Model from rf_s1.pkl\n",
      "Saving Extra Trees Model\n",
      "Saving Random Forest Model from rf_s2.pkl\n",
      "Saving Extra Trees Model\n",
      "Saving Random Forest Model from rf_s3.pkl\n",
      "Saving Extra Trees Model\n",
      "\n",
      "[ 0.    0.05  0.35  0.6 ]\n"
     ]
    },
    {
     "name": "stderr",
     "output_type": "stream",
     "text": [
      "[Parallel(n_jobs=1)]: Done  20 out of  20 | elapsed:    0.0s finished\n",
      "[Parallel(n_jobs=1)]: Done  20 out of  20 | elapsed:    0.0s finished\n",
      "[Parallel(n_jobs=1)]: Done  20 out of  20 | elapsed:    0.0s finished\n",
      "[Parallel(n_jobs=1)]: Done  20 out of  20 | elapsed:    0.0s finished\n"
     ]
    },
    {
     "name": "stdout",
     "output_type": "stream",
     "text": [
      "TESTDATA_Preload_SlowRoll\n",
      "Saving Random Forest Model from rf_s0.pkl\n",
      "Saving Extra Trees Model\n",
      "Saving Random Forest Model from rf_s1.pkl\n",
      "Saving Extra Trees Model\n",
      "Saving Random Forest Model from rf_s2.pkl\n",
      "Saving Extra Trees Model\n",
      "Saving Random Forest Model from rf_s3.pkl\n",
      "Saving Extra Trees Model\n",
      "\n"
     ]
    },
    {
     "name": "stderr",
     "output_type": "stream",
     "text": [
      "[Parallel(n_jobs=1)]: Done  20 out of  20 | elapsed:    0.0s finished\n",
      "[Parallel(n_jobs=1)]: Done  20 out of  20 | elapsed:    0.0s finished\n",
      "[Parallel(n_jobs=1)]: Done  20 out of  20 | elapsed:    0.0s finished\n",
      "[Parallel(n_jobs=1)]: Done  20 out of  20 | elapsed:    0.0s finished\n"
     ]
    },
    {
     "name": "stdout",
     "output_type": "stream",
     "text": [
      "[ 0.   0.   0.9  0.1]\n",
      "TESTDATA_Preload_RampUp\n",
      "Saving Random Forest Model from rf_s0.pkl\n",
      "Saving Extra Trees Model\n",
      "Saving Random Forest Model from rf_s1.pkl\n",
      "Saving Extra Trees Model\n",
      "Saving Random Forest Model from rf_s2.pkl\n",
      "Saving Extra Trees Model\n",
      "Saving Random Forest Model from rf_s3.pkl\n",
      "Saving Extra Trees Model\n",
      "\n"
     ]
    },
    {
     "name": "stderr",
     "output_type": "stream",
     "text": [
      "[Parallel(n_jobs=1)]: Done  20 out of  20 | elapsed:    0.0s finished\n",
      "[Parallel(n_jobs=1)]: Done  20 out of  20 | elapsed:    0.0s finished\n",
      "[Parallel(n_jobs=1)]: Done  20 out of  20 | elapsed:    0.0s finished\n",
      "[Parallel(n_jobs=1)]: Done  20 out of  20 | elapsed:    0.0s finished\n"
     ]
    },
    {
     "name": "stdout",
     "output_type": "stream",
     "text": [
      "[ 0.   0.   0.7  0.3]\n",
      "TESTDATA_Preload_FastRoll\n",
      "Saving Random Forest Model from rf_s0.pkl\n",
      "Saving Extra Trees Model\n",
      "Saving Random Forest Model from rf_s1.pkl\n",
      "Saving Extra Trees Model\n",
      "Saving Random Forest Model from rf_s2.pkl\n",
      "Saving Extra Trees Model\n",
      "Saving Random Forest Model from rf_s3.pkl\n",
      "Saving Extra Trees Model\n",
      "\n"
     ]
    },
    {
     "name": "stderr",
     "output_type": "stream",
     "text": [
      "[Parallel(n_jobs=1)]: Done  20 out of  20 | elapsed:    0.0s finished\n",
      "[Parallel(n_jobs=1)]: Done  20 out of  20 | elapsed:    0.0s finished\n",
      "[Parallel(n_jobs=1)]: Done  20 out of  20 | elapsed:    0.0s finished\n",
      "[Parallel(n_jobs=1)]: Done  20 out of  20 | elapsed:    0.0s finished\n"
     ]
    },
    {
     "name": "stdout",
     "output_type": "stream",
     "text": [
      "[ 0.  0.  1.  0.]\n",
      "TESTDATA_Preload_RampDown\n",
      "Saving Random Forest Model from rf_s0.pkl\n",
      "Saving Extra Trees Model\n",
      "Saving Random Forest Model from rf_s1.pkl\n",
      "Saving Extra Trees Model\n",
      "Saving Random Forest Model from rf_s2.pkl\n",
      "Saving Extra Trees Model\n",
      "Saving Random Forest Model from rf_s3.pkl\n",
      "Saving Extra Trees Model\n",
      "\n",
      "[ 0.   0.   0.8  0.2]\n"
     ]
    },
    {
     "name": "stderr",
     "output_type": "stream",
     "text": [
      "[Parallel(n_jobs=1)]: Done  20 out of  20 | elapsed:    0.0s finished\n",
      "[Parallel(n_jobs=1)]: Done  20 out of  20 | elapsed:    0.0s finished\n",
      "[Parallel(n_jobs=1)]: Done  20 out of  20 | elapsed:    0.0s finished\n",
      "[Parallel(n_jobs=1)]: Done  20 out of  20 | elapsed:    0.0s finished\n"
     ]
    },
    {
     "name": "stdout",
     "output_type": "stream",
     "text": [
      "TESTDATA_Unbalance_SlowRoll\n",
      "Saving Random Forest Model from rf_s0.pkl\n",
      "Saving Extra Trees Model\n",
      "Saving Random Forest Model from rf_s1.pkl\n",
      "Saving Extra Trees Model\n",
      "Saving Random Forest Model from rf_s2.pkl\n",
      "Saving Extra Trees Model\n",
      "Saving Random Forest Model from rf_s3.pkl\n",
      "Saving Extra Trees Model\n",
      "\n"
     ]
    },
    {
     "name": "stderr",
     "output_type": "stream",
     "text": [
      "[Parallel(n_jobs=1)]: Done  20 out of  20 | elapsed:    0.0s finished\n",
      "[Parallel(n_jobs=1)]: Done  20 out of  20 | elapsed:    0.0s finished\n",
      "[Parallel(n_jobs=1)]: Done  20 out of  20 | elapsed:    0.0s finished\n",
      "[Parallel(n_jobs=1)]: Done  20 out of  20 | elapsed:    0.0s finished\n"
     ]
    },
    {
     "name": "stdout",
     "output_type": "stream",
     "text": [
      "[ 0.    0.15  0.6   0.25]\n",
      "TESTDATA_Unbalance_RampUp\n",
      "Saving Random Forest Model from rf_s0.pkl\n",
      "Saving Extra Trees Model\n",
      "Saving Random Forest Model from rf_s1.pkl\n",
      "Saving Extra Trees Model\n",
      "Saving Random Forest Model from rf_s2.pkl\n",
      "Saving Extra Trees Model\n",
      "Saving Random Forest Model from rf_s3.pkl\n",
      "Saving Extra Trees Model\n",
      "\n"
     ]
    },
    {
     "name": "stderr",
     "output_type": "stream",
     "text": [
      "[Parallel(n_jobs=1)]: Done  20 out of  20 | elapsed:    0.0s finished\n",
      "[Parallel(n_jobs=1)]: Done  20 out of  20 | elapsed:    0.0s finished\n",
      "[Parallel(n_jobs=1)]: Done  20 out of  20 | elapsed:    0.0s finished\n",
      "[Parallel(n_jobs=1)]: Done  20 out of  20 | elapsed:    0.0s finished\n"
     ]
    },
    {
     "name": "stdout",
     "output_type": "stream",
     "text": [
      "[ 0.    0.05  0.4   0.55]\n",
      "TESTDATA_Unbalance_FastRoll\n",
      "Saving Random Forest Model from rf_s0.pkl\n",
      "Saving Extra Trees Model\n",
      "Saving Random Forest Model from rf_s1.pkl\n",
      "Saving Extra Trees Model\n",
      "Saving Random Forest Model from rf_s2.pkl\n",
      "Saving Extra Trees Model\n",
      "Saving Random Forest Model from rf_s3.pkl\n",
      "Saving Extra Trees Model\n",
      "\n"
     ]
    },
    {
     "name": "stderr",
     "output_type": "stream",
     "text": [
      "[Parallel(n_jobs=1)]: Done  20 out of  20 | elapsed:    0.0s finished\n",
      "[Parallel(n_jobs=1)]: Done  20 out of  20 | elapsed:    0.0s finished\n",
      "[Parallel(n_jobs=1)]: Done  20 out of  20 | elapsed:    0.0s finished\n",
      "[Parallel(n_jobs=1)]: Done  20 out of  20 | elapsed:    0.0s finished\n"
     ]
    },
    {
     "name": "stdout",
     "output_type": "stream",
     "text": [
      "[ 0.    0.75  0.    0.25]\n",
      "TESTDATA_Unbalance_RampDown\n",
      "Saving Random Forest Model from rf_s0.pkl\n",
      "Saving Extra Trees Model\n",
      "Saving Random Forest Model from rf_s1.pkl\n",
      "Saving Extra Trees Model\n",
      "Saving Random Forest Model from rf_s2.pkl\n",
      "Saving Extra Trees Model\n",
      "Saving Random Forest Model from rf_s3.pkl\n",
      "Saving Extra Trees Model\n",
      "\n",
      "[ 0.   0.   0.5  0.5]\n"
     ]
    },
    {
     "name": "stderr",
     "output_type": "stream",
     "text": [
      "[Parallel(n_jobs=1)]: Done  20 out of  20 | elapsed:    0.0s finished\n",
      "[Parallel(n_jobs=1)]: Done  20 out of  20 | elapsed:    0.0s finished\n",
      "[Parallel(n_jobs=1)]: Done  20 out of  20 | elapsed:    0.0s finished\n",
      "[Parallel(n_jobs=1)]: Done  20 out of  20 | elapsed:    0.0s finished\n"
     ]
    },
    {
     "name": "stdout",
     "output_type": "stream",
     "text": [
      "TESTDATA_Normal_SlowRoll\n",
      "Saving Random Forest Model from rf_s0.pkl\n",
      "Saving Extra Trees Model\n",
      "Saving Random Forest Model from rf_s1.pkl\n",
      "Saving Extra Trees Model\n",
      "Saving Random Forest Model from rf_s2.pkl\n",
      "Saving Extra Trees Model\n",
      "Saving Random Forest Model from rf_s3.pkl\n",
      "Saving Extra Trees Model\n",
      "\n",
      "[ 0.    0.05  0.5   0.45]\n"
     ]
    },
    {
     "name": "stderr",
     "output_type": "stream",
     "text": [
      "[Parallel(n_jobs=1)]: Done  20 out of  20 | elapsed:    0.0s finished\n",
      "[Parallel(n_jobs=1)]: Done  20 out of  20 | elapsed:    0.0s finished\n",
      "[Parallel(n_jobs=1)]: Done  20 out of  20 | elapsed:    0.0s finished\n",
      "[Parallel(n_jobs=1)]: Done  20 out of  20 | elapsed:    0.0s finished\n"
     ]
    },
    {
     "name": "stdout",
     "output_type": "stream",
     "text": [
      "TESTDATA_Normal_RampUp\n",
      "Saving Random Forest Model from rf_s0.pkl\n",
      "Saving Extra Trees Model\n",
      "Saving Random Forest Model from rf_s1.pkl\n",
      "Saving Extra Trees Model\n",
      "Saving Random Forest Model from rf_s2.pkl\n",
      "Saving Extra Trees Model\n",
      "Saving Random Forest Model from rf_s3.pkl\n",
      "Saving Extra Trees Model\n",
      "\n",
      "[ 0.   0.   0.5  0.5]\n"
     ]
    },
    {
     "name": "stderr",
     "output_type": "stream",
     "text": [
      "[Parallel(n_jobs=1)]: Done  20 out of  20 | elapsed:    0.0s finished\n",
      "[Parallel(n_jobs=1)]: Done  20 out of  20 | elapsed:    0.0s finished\n",
      "[Parallel(n_jobs=1)]: Done  20 out of  20 | elapsed:    0.0s finished\n",
      "[Parallel(n_jobs=1)]: Done  20 out of  20 | elapsed:    0.0s finished\n"
     ]
    },
    {
     "name": "stdout",
     "output_type": "stream",
     "text": [
      "TESTDATA_Normal_FastRoll\n",
      "Saving Random Forest Model from rf_s0.pkl\n",
      "Saving Extra Trees Model\n",
      "Saving Random Forest Model from rf_s1.pkl\n",
      "Saving Extra Trees Model\n",
      "Saving Random Forest Model from rf_s2.pkl\n",
      "Saving Extra Trees Model\n",
      "Saving Random Forest Model from rf_s3.pkl\n",
      "Saving Extra Trees Model\n"
     ]
    },
    {
     "name": "stderr",
     "output_type": "stream",
     "text": [
      "[Parallel(n_jobs=1)]: Done  20 out of  20 | elapsed:    0.0s finished\n",
      "[Parallel(n_jobs=1)]: Done  20 out of  20 | elapsed:    0.0s finished\n",
      "[Parallel(n_jobs=1)]: Done  20 out of  20 | elapsed:    0.0s finished\n",
      "[Parallel(n_jobs=1)]: Done  20 out of  20 | elapsed:    0.0s finished\n"
     ]
    },
    {
     "name": "stdout",
     "output_type": "stream",
     "text": [
      "\n",
      "[ 1.  0.  0.  0.]\n",
      "TESTDATA_Normal_RampDown\n",
      "Saving Random Forest Model from rf_s0.pkl\n",
      "Saving Extra Trees Model\n",
      "Saving Random Forest Model from rf_s1.pkl\n",
      "Saving Extra Trees Model\n",
      "Saving Random Forest Model from rf_s2.pkl\n",
      "Saving Extra Trees Model\n",
      "Saving Random Forest Model from rf_s3.pkl\n",
      "Saving Extra Trees Model\n",
      "\n",
      "[ 0.    0.    0.45  0.55]\n"
     ]
    },
    {
     "name": "stderr",
     "output_type": "stream",
     "text": [
      "[Parallel(n_jobs=1)]: Done  20 out of  20 | elapsed:    0.0s finished\n",
      "[Parallel(n_jobs=1)]: Done  20 out of  20 | elapsed:    0.0s finished\n",
      "[Parallel(n_jobs=1)]: Done  20 out of  20 | elapsed:    0.0s finished\n",
      "[Parallel(n_jobs=1)]: Done  20 out of  20 | elapsed:    0.0s finished\n"
     ]
    },
    {
     "name": "stdout",
     "output_type": "stream",
     "text": [
      "TESTDATA_BearingRub_SlowRoll\n",
      "Saving Random Forest Model from rf_s0.pkl\n",
      "Saving Extra Trees Model\n",
      "Saving Random Forest Model from rf_s1.pkl\n",
      "Saving Extra Trees Model\n",
      "Saving Random Forest Model from rf_s2.pkl\n",
      "Saving Extra Trees Model\n",
      "Saving Random Forest Model from rf_s3.pkl\n",
      "Saving Extra Trees Model\n",
      "\n",
      "[ 0.    0.    0.45  0.55]\n"
     ]
    },
    {
     "name": "stderr",
     "output_type": "stream",
     "text": [
      "[Parallel(n_jobs=1)]: Done  20 out of  20 | elapsed:    0.0s finished\n",
      "[Parallel(n_jobs=1)]: Done  20 out of  20 | elapsed:    0.0s finished\n",
      "[Parallel(n_jobs=1)]: Done  20 out of  20 | elapsed:    0.0s finished\n",
      "[Parallel(n_jobs=1)]: Done  20 out of  20 | elapsed:    0.0s finished\n"
     ]
    },
    {
     "name": "stdout",
     "output_type": "stream",
     "text": [
      "TESTDATA_BearingRub_RampUp\n",
      "Saving Random Forest Model from rf_s0.pkl\n",
      "Saving Extra Trees Model\n",
      "Saving Random Forest Model from rf_s1.pkl\n",
      "Saving Extra Trees Model\n",
      "Saving Random Forest Model from rf_s2.pkl\n",
      "Saving Extra Trees Model\n",
      "Saving Random Forest Model from rf_s3.pkl\n",
      "Saving Extra Trees Model\n",
      "\n"
     ]
    },
    {
     "name": "stderr",
     "output_type": "stream",
     "text": [
      "[Parallel(n_jobs=1)]: Done  20 out of  20 | elapsed:    0.0s finished\n",
      "[Parallel(n_jobs=1)]: Done  20 out of  20 | elapsed:    0.0s finished\n",
      "[Parallel(n_jobs=1)]: Done  20 out of  20 | elapsed:    0.0s finished\n",
      "[Parallel(n_jobs=1)]: Done  20 out of  20 | elapsed:    0.0s finished\n"
     ]
    },
    {
     "name": "stdout",
     "output_type": "stream",
     "text": [
      "[ 0.   0.   0.5  0.5]\n",
      "TESTDATA_BearingRub_FastRoll\n",
      "Saving Random Forest Model from rf_s0.pkl\n",
      "Saving Extra Trees Model\n",
      "Saving Random Forest Model from rf_s1.pkl\n",
      "Saving Extra Trees Model\n",
      "Saving Random Forest Model from rf_s2.pkl\n",
      "Saving Extra Trees Model\n",
      "Saving Random Forest Model from rf_s3.pkl\n",
      "Saving Extra Trees Model\n",
      "\n"
     ]
    },
    {
     "name": "stderr",
     "output_type": "stream",
     "text": [
      "[Parallel(n_jobs=1)]: Done  20 out of  20 | elapsed:    0.0s finished\n",
      "[Parallel(n_jobs=1)]: Done  20 out of  20 | elapsed:    0.0s finished\n",
      "[Parallel(n_jobs=1)]: Done  20 out of  20 | elapsed:    0.0s finished\n",
      "[Parallel(n_jobs=1)]: Done  20 out of  20 | elapsed:    0.0s finished\n"
     ]
    },
    {
     "name": "stdout",
     "output_type": "stream",
     "text": [
      "[ 0.  0.  0.  1.]\n",
      "TESTDATA_BearingRub_RampDown\n",
      "Saving Random Forest Model from rf_s0.pkl\n",
      "Saving Extra Trees Model\n",
      "Saving Random Forest Model from rf_s1.pkl\n",
      "Saving Extra Trees Model\n",
      "Saving Random Forest Model from rf_s2.pkl\n",
      "Saving Extra Trees Model\n",
      "Saving Random Forest Model from rf_s3.pkl\n",
      "Saving Extra Trees Model\n",
      "\n",
      "[ 0.    0.05  0.35  0.6 ]\n"
     ]
    },
    {
     "name": "stderr",
     "output_type": "stream",
     "text": [
      "[Parallel(n_jobs=1)]: Done  20 out of  20 | elapsed:    0.0s finished\n",
      "[Parallel(n_jobs=1)]: Done  20 out of  20 | elapsed:    0.0s finished\n",
      "[Parallel(n_jobs=1)]: Done  20 out of  20 | elapsed:    0.0s finished\n",
      "[Parallel(n_jobs=1)]: Done  20 out of  20 | elapsed:    0.0s finished\n"
     ]
    },
    {
     "name": "stdout",
     "output_type": "stream",
     "text": [
      "TESTDATA_Preload_SlowRoll\n",
      "Saving Random Forest Model from rf_s0.pkl\n",
      "Saving Extra Trees Model\n",
      "Saving Random Forest Model from rf_s1.pkl\n",
      "Saving Extra Trees Model\n",
      "Saving Random Forest Model from rf_s2.pkl\n",
      "Saving Extra Trees Model\n",
      "Saving Random Forest Model from rf_s3.pkl\n",
      "Saving Extra Trees Model\n",
      "\n",
      "[ 0.   0.   0.9  0.1]\n"
     ]
    },
    {
     "name": "stderr",
     "output_type": "stream",
     "text": [
      "[Parallel(n_jobs=1)]: Done  20 out of  20 | elapsed:    0.0s finished\n",
      "[Parallel(n_jobs=1)]: Done  20 out of  20 | elapsed:    0.0s finished\n",
      "[Parallel(n_jobs=1)]: Done  20 out of  20 | elapsed:    0.0s finished\n",
      "[Parallel(n_jobs=1)]: Done  20 out of  20 | elapsed:    0.0s finished\n"
     ]
    },
    {
     "name": "stdout",
     "output_type": "stream",
     "text": [
      "TESTDATA_Preload_RampUp\n",
      "Saving Random Forest Model from rf_s0.pkl\n",
      "Saving Extra Trees Model\n",
      "Saving Random Forest Model from rf_s1.pkl\n",
      "Saving Extra Trees Model\n",
      "Saving Random Forest Model from rf_s2.pkl\n",
      "Saving Extra Trees Model\n",
      "Saving Random Forest Model from rf_s3.pkl\n",
      "Saving Extra Trees Model\n",
      "\n"
     ]
    },
    {
     "name": "stderr",
     "output_type": "stream",
     "text": [
      "[Parallel(n_jobs=1)]: Done  20 out of  20 | elapsed:    0.0s finished\n",
      "[Parallel(n_jobs=1)]: Done  20 out of  20 | elapsed:    0.0s finished\n",
      "[Parallel(n_jobs=1)]: Done  20 out of  20 | elapsed:    0.0s finished\n",
      "[Parallel(n_jobs=1)]: Done  20 out of  20 | elapsed:    0.0s finished\n"
     ]
    },
    {
     "name": "stdout",
     "output_type": "stream",
     "text": [
      "[ 0.   0.   0.7  0.3]\n",
      "TESTDATA_Preload_FastRoll\n",
      "Saving Random Forest Model from rf_s0.pkl\n",
      "Saving Extra Trees Model\n",
      "Saving Random Forest Model from rf_s1.pkl\n",
      "Saving Extra Trees Model\n",
      "Saving Random Forest Model from rf_s2.pkl\n",
      "Saving Extra Trees Model\n",
      "Saving Random Forest Model from rf_s3.pkl\n",
      "Saving Extra Trees Model\n",
      "\n"
     ]
    },
    {
     "name": "stderr",
     "output_type": "stream",
     "text": [
      "[Parallel(n_jobs=1)]: Done  20 out of  20 | elapsed:    0.0s finished\n",
      "[Parallel(n_jobs=1)]: Done  20 out of  20 | elapsed:    0.0s finished\n",
      "[Parallel(n_jobs=1)]: Done  20 out of  20 | elapsed:    0.0s finished\n",
      "[Parallel(n_jobs=1)]: Done  20 out of  20 | elapsed:    0.0s finished\n"
     ]
    },
    {
     "name": "stdout",
     "output_type": "stream",
     "text": [
      "[ 0.  0.  1.  0.]\n",
      "TESTDATA_Preload_RampDown\n",
      "Saving Random Forest Model from rf_s0.pkl\n",
      "Saving Extra Trees Model\n",
      "Saving Random Forest Model from rf_s1.pkl\n",
      "Saving Extra Trees Model\n",
      "Saving Random Forest Model from rf_s2.pkl\n",
      "Saving Extra Trees Model\n",
      "Saving Random Forest Model from rf_s3.pkl\n",
      "Saving Extra Trees Model\n",
      "\n"
     ]
    },
    {
     "name": "stderr",
     "output_type": "stream",
     "text": [
      "[Parallel(n_jobs=1)]: Done  20 out of  20 | elapsed:    0.0s finished\n",
      "[Parallel(n_jobs=1)]: Done  20 out of  20 | elapsed:    0.0s finished\n",
      "[Parallel(n_jobs=1)]: Done  20 out of  20 | elapsed:    0.0s finished\n",
      "[Parallel(n_jobs=1)]: Done  20 out of  20 | elapsed:    0.0s finished\n"
     ]
    },
    {
     "name": "stdout",
     "output_type": "stream",
     "text": [
      "[ 0.   0.   0.8  0.2]\n",
      "TESTDATA_Unbalance_SlowRoll\n",
      "Saving Random Forest Model from rf_s0.pkl\n",
      "Saving Extra Trees Model\n",
      "Saving Random Forest Model from rf_s1.pkl\n",
      "Saving Extra Trees Model\n",
      "Saving Random Forest Model from rf_s2.pkl\n",
      "Saving Extra Trees Model\n",
      "Saving Random Forest Model from rf_s3.pkl\n",
      "Saving Extra Trees Model\n",
      "\n"
     ]
    },
    {
     "name": "stderr",
     "output_type": "stream",
     "text": [
      "[Parallel(n_jobs=1)]: Done  20 out of  20 | elapsed:    0.0s finished\n",
      "[Parallel(n_jobs=1)]: Done  20 out of  20 | elapsed:    0.0s finished\n",
      "[Parallel(n_jobs=1)]: Done  20 out of  20 | elapsed:    0.0s finished\n",
      "[Parallel(n_jobs=1)]: Done  20 out of  20 | elapsed:    0.0s finished\n"
     ]
    },
    {
     "name": "stdout",
     "output_type": "stream",
     "text": [
      "[ 0.    0.15  0.6   0.25]\n",
      "TESTDATA_Unbalance_RampUp\n",
      "Saving Random Forest Model from rf_s0.pkl\n",
      "Saving Extra Trees Model\n",
      "Saving Random Forest Model from rf_s1.pkl\n",
      "Saving Extra Trees Model\n",
      "Saving Random Forest Model from rf_s2.pkl\n",
      "Saving Extra Trees Model\n",
      "Saving Random Forest Model from rf_s3.pkl\n",
      "Saving Extra Trees Model\n",
      "\n",
      "[ 0.    0.05  0.4   0.55]\n"
     ]
    },
    {
     "name": "stderr",
     "output_type": "stream",
     "text": [
      "[Parallel(n_jobs=1)]: Done  20 out of  20 | elapsed:    0.0s finished\n",
      "[Parallel(n_jobs=1)]: Done  20 out of  20 | elapsed:    0.0s finished\n",
      "[Parallel(n_jobs=1)]: Done  20 out of  20 | elapsed:    0.0s finished\n",
      "[Parallel(n_jobs=1)]: Done  20 out of  20 | elapsed:    0.0s finished\n"
     ]
    },
    {
     "name": "stdout",
     "output_type": "stream",
     "text": [
      "TESTDATA_Unbalance_FastRoll\n",
      "Saving Random Forest Model from rf_s0.pkl\n",
      "Saving Extra Trees Model\n",
      "Saving Random Forest Model from rf_s1.pkl\n",
      "Saving Extra Trees Model\n",
      "Saving Random Forest Model from rf_s2.pkl\n",
      "Saving Extra Trees Model\n",
      "Saving Random Forest Model from rf_s3.pkl\n",
      "Saving Extra Trees Model\n",
      "\n"
     ]
    },
    {
     "name": "stderr",
     "output_type": "stream",
     "text": [
      "[Parallel(n_jobs=1)]: Done  20 out of  20 | elapsed:    0.0s finished\n",
      "[Parallel(n_jobs=1)]: Done  20 out of  20 | elapsed:    0.0s finished\n",
      "[Parallel(n_jobs=1)]: Done  20 out of  20 | elapsed:    0.0s finished\n",
      "[Parallel(n_jobs=1)]: Done  20 out of  20 | elapsed:    0.0s finished\n"
     ]
    },
    {
     "name": "stdout",
     "output_type": "stream",
     "text": [
      "[ 0.    0.75  0.    0.25]\n",
      "TESTDATA_Unbalance_RampDown\n",
      "Saving Random Forest Model from rf_s0.pkl\n",
      "Saving Extra Trees Model\n",
      "Saving Random Forest Model from rf_s1.pkl\n",
      "Saving Extra Trees Model\n",
      "Saving Random Forest Model from rf_s2.pkl\n",
      "Saving Extra Trees Model\n",
      "Saving Random Forest Model from rf_s3.pkl\n",
      "Saving Extra Trees Model\n",
      "\n",
      "[ 0.   0.   0.5  0.5]\n"
     ]
    },
    {
     "name": "stderr",
     "output_type": "stream",
     "text": [
      "[Parallel(n_jobs=1)]: Done  20 out of  20 | elapsed:    0.0s finished\n",
      "[Parallel(n_jobs=1)]: Done  20 out of  20 | elapsed:    0.0s finished\n",
      "[Parallel(n_jobs=1)]: Done  20 out of  20 | elapsed:    0.0s finished\n",
      "[Parallel(n_jobs=1)]: Done  20 out of  20 | elapsed:    0.0s finished\n"
     ]
    },
    {
     "name": "stdout",
     "output_type": "stream",
     "text": [
      "TESTDATA_Normal_SlowRoll\n",
      "Saving Random Forest Model from rf_s0.pkl\n",
      "Saving Extra Trees Model\n",
      "Saving Random Forest Model from rf_s1.pkl\n",
      "Saving Extra Trees Model\n",
      "Saving Random Forest Model from rf_s2.pkl\n",
      "Saving Extra Trees Model\n",
      "Saving Random Forest Model from rf_s3.pkl\n",
      "Saving Extra Trees Model\n",
      "\n"
     ]
    },
    {
     "name": "stderr",
     "output_type": "stream",
     "text": [
      "[Parallel(n_jobs=1)]: Done  20 out of  20 | elapsed:    0.0s finished\n",
      "[Parallel(n_jobs=1)]: Done  20 out of  20 | elapsed:    0.0s finished\n",
      "[Parallel(n_jobs=1)]: Done  20 out of  20 | elapsed:    0.0s finished\n",
      "[Parallel(n_jobs=1)]: Done  20 out of  20 | elapsed:    0.0s finished\n"
     ]
    },
    {
     "name": "stdout",
     "output_type": "stream",
     "text": [
      "[ 0.    0.05  0.5   0.45]\n",
      "TESTDATA_Normal_RampUp\n",
      "Saving Random Forest Model from rf_s0.pkl\n",
      "Saving Extra Trees Model\n",
      "Saving Random Forest Model from rf_s1.pkl\n",
      "Saving Extra Trees Model\n",
      "Saving Random Forest Model from rf_s2.pkl\n",
      "Saving Extra Trees Model\n",
      "Saving Random Forest Model from rf_s3.pkl\n",
      "Saving Extra Trees Model\n",
      "\n",
      "[ 0.   0.   0.5  0.5]\n"
     ]
    },
    {
     "name": "stderr",
     "output_type": "stream",
     "text": [
      "[Parallel(n_jobs=1)]: Done  20 out of  20 | elapsed:    0.0s finished\n",
      "[Parallel(n_jobs=1)]: Done  20 out of  20 | elapsed:    0.0s finished\n",
      "[Parallel(n_jobs=1)]: Done  20 out of  20 | elapsed:    0.0s finished\n",
      "[Parallel(n_jobs=1)]: Done  20 out of  20 | elapsed:    0.0s finished\n"
     ]
    },
    {
     "name": "stdout",
     "output_type": "stream",
     "text": [
      "TESTDATA_Normal_FastRoll\n",
      "Saving Random Forest Model from rf_s0.pkl\n",
      "Saving Extra Trees Model\n",
      "Saving Random Forest Model from rf_s1.pkl\n",
      "Saving Extra Trees Model\n",
      "Saving Random Forest Model from rf_s2.pkl\n",
      "Saving Extra Trees Model\n",
      "Saving Random Forest Model from rf_s3.pkl\n",
      "Saving Extra Trees Model\n",
      "\n",
      "[ 1.  0.  0.  0.]\n"
     ]
    },
    {
     "name": "stderr",
     "output_type": "stream",
     "text": [
      "[Parallel(n_jobs=1)]: Done  20 out of  20 | elapsed:    0.0s finished\n",
      "[Parallel(n_jobs=1)]: Done  20 out of  20 | elapsed:    0.0s finished\n",
      "[Parallel(n_jobs=1)]: Done  20 out of  20 | elapsed:    0.0s finished\n",
      "[Parallel(n_jobs=1)]: Done  20 out of  20 | elapsed:    0.0s finished\n"
     ]
    },
    {
     "name": "stdout",
     "output_type": "stream",
     "text": [
      "TESTDATA_Normal_RampDown\n",
      "Saving Random Forest Model from rf_s0.pkl\n",
      "Saving Extra Trees Model\n",
      "Saving Random Forest Model from rf_s1.pkl\n",
      "Saving Extra Trees Model\n",
      "Saving Random Forest Model from rf_s2.pkl\n",
      "Saving Extra Trees Model\n",
      "Saving Random Forest Model from rf_s3.pkl\n",
      "Saving Extra Trees Model\n",
      "\n",
      "[ 0.    0.    0.45  0.55]\n"
     ]
    },
    {
     "name": "stderr",
     "output_type": "stream",
     "text": [
      "[Parallel(n_jobs=1)]: Done  20 out of  20 | elapsed:    0.0s finished\n",
      "[Parallel(n_jobs=1)]: Done  20 out of  20 | elapsed:    0.0s finished\n",
      "[Parallel(n_jobs=1)]: Done  20 out of  20 | elapsed:    0.0s finished\n",
      "[Parallel(n_jobs=1)]: Done  20 out of  20 | elapsed:    0.0s finished\n"
     ]
    },
    {
     "name": "stdout",
     "output_type": "stream",
     "text": [
      "TESTDATA_BearingRub_SlowRoll\n",
      "Saving Random Forest Model from rf_s0.pkl\n",
      "Saving Extra Trees Model\n",
      "Saving Random Forest Model from rf_s1.pkl\n",
      "Saving Extra Trees Model\n",
      "Saving Random Forest Model from rf_s2.pkl\n",
      "Saving Extra Trees Model\n",
      "Saving Random Forest Model from rf_s3.pkl\n",
      "Saving Extra Trees Model\n",
      "\n"
     ]
    },
    {
     "name": "stderr",
     "output_type": "stream",
     "text": [
      "[Parallel(n_jobs=1)]: Done  20 out of  20 | elapsed:    0.0s finished\n",
      "[Parallel(n_jobs=1)]: Done  20 out of  20 | elapsed:    0.0s finished\n",
      "[Parallel(n_jobs=1)]: Done  20 out of  20 | elapsed:    0.0s finished\n",
      "[Parallel(n_jobs=1)]: Done  20 out of  20 | elapsed:    0.0s finished\n"
     ]
    },
    {
     "name": "stdout",
     "output_type": "stream",
     "text": [
      "[ 0.    0.    0.45  0.55]\n",
      "TESTDATA_BearingRub_RampUp\n",
      "Saving Random Forest Model from rf_s0.pkl\n",
      "Saving Extra Trees Model\n",
      "Saving Random Forest Model from rf_s1.pkl\n",
      "Saving Extra Trees Model\n",
      "Saving Random Forest Model from rf_s2.pkl\n",
      "Saving Extra Trees Model\n",
      "Saving Random Forest Model from rf_s3.pkl\n",
      "Saving Extra Trees Model\n",
      "\n",
      "[ 0.   0.   0.5  0.5]\n"
     ]
    },
    {
     "name": "stderr",
     "output_type": "stream",
     "text": [
      "[Parallel(n_jobs=1)]: Done  20 out of  20 | elapsed:    0.0s finished\n",
      "[Parallel(n_jobs=1)]: Done  20 out of  20 | elapsed:    0.0s finished\n",
      "[Parallel(n_jobs=1)]: Done  20 out of  20 | elapsed:    0.0s finished\n",
      "[Parallel(n_jobs=1)]: Done  20 out of  20 | elapsed:    0.0s finished\n"
     ]
    },
    {
     "name": "stdout",
     "output_type": "stream",
     "text": [
      "TESTDATA_BearingRub_FastRoll\n",
      "Saving Random Forest Model from rf_s0.pkl\n",
      "Saving Extra Trees Model\n",
      "Saving Random Forest Model from rf_s1.pkl\n",
      "Saving Extra Trees Model\n",
      "Saving Random Forest Model from rf_s2.pkl\n",
      "Saving Extra Trees Model\n",
      "Saving Random Forest Model from rf_s3.pkl\n",
      "Saving Extra Trees Model\n",
      "\n"
     ]
    },
    {
     "name": "stderr",
     "output_type": "stream",
     "text": [
      "[Parallel(n_jobs=1)]: Done  20 out of  20 | elapsed:    0.0s finished\n",
      "[Parallel(n_jobs=1)]: Done  20 out of  20 | elapsed:    0.0s finished\n",
      "[Parallel(n_jobs=1)]: Done  20 out of  20 | elapsed:    0.0s finished\n",
      "[Parallel(n_jobs=1)]: Done  20 out of  20 | elapsed:    0.0s finished\n"
     ]
    },
    {
     "name": "stdout",
     "output_type": "stream",
     "text": [
      "[ 0.  0.  0.  1.]\n",
      "TESTDATA_BearingRub_RampDown\n",
      "Saving Random Forest Model from rf_s0.pkl\n",
      "Saving Extra Trees Model\n",
      "Saving Random Forest Model from rf_s1.pkl\n",
      "Saving Extra Trees Model\n",
      "Saving Random Forest Model from rf_s2.pkl\n",
      "Saving Extra Trees Model\n",
      "Saving Random Forest Model from rf_s3.pkl\n",
      "Saving Extra Trees Model\n",
      "\n"
     ]
    },
    {
     "name": "stderr",
     "output_type": "stream",
     "text": [
      "[Parallel(n_jobs=1)]: Done  20 out of  20 | elapsed:    0.0s finished\n",
      "[Parallel(n_jobs=1)]: Done  20 out of  20 | elapsed:    0.0s finished\n",
      "[Parallel(n_jobs=1)]: Done  20 out of  20 | elapsed:    0.0s finished\n",
      "[Parallel(n_jobs=1)]: Done  20 out of  20 | elapsed:    0.0s finished\n"
     ]
    },
    {
     "name": "stdout",
     "output_type": "stream",
     "text": [
      "[ 0.    0.05  0.35  0.6 ]\n",
      "TESTDATA_Preload_SlowRoll\n",
      "Saving Random Forest Model from rf_s0.pkl\n",
      "Saving Extra Trees Model\n",
      "Saving Random Forest Model from rf_s1.pkl\n",
      "Saving Extra Trees Model\n",
      "Saving Random Forest Model from rf_s2.pkl\n",
      "Saving Extra Trees Model\n",
      "Saving Random Forest Model from rf_s3.pkl\n",
      "Saving Extra Trees Model\n",
      "\n",
      "[ 0.   0.   0.9  0.1]\n"
     ]
    },
    {
     "name": "stderr",
     "output_type": "stream",
     "text": [
      "[Parallel(n_jobs=1)]: Done  20 out of  20 | elapsed:    0.0s finished\n",
      "[Parallel(n_jobs=1)]: Done  20 out of  20 | elapsed:    0.0s finished\n",
      "[Parallel(n_jobs=1)]: Done  20 out of  20 | elapsed:    0.0s finished\n",
      "[Parallel(n_jobs=1)]: Done  20 out of  20 | elapsed:    0.0s finished\n"
     ]
    },
    {
     "name": "stdout",
     "output_type": "stream",
     "text": [
      "TESTDATA_Preload_RampUp\n",
      "Saving Random Forest Model from rf_s0.pkl\n",
      "Saving Extra Trees Model\n",
      "Saving Random Forest Model from rf_s1.pkl\n",
      "Saving Extra Trees Model\n",
      "Saving Random Forest Model from rf_s2.pkl\n",
      "Saving Extra Trees Model\n",
      "Saving Random Forest Model from rf_s3.pkl\n",
      "Saving Extra Trees Model\n",
      "\n",
      "[ 0.   0.   0.7  0.3]\n"
     ]
    },
    {
     "name": "stderr",
     "output_type": "stream",
     "text": [
      "[Parallel(n_jobs=1)]: Done  20 out of  20 | elapsed:    0.0s finished\n",
      "[Parallel(n_jobs=1)]: Done  20 out of  20 | elapsed:    0.0s finished\n",
      "[Parallel(n_jobs=1)]: Done  20 out of  20 | elapsed:    0.0s finished\n",
      "[Parallel(n_jobs=1)]: Done  20 out of  20 | elapsed:    0.0s finished\n"
     ]
    },
    {
     "name": "stdout",
     "output_type": "stream",
     "text": [
      "TESTDATA_Preload_FastRoll\n",
      "Saving Random Forest Model from rf_s0.pkl\n",
      "Saving Extra Trees Model\n",
      "Saving Random Forest Model from rf_s1.pkl\n",
      "Saving Extra Trees Model\n",
      "Saving Random Forest Model from rf_s2.pkl\n",
      "Saving Extra Trees Model\n",
      "Saving Random Forest Model from rf_s3.pkl\n",
      "Saving Extra Trees Model\n",
      "\n",
      "[ 0.  0.  1.  0.]\n"
     ]
    },
    {
     "name": "stderr",
     "output_type": "stream",
     "text": [
      "[Parallel(n_jobs=1)]: Done  20 out of  20 | elapsed:    0.0s finished\n",
      "[Parallel(n_jobs=1)]: Done  20 out of  20 | elapsed:    0.0s finished\n",
      "[Parallel(n_jobs=1)]: Done  20 out of  20 | elapsed:    0.0s finished\n",
      "[Parallel(n_jobs=1)]: Done  20 out of  20 | elapsed:    0.0s finished\n"
     ]
    },
    {
     "name": "stdout",
     "output_type": "stream",
     "text": [
      "TESTDATA_Preload_RampDown\n",
      "Saving Random Forest Model from rf_s0.pkl\n",
      "Saving Extra Trees Model\n",
      "Saving Random Forest Model from rf_s1.pkl\n",
      "Saving Extra Trees Model\n",
      "Saving Random Forest Model from rf_s2.pkl\n",
      "Saving Extra Trees Model\n",
      "Saving Random Forest Model from rf_s3.pkl\n",
      "Saving Extra Trees Model\n",
      "\n"
     ]
    },
    {
     "name": "stderr",
     "output_type": "stream",
     "text": [
      "[Parallel(n_jobs=1)]: Done  20 out of  20 | elapsed:    0.0s finished\n",
      "[Parallel(n_jobs=1)]: Done  20 out of  20 | elapsed:    0.0s finished\n",
      "[Parallel(n_jobs=1)]: Done  20 out of  20 | elapsed:    0.0s finished\n",
      "[Parallel(n_jobs=1)]: Done  20 out of  20 | elapsed:    0.0s finished\n"
     ]
    },
    {
     "name": "stdout",
     "output_type": "stream",
     "text": [
      "[ 0.   0.   0.8  0.2]\n",
      "TESTDATA_Unbalance_SlowRoll\n",
      "Saving Random Forest Model from rf_s0.pkl\n",
      "Saving Extra Trees Model\n",
      "Saving Random Forest Model from rf_s1.pkl\n",
      "Saving Extra Trees Model\n",
      "Saving Random Forest Model from rf_s2.pkl\n",
      "Saving Extra Trees Model\n",
      "Saving Random Forest Model from rf_s3.pkl\n",
      "Saving Extra Trees Model\n",
      "\n",
      "[ 0.    0.15  0.6   0.25]\n"
     ]
    },
    {
     "name": "stderr",
     "output_type": "stream",
     "text": [
      "[Parallel(n_jobs=1)]: Done  20 out of  20 | elapsed:    0.0s finished\n",
      "[Parallel(n_jobs=1)]: Done  20 out of  20 | elapsed:    0.0s finished\n",
      "[Parallel(n_jobs=1)]: Done  20 out of  20 | elapsed:    0.0s finished\n",
      "[Parallel(n_jobs=1)]: Done  20 out of  20 | elapsed:    0.0s finished\n"
     ]
    },
    {
     "name": "stdout",
     "output_type": "stream",
     "text": [
      "TESTDATA_Unbalance_RampUp\n",
      "Saving Random Forest Model from rf_s0.pkl\n",
      "Saving Extra Trees Model\n",
      "Saving Random Forest Model from rf_s1.pkl\n",
      "Saving Extra Trees Model\n",
      "Saving Random Forest Model from rf_s2.pkl\n",
      "Saving Extra Trees Model\n",
      "Saving Random Forest Model from rf_s3.pkl\n",
      "Saving Extra Trees Model\n",
      "\n",
      "[ 0.    0.05  0.4   0.55]\n"
     ]
    },
    {
     "name": "stderr",
     "output_type": "stream",
     "text": [
      "[Parallel(n_jobs=1)]: Done  20 out of  20 | elapsed:    0.0s finished\n",
      "[Parallel(n_jobs=1)]: Done  20 out of  20 | elapsed:    0.0s finished\n",
      "[Parallel(n_jobs=1)]: Done  20 out of  20 | elapsed:    0.0s finished\n",
      "[Parallel(n_jobs=1)]: Done  20 out of  20 | elapsed:    0.0s finished\n"
     ]
    },
    {
     "name": "stdout",
     "output_type": "stream",
     "text": [
      "TESTDATA_Unbalance_FastRoll\n",
      "Saving Random Forest Model from rf_s0.pkl\n",
      "Saving Extra Trees Model\n",
      "Saving Random Forest Model from rf_s1.pkl\n",
      "Saving Extra Trees Model\n",
      "Saving Random Forest Model from rf_s2.pkl\n",
      "Saving Extra Trees Model\n",
      "Saving Random Forest Model from rf_s3.pkl\n",
      "Saving Extra Trees Model\n",
      "\n"
     ]
    },
    {
     "name": "stderr",
     "output_type": "stream",
     "text": [
      "[Parallel(n_jobs=1)]: Done  20 out of  20 | elapsed:    0.0s finished\n",
      "[Parallel(n_jobs=1)]: Done  20 out of  20 | elapsed:    0.0s finished\n",
      "[Parallel(n_jobs=1)]: Done  20 out of  20 | elapsed:    0.0s finished\n",
      "[Parallel(n_jobs=1)]: Done  20 out of  20 | elapsed:    0.0s finished\n"
     ]
    },
    {
     "name": "stdout",
     "output_type": "stream",
     "text": [
      "[ 0.    0.75  0.    0.25]\n",
      "TESTDATA_Unbalance_RampDown\n",
      "Saving Random Forest Model from rf_s0.pkl\n",
      "Saving Extra Trees Model\n",
      "Saving Random Forest Model from rf_s1.pkl\n",
      "Saving Extra Trees Model\n",
      "Saving Random Forest Model from rf_s2.pkl\n",
      "Saving Extra Trees Model\n",
      "Saving Random Forest Model from rf_s3.pkl\n",
      "Saving Extra Trees Model\n",
      "\n"
     ]
    },
    {
     "name": "stderr",
     "output_type": "stream",
     "text": [
      "[Parallel(n_jobs=1)]: Done  20 out of  20 | elapsed:    0.0s finished\n",
      "[Parallel(n_jobs=1)]: Done  20 out of  20 | elapsed:    0.0s finished\n",
      "[Parallel(n_jobs=1)]: Done  20 out of  20 | elapsed:    0.0s finished\n",
      "[Parallel(n_jobs=1)]: Done  20 out of  20 | elapsed:    0.0s finished\n"
     ]
    },
    {
     "name": "stdout",
     "output_type": "stream",
     "text": [
      "[ 0.   0.   0.5  0.5]\n",
      "TESTDATA_Normal_SlowRoll\n",
      "Saving Random Forest Model from rf_s0.pkl\n",
      "Saving Extra Trees Model\n",
      "Saving Random Forest Model from rf_s1.pkl\n",
      "Saving Extra Trees Model\n",
      "Saving Random Forest Model from rf_s2.pkl\n",
      "Saving Extra Trees Model\n",
      "Saving Random Forest Model from rf_s3.pkl\n",
      "Saving Extra Trees Model\n",
      "\n",
      "[ 0.    0.05  0.5   0.45]\n"
     ]
    },
    {
     "name": "stderr",
     "output_type": "stream",
     "text": [
      "[Parallel(n_jobs=1)]: Done  20 out of  20 | elapsed:    0.0s finished\n",
      "[Parallel(n_jobs=1)]: Done  20 out of  20 | elapsed:    0.0s finished\n",
      "[Parallel(n_jobs=1)]: Done  20 out of  20 | elapsed:    0.0s finished\n",
      "[Parallel(n_jobs=1)]: Done  20 out of  20 | elapsed:    0.0s finished\n"
     ]
    },
    {
     "name": "stdout",
     "output_type": "stream",
     "text": [
      "TESTDATA_Normal_RampUp\n",
      "Saving Random Forest Model from rf_s0.pkl\n",
      "Saving Extra Trees Model\n",
      "Saving Random Forest Model from rf_s1.pkl\n",
      "Saving Extra Trees Model\n",
      "Saving Random Forest Model from rf_s2.pkl\n",
      "Saving Extra Trees Model\n",
      "Saving Random Forest Model from rf_s3.pkl\n",
      "Saving Extra Trees Model\n"
     ]
    },
    {
     "name": "stderr",
     "output_type": "stream",
     "text": [
      "[Parallel(n_jobs=1)]: Done  20 out of  20 | elapsed:    0.0s finished\n",
      "[Parallel(n_jobs=1)]: Done  20 out of  20 | elapsed:    0.0s finished\n",
      "[Parallel(n_jobs=1)]: Done  20 out of  20 | elapsed:    0.0s finished\n",
      "[Parallel(n_jobs=1)]: Done  20 out of  20 | elapsed:    0.0s finished\n"
     ]
    },
    {
     "name": "stdout",
     "output_type": "stream",
     "text": [
      "\n",
      "[ 0.   0.   0.5  0.5]\n",
      "TESTDATA_Normal_FastRoll\n",
      "Saving Random Forest Model from rf_s0.pkl\n",
      "Saving Extra Trees Model\n",
      "Saving Random Forest Model from rf_s1.pkl\n",
      "Saving Extra Trees Model\n",
      "Saving Random Forest Model from rf_s2.pkl\n",
      "Saving Extra Trees Model\n",
      "Saving Random Forest Model from rf_s3.pkl\n",
      "Saving Extra Trees Model\n",
      "\n",
      "[ 1.  0.  0.  0.]\n"
     ]
    },
    {
     "name": "stderr",
     "output_type": "stream",
     "text": [
      "[Parallel(n_jobs=1)]: Done  20 out of  20 | elapsed:    0.0s finished\n",
      "[Parallel(n_jobs=1)]: Done  20 out of  20 | elapsed:    0.0s finished\n",
      "[Parallel(n_jobs=1)]: Done  20 out of  20 | elapsed:    0.0s finished\n",
      "[Parallel(n_jobs=1)]: Done  20 out of  20 | elapsed:    0.0s finished\n"
     ]
    },
    {
     "name": "stdout",
     "output_type": "stream",
     "text": [
      "TESTDATA_Normal_RampDown\n",
      "Saving Random Forest Model from rf_s0.pkl\n",
      "Saving Extra Trees Model\n",
      "Saving Random Forest Model from rf_s1.pkl\n",
      "Saving Extra Trees Model\n",
      "Saving Random Forest Model from rf_s2.pkl\n",
      "Saving Extra Trees Model\n",
      "Saving Random Forest Model from rf_s3.pkl\n",
      "Saving Extra Trees Model\n",
      "\n"
     ]
    },
    {
     "name": "stderr",
     "output_type": "stream",
     "text": [
      "[Parallel(n_jobs=1)]: Done  20 out of  20 | elapsed:    0.0s finished\n",
      "[Parallel(n_jobs=1)]: Done  20 out of  20 | elapsed:    0.0s finished\n",
      "[Parallel(n_jobs=1)]: Done  20 out of  20 | elapsed:    0.0s finished\n",
      "[Parallel(n_jobs=1)]: Done  20 out of  20 | elapsed:    0.0s finished\n"
     ]
    },
    {
     "name": "stdout",
     "output_type": "stream",
     "text": [
      "[ 0.    0.    0.45  0.55]\n",
      "TESTDATA_BearingRub_SlowRoll\n",
      "Saving Random Forest Model from rf_s0.pkl\n",
      "Saving Extra Trees Model\n",
      "Saving Random Forest Model from rf_s1.pkl\n",
      "Saving Extra Trees Model\n",
      "Saving Random Forest Model from rf_s2.pkl\n",
      "Saving Extra Trees Model\n",
      "Saving Random Forest Model from rf_s3.pkl\n",
      "Saving Extra Trees Model\n",
      "\n",
      "[ 0.    0.    0.45  0.55]\n"
     ]
    },
    {
     "name": "stderr",
     "output_type": "stream",
     "text": [
      "[Parallel(n_jobs=1)]: Done  20 out of  20 | elapsed:    0.0s finished\n",
      "[Parallel(n_jobs=1)]: Done  20 out of  20 | elapsed:    0.0s finished\n",
      "[Parallel(n_jobs=1)]: Done  20 out of  20 | elapsed:    0.0s finished\n",
      "[Parallel(n_jobs=1)]: Done  20 out of  20 | elapsed:    0.0s finished\n"
     ]
    },
    {
     "name": "stdout",
     "output_type": "stream",
     "text": [
      "TESTDATA_BearingRub_RampUp\n",
      "Saving Random Forest Model from rf_s0.pkl\n",
      "Saving Extra Trees Model\n",
      "Saving Random Forest Model from rf_s1.pkl\n",
      "Saving Extra Trees Model\n",
      "Saving Random Forest Model from rf_s2.pkl\n",
      "Saving Extra Trees Model\n",
      "Saving Random Forest Model from rf_s3.pkl\n",
      "Saving Extra Trees Model\n"
     ]
    },
    {
     "name": "stderr",
     "output_type": "stream",
     "text": [
      "[Parallel(n_jobs=1)]: Done  20 out of  20 | elapsed:    0.0s finished\n",
      "[Parallel(n_jobs=1)]: Done  20 out of  20 | elapsed:    0.0s finished\n",
      "[Parallel(n_jobs=1)]: Done  20 out of  20 | elapsed:    0.0s finished\n",
      "[Parallel(n_jobs=1)]: Done  20 out of  20 | elapsed:    0.0s finished\n"
     ]
    },
    {
     "name": "stdout",
     "output_type": "stream",
     "text": [
      "\n",
      "[ 0.   0.   0.5  0.5]\n",
      "TESTDATA_BearingRub_FastRoll\n",
      "Saving Random Forest Model from rf_s0.pkl\n",
      "Saving Extra Trees Model\n",
      "Saving Random Forest Model from rf_s1.pkl\n",
      "Saving Extra Trees Model\n",
      "Saving Random Forest Model from rf_s2.pkl\n",
      "Saving Extra Trees Model\n",
      "Saving Random Forest Model from rf_s3.pkl\n",
      "Saving Extra Trees Model\n",
      "\n"
     ]
    },
    {
     "name": "stderr",
     "output_type": "stream",
     "text": [
      "[Parallel(n_jobs=1)]: Done  20 out of  20 | elapsed:    0.0s finished\n",
      "[Parallel(n_jobs=1)]: Done  20 out of  20 | elapsed:    0.0s finished\n",
      "[Parallel(n_jobs=1)]: Done  20 out of  20 | elapsed:    0.0s finished\n",
      "[Parallel(n_jobs=1)]: Done  20 out of  20 | elapsed:    0.0s finished\n"
     ]
    },
    {
     "name": "stdout",
     "output_type": "stream",
     "text": [
      "[ 0.  0.  0.  1.]\n",
      "TESTDATA_BearingRub_RampDown\n",
      "Saving Random Forest Model from rf_s0.pkl\n",
      "Saving Extra Trees Model\n",
      "Saving Random Forest Model from rf_s1.pkl\n",
      "Saving Extra Trees Model\n",
      "Saving Random Forest Model from rf_s2.pkl\n",
      "Saving Extra Trees Model\n",
      "Saving Random Forest Model from rf_s3.pkl\n",
      "Saving Extra Trees Model\n"
     ]
    },
    {
     "name": "stderr",
     "output_type": "stream",
     "text": [
      "[Parallel(n_jobs=1)]: Done  20 out of  20 | elapsed:    0.0s finished\n",
      "[Parallel(n_jobs=1)]: Done  20 out of  20 | elapsed:    0.0s finished\n",
      "[Parallel(n_jobs=1)]: Done  20 out of  20 | elapsed:    0.0s finished\n",
      "[Parallel(n_jobs=1)]: Done  20 out of  20 | elapsed:    0.0s finished\n"
     ]
    },
    {
     "name": "stdout",
     "output_type": "stream",
     "text": [
      "\n",
      "[ 0.    0.05  0.35  0.6 ]\n",
      "TESTDATA_Preload_SlowRoll\n",
      "Saving Random Forest Model from rf_s0.pkl\n",
      "Saving Extra Trees Model\n",
      "Saving Random Forest Model from rf_s1.pkl\n",
      "Saving Extra Trees Model\n",
      "Saving Random Forest Model from rf_s2.pkl\n",
      "Saving Extra Trees Model\n",
      "Saving Random Forest Model from rf_s3.pkl\n",
      "Saving Extra Trees Model\n",
      "\n",
      "[ 0.   0.   0.9  0.1]\n"
     ]
    },
    {
     "name": "stderr",
     "output_type": "stream",
     "text": [
      "[Parallel(n_jobs=1)]: Done  20 out of  20 | elapsed:    0.0s finished\n",
      "[Parallel(n_jobs=1)]: Done  20 out of  20 | elapsed:    0.0s finished\n",
      "[Parallel(n_jobs=1)]: Done  20 out of  20 | elapsed:    0.0s finished\n",
      "[Parallel(n_jobs=1)]: Done  20 out of  20 | elapsed:    0.0s finished\n"
     ]
    },
    {
     "name": "stdout",
     "output_type": "stream",
     "text": [
      "TESTDATA_Preload_RampUp\n",
      "Saving Random Forest Model from rf_s0.pkl\n",
      "Saving Extra Trees Model\n",
      "Saving Random Forest Model from rf_s1.pkl\n",
      "Saving Extra Trees Model\n",
      "Saving Random Forest Model from rf_s2.pkl\n",
      "Saving Extra Trees Model\n",
      "Saving Random Forest Model from rf_s3.pkl\n",
      "Saving Extra Trees Model\n",
      "\n",
      "[ 0.   0.   0.7  0.3]\n"
     ]
    },
    {
     "name": "stderr",
     "output_type": "stream",
     "text": [
      "[Parallel(n_jobs=1)]: Done  20 out of  20 | elapsed:    0.0s finished\n",
      "[Parallel(n_jobs=1)]: Done  20 out of  20 | elapsed:    0.0s finished\n",
      "[Parallel(n_jobs=1)]: Done  20 out of  20 | elapsed:    0.0s finished\n",
      "[Parallel(n_jobs=1)]: Done  20 out of  20 | elapsed:    0.0s finished\n"
     ]
    },
    {
     "name": "stdout",
     "output_type": "stream",
     "text": [
      "TESTDATA_Preload_FastRoll\n",
      "Saving Random Forest Model from rf_s0.pkl\n",
      "Saving Extra Trees Model\n",
      "Saving Random Forest Model from rf_s1.pkl\n",
      "Saving Extra Trees Model\n",
      "Saving Random Forest Model from rf_s2.pkl\n",
      "Saving Extra Trees Model\n",
      "Saving Random Forest Model from rf_s3.pkl\n",
      "Saving Extra Trees Model\n",
      "\n",
      "[ 0.  0.  1.  0.]\n"
     ]
    },
    {
     "name": "stderr",
     "output_type": "stream",
     "text": [
      "[Parallel(n_jobs=1)]: Done  20 out of  20 | elapsed:    0.0s finished\n",
      "[Parallel(n_jobs=1)]: Done  20 out of  20 | elapsed:    0.0s finished\n",
      "[Parallel(n_jobs=1)]: Done  20 out of  20 | elapsed:    0.0s finished\n",
      "[Parallel(n_jobs=1)]: Done  20 out of  20 | elapsed:    0.0s finished\n"
     ]
    },
    {
     "name": "stdout",
     "output_type": "stream",
     "text": [
      "TESTDATA_Preload_RampDown\n",
      "Saving Random Forest Model from rf_s0.pkl\n",
      "Saving Extra Trees Model\n",
      "Saving Random Forest Model from rf_s1.pkl\n",
      "Saving Extra Trees Model\n",
      "Saving Random Forest Model from rf_s2.pkl\n",
      "Saving Extra Trees Model\n",
      "Saving Random Forest Model from rf_s3.pkl\n",
      "Saving Extra Trees Model\n",
      "\n"
     ]
    },
    {
     "name": "stderr",
     "output_type": "stream",
     "text": [
      "[Parallel(n_jobs=1)]: Done  20 out of  20 | elapsed:    0.0s finished\n",
      "[Parallel(n_jobs=1)]: Done  20 out of  20 | elapsed:    0.0s finished\n",
      "[Parallel(n_jobs=1)]: Done  20 out of  20 | elapsed:    0.0s finished\n",
      "[Parallel(n_jobs=1)]: Done  20 out of  20 | elapsed:    0.0s finished\n"
     ]
    },
    {
     "name": "stdout",
     "output_type": "stream",
     "text": [
      "[ 0.   0.   0.8  0.2]\n",
      "TESTDATA_Unbalance_SlowRoll\n",
      "Saving Random Forest Model from rf_s0.pkl\n",
      "Saving Extra Trees Model\n",
      "Saving Random Forest Model from rf_s1.pkl\n",
      "Saving Extra Trees Model\n",
      "Saving Random Forest Model from rf_s2.pkl\n",
      "Saving Extra Trees Model\n",
      "Saving Random Forest Model from rf_s3.pkl\n",
      "Saving Extra Trees Model\n",
      "\n",
      "[ 0.    0.15  0.6   0.25]\n"
     ]
    },
    {
     "name": "stderr",
     "output_type": "stream",
     "text": [
      "[Parallel(n_jobs=1)]: Done  20 out of  20 | elapsed:    0.0s finished\n",
      "[Parallel(n_jobs=1)]: Done  20 out of  20 | elapsed:    0.0s finished\n",
      "[Parallel(n_jobs=1)]: Done  20 out of  20 | elapsed:    0.0s finished\n",
      "[Parallel(n_jobs=1)]: Done  20 out of  20 | elapsed:    0.0s finished\n"
     ]
    },
    {
     "name": "stdout",
     "output_type": "stream",
     "text": [
      "TESTDATA_Unbalance_RampUp\n",
      "Saving Random Forest Model from rf_s0.pkl\n",
      "Saving Extra Trees Model\n",
      "Saving Random Forest Model from rf_s1.pkl\n",
      "Saving Extra Trees Model\n",
      "Saving Random Forest Model from rf_s2.pkl\n",
      "Saving Extra Trees Model\n",
      "Saving Random Forest Model from rf_s3.pkl\n",
      "Saving Extra Trees Model\n",
      "\n"
     ]
    },
    {
     "name": "stderr",
     "output_type": "stream",
     "text": [
      "[Parallel(n_jobs=1)]: Done  20 out of  20 | elapsed:    0.0s finished\n",
      "[Parallel(n_jobs=1)]: Done  20 out of  20 | elapsed:    0.0s finished\n",
      "[Parallel(n_jobs=1)]: Done  20 out of  20 | elapsed:    0.0s finished\n",
      "[Parallel(n_jobs=1)]: Done  20 out of  20 | elapsed:    0.0s finished\n"
     ]
    },
    {
     "name": "stdout",
     "output_type": "stream",
     "text": [
      "[ 0.    0.05  0.4   0.55]\n",
      "TESTDATA_Unbalance_FastRoll\n",
      "Saving Random Forest Model from rf_s0.pkl\n",
      "Saving Extra Trees Model\n",
      "Saving Random Forest Model from rf_s1.pkl\n",
      "Saving Extra Trees Model\n",
      "Saving Random Forest Model from rf_s2.pkl\n",
      "Saving Extra Trees Model\n",
      "Saving Random Forest Model from rf_s3.pkl\n",
      "Saving Extra Trees Model\n",
      "\n",
      "[ 0.    0.75  0.    0.25]\n"
     ]
    },
    {
     "name": "stderr",
     "output_type": "stream",
     "text": [
      "[Parallel(n_jobs=1)]: Done  20 out of  20 | elapsed:    0.0s finished\n",
      "[Parallel(n_jobs=1)]: Done  20 out of  20 | elapsed:    0.0s finished\n",
      "[Parallel(n_jobs=1)]: Done  20 out of  20 | elapsed:    0.0s finished\n",
      "[Parallel(n_jobs=1)]: Done  20 out of  20 | elapsed:    0.0s finished\n"
     ]
    },
    {
     "name": "stdout",
     "output_type": "stream",
     "text": [
      "TESTDATA_Unbalance_RampDown\n",
      "Saving Random Forest Model from rf_s0.pkl\n",
      "Saving Extra Trees Model\n",
      "Saving Random Forest Model from rf_s1.pkl\n",
      "Saving Extra Trees Model\n",
      "Saving Random Forest Model from rf_s2.pkl\n",
      "Saving Extra Trees Model\n",
      "Saving Random Forest Model from rf_s3.pkl\n",
      "Saving Extra Trees Model\n",
      "\n"
     ]
    },
    {
     "name": "stderr",
     "output_type": "stream",
     "text": [
      "[Parallel(n_jobs=1)]: Done  20 out of  20 | elapsed:    0.0s finished\n",
      "[Parallel(n_jobs=1)]: Done  20 out of  20 | elapsed:    0.0s finished\n",
      "[Parallel(n_jobs=1)]: Done  20 out of  20 | elapsed:    0.0s finished\n",
      "[Parallel(n_jobs=1)]: Done  20 out of  20 | elapsed:    0.0s finished\n"
     ]
    },
    {
     "name": "stdout",
     "output_type": "stream",
     "text": [
      "[ 0.   0.   0.5  0.5]\n",
      "TESTDATA_Normal_SlowRoll\n",
      "Saving Random Forest Model from rf_s0.pkl\n",
      "Saving Extra Trees Model\n",
      "Saving Random Forest Model from rf_s1.pkl\n",
      "Saving Extra Trees Model\n",
      "Saving Random Forest Model from rf_s2.pkl\n",
      "Saving Extra Trees Model\n",
      "Saving Random Forest Model from rf_s3.pkl\n",
      "Saving Extra Trees Model\n",
      "\n"
     ]
    },
    {
     "name": "stderr",
     "output_type": "stream",
     "text": [
      "[Parallel(n_jobs=1)]: Done  20 out of  20 | elapsed:    0.0s finished\n",
      "[Parallel(n_jobs=1)]: Done  20 out of  20 | elapsed:    0.0s finished\n",
      "[Parallel(n_jobs=1)]: Done  20 out of  20 | elapsed:    0.0s finished\n",
      "[Parallel(n_jobs=1)]: Done  20 out of  20 | elapsed:    0.0s finished\n"
     ]
    },
    {
     "name": "stdout",
     "output_type": "stream",
     "text": [
      "[ 0.    0.05  0.5   0.45]\n",
      "TESTDATA_Normal_RampUp\n",
      "Saving Random Forest Model from rf_s0.pkl\n",
      "Saving Extra Trees Model\n",
      "Saving Random Forest Model from rf_s1.pkl\n",
      "Saving Extra Trees Model\n",
      "Saving Random Forest Model from rf_s2.pkl\n",
      "Saving Extra Trees Model\n",
      "Saving Random Forest Model from rf_s3.pkl\n",
      "Saving Extra Trees Model\n",
      "\n"
     ]
    },
    {
     "name": "stderr",
     "output_type": "stream",
     "text": [
      "[Parallel(n_jobs=1)]: Done  20 out of  20 | elapsed:    0.0s finished\n",
      "[Parallel(n_jobs=1)]: Done  20 out of  20 | elapsed:    0.0s finished\n",
      "[Parallel(n_jobs=1)]: Done  20 out of  20 | elapsed:    0.0s finished\n",
      "[Parallel(n_jobs=1)]: Done  20 out of  20 | elapsed:    0.0s finished\n"
     ]
    },
    {
     "name": "stdout",
     "output_type": "stream",
     "text": [
      "[ 0.   0.   0.5  0.5]\n",
      "TESTDATA_Normal_FastRoll\n",
      "Saving Random Forest Model from rf_s0.pkl\n",
      "Saving Extra Trees Model\n",
      "Saving Random Forest Model from rf_s1.pkl\n",
      "Saving Extra Trees Model\n",
      "Saving Random Forest Model from rf_s2.pkl\n",
      "Saving Extra Trees Model\n",
      "Saving Random Forest Model from rf_s3.pkl\n",
      "Saving Extra Trees Model\n",
      "\n",
      "[ 1.  0.  0.  0.]\n"
     ]
    },
    {
     "name": "stderr",
     "output_type": "stream",
     "text": [
      "[Parallel(n_jobs=1)]: Done  20 out of  20 | elapsed:    0.0s finished\n",
      "[Parallel(n_jobs=1)]: Done  20 out of  20 | elapsed:    0.0s finished\n",
      "[Parallel(n_jobs=1)]: Done  20 out of  20 | elapsed:    0.0s finished\n",
      "[Parallel(n_jobs=1)]: Done  20 out of  20 | elapsed:    0.0s finished\n"
     ]
    },
    {
     "name": "stdout",
     "output_type": "stream",
     "text": [
      "TESTDATA_Normal_RampDown\n",
      "Saving Random Forest Model from rf_s0.pkl\n",
      "Saving Extra Trees Model\n",
      "Saving Random Forest Model from rf_s1.pkl\n",
      "Saving Extra Trees Model\n",
      "Saving Random Forest Model from rf_s2.pkl\n",
      "Saving Extra Trees Model\n",
      "Saving Random Forest Model from rf_s3.pkl\n",
      "Saving Extra Trees Model\n",
      "\n",
      "[ 0.    0.    0.45  0.55]\n"
     ]
    },
    {
     "name": "stderr",
     "output_type": "stream",
     "text": [
      "[Parallel(n_jobs=1)]: Done  20 out of  20 | elapsed:    0.0s finished\n",
      "[Parallel(n_jobs=1)]: Done  20 out of  20 | elapsed:    0.0s finished\n",
      "[Parallel(n_jobs=1)]: Done  20 out of  20 | elapsed:    0.0s finished\n",
      "[Parallel(n_jobs=1)]: Done  20 out of  20 | elapsed:    0.0s finished\n"
     ]
    },
    {
     "name": "stdout",
     "output_type": "stream",
     "text": [
      "TESTDATA_BearingRub_SlowRoll\n",
      "Saving Random Forest Model from rf_s0.pkl\n",
      "Saving Extra Trees Model\n",
      "Saving Random Forest Model from rf_s1.pkl\n",
      "Saving Extra Trees Model\n",
      "Saving Random Forest Model from rf_s2.pkl\n",
      "Saving Extra Trees Model\n",
      "Saving Random Forest Model from rf_s3.pkl\n",
      "Saving Extra Trees Model\n",
      "\n",
      "[ 0.    0.    0.45  0.55]\n"
     ]
    },
    {
     "name": "stderr",
     "output_type": "stream",
     "text": [
      "[Parallel(n_jobs=1)]: Done  20 out of  20 | elapsed:    0.0s finished\n",
      "[Parallel(n_jobs=1)]: Done  20 out of  20 | elapsed:    0.0s finished\n",
      "[Parallel(n_jobs=1)]: Done  20 out of  20 | elapsed:    0.0s finished\n",
      "[Parallel(n_jobs=1)]: Done  20 out of  20 | elapsed:    0.0s finished\n"
     ]
    },
    {
     "name": "stdout",
     "output_type": "stream",
     "text": [
      "TESTDATA_BearingRub_RampUp\n",
      "Saving Random Forest Model from rf_s0.pkl\n",
      "Saving Extra Trees Model\n",
      "Saving Random Forest Model from rf_s1.pkl\n",
      "Saving Extra Trees Model\n",
      "Saving Random Forest Model from rf_s2.pkl\n",
      "Saving Extra Trees Model\n",
      "Saving Random Forest Model from rf_s3.pkl\n",
      "Saving Extra Trees Model\n",
      "\n"
     ]
    },
    {
     "name": "stderr",
     "output_type": "stream",
     "text": [
      "[Parallel(n_jobs=1)]: Done  20 out of  20 | elapsed:    0.0s finished\n",
      "[Parallel(n_jobs=1)]: Done  20 out of  20 | elapsed:    0.0s finished\n",
      "[Parallel(n_jobs=1)]: Done  20 out of  20 | elapsed:    0.0s finished\n",
      "[Parallel(n_jobs=1)]: Done  20 out of  20 | elapsed:    0.0s finished\n"
     ]
    },
    {
     "name": "stdout",
     "output_type": "stream",
     "text": [
      "[ 0.   0.   0.5  0.5]\n",
      "TESTDATA_BearingRub_FastRoll\n",
      "Saving Random Forest Model from rf_s0.pkl\n",
      "Saving Extra Trees Model\n",
      "Saving Random Forest Model from rf_s1.pkl\n",
      "Saving Extra Trees Model\n",
      "Saving Random Forest Model from rf_s2.pkl\n",
      "Saving Extra Trees Model\n",
      "Saving Random Forest Model from rf_s3.pkl\n",
      "Saving Extra Trees Model\n",
      "\n",
      "[ 0.  0.  0.  1.]\n"
     ]
    },
    {
     "name": "stderr",
     "output_type": "stream",
     "text": [
      "[Parallel(n_jobs=1)]: Done  20 out of  20 | elapsed:    0.0s finished\n",
      "[Parallel(n_jobs=1)]: Done  20 out of  20 | elapsed:    0.0s finished\n",
      "[Parallel(n_jobs=1)]: Done  20 out of  20 | elapsed:    0.0s finished\n",
      "[Parallel(n_jobs=1)]: Done  20 out of  20 | elapsed:    0.0s finished\n"
     ]
    },
    {
     "name": "stdout",
     "output_type": "stream",
     "text": [
      "TESTDATA_BearingRub_RampDown\n",
      "Saving Random Forest Model from rf_s0.pkl\n",
      "Saving Extra Trees Model\n",
      "Saving Random Forest Model from rf_s1.pkl\n",
      "Saving Extra Trees Model\n",
      "Saving Random Forest Model from rf_s2.pkl\n",
      "Saving Extra Trees Model\n",
      "Saving Random Forest Model from rf_s3.pkl\n",
      "Saving Extra Trees Model\n",
      "\n"
     ]
    },
    {
     "name": "stderr",
     "output_type": "stream",
     "text": [
      "[Parallel(n_jobs=1)]: Done  20 out of  20 | elapsed:    0.0s finished\n",
      "[Parallel(n_jobs=1)]: Done  20 out of  20 | elapsed:    0.0s finished\n",
      "[Parallel(n_jobs=1)]: Done  20 out of  20 | elapsed:    0.0s finished\n",
      "[Parallel(n_jobs=1)]: Done  20 out of  20 | elapsed:    0.0s finished\n"
     ]
    },
    {
     "name": "stdout",
     "output_type": "stream",
     "text": [
      "[ 0.    0.05  0.35  0.6 ]\n",
      "TESTDATA_Preload_SlowRoll\n",
      "Saving Random Forest Model from rf_s0.pkl\n",
      "Saving Extra Trees Model\n",
      "Saving Random Forest Model from rf_s1.pkl\n",
      "Saving Extra Trees Model\n",
      "Saving Random Forest Model from rf_s2.pkl\n",
      "Saving Extra Trees Model\n",
      "Saving Random Forest Model from rf_s3.pkl\n",
      "Saving Extra Trees Model\n",
      "\n",
      "[ 0.   0.   0.9  0.1]\n"
     ]
    },
    {
     "name": "stderr",
     "output_type": "stream",
     "text": [
      "[Parallel(n_jobs=1)]: Done  20 out of  20 | elapsed:    0.0s finished\n",
      "[Parallel(n_jobs=1)]: Done  20 out of  20 | elapsed:    0.0s finished\n",
      "[Parallel(n_jobs=1)]: Done  20 out of  20 | elapsed:    0.0s finished\n",
      "[Parallel(n_jobs=1)]: Done  20 out of  20 | elapsed:    0.0s finished\n"
     ]
    },
    {
     "name": "stdout",
     "output_type": "stream",
     "text": [
      "TESTDATA_Preload_RampUp\n",
      "Saving Random Forest Model from rf_s0.pkl\n",
      "Saving Extra Trees Model\n",
      "Saving Random Forest Model from rf_s1.pkl\n",
      "Saving Extra Trees Model\n",
      "Saving Random Forest Model from rf_s2.pkl\n",
      "Saving Extra Trees Model\n",
      "Saving Random Forest Model from rf_s3.pkl\n",
      "Saving Extra Trees Model\n",
      "\n"
     ]
    },
    {
     "name": "stderr",
     "output_type": "stream",
     "text": [
      "[Parallel(n_jobs=1)]: Done  20 out of  20 | elapsed:    0.0s finished\n",
      "[Parallel(n_jobs=1)]: Done  20 out of  20 | elapsed:    0.0s finished\n",
      "[Parallel(n_jobs=1)]: Done  20 out of  20 | elapsed:    0.0s finished\n",
      "[Parallel(n_jobs=1)]: Done  20 out of  20 | elapsed:    0.0s finished\n"
     ]
    },
    {
     "name": "stdout",
     "output_type": "stream",
     "text": [
      "[ 0.   0.   0.7  0.3]\n",
      "TESTDATA_Preload_FastRoll\n",
      "Saving Random Forest Model from rf_s0.pkl\n",
      "Saving Extra Trees Model\n",
      "Saving Random Forest Model from rf_s1.pkl\n",
      "Saving Extra Trees Model\n",
      "Saving Random Forest Model from rf_s2.pkl\n",
      "Saving Extra Trees Model\n",
      "Saving Random Forest Model from rf_s3.pkl\n",
      "Saving Extra Trees Model\n",
      "\n"
     ]
    },
    {
     "name": "stderr",
     "output_type": "stream",
     "text": [
      "[Parallel(n_jobs=1)]: Done  20 out of  20 | elapsed:    0.0s finished\n",
      "[Parallel(n_jobs=1)]: Done  20 out of  20 | elapsed:    0.0s finished\n",
      "[Parallel(n_jobs=1)]: Done  20 out of  20 | elapsed:    0.0s finished\n",
      "[Parallel(n_jobs=1)]: Done  20 out of  20 | elapsed:    0.0s finished\n"
     ]
    },
    {
     "name": "stdout",
     "output_type": "stream",
     "text": [
      "[ 0.  0.  1.  0.]\n",
      "TESTDATA_Preload_RampDown\n",
      "Saving Random Forest Model from rf_s0.pkl\n",
      "Saving Extra Trees Model\n",
      "Saving Random Forest Model from rf_s1.pkl\n",
      "Saving Extra Trees Model\n",
      "Saving Random Forest Model from rf_s2.pkl\n",
      "Saving Extra Trees Model\n",
      "Saving Random Forest Model from rf_s3.pkl\n",
      "Saving Extra Trees Model\n",
      "\n"
     ]
    },
    {
     "name": "stderr",
     "output_type": "stream",
     "text": [
      "[Parallel(n_jobs=1)]: Done  20 out of  20 | elapsed:    0.0s finished\n",
      "[Parallel(n_jobs=1)]: Done  20 out of  20 | elapsed:    0.0s finished\n",
      "[Parallel(n_jobs=1)]: Done  20 out of  20 | elapsed:    0.0s finished\n",
      "[Parallel(n_jobs=1)]: Done  20 out of  20 | elapsed:    0.0s finished\n"
     ]
    },
    {
     "name": "stdout",
     "output_type": "stream",
     "text": [
      "[ 0.   0.   0.8  0.2]\n",
      "TESTDATA_Unbalance_SlowRoll\n",
      "Saving Random Forest Model from rf_s0.pkl\n",
      "Saving Extra Trees Model\n",
      "Saving Random Forest Model from rf_s1.pkl\n",
      "Saving Extra Trees Model\n",
      "Saving Random Forest Model from rf_s2.pkl\n",
      "Saving Extra Trees Model\n",
      "Saving Random Forest Model from rf_s3.pkl\n",
      "Saving Extra Trees Model\n",
      "\n",
      "[ 0.    0.15  0.6   0.25]\n"
     ]
    },
    {
     "name": "stderr",
     "output_type": "stream",
     "text": [
      "[Parallel(n_jobs=1)]: Done  20 out of  20 | elapsed:    0.0s finished\n",
      "[Parallel(n_jobs=1)]: Done  20 out of  20 | elapsed:    0.0s finished\n",
      "[Parallel(n_jobs=1)]: Done  20 out of  20 | elapsed:    0.0s finished\n",
      "[Parallel(n_jobs=1)]: Done  20 out of  20 | elapsed:    0.0s finished\n"
     ]
    },
    {
     "name": "stdout",
     "output_type": "stream",
     "text": [
      "TESTDATA_Unbalance_RampUp\n",
      "Saving Random Forest Model from rf_s0.pkl\n",
      "Saving Extra Trees Model\n",
      "Saving Random Forest Model from rf_s1.pkl\n",
      "Saving Extra Trees Model\n",
      "Saving Random Forest Model from rf_s2.pkl\n",
      "Saving Extra Trees Model\n",
      "Saving Random Forest Model from rf_s3.pkl\n",
      "Saving Extra Trees Model\n",
      "\n",
      "[ 0.    0.05  0.4   0.55]\n"
     ]
    },
    {
     "name": "stderr",
     "output_type": "stream",
     "text": [
      "[Parallel(n_jobs=1)]: Done  20 out of  20 | elapsed:    0.0s finished\n",
      "[Parallel(n_jobs=1)]: Done  20 out of  20 | elapsed:    0.0s finished\n",
      "[Parallel(n_jobs=1)]: Done  20 out of  20 | elapsed:    0.0s finished\n",
      "[Parallel(n_jobs=1)]: Done  20 out of  20 | elapsed:    0.0s finished\n"
     ]
    },
    {
     "name": "stdout",
     "output_type": "stream",
     "text": [
      "TESTDATA_Unbalance_FastRoll\n",
      "Saving Random Forest Model from rf_s0.pkl\n",
      "Saving Extra Trees Model\n",
      "Saving Random Forest Model from rf_s1.pkl\n",
      "Saving Extra Trees Model\n",
      "Saving Random Forest Model from rf_s2.pkl\n",
      "Saving Extra Trees Model\n",
      "Saving Random Forest Model from rf_s3.pkl\n",
      "Saving Extra Trees Model\n",
      "\n"
     ]
    },
    {
     "name": "stderr",
     "output_type": "stream",
     "text": [
      "[Parallel(n_jobs=1)]: Done  20 out of  20 | elapsed:    0.0s finished\n",
      "[Parallel(n_jobs=1)]: Done  20 out of  20 | elapsed:    0.0s finished\n",
      "[Parallel(n_jobs=1)]: Done  20 out of  20 | elapsed:    0.0s finished\n",
      "[Parallel(n_jobs=1)]: Done  20 out of  20 | elapsed:    0.0s finished\n"
     ]
    },
    {
     "name": "stdout",
     "output_type": "stream",
     "text": [
      "[ 0.    0.75  0.    0.25]\n",
      "TESTDATA_Unbalance_RampDown\n",
      "Saving Random Forest Model from rf_s0.pkl\n",
      "Saving Extra Trees Model\n",
      "Saving Random Forest Model from rf_s1.pkl\n",
      "Saving Extra Trees Model\n",
      "Saving Random Forest Model from rf_s2.pkl\n",
      "Saving Extra Trees Model\n",
      "Saving Random Forest Model from rf_s3.pkl\n",
      "Saving Extra Trees Model\n",
      "\n",
      "[ 0.   0.   0.5  0.5]\n"
     ]
    },
    {
     "name": "stderr",
     "output_type": "stream",
     "text": [
      "[Parallel(n_jobs=1)]: Done  20 out of  20 | elapsed:    0.0s finished\n",
      "[Parallel(n_jobs=1)]: Done  20 out of  20 | elapsed:    0.0s finished\n",
      "[Parallel(n_jobs=1)]: Done  20 out of  20 | elapsed:    0.0s finished\n",
      "[Parallel(n_jobs=1)]: Done  20 out of  20 | elapsed:    0.0s finished\n"
     ]
    },
    {
     "name": "stdout",
     "output_type": "stream",
     "text": [
      "TESTDATA_Normal_SlowRoll\n",
      "Saving Random Forest Model from rf_s0.pkl\n",
      "Saving Extra Trees Model\n",
      "Saving Random Forest Model from rf_s1.pkl\n",
      "Saving Extra Trees Model\n",
      "Saving Random Forest Model from rf_s2.pkl\n",
      "Saving Extra Trees Model\n",
      "Saving Random Forest Model from rf_s3.pkl\n",
      "Saving Extra Trees Model\n"
     ]
    },
    {
     "name": "stderr",
     "output_type": "stream",
     "text": [
      "[Parallel(n_jobs=1)]: Done  20 out of  20 | elapsed:    0.0s finished\n",
      "[Parallel(n_jobs=1)]: Done  20 out of  20 | elapsed:    0.0s finished\n",
      "[Parallel(n_jobs=1)]: Done  20 out of  20 | elapsed:    0.0s finished\n",
      "[Parallel(n_jobs=1)]: Done  20 out of  20 | elapsed:    0.0s finished\n"
     ]
    },
    {
     "name": "stdout",
     "output_type": "stream",
     "text": [
      "\n",
      "[ 0.    0.05  0.5   0.45]\n",
      "TESTDATA_Normal_RampUp\n",
      "Saving Random Forest Model from rf_s0.pkl\n",
      "Saving Extra Trees Model\n",
      "Saving Random Forest Model from rf_s1.pkl\n",
      "Saving Extra Trees Model\n",
      "Saving Random Forest Model from rf_s2.pkl\n",
      "Saving Extra Trees Model\n",
      "Saving Random Forest Model from rf_s3.pkl\n",
      "Saving Extra Trees Model\n",
      "\n"
     ]
    },
    {
     "name": "stderr",
     "output_type": "stream",
     "text": [
      "[Parallel(n_jobs=1)]: Done  20 out of  20 | elapsed:    0.0s finished\n",
      "[Parallel(n_jobs=1)]: Done  20 out of  20 | elapsed:    0.0s finished\n",
      "[Parallel(n_jobs=1)]: Done  20 out of  20 | elapsed:    0.0s finished\n",
      "[Parallel(n_jobs=1)]: Done  20 out of  20 | elapsed:    0.0s finished\n"
     ]
    },
    {
     "name": "stdout",
     "output_type": "stream",
     "text": [
      "[ 0.   0.   0.5  0.5]\n",
      "TESTDATA_Normal_FastRoll\n",
      "Saving Random Forest Model from rf_s0.pkl\n",
      "Saving Extra Trees Model\n",
      "Saving Random Forest Model from rf_s1.pkl\n",
      "Saving Extra Trees Model\n",
      "Saving Random Forest Model from rf_s2.pkl\n",
      "Saving Extra Trees Model\n",
      "Saving Random Forest Model from rf_s3.pkl\n",
      "Saving Extra Trees Model\n"
     ]
    },
    {
     "name": "stderr",
     "output_type": "stream",
     "text": [
      "[Parallel(n_jobs=1)]: Done  20 out of  20 | elapsed:    0.0s finished\n",
      "[Parallel(n_jobs=1)]: Done  20 out of  20 | elapsed:    0.0s finished\n",
      "[Parallel(n_jobs=1)]: Done  20 out of  20 | elapsed:    0.0s finished\n",
      "[Parallel(n_jobs=1)]: Done  20 out of  20 | elapsed:    0.0s finished\n"
     ]
    },
    {
     "name": "stdout",
     "output_type": "stream",
     "text": [
      "\n",
      "[ 1.  0.  0.  0.]\n",
      "TESTDATA_Normal_RampDown\n",
      "Saving Random Forest Model from rf_s0.pkl\n",
      "Saving Extra Trees Model\n",
      "Saving Random Forest Model from rf_s1.pkl\n",
      "Saving Extra Trees Model\n",
      "Saving Random Forest Model from rf_s2.pkl\n",
      "Saving Extra Trees Model\n",
      "Saving Random Forest Model from rf_s3.pkl\n",
      "Saving Extra Trees Model\n",
      "\n",
      "[ 0.    0.    0.45  0.55]\n"
     ]
    },
    {
     "name": "stderr",
     "output_type": "stream",
     "text": [
      "[Parallel(n_jobs=1)]: Done  20 out of  20 | elapsed:    0.0s finished\n",
      "[Parallel(n_jobs=1)]: Done  20 out of  20 | elapsed:    0.0s finished\n",
      "[Parallel(n_jobs=1)]: Done  20 out of  20 | elapsed:    0.0s finished\n",
      "[Parallel(n_jobs=1)]: Done  20 out of  20 | elapsed:    0.0s finished\n"
     ]
    },
    {
     "name": "stdout",
     "output_type": "stream",
     "text": [
      "TESTDATA_BearingRub_SlowRoll\n",
      "Saving Random Forest Model from rf_s0.pkl\n",
      "Saving Extra Trees Model\n",
      "Saving Random Forest Model from rf_s1.pkl\n",
      "Saving Extra Trees Model\n",
      "Saving Random Forest Model from rf_s2.pkl\n",
      "Saving Extra Trees Model\n",
      "Saving Random Forest Model from rf_s3.pkl\n",
      "Saving Extra Trees Model\n",
      "\n",
      "[ 0.    0.    0.45  0.55]\n"
     ]
    },
    {
     "name": "stderr",
     "output_type": "stream",
     "text": [
      "[Parallel(n_jobs=1)]: Done  20 out of  20 | elapsed:    0.0s finished\n",
      "[Parallel(n_jobs=1)]: Done  20 out of  20 | elapsed:    0.0s finished\n",
      "[Parallel(n_jobs=1)]: Done  20 out of  20 | elapsed:    0.0s finished\n",
      "[Parallel(n_jobs=1)]: Done  20 out of  20 | elapsed:    0.0s finished\n"
     ]
    },
    {
     "name": "stdout",
     "output_type": "stream",
     "text": [
      "TESTDATA_BearingRub_RampUp\n",
      "Saving Random Forest Model from rf_s0.pkl\n",
      "Saving Extra Trees Model\n",
      "Saving Random Forest Model from rf_s1.pkl\n",
      "Saving Extra Trees Model\n",
      "Saving Random Forest Model from rf_s2.pkl\n",
      "Saving Extra Trees Model\n",
      "Saving Random Forest Model from rf_s3.pkl\n",
      "Saving Extra Trees Model\n"
     ]
    },
    {
     "name": "stderr",
     "output_type": "stream",
     "text": [
      "[Parallel(n_jobs=1)]: Done  20 out of  20 | elapsed:    0.0s finished\n",
      "[Parallel(n_jobs=1)]: Done  20 out of  20 | elapsed:    0.0s finished\n",
      "[Parallel(n_jobs=1)]: Done  20 out of  20 | elapsed:    0.0s finished\n",
      "[Parallel(n_jobs=1)]: Done  20 out of  20 | elapsed:    0.0s finished\n"
     ]
    },
    {
     "name": "stdout",
     "output_type": "stream",
     "text": [
      "\n",
      "[ 0.   0.   0.5  0.5]\n"
     ]
    }
   ],
   "source": [
    "import sys\n",
    "sys.path.append('C:\\ProgramData\\Anaconda2\\Lib')\n",
    "sys.path.append('C:\\python27\\lib\\site-packages')\n",
    "\n",
    "import os\n",
    "import time\n",
    "import datetime\n",
    "import io\n",
    "import pyodbc\n",
    "import csv\n",
    "import sys\n",
    "import struct\n",
    "import atexit\n",
    "import mpld3\n",
    "from mpld3 import plugins\n",
    "from mpld3.utils import get_id\n",
    "import collections\n",
    "import matplotlib.pyplot as plt\n",
    "from signal import SIGTERM\n",
    "import numpy as np\n",
    "import copy\n",
    "\n",
    "from reportGen import writeReport\n",
    "\n",
    "from classifier import Classifier\n",
    "from graphgen import GraphGen\n",
    "#---------- GLOBAL SETTINGS VARIABLES ----------------------\n",
    "\n",
    "TIMEINTERVAL = 2\n",
    "#timeinterval is needed so that the time between\n",
    "#datetime.now() and the query is not\n",
    "#infinitesimally small - measured in seconds\n",
    "\n",
    "REFRESHTIME = 5\n",
    "\n",
    "BLOBNUMBER = 5\n",
    "#The number of 4-set sensor blobs allowed\n",
    "#If BLOBNUMBER = 5, then 20 sensor blobs will be collected\n",
    "\n",
    "#-----------------------------------------------------------\n",
    "\n",
    "class SampleRow(object):\n",
    "    '''Row of Data from Query with Blob Cracking'''\n",
    "    def __init__(self,segment_id,time,rpm,hexData,crackedData):\n",
    "        self.segment_id = segment_id\n",
    "        self.time = time\n",
    "        self.rpm = rpm\n",
    "        self.hexData = hexData\n",
    "        self.crackedData = crackedData\n",
    "    '''Crack the Hex Data to an array of ints, return into crackedData'''\n",
    "    def crackHexData(self):\n",
    "        bytearr = bytearray(self.hexData)\n",
    "        self.crackedData = []\n",
    "        i=0\n",
    "        j=1\n",
    "        while (j<4096): #4096 bytes makes 2048 16-bit ints\n",
    "            x1 = hex(bytearr[i])[2:].zfill(2)\n",
    "            y1 = hex(bytearr[j])[2:].zfill(2)\n",
    "            v1 = int(str(y1+x1), 16)\n",
    "            self.crackedData.extend([v1])\n",
    "            i = i+2\n",
    "            j = j+2\n",
    "\n",
    "\n",
    "#def getUTCtime():\n",
    "    #now = datetime.datetime.now() - datetime.timedelta(seconds=TIMEINTERVAL)\n",
    "    #utctime = str(now + datetime.timedelta(hours=7))\n",
    "    #utctime = \"2017-05-04 21:16:00\" #------------ For Testing\n",
    "    #return utctime[:-3]\n",
    "\n",
    "def executeQuery(cursor):\n",
    "    #qcommand = \"select segment_id,gmt,start_rev_rpm,sample_data from dbo.waveform where (segment_id = 218 or segment_id = 244 or segment_id = 270 or segment_id = 296) and gmt > '\" + str(utctime) + \"' order by gmt, segment_id\"\n",
    "    totalRows = BLOBNUMBER*4\n",
    "    qcommand = \"select top \" + str(totalRows) + \" segment_id,gmt,start_rev_rpm,sample_data from dbo.waveform where (segment_id = 218 or segment_id = 244 or segment_id = 270 or segment_id = 296) order by gmt desc, segment_id\"\n",
    "    cursor.execute(qcommand)\n",
    "\n",
    "def checkRowLoopValid(rowCount, classRow):\n",
    "    if  ((rowCount % 4 == 0 and classRow.segment_id != 218) or\n",
    "        (rowCount % 4 == 1 and classRow.segment_id != 244) or\n",
    "        (rowCount % 4 == 2 and classRow.segment_id != 270) or\n",
    "        (rowCount % 4 == 3 and classRow.segment_id != 296)):\n",
    "        #print \"INVADLID DATA-------------------------------------------- CONSECUTIVE IDs ---------------\"\n",
    "        return False\n",
    "    return True\n",
    "\n",
    "\n",
    "\n",
    "class RunForeverBatch(object):\n",
    "    def __init__(self):\n",
    "        self.myGen = GraphGen()\n",
    "        self.run()     \n",
    "    def run(self):\n",
    "        testCount = 0\n",
    "        while(1):\n",
    "            if (testCount == 0):\n",
    "                testFile = open('TESTDATA_Normal_SlowRoll.csv', \"rb\")\n",
    "                print \"TESTDATA_Normal_SlowRoll\"\n",
    "            if (testCount == 1):\n",
    "                testFile = open('TESTDATA_Normal_RampUp.csv', \"rb\")\n",
    "                print \"TESTDATA_Normal_RampUp\"\n",
    "            if (testCount == 2):\n",
    "                testFile = open('TESTDATA_Normal_FastRoll.csv', \"rb\")\n",
    "                print \"TESTDATA_Normal_FastRoll\"\n",
    "            if (testCount == 3):\n",
    "                testFile = open('TESTDATA_Normal_RampDown.csv', \"rb\")\n",
    "                print \"TESTDATA_Normal_RampDown\"\n",
    "            if (testCount == 4):\n",
    "                testFile = open('TESTDATA_BearingRub_SlowRoll.csv', \"rb\")\n",
    "                print \"TESTDATA_BearingRub_SlowRoll\"\n",
    "            if (testCount == 5):\n",
    "                testFile = open('TESTDATA_BearingRub_RampUp.csv', \"rb\")\n",
    "                print \"TESTDATA_BearingRub_RampUp\"\n",
    "            if (testCount == 6):\n",
    "                testFile = open('TESTDATA_BearingRub_FastRoll.csv', \"rb\")\n",
    "                print \"TESTDATA_BearingRub_FastRoll\"\n",
    "            if (testCount == 7):\n",
    "                testFile = open('TESTDATA_BearingRub_RampDown.csv', \"rb\")\n",
    "                print \"TESTDATA_BearingRub_RampDown\"\n",
    "            if (testCount == 8):\n",
    "                testFile = open('TESTDATA_Preload_SlowRoll.csv', \"rb\")\n",
    "                print \"TESTDATA_Preload_SlowRoll\"\n",
    "            if (testCount == 9):\n",
    "                testFile = open('TESTDATA_Preload_RampUp.csv', \"rb\")\n",
    "                print \"TESTDATA_Preload_RampUp\"\n",
    "            if (testCount == 10):\n",
    "                testFile = open('TESTDATA_Preload_FastRoll.csv', \"rb\")\n",
    "                print \"TESTDATA_Preload_FastRoll\"\n",
    "            if (testCount == 11):\n",
    "                testFile = open('TESTDATA_Preload_RampDown.csv', \"rb\")\n",
    "                print \"TESTDATA_Preload_RampDown\"\n",
    "            if (testCount == 12):\n",
    "                testFile = open('TESTDATA_Unbalance_SlowRoll.csv', \"rb\")\n",
    "                print \"TESTDATA_Unbalance_SlowRoll\"\n",
    "            if (testCount == 13):\n",
    "                testFile = open('TESTDATA_Unbalance_RampUp.csv', \"rb\")\n",
    "                print \"TESTDATA_Unbalance_RampUp\"\n",
    "            if (testCount == 14):\n",
    "                testFile = open('TESTDATA_Unbalance_FastRoll.csv', \"rb\")\n",
    "                print \"TESTDATA_Unbalance_FastRoll\"\n",
    "            if (testCount == 15):\n",
    "                testFile = open('TESTDATA_Unbalance_RampDown.csv', \"rb\")\n",
    "                print \"TESTDATA_Unbalance_RampDown\"\n",
    " \n",
    "            \n",
    "            reader = csv.reader(testFile)\n",
    "\n",
    "            timeNow = datetime.datetime.now()\n",
    "            timeNextQuery = timeNow + datetime.timedelta(seconds=REFRESHTIME)\n",
    "\n",
    "            dataPassingList = []\n",
    "\n",
    "            #FULL information on each sensor blob row\n",
    "            classRowList = [] #WHAT BRIAN NEEDS\n",
    "\n",
    "            rowCount = 0\n",
    "            for row in reader:\n",
    "                valid = True\n",
    "                classRow = SampleRow(row[0],row[1],row[2],0,row[3])\n",
    "                underscoreData = classRow.crackedData\n",
    "                stringData = underscoreData.split('_')\n",
    "                classRow.crackedData = [int(x) for x in stringData]\n",
    "                #if (rowCount == 0):\n",
    "                    #print classRow.crackedData\n",
    "                data = np.array(classRow.crackedData)\n",
    "                #if (rowCount == 0):\n",
    "                    #print data\n",
    "                sensorBlob = [data, classRow.segment_id]\n",
    "                classRowList.extend([sensorBlob])\n",
    "                rowCount = rowCount + 1\n",
    "            for p in classRowList:\n",
    "                dataPassingList.extend([p[0]])\n",
    "\n",
    "            np_dpl_tmp = np.array(dataPassingList)\n",
    "            np_dpl = np.reshape( np_dpl_tmp, (4, BLOBNUMBER, 2048) )\n",
    "            X = np.transpose(np_dpl, (1, 2, 0))\n",
    "\n",
    "            clf = Classifier()\n",
    "            clf_data = clf.classify(X, \"RandomForest\")\n",
    "            cVec = clf_data[\"classifications\"]\n",
    "            rVec = {\"classification_name\": cVec[\"classification_name\"],\n",
    "                   \"slow_roll\": cVec[\"unbalance\"],\n",
    "                   \"ramp_up\": cVec[\"preload\"],\n",
    "                   \"ramp_down\": cVec[\"bearing_rub\"],\n",
    "                   \"fast_roll\": cVec[\"safe\"]}\n",
    "            \n",
    "            cracked_data = clf_data[\"cracked_data\"]\n",
    "\n",
    "            \n",
    "            \n",
    "            #self.myGen.update(classification[\"classifications\"][\"confidence_vec\"], classification[\"classifications\"][\"confidence_vec\"], classification[\"cracked_data\"])\n",
    "            #print classification[\"cracked_data\"].shape\n",
    "\n",
    "            #update graph image\n",
    "            self.myGen.update(cVec,rVec,cracked_data)            \n",
    "            \n",
    "            #produce pdf\n",
    "            writeReport( [\"mO.png\",\"mX.png\",\"mY.png\"], cVec, rVec,False)            \n",
    "\n",
    "            \n",
    "            testFile.close()\n",
    "            testCount = testCount + 1\n",
    "            if (testCount > 15):\n",
    "                testCount = 0\n",
    "            \n",
    "            \n",
    "            #TIMER TO WAIT FOR NEXT CALL\n",
    "            go = False\n",
    "            while not go:\n",
    "                timeNow = datetime.datetime.now()\n",
    "                if timeNow > timeNextQuery:\n",
    "                    go = True\n",
    "                    #print \"next query\"        \n",
    "\n",
    "        \n",
    "        \n",
    "class RunForeverRealTime(object):\n",
    "    def __init__(self):\n",
    "        self.myGen = GraphGen()\n",
    "        self.run()     \n",
    "    def run(self):\n",
    "        \n",
    "        conn = pyodbc.connect(\"Driver={SQL Server Native Client 11.0};\"\n",
    "                                \"Server=AVANTTH-PC;\"\n",
    "                                \"Database=System1_Hist;\"\n",
    "                                \"Trusted_Connection=yes;\")\n",
    "        cursor = conn.cursor()\n",
    "        #if not cursor:\n",
    "            #print \"Cannot Connect to SQL Database - Exiting Program\"\n",
    "            #return\n",
    "        #else:\n",
    "            #print \"program starting\"\n",
    "        \n",
    "        while(1):\n",
    "            timeNow = datetime.datetime.now()\n",
    "            timeNextQuery = timeNow + datetime.timedelta(seconds=REFRESHTIME)\n",
    "\n",
    "            '''\n",
    "            -----------WHAT EVERYONE ELSE NEEDS-------------\n",
    "            ONLY np arrays of each sensor blob\n",
    "            ALWAYS will be a multiple of 4\n",
    "            ALWAYS will be ordered in ascending segment_id's\n",
    "            1st = sid 218 - Motor Side X-Sensor\n",
    "            2nd = sid 244 - Motor Side Y-Sensor\n",
    "            3rd = sid 270 - Outer Side X-Sensor\n",
    "            4th = sid 296 - Outer Side Y-Sensor\n",
    "            '''\n",
    "            dataPassingList = []\n",
    "\n",
    "            #FULL information on each sensor blob row\n",
    "            classRowList = [] #WHAT BRIAN NEEDS\n",
    "\n",
    "            #Gets UTC time from Actual Time for use in SQL Query\n",
    "            #utctime = getUTCtime()\n",
    "\n",
    "            #Runs the query\n",
    "            executeQuery(cursor)\n",
    "\n",
    "            row = cursor.fetchone()\n",
    "\n",
    "            rowCount = 0\n",
    "            valid = True\n",
    "\n",
    "            while row and rowCount<BLOBNUMBER*4 and valid:\n",
    "                classRow = SampleRow(row[0],row[1],row[2],row[3],0)\n",
    "                classRow.crackHexData()\n",
    "                classRow.time = classRow.time - datetime.timedelta(hours=7)\n",
    "                data = np.array(classRow.crackedData)\n",
    "                \n",
    "                valid = checkRowLoopValid(rowCount, classRow)\n",
    "                \n",
    "                sensorBlob = [data, classRow.segment_id]\n",
    "                classRowList.extend([sensorBlob])\n",
    "                rowCount = rowCount + 1\n",
    "                #writer.writerow([rowTup])\n",
    "                row = cursor.fetchone()\n",
    "                \n",
    "            for p in classRowList:\n",
    "                dataPassingList.extend([p[0]])\n",
    "\n",
    "            '''\n",
    "            if rowCount % 4 != 0:\n",
    "                print \"INVADLID DATA-------------------------------------------- NOT GROUPED BY 4 ---------------\"\n",
    "            else:\n",
    "                for p in classRowList:\n",
    "                    dataPassingList.extend([p[0]])\n",
    "                    #print p[0]\n",
    "            '''\n",
    "\n",
    "                #first column of each row contains labels for the row\n",
    "                #last column of each row should contain the normal state\n",
    "                \n",
    "            \n",
    "\n",
    "            \n",
    "            np_dpl_tmp = np.array(dataPassingList)\n",
    "            np_dpl = np.reshape( np_dpl_tmp, (4, BLOBNUMBER, 2048) )\n",
    "            X = np.transpose(np_dpl, (1, 2, 0))\n",
    "            # print X.shape\n",
    "            \n",
    "            '''--------------------------------------------------------------------------------------------------\n",
    "            CLASSIFIER CODE\n",
    "            --------------------------------------------------------------------------------------------------'''\n",
    "            # X: (N_SAMPLES * SAMPLE_SIZE(2048) * N_SENSORS(4)) in a numpy array\n",
    "            \n",
    "            clf = Classifier()\n",
    "            clf_data = clf.classify(X, \"RandomForest\")\n",
    "            cVec = clf_data[\"classification_name\"]\n",
    "            rVec = {\"classification_name\": cVec[\"classification_name\"],\n",
    "                   \"slow_roll\": cVec[\"unbalance\"],\n",
    "                   \"ramp_up\": cVec[\"preload\"],\n",
    "                   \"ramp_down\": cVec[\"bearing_rub\"],\n",
    "                   \"fast_roll\": cVec[\"safe\"]}\n",
    "            cracked_data = clf_data[\"cracked_data\"]\n",
    "            # cVec: {\"classifier_name\": string,\n",
    "            #        \"rub\": float,\n",
    "            #        \"preload\": float,\n",
    "            #        \"bearing_rub\": float\n",
    "            #        \"safe\": float}\n",
    "            \n",
    "            # rVec: {\"classifier_name\": string,\n",
    "            #        \"slow_roll\": float,\n",
    "            #        \"ramp_up\": float,\n",
    "            #        \"ramp_down\": float\n",
    "            #        \"fast_roll\": float}\n",
    "            '''--------------------------------------------------------------------------------------------------\n",
    "            REPORT GENERATION CODE\n",
    "            --------------------------------------------------------------------------------------------------'''\n",
    "            # cVec: {\"classifier_name\": string,\n",
    "            #        \"rub\": float,\n",
    "            #        \"preload\": float,\n",
    "            #        \"bearing_rub\": float\n",
    "            #        \"safe\": float}\n",
    "            \n",
    "            # rVec: {\"classifier_name\": string,\n",
    "            #        \"slow_roll\": float,\n",
    "            #        \"ramp_up\": float,\n",
    "            #        \"ramp_down\": float\n",
    "            #        \"fast_roll\": float}\n",
    "            \n",
    "            #update graph image\n",
    "            self.myGen.update(cVec,rVec,cracked_data)\n",
    "            \n",
    "            #produce pdf\n",
    "            writeReport( [\"mO.png\",\"mX.png\",\"mY.png\"], cVec, rVec,False)            \n",
    "            \n",
    "            \n",
    "            #TIMER TO WAIT FOR NEXT CALL\n",
    "            go = False\n",
    "            while not go:\n",
    "                timeNow = datetime.datetime.now()\n",
    "                if timeNow > timeNextQuery:\n",
    "                    go = True\n",
    "                    #print \"next query\"\n",
    "\n",
    "        #print \"program ending\"\n",
    "        conn.close()\n",
    "\n",
    "\n",
    "\n",
    "#Run Daemon\n",
    "#RunForeverRealTime()\n",
    "RunForeverBatch()\n"
   ]
  },
  {
   "cell_type": "code",
   "execution_count": null,
   "metadata": {
    "collapsed": true
   },
   "outputs": [],
   "source": []
  },
  {
   "cell_type": "code",
   "execution_count": null,
   "metadata": {
    "collapsed": true
   },
   "outputs": [],
   "source": []
  },
  {
   "cell_type": "code",
   "execution_count": null,
   "metadata": {
    "collapsed": true
   },
   "outputs": [],
   "source": []
  }
 ],
 "metadata": {
  "kernelspec": {
   "display_name": "Python 2",
   "language": "python",
   "name": "python2"
  },
  "language_info": {
   "codemirror_mode": {
    "name": "ipython",
    "version": 2
   },
   "file_extension": ".py",
   "mimetype": "text/x-python",
   "name": "python",
   "nbconvert_exporter": "python",
   "pygments_lexer": "ipython2",
   "version": "2.7.13"
  }
 },
 "nbformat": 4,
 "nbformat_minor": 2
}
