{
 "cells": [
  {
   "cell_type": "code",
   "execution_count": null,
   "metadata": {},
   "outputs": [],
   "source": [
    "from pubnub.pnconfiguration import PNConfiguration\n",
    "from pubnub.pubnub import PubNub\n",
    "from pubnub.enums import PNStatusCategory\n",
    "from pubnub.callbacks import SubscribeCallback\n",
    "import random\n",
    "import numpy as np\n",
    "import time\n",
    "import datetime4\n",
    "\n",
    "\n",
    "pnconfig = PNConfiguration()\n",
    " \n",
    "pnconfig.publish_key = \"pub-c-358edb35-cf1f-4063-97e5-5d174ba1c10e\"\n",
    "pnconfig.subscribe_key = \"sub-c-90fcb4bc-4a41-11e7-8e91-0619f8945a4f\"\n",
    "\n",
    "#pnconfig.publish_key = \"demo\"\n",
    "#pnconfig.subscribe_key = \"demo\"\n",
    "\n",
    "pubnub = PubNub(pnconfig)\n",
    " \n",
    "'''\n",
    "class MyListener(SubscribeCallback):\n",
    "    def status(self, pubnub, status):\n",
    "        pass\n",
    "        #if status.category == PNStatusCategory.PNConnectedCategory:\n",
    "            #pubnub.publish().channel(\"rickshaw\").message({'fieldA': 'awesome', 'fieldB': 10}).sync()\n",
    " \n",
    "    def message(self, pubnub, message):\n",
    "        \n",
    "        pubnub.publish().channel(\"rickshaw\").message(data).sync()\n",
    "    \n",
    "    def presence(self, pubnub, presence):\n",
    "        pass\n",
    " \n",
    "#my_listener = MyListener()\n",
    "\n",
    "#pubnub.add_listener(my_listener)\n",
    "\n",
    "#pubnub.subscribe().channels(\"rickshaw\").execute()\n",
    "'''\n",
    "    \n",
    "while(1):\n",
    "           \n",
    "\n",
    "    timeNow = datetime.datetime.now()\n",
    "    timeNextQuery = timeNow + datetime.timedelta(seconds=1)\n",
    "    delta = datetime.datetime.utcnow() - datetime.datetime(1970, 1, 1)\n",
    "    mSecs = (int) (delta.total_seconds())\n",
    "    newData = [int(1000*random.random()) for i in range(4)]\n",
    "    data = {'x':mSecs, 'y':newData}\n",
    "    #my_listener.message(pubnub, message, data)\n",
    "    pubnub.publish().channel(\"rickshaw\").message(data).should_store(True).use_post(False).sync()\n",
    "    #TIMER TO WAIT FOR NEXT CALL\n",
    "    go = False\n",
    "    while not go:\n",
    "        timeNow = datetime.datetime.now()\n",
    "        if timeNow > timeNextQuery:\n",
    "            go = True\n",
    "            #print \"next query\"\n"
   ]
  },
  {
   "cell_type": "code",
   "execution_count": null,
   "metadata": {
    "collapsed": true
   },
   "outputs": [],
   "source": []
  },
  {
   "cell_type": "code",
   "execution_count": null,
   "metadata": {
    "collapsed": true
   },
   "outputs": [],
   "source": []
  },
  {
   "cell_type": "code",
   "execution_count": null,
   "metadata": {
    "collapsed": true
   },
   "outputs": [],
   "source": []
  }
 ],
 "metadata": {
  "kernelspec": {
   "display_name": "Python 3",
   "language": "python",
   "name": "python3"
  },
  "language_info": {
   "codemirror_mode": {
    "name": "ipython",
    "version": 3
   },
   "file_extension": ".py",
   "mimetype": "text/x-python",
   "name": "python",
   "nbconvert_exporter": "python",
   "pygments_lexer": "ipython3",
   "version": "3.6.1"
  }
 },
 "nbformat": 4,
 "nbformat_minor": 2
}
