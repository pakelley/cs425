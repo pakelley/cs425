{
 "cells": [
  {
   "cell_type": "code",
   "execution_count": 147,
   "metadata": {
    "collapsed": false
   },
   "outputs": [],
   "source": [
    "import mpld3\n",
    "from mpld3 import plugins\n",
    "from mpld3.utils import get_id\n",
    "import numpy as np\n",
    "import collections\n",
    "import matplotlib.pyplot as plt\n",
    "import time\n",
    "\n",
    "class GraphGen:\n",
    "    def __init__(self):\n",
    "        self.index = 0\n",
    "        self.X_roll = []\n",
    "        self.X_error = []\n",
    "        self.y_roll = []\n",
    "        self.y_error = []\n",
    "        self.sensorData = []\n",
    "    def update(self, rollConf, errorConf):\n",
    "        self.index = self.index + 1\n",
    "        self.X_roll.append(self.index)\n",
    "        self.X_error.append(self.index)\n",
    "        self.y_roll.append(rollConf)\n",
    "        self.y_error.append(errorConf)\n",
    "        #self.sensorData = sensorData\n",
    "        self.genRollGraph()\n",
    "        self.genErrorGraph()\n",
    "        #genSensorData()\n",
    "    def genRollGraph(self):\n",
    "   \n",
    "        fig, ax = plt.subplots()\n",
    "        labels = [\"Ramp-Up\", \"Ramp-Down\", \"Slow-Roll\", \"Fast-Roll\"]\n",
    "        line_collections = ax.plot(self.X_roll, self.y_roll, lw=4, alpha=0.2)\n",
    "        interactive_legend = plugins.InteractiveLegendPlugin(line_collections, labels)\n",
    "        plugins.connect(fig, interactive_legend)\n",
    "        fig.set_size_inches(14,6)\n",
    "        plt.subplots_adjust(right=0.8)\n",
    "        ax.set_xlabel(\"Time Segment\")\n",
    "        ax.set_ylabel(\"Confidence Level\")\n",
    "        ax.set_title(\"Turbine Roll\", size=24)\n",
    "        output = mpld3.fig_to_html(fig)\n",
    "        with open('rollGraph.html', 'w') as f:\n",
    "            f.write(output)\n",
    "    def genErrorGraph(self):\n",
    "  \n",
    "\n",
    "        fig, ax = plt.subplots()\n",
    "        labels = [\"Safe\", \"Weight Unbalance\", \"Bearing Rub\", \"Preload\"]\n",
    "        line_collections = ax.plot(self.X_error, self.y_error, lw=4, alpha=0.2)\n",
    "        interactive_legend = plugins.InteractiveLegendPlugin(line_collections, labels)\n",
    "        plugins.connect(fig, interactive_legend)\n",
    "        fig.set_size_inches(14,6)\n",
    "        plt.subplots_adjust(right=0.8)\n",
    "        ax.set_xlabel(\"Time Segment\")\n",
    "        ax.set_ylabel(\"Confidence Level\")\n",
    "        ax.set_title(\"Turbine Error Modes\", size=24)\n",
    "        output = mpld3.fig_to_html(fig)\n",
    "        with open('errorGraph.html', 'w') as f:\n",
    "            f.write(output)\n",
    "    def genSensorGraph(self):\n",
    "        one_sample = samples[0]\n",
    "        fig1 = plt.figure(0, figsize=(4.8, 3.2))\n",
    "        plt.plot(one_sample[0])\n",
    "        plt.xlim(0,2048)\n",
    "        plt.title(\"Outer-Side X Plot\")\n",
    "\n",
    "        fig2 = plt.figure(1, figsize=(4.8, 3.2))\n",
    "        plt.plot(one_sample[1])\n",
    "        plt.xlim(0,2048)\n",
    "        plt.title(\"Outer-Side Y Plot\")\n",
    "\n",
    "        fig3 = plt.figure(2, figsize=(4.8, 3.2))\n",
    "        plt.plot(one_sample[0], one_sample[1])\n",
    "        plt.title(\"Outer-Side Orbit Plot\")\n",
    "\n",
    "        fig4 = plt.figure(3, figsize=(4.8, 3.2))\n",
    "        two_sample = samples[1]\n",
    "        plt.plot(two_sample[0])\n",
    "        plt.xlim(0,2048)\n",
    "        plt.title(\"Motor-Side X Plot\")\n",
    "\n",
    "        fig5 = plt.figure(4, figsize=(4.8, 3.2))\n",
    "        plt.plot(two_sample[1])\n",
    "        plt.xlim(0,2048)\n",
    "        plt.title(\"Motor-Side Y Plot\")\n",
    "\n",
    "        fig6 = plt.figure(5, figsize=(4.8, 3.2))\n",
    "        plt.plot(two_sample[0], two_sample[1])\n",
    "        plt.title(\"Motor-Side Orbit Plot\")\n",
    "        plt.show()"
   ]
  },
  {
   "cell_type": "code",
   "execution_count": 148,
   "metadata": {
    "collapsed": false
   },
   "outputs": [],
   "source": [
    "myGen = GraphGen()"
   ]
  },
  {
   "cell_type": "code",
   "execution_count": 149,
   "metadata": {
    "collapsed": false
   },
   "outputs": [
    {
     "name": "stderr",
     "output_type": "stream",
     "text": [
      "C:\\Program Files\\Anaconda3\\lib\\site-packages\\matplotlib\\pyplot.py:524: RuntimeWarning: More than 20 figures have been opened. Figures created through the pyplot interface (`matplotlib.pyplot.figure`) are retained until explicitly closed and may consume too much memory. (To control this warning, see the rcParam `figure.max_open_warning`).\n",
      "  max_open_warning, RuntimeWarning)\n"
     ]
    }
   ],
   "source": [
    "for i in range (0, 10):\n",
    "    roll_conf = 100*np.random.rand(4,)\n",
    "    error_conf = 100*np.random.rand(4,)\n",
    "    myGen.update(roll_conf, error_conf)\n",
    "    time.sleep(5)"
   ]
  },
  {
   "cell_type": "code",
   "execution_count": 146,
   "metadata": {
    "collapsed": false
   },
   "outputs": [
    {
     "name": "stdout",
     "output_type": "stream",
     "text": [
      "(10, 4)\n",
      "(10,)\n"
     ]
    }
   ],
   "source": [
    "print (np.shape(myGen.y_roll))\n",
    "print (np.shape(myGen.X_roll))"
   ]
  },
  {
   "cell_type": "code",
   "execution_count": null,
   "metadata": {
    "collapsed": true
   },
   "outputs": [],
   "source": []
  }
 ],
 "metadata": {
  "kernelspec": {
   "display_name": "Python [conda root]",
   "language": "python",
   "name": "conda-root-py"
  },
  "language_info": {
   "codemirror_mode": {
    "name": "ipython",
    "version": 3
   },
   "file_extension": ".py",
   "mimetype": "text/x-python",
   "name": "python",
   "nbconvert_exporter": "python",
   "pygments_lexer": "ipython3",
   "version": "3.5.2"
  }
 },
 "nbformat": 4,
 "nbformat_minor": 1
}
