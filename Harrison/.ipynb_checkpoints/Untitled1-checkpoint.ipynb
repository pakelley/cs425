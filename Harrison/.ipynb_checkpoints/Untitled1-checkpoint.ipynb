{
 "cells": [
  {
   "cell_type": "code",
   "execution_count": 7,
   "metadata": {
    "collapsed": false
   },
   "outputs": [],
   "source": [
    "import mpld3\n",
    "from mpld3 import plugins\n",
    "from mpld3.utils import get_id\n",
    "import numpy as np\n",
    "import collections\n",
    "import matplotlib.pyplot as plt\n",
    "\n",
    "N_paths = 5\n",
    "N_steps = 100\n",
    "\n",
    "x = np.linspace(0, 10, 100)\n",
    "y = 0.1 * (np.random.random((N_paths, N_steps)) - 0.5)\n",
    "y = y.cumsum(1)\n",
    "\n",
    "fig, ax = plt.subplots()\n",
    "labels = [\"a\", \"b\", \"c\", \"d\", \"e\"]\n",
    "line_collections = ax.plot(x, y.T, lw=4, alpha=0.2)\n",
    "interactive_legend = plugins.InteractiveLegendPlugin(line_collections, labels)\n",
    "plugins.connect(fig, interactive_legend)\n",
    "\n",
    "mpld3.save_json(fig, 'jdata.json')"
   ]
  },
  {
   "cell_type": "code",
   "execution_count": 5,
   "metadata": {
    "collapsed": false
   },
   "outputs": [
    {
     "name": "stdout",
     "output_type": "stream",
     "text": [
      "(5, 100)\n"
     ]
    }
   ],
   "source": [
    "print(y.shape)"
   ]
  },
  {
   "cell_type": "code",
   "execution_count": null,
   "metadata": {
    "collapsed": true
   },
   "outputs": [],
   "source": []
  }
 ],
 "metadata": {
  "anaconda-cloud": {},
  "kernelspec": {
   "display_name": "Python [default]",
   "language": "python",
   "name": "python3"
  },
  "language_info": {
   "codemirror_mode": {
    "name": "ipython",
    "version": 3
   },
   "file_extension": ".py",
   "mimetype": "text/x-python",
   "name": "python",
   "nbconvert_exporter": "python",
   "pygments_lexer": "ipython3",
   "version": "3.5.2"
  }
 },
 "nbformat": 4,
 "nbformat_minor": 1
}
